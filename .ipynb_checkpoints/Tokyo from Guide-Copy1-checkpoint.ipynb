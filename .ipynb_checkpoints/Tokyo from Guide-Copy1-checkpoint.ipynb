{
 "cells": [
  {
   "cell_type": "code",
   "execution_count": 30,
   "metadata": {},
   "outputs": [],
   "source": [
    "import matplotlib.cm as cm\n",
    "import matplotlib.colors as colors\n",
    "import pandas as pd\n",
    "import numpy as np\n",
    "from sklearn.cluster import KMeans\n",
    "import folium\n",
    "from geopy.geocoders import Nominatim\n",
    "import json # library to handle JSON files\n",
    "import requests # library to handle requests\n",
    "from pandas.io.json import json_normalize # tranform JSON file into a pandas dataframe\n",
    "import cv2\n",
    "import matplotlib.pyplot as plt"
   ]
  },
  {
   "cell_type": "code",
   "execution_count": 31,
   "metadata": {},
   "outputs": [
    {
     "data": {
      "text/html": [
       "<div>\n",
       "<style scoped>\n",
       "    .dataframe tbody tr th:only-of-type {\n",
       "        vertical-align: middle;\n",
       "    }\n",
       "\n",
       "    .dataframe tbody tr th {\n",
       "        vertical-align: top;\n",
       "    }\n",
       "\n",
       "    .dataframe thead th {\n",
       "        text-align: right;\n",
       "    }\n",
       "</style>\n",
       "<table border=\"1\" class=\"dataframe\">\n",
       "  <thead>\n",
       "    <tr style=\"text-align: right;\">\n",
       "      <th></th>\n",
       "      <th>Ward</th>\n",
       "      <th>Population</th>\n",
       "      <th>Density</th>\n",
       "    </tr>\n",
       "  </thead>\n",
       "  <tbody>\n",
       "    <tr>\n",
       "      <th>0</th>\n",
       "      <td>Chiyoda</td>\n",
       "      <td>59441</td>\n",
       "      <td>5100</td>\n",
       "    </tr>\n",
       "    <tr>\n",
       "      <th>1</th>\n",
       "      <td>Chuo</td>\n",
       "      <td>147620</td>\n",
       "      <td>14460</td>\n",
       "    </tr>\n",
       "    <tr>\n",
       "      <th>2</th>\n",
       "      <td>Minato</td>\n",
       "      <td>248071</td>\n",
       "      <td>12180</td>\n",
       "    </tr>\n",
       "    <tr>\n",
       "      <th>3</th>\n",
       "      <td>Shinjuku</td>\n",
       "      <td>339211</td>\n",
       "      <td>18620</td>\n",
       "    </tr>\n",
       "    <tr>\n",
       "      <th>4</th>\n",
       "      <td>Bunkyo</td>\n",
       "      <td>223389</td>\n",
       "      <td>19790</td>\n",
       "    </tr>\n",
       "  </tbody>\n",
       "</table>\n",
       "</div>"
      ],
      "text/plain": [
       "       Ward  Population  Density\n",
       "0   Chiyoda       59441     5100\n",
       "1      Chuo      147620    14460\n",
       "2    Minato      248071    12180\n",
       "3  Shinjuku      339211    18620\n",
       "4    Bunkyo      223389    19790"
      ]
     },
     "execution_count": 31,
     "metadata": {},
     "output_type": "execute_result"
    }
   ],
   "source": [
    "df = pd.read_csv('Book1.csv')\n",
    "df.head()"
   ]
  },
  {
   "cell_type": "code",
   "execution_count": 32,
   "metadata": {},
   "outputs": [
    {
     "data": {
      "text/html": [
       "<div>\n",
       "<style scoped>\n",
       "    .dataframe tbody tr th:only-of-type {\n",
       "        vertical-align: middle;\n",
       "    }\n",
       "\n",
       "    .dataframe tbody tr th {\n",
       "        vertical-align: top;\n",
       "    }\n",
       "\n",
       "    .dataframe thead th {\n",
       "        text-align: right;\n",
       "    }\n",
       "</style>\n",
       "<table border=\"1\" class=\"dataframe\">\n",
       "  <thead>\n",
       "    <tr style=\"text-align: right;\">\n",
       "      <th></th>\n",
       "      <th>District</th>\n",
       "      <th>Ward</th>\n",
       "    </tr>\n",
       "  </thead>\n",
       "  <tbody>\n",
       "    <tr>\n",
       "      <th>0</th>\n",
       "      <td>Nagatacho</td>\n",
       "      <td>Chiyoda</td>\n",
       "    </tr>\n",
       "    <tr>\n",
       "      <th>1</th>\n",
       "      <td>Kasumigaseki</td>\n",
       "      <td>Chiyoda</td>\n",
       "    </tr>\n",
       "    <tr>\n",
       "      <th>2</th>\n",
       "      <td>Otemachi</td>\n",
       "      <td>Chiyoda</td>\n",
       "    </tr>\n",
       "    <tr>\n",
       "      <th>3</th>\n",
       "      <td>Marunouchi</td>\n",
       "      <td>Chiyoda</td>\n",
       "    </tr>\n",
       "    <tr>\n",
       "      <th>4</th>\n",
       "      <td>Akihabara</td>\n",
       "      <td>Chiyoda</td>\n",
       "    </tr>\n",
       "  </tbody>\n",
       "</table>\n",
       "</div>"
      ],
      "text/plain": [
       "       District     Ward\n",
       "0     Nagatacho  Chiyoda\n",
       "1  Kasumigaseki  Chiyoda\n",
       "2      Otemachi  Chiyoda\n",
       "3    Marunouchi  Chiyoda\n",
       "4     Akihabara  Chiyoda"
      ]
     },
     "execution_count": 32,
     "metadata": {},
     "output_type": "execute_result"
    }
   ],
   "source": [
    "districts = pd.read_csv('districts.csv')\n",
    "districts.head()"
   ]
  },
  {
   "cell_type": "code",
   "execution_count": 33,
   "metadata": {},
   "outputs": [
    {
     "name": "stdout",
     "output_type": "stream",
     "text": [
      "The geograpical coordinate of Tokyo are 35.6828387, 139.7594549.\n"
     ]
    }
   ],
   "source": [
    "address = 'Tokyo, Japan'\n",
    "\n",
    "geolocator = Nominatim(user_agent=\"Tok_explorer\")\n",
    "location = geolocator.geocode(address)\n",
    "latitude = location.latitude\n",
    "longitude = location.longitude\n",
    "print('The geograpical coordinate of Tokyo are {}, {}.'.format(latitude, longitude))"
   ]
  },
  {
   "cell_type": "code",
   "execution_count": 34,
   "metadata": {},
   "outputs": [
    {
     "data": {
      "application/vnd.plotly.v1+json": {
       "config": {
        "plotlyServerURL": "https://plot.ly"
       },
       "data": [
        {
         "coloraxis": "coloraxis",
         "geo": "geo",
         "geojson": "land-master/land-master/tokyo2.geojson",
         "hovertemplate": "Ward=%{location}<br>Density=%{z}<extra></extra>",
         "locations": [
          "Chiyoda",
          "Chuo",
          "Minato",
          "Shinjuku",
          "Bunkyo",
          "Taito",
          "Sumida",
          "Koto",
          "Shinagawa",
          "Meguro",
          "Ota",
          "Setagaya",
          "Shibuya",
          "Nakano",
          "Suginami",
          "Toshima",
          "Kita",
          "Arakawa",
          "Itabashi",
          "Nerima",
          "Adachi",
          "Katsushika",
          "Edogawa"
         ],
         "name": "",
         "type": "choropleth",
         "z": [
          5100,
          14460,
          12180,
          18620,
          19790,
          19830,
          18910,
          12510,
          17180,
          19110,
          11910,
          15690,
          15080,
          21350,
          16750,
          22650,
          16740,
          21030,
          17670,
          15120,
          12660,
          12850,
          13750
         ]
        }
       ],
       "layout": {
        "coloraxis": {
         "cmax": 12,
         "cmin": 0,
         "colorbar": {
          "title": {
           "text": "Density"
          }
         },
         "colorscale": [
          [
           0,
           "#440154"
          ],
          [
           0.1111111111111111,
           "#482878"
          ],
          [
           0.2222222222222222,
           "#3e4989"
          ],
          [
           0.3333333333333333,
           "#31688e"
          ],
          [
           0.4444444444444444,
           "#26828e"
          ],
          [
           0.5555555555555556,
           "#1f9e89"
          ],
          [
           0.6666666666666666,
           "#35b779"
          ],
          [
           0.7777777777777778,
           "#6ece58"
          ],
          [
           0.8888888888888888,
           "#b5de2b"
          ],
          [
           1,
           "#fde725"
          ]
         ]
        },
        "geo": {
         "center": {},
         "domain": {
          "x": [
           0,
           1
          ],
          "y": [
           0,
           1
          ]
         }
        },
        "legend": {
         "tracegroupgap": 0
        },
        "margin": {
         "b": 0,
         "l": 0,
         "r": 0,
         "t": 0
        },
        "template": {
         "data": {
          "bar": [
           {
            "error_x": {
             "color": "#2a3f5f"
            },
            "error_y": {
             "color": "#2a3f5f"
            },
            "marker": {
             "line": {
              "color": "#E5ECF6",
              "width": 0.5
             }
            },
            "type": "bar"
           }
          ],
          "barpolar": [
           {
            "marker": {
             "line": {
              "color": "#E5ECF6",
              "width": 0.5
             }
            },
            "type": "barpolar"
           }
          ],
          "carpet": [
           {
            "aaxis": {
             "endlinecolor": "#2a3f5f",
             "gridcolor": "white",
             "linecolor": "white",
             "minorgridcolor": "white",
             "startlinecolor": "#2a3f5f"
            },
            "baxis": {
             "endlinecolor": "#2a3f5f",
             "gridcolor": "white",
             "linecolor": "white",
             "minorgridcolor": "white",
             "startlinecolor": "#2a3f5f"
            },
            "type": "carpet"
           }
          ],
          "choropleth": [
           {
            "colorbar": {
             "outlinewidth": 0,
             "ticks": ""
            },
            "type": "choropleth"
           }
          ],
          "contour": [
           {
            "colorbar": {
             "outlinewidth": 0,
             "ticks": ""
            },
            "colorscale": [
             [
              0,
              "#0d0887"
             ],
             [
              0.1111111111111111,
              "#46039f"
             ],
             [
              0.2222222222222222,
              "#7201a8"
             ],
             [
              0.3333333333333333,
              "#9c179e"
             ],
             [
              0.4444444444444444,
              "#bd3786"
             ],
             [
              0.5555555555555556,
              "#d8576b"
             ],
             [
              0.6666666666666666,
              "#ed7953"
             ],
             [
              0.7777777777777778,
              "#fb9f3a"
             ],
             [
              0.8888888888888888,
              "#fdca26"
             ],
             [
              1,
              "#f0f921"
             ]
            ],
            "type": "contour"
           }
          ],
          "contourcarpet": [
           {
            "colorbar": {
             "outlinewidth": 0,
             "ticks": ""
            },
            "type": "contourcarpet"
           }
          ],
          "heatmap": [
           {
            "colorbar": {
             "outlinewidth": 0,
             "ticks": ""
            },
            "colorscale": [
             [
              0,
              "#0d0887"
             ],
             [
              0.1111111111111111,
              "#46039f"
             ],
             [
              0.2222222222222222,
              "#7201a8"
             ],
             [
              0.3333333333333333,
              "#9c179e"
             ],
             [
              0.4444444444444444,
              "#bd3786"
             ],
             [
              0.5555555555555556,
              "#d8576b"
             ],
             [
              0.6666666666666666,
              "#ed7953"
             ],
             [
              0.7777777777777778,
              "#fb9f3a"
             ],
             [
              0.8888888888888888,
              "#fdca26"
             ],
             [
              1,
              "#f0f921"
             ]
            ],
            "type": "heatmap"
           }
          ],
          "heatmapgl": [
           {
            "colorbar": {
             "outlinewidth": 0,
             "ticks": ""
            },
            "colorscale": [
             [
              0,
              "#0d0887"
             ],
             [
              0.1111111111111111,
              "#46039f"
             ],
             [
              0.2222222222222222,
              "#7201a8"
             ],
             [
              0.3333333333333333,
              "#9c179e"
             ],
             [
              0.4444444444444444,
              "#bd3786"
             ],
             [
              0.5555555555555556,
              "#d8576b"
             ],
             [
              0.6666666666666666,
              "#ed7953"
             ],
             [
              0.7777777777777778,
              "#fb9f3a"
             ],
             [
              0.8888888888888888,
              "#fdca26"
             ],
             [
              1,
              "#f0f921"
             ]
            ],
            "type": "heatmapgl"
           }
          ],
          "histogram": [
           {
            "marker": {
             "colorbar": {
              "outlinewidth": 0,
              "ticks": ""
             }
            },
            "type": "histogram"
           }
          ],
          "histogram2d": [
           {
            "colorbar": {
             "outlinewidth": 0,
             "ticks": ""
            },
            "colorscale": [
             [
              0,
              "#0d0887"
             ],
             [
              0.1111111111111111,
              "#46039f"
             ],
             [
              0.2222222222222222,
              "#7201a8"
             ],
             [
              0.3333333333333333,
              "#9c179e"
             ],
             [
              0.4444444444444444,
              "#bd3786"
             ],
             [
              0.5555555555555556,
              "#d8576b"
             ],
             [
              0.6666666666666666,
              "#ed7953"
             ],
             [
              0.7777777777777778,
              "#fb9f3a"
             ],
             [
              0.8888888888888888,
              "#fdca26"
             ],
             [
              1,
              "#f0f921"
             ]
            ],
            "type": "histogram2d"
           }
          ],
          "histogram2dcontour": [
           {
            "colorbar": {
             "outlinewidth": 0,
             "ticks": ""
            },
            "colorscale": [
             [
              0,
              "#0d0887"
             ],
             [
              0.1111111111111111,
              "#46039f"
             ],
             [
              0.2222222222222222,
              "#7201a8"
             ],
             [
              0.3333333333333333,
              "#9c179e"
             ],
             [
              0.4444444444444444,
              "#bd3786"
             ],
             [
              0.5555555555555556,
              "#d8576b"
             ],
             [
              0.6666666666666666,
              "#ed7953"
             ],
             [
              0.7777777777777778,
              "#fb9f3a"
             ],
             [
              0.8888888888888888,
              "#fdca26"
             ],
             [
              1,
              "#f0f921"
             ]
            ],
            "type": "histogram2dcontour"
           }
          ],
          "mesh3d": [
           {
            "colorbar": {
             "outlinewidth": 0,
             "ticks": ""
            },
            "type": "mesh3d"
           }
          ],
          "parcoords": [
           {
            "line": {
             "colorbar": {
              "outlinewidth": 0,
              "ticks": ""
             }
            },
            "type": "parcoords"
           }
          ],
          "pie": [
           {
            "automargin": true,
            "type": "pie"
           }
          ],
          "scatter": [
           {
            "marker": {
             "colorbar": {
              "outlinewidth": 0,
              "ticks": ""
             }
            },
            "type": "scatter"
           }
          ],
          "scatter3d": [
           {
            "line": {
             "colorbar": {
              "outlinewidth": 0,
              "ticks": ""
             }
            },
            "marker": {
             "colorbar": {
              "outlinewidth": 0,
              "ticks": ""
             }
            },
            "type": "scatter3d"
           }
          ],
          "scattercarpet": [
           {
            "marker": {
             "colorbar": {
              "outlinewidth": 0,
              "ticks": ""
             }
            },
            "type": "scattercarpet"
           }
          ],
          "scattergeo": [
           {
            "marker": {
             "colorbar": {
              "outlinewidth": 0,
              "ticks": ""
             }
            },
            "type": "scattergeo"
           }
          ],
          "scattergl": [
           {
            "marker": {
             "colorbar": {
              "outlinewidth": 0,
              "ticks": ""
             }
            },
            "type": "scattergl"
           }
          ],
          "scattermapbox": [
           {
            "marker": {
             "colorbar": {
              "outlinewidth": 0,
              "ticks": ""
             }
            },
            "type": "scattermapbox"
           }
          ],
          "scatterpolar": [
           {
            "marker": {
             "colorbar": {
              "outlinewidth": 0,
              "ticks": ""
             }
            },
            "type": "scatterpolar"
           }
          ],
          "scatterpolargl": [
           {
            "marker": {
             "colorbar": {
              "outlinewidth": 0,
              "ticks": ""
             }
            },
            "type": "scatterpolargl"
           }
          ],
          "scatterternary": [
           {
            "marker": {
             "colorbar": {
              "outlinewidth": 0,
              "ticks": ""
             }
            },
            "type": "scatterternary"
           }
          ],
          "surface": [
           {
            "colorbar": {
             "outlinewidth": 0,
             "ticks": ""
            },
            "colorscale": [
             [
              0,
              "#0d0887"
             ],
             [
              0.1111111111111111,
              "#46039f"
             ],
             [
              0.2222222222222222,
              "#7201a8"
             ],
             [
              0.3333333333333333,
              "#9c179e"
             ],
             [
              0.4444444444444444,
              "#bd3786"
             ],
             [
              0.5555555555555556,
              "#d8576b"
             ],
             [
              0.6666666666666666,
              "#ed7953"
             ],
             [
              0.7777777777777778,
              "#fb9f3a"
             ],
             [
              0.8888888888888888,
              "#fdca26"
             ],
             [
              1,
              "#f0f921"
             ]
            ],
            "type": "surface"
           }
          ],
          "table": [
           {
            "cells": {
             "fill": {
              "color": "#EBF0F8"
             },
             "line": {
              "color": "white"
             }
            },
            "header": {
             "fill": {
              "color": "#C8D4E3"
             },
             "line": {
              "color": "white"
             }
            },
            "type": "table"
           }
          ]
         },
         "layout": {
          "annotationdefaults": {
           "arrowcolor": "#2a3f5f",
           "arrowhead": 0,
           "arrowwidth": 1
          },
          "coloraxis": {
           "colorbar": {
            "outlinewidth": 0,
            "ticks": ""
           }
          },
          "colorscale": {
           "diverging": [
            [
             0,
             "#8e0152"
            ],
            [
             0.1,
             "#c51b7d"
            ],
            [
             0.2,
             "#de77ae"
            ],
            [
             0.3,
             "#f1b6da"
            ],
            [
             0.4,
             "#fde0ef"
            ],
            [
             0.5,
             "#f7f7f7"
            ],
            [
             0.6,
             "#e6f5d0"
            ],
            [
             0.7,
             "#b8e186"
            ],
            [
             0.8,
             "#7fbc41"
            ],
            [
             0.9,
             "#4d9221"
            ],
            [
             1,
             "#276419"
            ]
           ],
           "sequential": [
            [
             0,
             "#0d0887"
            ],
            [
             0.1111111111111111,
             "#46039f"
            ],
            [
             0.2222222222222222,
             "#7201a8"
            ],
            [
             0.3333333333333333,
             "#9c179e"
            ],
            [
             0.4444444444444444,
             "#bd3786"
            ],
            [
             0.5555555555555556,
             "#d8576b"
            ],
            [
             0.6666666666666666,
             "#ed7953"
            ],
            [
             0.7777777777777778,
             "#fb9f3a"
            ],
            [
             0.8888888888888888,
             "#fdca26"
            ],
            [
             1,
             "#f0f921"
            ]
           ],
           "sequentialminus": [
            [
             0,
             "#0d0887"
            ],
            [
             0.1111111111111111,
             "#46039f"
            ],
            [
             0.2222222222222222,
             "#7201a8"
            ],
            [
             0.3333333333333333,
             "#9c179e"
            ],
            [
             0.4444444444444444,
             "#bd3786"
            ],
            [
             0.5555555555555556,
             "#d8576b"
            ],
            [
             0.6666666666666666,
             "#ed7953"
            ],
            [
             0.7777777777777778,
             "#fb9f3a"
            ],
            [
             0.8888888888888888,
             "#fdca26"
            ],
            [
             1,
             "#f0f921"
            ]
           ]
          },
          "colorway": [
           "#636efa",
           "#EF553B",
           "#00cc96",
           "#ab63fa",
           "#FFA15A",
           "#19d3f3",
           "#FF6692",
           "#B6E880",
           "#FF97FF",
           "#FECB52"
          ],
          "font": {
           "color": "#2a3f5f"
          },
          "geo": {
           "bgcolor": "white",
           "lakecolor": "white",
           "landcolor": "#E5ECF6",
           "showlakes": true,
           "showland": true,
           "subunitcolor": "white"
          },
          "hoverlabel": {
           "align": "left"
          },
          "hovermode": "closest",
          "mapbox": {
           "style": "light"
          },
          "paper_bgcolor": "white",
          "plot_bgcolor": "#E5ECF6",
          "polar": {
           "angularaxis": {
            "gridcolor": "white",
            "linecolor": "white",
            "ticks": ""
           },
           "bgcolor": "#E5ECF6",
           "radialaxis": {
            "gridcolor": "white",
            "linecolor": "white",
            "ticks": ""
           }
          },
          "scene": {
           "xaxis": {
            "backgroundcolor": "#E5ECF6",
            "gridcolor": "white",
            "gridwidth": 2,
            "linecolor": "white",
            "showbackground": true,
            "ticks": "",
            "zerolinecolor": "white"
           },
           "yaxis": {
            "backgroundcolor": "#E5ECF6",
            "gridcolor": "white",
            "gridwidth": 2,
            "linecolor": "white",
            "showbackground": true,
            "ticks": "",
            "zerolinecolor": "white"
           },
           "zaxis": {
            "backgroundcolor": "#E5ECF6",
            "gridcolor": "white",
            "gridwidth": 2,
            "linecolor": "white",
            "showbackground": true,
            "ticks": "",
            "zerolinecolor": "white"
           }
          },
          "shapedefaults": {
           "line": {
            "color": "#2a3f5f"
           }
          },
          "ternary": {
           "aaxis": {
            "gridcolor": "white",
            "linecolor": "white",
            "ticks": ""
           },
           "baxis": {
            "gridcolor": "white",
            "linecolor": "white",
            "ticks": ""
           },
           "bgcolor": "#E5ECF6",
           "caxis": {
            "gridcolor": "white",
            "linecolor": "white",
            "ticks": ""
           }
          },
          "title": {
           "x": 0.05
          },
          "xaxis": {
           "automargin": true,
           "gridcolor": "white",
           "linecolor": "white",
           "ticks": "",
           "title": {
            "standoff": 15
           },
           "zerolinecolor": "white",
           "zerolinewidth": 2
          },
          "yaxis": {
           "automargin": true,
           "gridcolor": "white",
           "linecolor": "white",
           "ticks": "",
           "title": {
            "standoff": 15
           },
           "zerolinecolor": "white",
           "zerolinewidth": 2
          }
         }
        }
       }
      },
      "text/html": [
       "<div>\n",
       "        \n",
       "        \n",
       "            <div id=\"d6b0478f-e621-4f2d-8029-53c698fc978c\" class=\"plotly-graph-div\" style=\"height:525px; width:100%;\"></div>\n",
       "            <script type=\"text/javascript\">\n",
       "                require([\"plotly\"], function(Plotly) {\n",
       "                    window.PLOTLYENV=window.PLOTLYENV || {};\n",
       "                    \n",
       "                if (document.getElementById(\"d6b0478f-e621-4f2d-8029-53c698fc978c\")) {\n",
       "                    Plotly.newPlot(\n",
       "                        'd6b0478f-e621-4f2d-8029-53c698fc978c',\n",
       "                        [{\"coloraxis\": \"coloraxis\", \"geo\": \"geo\", \"geojson\": \"land-master/land-master/tokyo2.geojson\", \"hovertemplate\": \"Ward=%{location}<br>Density=%{z}<extra></extra>\", \"locations\": [\"Chiyoda\", \"Chuo\", \"Minato\", \"Shinjuku\", \"Bunkyo\", \"Taito\", \"Sumida\", \"Koto\", \"Shinagawa\", \"Meguro\", \"Ota\", \"Setagaya\", \"Shibuya\", \"Nakano\", \"Suginami\", \"Toshima\", \"Kita\", \"Arakawa\", \"Itabashi\", \"Nerima\", \"Adachi\", \"Katsushika\", \"Edogawa\"], \"name\": \"\", \"type\": \"choropleth\", \"z\": [5100, 14460, 12180, 18620, 19790, 19830, 18910, 12510, 17180, 19110, 11910, 15690, 15080, 21350, 16750, 22650, 16740, 21030, 17670, 15120, 12660, 12850, 13750]}],\n",
       "                        {\"coloraxis\": {\"cmax\": 12, \"cmin\": 0, \"colorbar\": {\"title\": {\"text\": \"Density\"}}, \"colorscale\": [[0.0, \"#440154\"], [0.1111111111111111, \"#482878\"], [0.2222222222222222, \"#3e4989\"], [0.3333333333333333, \"#31688e\"], [0.4444444444444444, \"#26828e\"], [0.5555555555555556, \"#1f9e89\"], [0.6666666666666666, \"#35b779\"], [0.7777777777777778, \"#6ece58\"], [0.8888888888888888, \"#b5de2b\"], [1.0, \"#fde725\"]]}, \"geo\": {\"center\": {}, \"domain\": {\"x\": [0.0, 1.0], \"y\": [0.0, 1.0]}}, \"legend\": {\"tracegroupgap\": 0}, \"margin\": {\"b\": 0, \"l\": 0, \"r\": 0, \"t\": 0}, \"template\": {\"data\": {\"bar\": [{\"error_x\": {\"color\": \"#2a3f5f\"}, \"error_y\": {\"color\": \"#2a3f5f\"}, \"marker\": {\"line\": {\"color\": \"#E5ECF6\", \"width\": 0.5}}, \"type\": \"bar\"}], \"barpolar\": [{\"marker\": {\"line\": {\"color\": \"#E5ECF6\", \"width\": 0.5}}, \"type\": \"barpolar\"}], \"carpet\": [{\"aaxis\": {\"endlinecolor\": \"#2a3f5f\", \"gridcolor\": \"white\", \"linecolor\": \"white\", \"minorgridcolor\": \"white\", \"startlinecolor\": \"#2a3f5f\"}, \"baxis\": {\"endlinecolor\": \"#2a3f5f\", \"gridcolor\": \"white\", \"linecolor\": \"white\", \"minorgridcolor\": \"white\", \"startlinecolor\": \"#2a3f5f\"}, \"type\": \"carpet\"}], \"choropleth\": [{\"colorbar\": {\"outlinewidth\": 0, \"ticks\": \"\"}, \"type\": \"choropleth\"}], \"contour\": [{\"colorbar\": {\"outlinewidth\": 0, \"ticks\": \"\"}, \"colorscale\": [[0.0, \"#0d0887\"], [0.1111111111111111, \"#46039f\"], [0.2222222222222222, \"#7201a8\"], [0.3333333333333333, \"#9c179e\"], [0.4444444444444444, \"#bd3786\"], [0.5555555555555556, \"#d8576b\"], [0.6666666666666666, \"#ed7953\"], [0.7777777777777778, \"#fb9f3a\"], [0.8888888888888888, \"#fdca26\"], [1.0, \"#f0f921\"]], \"type\": \"contour\"}], \"contourcarpet\": [{\"colorbar\": {\"outlinewidth\": 0, \"ticks\": \"\"}, \"type\": \"contourcarpet\"}], \"heatmap\": [{\"colorbar\": {\"outlinewidth\": 0, \"ticks\": \"\"}, \"colorscale\": [[0.0, \"#0d0887\"], [0.1111111111111111, \"#46039f\"], [0.2222222222222222, \"#7201a8\"], [0.3333333333333333, \"#9c179e\"], [0.4444444444444444, \"#bd3786\"], [0.5555555555555556, \"#d8576b\"], [0.6666666666666666, \"#ed7953\"], [0.7777777777777778, \"#fb9f3a\"], [0.8888888888888888, \"#fdca26\"], [1.0, \"#f0f921\"]], \"type\": \"heatmap\"}], \"heatmapgl\": [{\"colorbar\": {\"outlinewidth\": 0, \"ticks\": \"\"}, \"colorscale\": [[0.0, \"#0d0887\"], [0.1111111111111111, \"#46039f\"], [0.2222222222222222, \"#7201a8\"], [0.3333333333333333, \"#9c179e\"], [0.4444444444444444, \"#bd3786\"], [0.5555555555555556, \"#d8576b\"], [0.6666666666666666, \"#ed7953\"], [0.7777777777777778, \"#fb9f3a\"], [0.8888888888888888, \"#fdca26\"], [1.0, \"#f0f921\"]], \"type\": \"heatmapgl\"}], \"histogram\": [{\"marker\": {\"colorbar\": {\"outlinewidth\": 0, \"ticks\": \"\"}}, \"type\": \"histogram\"}], \"histogram2d\": [{\"colorbar\": {\"outlinewidth\": 0, \"ticks\": \"\"}, \"colorscale\": [[0.0, \"#0d0887\"], [0.1111111111111111, \"#46039f\"], [0.2222222222222222, \"#7201a8\"], [0.3333333333333333, \"#9c179e\"], [0.4444444444444444, \"#bd3786\"], [0.5555555555555556, \"#d8576b\"], [0.6666666666666666, \"#ed7953\"], [0.7777777777777778, \"#fb9f3a\"], [0.8888888888888888, \"#fdca26\"], [1.0, \"#f0f921\"]], \"type\": \"histogram2d\"}], \"histogram2dcontour\": [{\"colorbar\": {\"outlinewidth\": 0, \"ticks\": \"\"}, \"colorscale\": [[0.0, \"#0d0887\"], [0.1111111111111111, \"#46039f\"], [0.2222222222222222, \"#7201a8\"], [0.3333333333333333, \"#9c179e\"], [0.4444444444444444, \"#bd3786\"], [0.5555555555555556, \"#d8576b\"], [0.6666666666666666, \"#ed7953\"], [0.7777777777777778, \"#fb9f3a\"], [0.8888888888888888, \"#fdca26\"], [1.0, \"#f0f921\"]], \"type\": \"histogram2dcontour\"}], \"mesh3d\": [{\"colorbar\": {\"outlinewidth\": 0, \"ticks\": \"\"}, \"type\": \"mesh3d\"}], \"parcoords\": [{\"line\": {\"colorbar\": {\"outlinewidth\": 0, \"ticks\": \"\"}}, \"type\": \"parcoords\"}], \"pie\": [{\"automargin\": true, \"type\": \"pie\"}], \"scatter\": [{\"marker\": {\"colorbar\": {\"outlinewidth\": 0, \"ticks\": \"\"}}, \"type\": \"scatter\"}], \"scatter3d\": [{\"line\": {\"colorbar\": {\"outlinewidth\": 0, \"ticks\": \"\"}}, \"marker\": {\"colorbar\": {\"outlinewidth\": 0, \"ticks\": \"\"}}, \"type\": \"scatter3d\"}], \"scattercarpet\": [{\"marker\": {\"colorbar\": {\"outlinewidth\": 0, \"ticks\": \"\"}}, \"type\": \"scattercarpet\"}], \"scattergeo\": [{\"marker\": {\"colorbar\": {\"outlinewidth\": 0, \"ticks\": \"\"}}, \"type\": \"scattergeo\"}], \"scattergl\": [{\"marker\": {\"colorbar\": {\"outlinewidth\": 0, \"ticks\": \"\"}}, \"type\": \"scattergl\"}], \"scattermapbox\": [{\"marker\": {\"colorbar\": {\"outlinewidth\": 0, \"ticks\": \"\"}}, \"type\": \"scattermapbox\"}], \"scatterpolar\": [{\"marker\": {\"colorbar\": {\"outlinewidth\": 0, \"ticks\": \"\"}}, \"type\": \"scatterpolar\"}], \"scatterpolargl\": [{\"marker\": {\"colorbar\": {\"outlinewidth\": 0, \"ticks\": \"\"}}, \"type\": \"scatterpolargl\"}], \"scatterternary\": [{\"marker\": {\"colorbar\": {\"outlinewidth\": 0, \"ticks\": \"\"}}, \"type\": \"scatterternary\"}], \"surface\": [{\"colorbar\": {\"outlinewidth\": 0, \"ticks\": \"\"}, \"colorscale\": [[0.0, \"#0d0887\"], [0.1111111111111111, \"#46039f\"], [0.2222222222222222, \"#7201a8\"], [0.3333333333333333, \"#9c179e\"], [0.4444444444444444, \"#bd3786\"], [0.5555555555555556, \"#d8576b\"], [0.6666666666666666, \"#ed7953\"], [0.7777777777777778, \"#fb9f3a\"], [0.8888888888888888, \"#fdca26\"], [1.0, \"#f0f921\"]], \"type\": \"surface\"}], \"table\": [{\"cells\": {\"fill\": {\"color\": \"#EBF0F8\"}, \"line\": {\"color\": \"white\"}}, \"header\": {\"fill\": {\"color\": \"#C8D4E3\"}, \"line\": {\"color\": \"white\"}}, \"type\": \"table\"}]}, \"layout\": {\"annotationdefaults\": {\"arrowcolor\": \"#2a3f5f\", \"arrowhead\": 0, \"arrowwidth\": 1}, \"coloraxis\": {\"colorbar\": {\"outlinewidth\": 0, \"ticks\": \"\"}}, \"colorscale\": {\"diverging\": [[0, \"#8e0152\"], [0.1, \"#c51b7d\"], [0.2, \"#de77ae\"], [0.3, \"#f1b6da\"], [0.4, \"#fde0ef\"], [0.5, \"#f7f7f7\"], [0.6, \"#e6f5d0\"], [0.7, \"#b8e186\"], [0.8, \"#7fbc41\"], [0.9, \"#4d9221\"], [1, \"#276419\"]], \"sequential\": [[0.0, \"#0d0887\"], [0.1111111111111111, \"#46039f\"], [0.2222222222222222, \"#7201a8\"], [0.3333333333333333, \"#9c179e\"], [0.4444444444444444, \"#bd3786\"], [0.5555555555555556, \"#d8576b\"], [0.6666666666666666, \"#ed7953\"], [0.7777777777777778, \"#fb9f3a\"], [0.8888888888888888, \"#fdca26\"], [1.0, \"#f0f921\"]], \"sequentialminus\": [[0.0, \"#0d0887\"], [0.1111111111111111, \"#46039f\"], [0.2222222222222222, \"#7201a8\"], [0.3333333333333333, \"#9c179e\"], [0.4444444444444444, \"#bd3786\"], [0.5555555555555556, \"#d8576b\"], [0.6666666666666666, \"#ed7953\"], [0.7777777777777778, \"#fb9f3a\"], [0.8888888888888888, \"#fdca26\"], [1.0, \"#f0f921\"]]}, \"colorway\": [\"#636efa\", \"#EF553B\", \"#00cc96\", \"#ab63fa\", \"#FFA15A\", \"#19d3f3\", \"#FF6692\", \"#B6E880\", \"#FF97FF\", \"#FECB52\"], \"font\": {\"color\": \"#2a3f5f\"}, \"geo\": {\"bgcolor\": \"white\", \"lakecolor\": \"white\", \"landcolor\": \"#E5ECF6\", \"showlakes\": true, \"showland\": true, \"subunitcolor\": \"white\"}, \"hoverlabel\": {\"align\": \"left\"}, \"hovermode\": \"closest\", \"mapbox\": {\"style\": \"light\"}, \"paper_bgcolor\": \"white\", \"plot_bgcolor\": \"#E5ECF6\", \"polar\": {\"angularaxis\": {\"gridcolor\": \"white\", \"linecolor\": \"white\", \"ticks\": \"\"}, \"bgcolor\": \"#E5ECF6\", \"radialaxis\": {\"gridcolor\": \"white\", \"linecolor\": \"white\", \"ticks\": \"\"}}, \"scene\": {\"xaxis\": {\"backgroundcolor\": \"#E5ECF6\", \"gridcolor\": \"white\", \"gridwidth\": 2, \"linecolor\": \"white\", \"showbackground\": true, \"ticks\": \"\", \"zerolinecolor\": \"white\"}, \"yaxis\": {\"backgroundcolor\": \"#E5ECF6\", \"gridcolor\": \"white\", \"gridwidth\": 2, \"linecolor\": \"white\", \"showbackground\": true, \"ticks\": \"\", \"zerolinecolor\": \"white\"}, \"zaxis\": {\"backgroundcolor\": \"#E5ECF6\", \"gridcolor\": \"white\", \"gridwidth\": 2, \"linecolor\": \"white\", \"showbackground\": true, \"ticks\": \"\", \"zerolinecolor\": \"white\"}}, \"shapedefaults\": {\"line\": {\"color\": \"#2a3f5f\"}}, \"ternary\": {\"aaxis\": {\"gridcolor\": \"white\", \"linecolor\": \"white\", \"ticks\": \"\"}, \"baxis\": {\"gridcolor\": \"white\", \"linecolor\": \"white\", \"ticks\": \"\"}, \"bgcolor\": \"#E5ECF6\", \"caxis\": {\"gridcolor\": \"white\", \"linecolor\": \"white\", \"ticks\": \"\"}}, \"title\": {\"x\": 0.05}, \"xaxis\": {\"automargin\": true, \"gridcolor\": \"white\", \"linecolor\": \"white\", \"ticks\": \"\", \"title\": {\"standoff\": 15}, \"zerolinecolor\": \"white\", \"zerolinewidth\": 2}, \"yaxis\": {\"automargin\": true, \"gridcolor\": \"white\", \"linecolor\": \"white\", \"ticks\": \"\", \"title\": {\"standoff\": 15}, \"zerolinecolor\": \"white\", \"zerolinewidth\": 2}}}},\n",
       "                        {\"responsive\": true}\n",
       "                    ).then(function(){\n",
       "                            \n",
       "var gd = document.getElementById('d6b0478f-e621-4f2d-8029-53c698fc978c');\n",
       "var x = new MutationObserver(function (mutations, observer) {{\n",
       "        var display = window.getComputedStyle(gd).display;\n",
       "        if (!display || display === 'none') {{\n",
       "            console.log([gd, 'removed!']);\n",
       "            Plotly.purge(gd);\n",
       "            observer.disconnect();\n",
       "        }}\n",
       "}});\n",
       "\n",
       "// Listen for the removal of the full notebook cells\n",
       "var notebookContainer = gd.closest('#notebook-container');\n",
       "if (notebookContainer) {{\n",
       "    x.observe(notebookContainer, {childList: true});\n",
       "}}\n",
       "\n",
       "// Listen for the clearing of the current output cell\n",
       "var outputEl = gd.closest('.output');\n",
       "if (outputEl) {{\n",
       "    x.observe(outputEl, {childList: true});\n",
       "}}\n",
       "\n",
       "                        })\n",
       "                };\n",
       "                });\n",
       "            </script>\n",
       "        </div>"
      ]
     },
     "metadata": {},
     "output_type": "display_data"
    }
   ],
   "source": [
    "import plotly.express as px\n",
    "tokyo_geo = r'land-master/land-master/tokyo2.geojson'\n",
    "fig = px.choropleth(df, geojson=tokyo_geo, locations='Ward', color='Density',\n",
    "                           color_continuous_scale=\"Viridis\",\n",
    "                           range_color=(0, 12)\n",
    "                          )\n",
    "fig.update_layout(margin={\"r\":0,\"t\":0,\"l\":0,\"b\":0})\n",
    "fig.show()"
   ]
  },
  {
   "cell_type": "code",
   "execution_count": 7,
   "metadata": {},
   "outputs": [
    {
     "data": {
      "application/vnd.plotly.v1+json": {
       "config": {
        "plotlyServerURL": "https://plot.ly"
       },
       "data": [
        {
         "coloraxis": "coloraxis",
         "featureidkey": "properties.ward_en",
         "geo": "geo",
         "geojson": "land-master/land-master/tokyo2.geojson",
         "hovertemplate": "Ward=%{location}<br>Density=%{z}<extra></extra>",
         "locations": [
          "Chiyoda",
          "Chuo",
          "Minato",
          "Shinjuku",
          "Bunkyo",
          "Taito",
          "Sumida",
          "Koto",
          "Shinagawa",
          "Meguro",
          "Ota",
          "Setagaya",
          "Shibuya",
          "Nakano",
          "Suginami",
          "Toshima",
          "Kita",
          "Arakawa",
          "Itabashi",
          "Nerima",
          "Adachi",
          "Katsushika",
          "Edogawa"
         ],
         "name": "",
         "type": "choropleth",
         "z": [
          5100,
          14460,
          12180,
          18620,
          19790,
          19830,
          18910,
          12510,
          17180,
          19110,
          11910,
          15690,
          15080,
          21350,
          16750,
          22650,
          16740,
          21030,
          17670,
          15120,
          12660,
          12850,
          13750
         ]
        }
       ],
       "layout": {
        "coloraxis": {
         "colorbar": {
          "title": {
           "text": "Density"
          }
         },
         "colorscale": [
          [
           0,
           "#0d0887"
          ],
          [
           0.1111111111111111,
           "#46039f"
          ],
          [
           0.2222222222222222,
           "#7201a8"
          ],
          [
           0.3333333333333333,
           "#9c179e"
          ],
          [
           0.4444444444444444,
           "#bd3786"
          ],
          [
           0.5555555555555556,
           "#d8576b"
          ],
          [
           0.6666666666666666,
           "#ed7953"
          ],
          [
           0.7777777777777778,
           "#fb9f3a"
          ],
          [
           0.8888888888888888,
           "#fdca26"
          ],
          [
           1,
           "#f0f921"
          ]
         ]
        },
        "geo": {
         "center": {},
         "domain": {
          "x": [
           0,
           1
          ],
          "y": [
           0,
           1
          ]
         },
         "fitbounds": "locations",
         "projection": {
          "type": "mercator"
         },
         "visible": false
        },
        "legend": {
         "tracegroupgap": 0
        },
        "margin": {
         "b": 0,
         "l": 0,
         "r": 0,
         "t": 0
        },
        "template": {
         "data": {
          "bar": [
           {
            "error_x": {
             "color": "#2a3f5f"
            },
            "error_y": {
             "color": "#2a3f5f"
            },
            "marker": {
             "line": {
              "color": "#E5ECF6",
              "width": 0.5
             }
            },
            "type": "bar"
           }
          ],
          "barpolar": [
           {
            "marker": {
             "line": {
              "color": "#E5ECF6",
              "width": 0.5
             }
            },
            "type": "barpolar"
           }
          ],
          "carpet": [
           {
            "aaxis": {
             "endlinecolor": "#2a3f5f",
             "gridcolor": "white",
             "linecolor": "white",
             "minorgridcolor": "white",
             "startlinecolor": "#2a3f5f"
            },
            "baxis": {
             "endlinecolor": "#2a3f5f",
             "gridcolor": "white",
             "linecolor": "white",
             "minorgridcolor": "white",
             "startlinecolor": "#2a3f5f"
            },
            "type": "carpet"
           }
          ],
          "choropleth": [
           {
            "colorbar": {
             "outlinewidth": 0,
             "ticks": ""
            },
            "type": "choropleth"
           }
          ],
          "contour": [
           {
            "colorbar": {
             "outlinewidth": 0,
             "ticks": ""
            },
            "colorscale": [
             [
              0,
              "#0d0887"
             ],
             [
              0.1111111111111111,
              "#46039f"
             ],
             [
              0.2222222222222222,
              "#7201a8"
             ],
             [
              0.3333333333333333,
              "#9c179e"
             ],
             [
              0.4444444444444444,
              "#bd3786"
             ],
             [
              0.5555555555555556,
              "#d8576b"
             ],
             [
              0.6666666666666666,
              "#ed7953"
             ],
             [
              0.7777777777777778,
              "#fb9f3a"
             ],
             [
              0.8888888888888888,
              "#fdca26"
             ],
             [
              1,
              "#f0f921"
             ]
            ],
            "type": "contour"
           }
          ],
          "contourcarpet": [
           {
            "colorbar": {
             "outlinewidth": 0,
             "ticks": ""
            },
            "type": "contourcarpet"
           }
          ],
          "heatmap": [
           {
            "colorbar": {
             "outlinewidth": 0,
             "ticks": ""
            },
            "colorscale": [
             [
              0,
              "#0d0887"
             ],
             [
              0.1111111111111111,
              "#46039f"
             ],
             [
              0.2222222222222222,
              "#7201a8"
             ],
             [
              0.3333333333333333,
              "#9c179e"
             ],
             [
              0.4444444444444444,
              "#bd3786"
             ],
             [
              0.5555555555555556,
              "#d8576b"
             ],
             [
              0.6666666666666666,
              "#ed7953"
             ],
             [
              0.7777777777777778,
              "#fb9f3a"
             ],
             [
              0.8888888888888888,
              "#fdca26"
             ],
             [
              1,
              "#f0f921"
             ]
            ],
            "type": "heatmap"
           }
          ],
          "heatmapgl": [
           {
            "colorbar": {
             "outlinewidth": 0,
             "ticks": ""
            },
            "colorscale": [
             [
              0,
              "#0d0887"
             ],
             [
              0.1111111111111111,
              "#46039f"
             ],
             [
              0.2222222222222222,
              "#7201a8"
             ],
             [
              0.3333333333333333,
              "#9c179e"
             ],
             [
              0.4444444444444444,
              "#bd3786"
             ],
             [
              0.5555555555555556,
              "#d8576b"
             ],
             [
              0.6666666666666666,
              "#ed7953"
             ],
             [
              0.7777777777777778,
              "#fb9f3a"
             ],
             [
              0.8888888888888888,
              "#fdca26"
             ],
             [
              1,
              "#f0f921"
             ]
            ],
            "type": "heatmapgl"
           }
          ],
          "histogram": [
           {
            "marker": {
             "colorbar": {
              "outlinewidth": 0,
              "ticks": ""
             }
            },
            "type": "histogram"
           }
          ],
          "histogram2d": [
           {
            "colorbar": {
             "outlinewidth": 0,
             "ticks": ""
            },
            "colorscale": [
             [
              0,
              "#0d0887"
             ],
             [
              0.1111111111111111,
              "#46039f"
             ],
             [
              0.2222222222222222,
              "#7201a8"
             ],
             [
              0.3333333333333333,
              "#9c179e"
             ],
             [
              0.4444444444444444,
              "#bd3786"
             ],
             [
              0.5555555555555556,
              "#d8576b"
             ],
             [
              0.6666666666666666,
              "#ed7953"
             ],
             [
              0.7777777777777778,
              "#fb9f3a"
             ],
             [
              0.8888888888888888,
              "#fdca26"
             ],
             [
              1,
              "#f0f921"
             ]
            ],
            "type": "histogram2d"
           }
          ],
          "histogram2dcontour": [
           {
            "colorbar": {
             "outlinewidth": 0,
             "ticks": ""
            },
            "colorscale": [
             [
              0,
              "#0d0887"
             ],
             [
              0.1111111111111111,
              "#46039f"
             ],
             [
              0.2222222222222222,
              "#7201a8"
             ],
             [
              0.3333333333333333,
              "#9c179e"
             ],
             [
              0.4444444444444444,
              "#bd3786"
             ],
             [
              0.5555555555555556,
              "#d8576b"
             ],
             [
              0.6666666666666666,
              "#ed7953"
             ],
             [
              0.7777777777777778,
              "#fb9f3a"
             ],
             [
              0.8888888888888888,
              "#fdca26"
             ],
             [
              1,
              "#f0f921"
             ]
            ],
            "type": "histogram2dcontour"
           }
          ],
          "mesh3d": [
           {
            "colorbar": {
             "outlinewidth": 0,
             "ticks": ""
            },
            "type": "mesh3d"
           }
          ],
          "parcoords": [
           {
            "line": {
             "colorbar": {
              "outlinewidth": 0,
              "ticks": ""
             }
            },
            "type": "parcoords"
           }
          ],
          "pie": [
           {
            "automargin": true,
            "type": "pie"
           }
          ],
          "scatter": [
           {
            "marker": {
             "colorbar": {
              "outlinewidth": 0,
              "ticks": ""
             }
            },
            "type": "scatter"
           }
          ],
          "scatter3d": [
           {
            "line": {
             "colorbar": {
              "outlinewidth": 0,
              "ticks": ""
             }
            },
            "marker": {
             "colorbar": {
              "outlinewidth": 0,
              "ticks": ""
             }
            },
            "type": "scatter3d"
           }
          ],
          "scattercarpet": [
           {
            "marker": {
             "colorbar": {
              "outlinewidth": 0,
              "ticks": ""
             }
            },
            "type": "scattercarpet"
           }
          ],
          "scattergeo": [
           {
            "marker": {
             "colorbar": {
              "outlinewidth": 0,
              "ticks": ""
             }
            },
            "type": "scattergeo"
           }
          ],
          "scattergl": [
           {
            "marker": {
             "colorbar": {
              "outlinewidth": 0,
              "ticks": ""
             }
            },
            "type": "scattergl"
           }
          ],
          "scattermapbox": [
           {
            "marker": {
             "colorbar": {
              "outlinewidth": 0,
              "ticks": ""
             }
            },
            "type": "scattermapbox"
           }
          ],
          "scatterpolar": [
           {
            "marker": {
             "colorbar": {
              "outlinewidth": 0,
              "ticks": ""
             }
            },
            "type": "scatterpolar"
           }
          ],
          "scatterpolargl": [
           {
            "marker": {
             "colorbar": {
              "outlinewidth": 0,
              "ticks": ""
             }
            },
            "type": "scatterpolargl"
           }
          ],
          "scatterternary": [
           {
            "marker": {
             "colorbar": {
              "outlinewidth": 0,
              "ticks": ""
             }
            },
            "type": "scatterternary"
           }
          ],
          "surface": [
           {
            "colorbar": {
             "outlinewidth": 0,
             "ticks": ""
            },
            "colorscale": [
             [
              0,
              "#0d0887"
             ],
             [
              0.1111111111111111,
              "#46039f"
             ],
             [
              0.2222222222222222,
              "#7201a8"
             ],
             [
              0.3333333333333333,
              "#9c179e"
             ],
             [
              0.4444444444444444,
              "#bd3786"
             ],
             [
              0.5555555555555556,
              "#d8576b"
             ],
             [
              0.6666666666666666,
              "#ed7953"
             ],
             [
              0.7777777777777778,
              "#fb9f3a"
             ],
             [
              0.8888888888888888,
              "#fdca26"
             ],
             [
              1,
              "#f0f921"
             ]
            ],
            "type": "surface"
           }
          ],
          "table": [
           {
            "cells": {
             "fill": {
              "color": "#EBF0F8"
             },
             "line": {
              "color": "white"
             }
            },
            "header": {
             "fill": {
              "color": "#C8D4E3"
             },
             "line": {
              "color": "white"
             }
            },
            "type": "table"
           }
          ]
         },
         "layout": {
          "annotationdefaults": {
           "arrowcolor": "#2a3f5f",
           "arrowhead": 0,
           "arrowwidth": 1
          },
          "coloraxis": {
           "colorbar": {
            "outlinewidth": 0,
            "ticks": ""
           }
          },
          "colorscale": {
           "diverging": [
            [
             0,
             "#8e0152"
            ],
            [
             0.1,
             "#c51b7d"
            ],
            [
             0.2,
             "#de77ae"
            ],
            [
             0.3,
             "#f1b6da"
            ],
            [
             0.4,
             "#fde0ef"
            ],
            [
             0.5,
             "#f7f7f7"
            ],
            [
             0.6,
             "#e6f5d0"
            ],
            [
             0.7,
             "#b8e186"
            ],
            [
             0.8,
             "#7fbc41"
            ],
            [
             0.9,
             "#4d9221"
            ],
            [
             1,
             "#276419"
            ]
           ],
           "sequential": [
            [
             0,
             "#0d0887"
            ],
            [
             0.1111111111111111,
             "#46039f"
            ],
            [
             0.2222222222222222,
             "#7201a8"
            ],
            [
             0.3333333333333333,
             "#9c179e"
            ],
            [
             0.4444444444444444,
             "#bd3786"
            ],
            [
             0.5555555555555556,
             "#d8576b"
            ],
            [
             0.6666666666666666,
             "#ed7953"
            ],
            [
             0.7777777777777778,
             "#fb9f3a"
            ],
            [
             0.8888888888888888,
             "#fdca26"
            ],
            [
             1,
             "#f0f921"
            ]
           ],
           "sequentialminus": [
            [
             0,
             "#0d0887"
            ],
            [
             0.1111111111111111,
             "#46039f"
            ],
            [
             0.2222222222222222,
             "#7201a8"
            ],
            [
             0.3333333333333333,
             "#9c179e"
            ],
            [
             0.4444444444444444,
             "#bd3786"
            ],
            [
             0.5555555555555556,
             "#d8576b"
            ],
            [
             0.6666666666666666,
             "#ed7953"
            ],
            [
             0.7777777777777778,
             "#fb9f3a"
            ],
            [
             0.8888888888888888,
             "#fdca26"
            ],
            [
             1,
             "#f0f921"
            ]
           ]
          },
          "colorway": [
           "#636efa",
           "#EF553B",
           "#00cc96",
           "#ab63fa",
           "#FFA15A",
           "#19d3f3",
           "#FF6692",
           "#B6E880",
           "#FF97FF",
           "#FECB52"
          ],
          "font": {
           "color": "#2a3f5f"
          },
          "geo": {
           "bgcolor": "white",
           "lakecolor": "white",
           "landcolor": "#E5ECF6",
           "showlakes": true,
           "showland": true,
           "subunitcolor": "white"
          },
          "hoverlabel": {
           "align": "left"
          },
          "hovermode": "closest",
          "mapbox": {
           "style": "light"
          },
          "paper_bgcolor": "white",
          "plot_bgcolor": "#E5ECF6",
          "polar": {
           "angularaxis": {
            "gridcolor": "white",
            "linecolor": "white",
            "ticks": ""
           },
           "bgcolor": "#E5ECF6",
           "radialaxis": {
            "gridcolor": "white",
            "linecolor": "white",
            "ticks": ""
           }
          },
          "scene": {
           "xaxis": {
            "backgroundcolor": "#E5ECF6",
            "gridcolor": "white",
            "gridwidth": 2,
            "linecolor": "white",
            "showbackground": true,
            "ticks": "",
            "zerolinecolor": "white"
           },
           "yaxis": {
            "backgroundcolor": "#E5ECF6",
            "gridcolor": "white",
            "gridwidth": 2,
            "linecolor": "white",
            "showbackground": true,
            "ticks": "",
            "zerolinecolor": "white"
           },
           "zaxis": {
            "backgroundcolor": "#E5ECF6",
            "gridcolor": "white",
            "gridwidth": 2,
            "linecolor": "white",
            "showbackground": true,
            "ticks": "",
            "zerolinecolor": "white"
           }
          },
          "shapedefaults": {
           "line": {
            "color": "#2a3f5f"
           }
          },
          "ternary": {
           "aaxis": {
            "gridcolor": "white",
            "linecolor": "white",
            "ticks": ""
           },
           "baxis": {
            "gridcolor": "white",
            "linecolor": "white",
            "ticks": ""
           },
           "bgcolor": "#E5ECF6",
           "caxis": {
            "gridcolor": "white",
            "linecolor": "white",
            "ticks": ""
           }
          },
          "title": {
           "x": 0.05
          },
          "xaxis": {
           "automargin": true,
           "gridcolor": "white",
           "linecolor": "white",
           "ticks": "",
           "title": {
            "standoff": 15
           },
           "zerolinecolor": "white",
           "zerolinewidth": 2
          },
          "yaxis": {
           "automargin": true,
           "gridcolor": "white",
           "linecolor": "white",
           "ticks": "",
           "title": {
            "standoff": 15
           },
           "zerolinecolor": "white",
           "zerolinewidth": 2
          }
         }
        }
       }
      },
      "text/html": [
       "<div>\n",
       "        \n",
       "        \n",
       "            <div id=\"c88c8692-b081-4e93-9aa1-90bb493b81f2\" class=\"plotly-graph-div\" style=\"height:525px; width:100%;\"></div>\n",
       "            <script type=\"text/javascript\">\n",
       "                require([\"plotly\"], function(Plotly) {\n",
       "                    window.PLOTLYENV=window.PLOTLYENV || {};\n",
       "                    \n",
       "                if (document.getElementById(\"c88c8692-b081-4e93-9aa1-90bb493b81f2\")) {\n",
       "                    Plotly.newPlot(\n",
       "                        'c88c8692-b081-4e93-9aa1-90bb493b81f2',\n",
       "                        [{\"coloraxis\": \"coloraxis\", \"featureidkey\": \"properties.ward_en\", \"geo\": \"geo\", \"geojson\": \"land-master/land-master/tokyo2.geojson\", \"hovertemplate\": \"Ward=%{location}<br>Density=%{z}<extra></extra>\", \"locations\": [\"Chiyoda\", \"Chuo\", \"Minato\", \"Shinjuku\", \"Bunkyo\", \"Taito\", \"Sumida\", \"Koto\", \"Shinagawa\", \"Meguro\", \"Ota\", \"Setagaya\", \"Shibuya\", \"Nakano\", \"Suginami\", \"Toshima\", \"Kita\", \"Arakawa\", \"Itabashi\", \"Nerima\", \"Adachi\", \"Katsushika\", \"Edogawa\"], \"name\": \"\", \"type\": \"choropleth\", \"z\": [5100, 14460, 12180, 18620, 19790, 19830, 18910, 12510, 17180, 19110, 11910, 15690, 15080, 21350, 16750, 22650, 16740, 21030, 17670, 15120, 12660, 12850, 13750]}],\n",
       "                        {\"coloraxis\": {\"colorbar\": {\"title\": {\"text\": \"Density\"}}, \"colorscale\": [[0.0, \"#0d0887\"], [0.1111111111111111, \"#46039f\"], [0.2222222222222222, \"#7201a8\"], [0.3333333333333333, \"#9c179e\"], [0.4444444444444444, \"#bd3786\"], [0.5555555555555556, \"#d8576b\"], [0.6666666666666666, \"#ed7953\"], [0.7777777777777778, \"#fb9f3a\"], [0.8888888888888888, \"#fdca26\"], [1.0, \"#f0f921\"]]}, \"geo\": {\"center\": {}, \"domain\": {\"x\": [0.0, 1.0], \"y\": [0.0, 1.0]}, \"fitbounds\": \"locations\", \"projection\": {\"type\": \"mercator\"}, \"visible\": false}, \"legend\": {\"tracegroupgap\": 0}, \"margin\": {\"b\": 0, \"l\": 0, \"r\": 0, \"t\": 0}, \"template\": {\"data\": {\"bar\": [{\"error_x\": {\"color\": \"#2a3f5f\"}, \"error_y\": {\"color\": \"#2a3f5f\"}, \"marker\": {\"line\": {\"color\": \"#E5ECF6\", \"width\": 0.5}}, \"type\": \"bar\"}], \"barpolar\": [{\"marker\": {\"line\": {\"color\": \"#E5ECF6\", \"width\": 0.5}}, \"type\": \"barpolar\"}], \"carpet\": [{\"aaxis\": {\"endlinecolor\": \"#2a3f5f\", \"gridcolor\": \"white\", \"linecolor\": \"white\", \"minorgridcolor\": \"white\", \"startlinecolor\": \"#2a3f5f\"}, \"baxis\": {\"endlinecolor\": \"#2a3f5f\", \"gridcolor\": \"white\", \"linecolor\": \"white\", \"minorgridcolor\": \"white\", \"startlinecolor\": \"#2a3f5f\"}, \"type\": \"carpet\"}], \"choropleth\": [{\"colorbar\": {\"outlinewidth\": 0, \"ticks\": \"\"}, \"type\": \"choropleth\"}], \"contour\": [{\"colorbar\": {\"outlinewidth\": 0, \"ticks\": \"\"}, \"colorscale\": [[0.0, \"#0d0887\"], [0.1111111111111111, \"#46039f\"], [0.2222222222222222, \"#7201a8\"], [0.3333333333333333, \"#9c179e\"], [0.4444444444444444, \"#bd3786\"], [0.5555555555555556, \"#d8576b\"], [0.6666666666666666, \"#ed7953\"], [0.7777777777777778, \"#fb9f3a\"], [0.8888888888888888, \"#fdca26\"], [1.0, \"#f0f921\"]], \"type\": \"contour\"}], \"contourcarpet\": [{\"colorbar\": {\"outlinewidth\": 0, \"ticks\": \"\"}, \"type\": \"contourcarpet\"}], \"heatmap\": [{\"colorbar\": {\"outlinewidth\": 0, \"ticks\": \"\"}, \"colorscale\": [[0.0, \"#0d0887\"], [0.1111111111111111, \"#46039f\"], [0.2222222222222222, \"#7201a8\"], [0.3333333333333333, \"#9c179e\"], [0.4444444444444444, \"#bd3786\"], [0.5555555555555556, \"#d8576b\"], [0.6666666666666666, \"#ed7953\"], [0.7777777777777778, \"#fb9f3a\"], [0.8888888888888888, \"#fdca26\"], [1.0, \"#f0f921\"]], \"type\": \"heatmap\"}], \"heatmapgl\": [{\"colorbar\": {\"outlinewidth\": 0, \"ticks\": \"\"}, \"colorscale\": [[0.0, \"#0d0887\"], [0.1111111111111111, \"#46039f\"], [0.2222222222222222, \"#7201a8\"], [0.3333333333333333, \"#9c179e\"], [0.4444444444444444, \"#bd3786\"], [0.5555555555555556, \"#d8576b\"], [0.6666666666666666, \"#ed7953\"], [0.7777777777777778, \"#fb9f3a\"], [0.8888888888888888, \"#fdca26\"], [1.0, \"#f0f921\"]], \"type\": \"heatmapgl\"}], \"histogram\": [{\"marker\": {\"colorbar\": {\"outlinewidth\": 0, \"ticks\": \"\"}}, \"type\": \"histogram\"}], \"histogram2d\": [{\"colorbar\": {\"outlinewidth\": 0, \"ticks\": \"\"}, \"colorscale\": [[0.0, \"#0d0887\"], [0.1111111111111111, \"#46039f\"], [0.2222222222222222, \"#7201a8\"], [0.3333333333333333, \"#9c179e\"], [0.4444444444444444, \"#bd3786\"], [0.5555555555555556, \"#d8576b\"], [0.6666666666666666, \"#ed7953\"], [0.7777777777777778, \"#fb9f3a\"], [0.8888888888888888, \"#fdca26\"], [1.0, \"#f0f921\"]], \"type\": \"histogram2d\"}], \"histogram2dcontour\": [{\"colorbar\": {\"outlinewidth\": 0, \"ticks\": \"\"}, \"colorscale\": [[0.0, \"#0d0887\"], [0.1111111111111111, \"#46039f\"], [0.2222222222222222, \"#7201a8\"], [0.3333333333333333, \"#9c179e\"], [0.4444444444444444, \"#bd3786\"], [0.5555555555555556, \"#d8576b\"], [0.6666666666666666, \"#ed7953\"], [0.7777777777777778, \"#fb9f3a\"], [0.8888888888888888, \"#fdca26\"], [1.0, \"#f0f921\"]], \"type\": \"histogram2dcontour\"}], \"mesh3d\": [{\"colorbar\": {\"outlinewidth\": 0, \"ticks\": \"\"}, \"type\": \"mesh3d\"}], \"parcoords\": [{\"line\": {\"colorbar\": {\"outlinewidth\": 0, \"ticks\": \"\"}}, \"type\": \"parcoords\"}], \"pie\": [{\"automargin\": true, \"type\": \"pie\"}], \"scatter\": [{\"marker\": {\"colorbar\": {\"outlinewidth\": 0, \"ticks\": \"\"}}, \"type\": \"scatter\"}], \"scatter3d\": [{\"line\": {\"colorbar\": {\"outlinewidth\": 0, \"ticks\": \"\"}}, \"marker\": {\"colorbar\": {\"outlinewidth\": 0, \"ticks\": \"\"}}, \"type\": \"scatter3d\"}], \"scattercarpet\": [{\"marker\": {\"colorbar\": {\"outlinewidth\": 0, \"ticks\": \"\"}}, \"type\": \"scattercarpet\"}], \"scattergeo\": [{\"marker\": {\"colorbar\": {\"outlinewidth\": 0, \"ticks\": \"\"}}, \"type\": \"scattergeo\"}], \"scattergl\": [{\"marker\": {\"colorbar\": {\"outlinewidth\": 0, \"ticks\": \"\"}}, \"type\": \"scattergl\"}], \"scattermapbox\": [{\"marker\": {\"colorbar\": {\"outlinewidth\": 0, \"ticks\": \"\"}}, \"type\": \"scattermapbox\"}], \"scatterpolar\": [{\"marker\": {\"colorbar\": {\"outlinewidth\": 0, \"ticks\": \"\"}}, \"type\": \"scatterpolar\"}], \"scatterpolargl\": [{\"marker\": {\"colorbar\": {\"outlinewidth\": 0, \"ticks\": \"\"}}, \"type\": \"scatterpolargl\"}], \"scatterternary\": [{\"marker\": {\"colorbar\": {\"outlinewidth\": 0, \"ticks\": \"\"}}, \"type\": \"scatterternary\"}], \"surface\": [{\"colorbar\": {\"outlinewidth\": 0, \"ticks\": \"\"}, \"colorscale\": [[0.0, \"#0d0887\"], [0.1111111111111111, \"#46039f\"], [0.2222222222222222, \"#7201a8\"], [0.3333333333333333, \"#9c179e\"], [0.4444444444444444, \"#bd3786\"], [0.5555555555555556, \"#d8576b\"], [0.6666666666666666, \"#ed7953\"], [0.7777777777777778, \"#fb9f3a\"], [0.8888888888888888, \"#fdca26\"], [1.0, \"#f0f921\"]], \"type\": \"surface\"}], \"table\": [{\"cells\": {\"fill\": {\"color\": \"#EBF0F8\"}, \"line\": {\"color\": \"white\"}}, \"header\": {\"fill\": {\"color\": \"#C8D4E3\"}, \"line\": {\"color\": \"white\"}}, \"type\": \"table\"}]}, \"layout\": {\"annotationdefaults\": {\"arrowcolor\": \"#2a3f5f\", \"arrowhead\": 0, \"arrowwidth\": 1}, \"coloraxis\": {\"colorbar\": {\"outlinewidth\": 0, \"ticks\": \"\"}}, \"colorscale\": {\"diverging\": [[0, \"#8e0152\"], [0.1, \"#c51b7d\"], [0.2, \"#de77ae\"], [0.3, \"#f1b6da\"], [0.4, \"#fde0ef\"], [0.5, \"#f7f7f7\"], [0.6, \"#e6f5d0\"], [0.7, \"#b8e186\"], [0.8, \"#7fbc41\"], [0.9, \"#4d9221\"], [1, \"#276419\"]], \"sequential\": [[0.0, \"#0d0887\"], [0.1111111111111111, \"#46039f\"], [0.2222222222222222, \"#7201a8\"], [0.3333333333333333, \"#9c179e\"], [0.4444444444444444, \"#bd3786\"], [0.5555555555555556, \"#d8576b\"], [0.6666666666666666, \"#ed7953\"], [0.7777777777777778, \"#fb9f3a\"], [0.8888888888888888, \"#fdca26\"], [1.0, \"#f0f921\"]], \"sequentialminus\": [[0.0, \"#0d0887\"], [0.1111111111111111, \"#46039f\"], [0.2222222222222222, \"#7201a8\"], [0.3333333333333333, \"#9c179e\"], [0.4444444444444444, \"#bd3786\"], [0.5555555555555556, \"#d8576b\"], [0.6666666666666666, \"#ed7953\"], [0.7777777777777778, \"#fb9f3a\"], [0.8888888888888888, \"#fdca26\"], [1.0, \"#f0f921\"]]}, \"colorway\": [\"#636efa\", \"#EF553B\", \"#00cc96\", \"#ab63fa\", \"#FFA15A\", \"#19d3f3\", \"#FF6692\", \"#B6E880\", \"#FF97FF\", \"#FECB52\"], \"font\": {\"color\": \"#2a3f5f\"}, \"geo\": {\"bgcolor\": \"white\", \"lakecolor\": \"white\", \"landcolor\": \"#E5ECF6\", \"showlakes\": true, \"showland\": true, \"subunitcolor\": \"white\"}, \"hoverlabel\": {\"align\": \"left\"}, \"hovermode\": \"closest\", \"mapbox\": {\"style\": \"light\"}, \"paper_bgcolor\": \"white\", \"plot_bgcolor\": \"#E5ECF6\", \"polar\": {\"angularaxis\": {\"gridcolor\": \"white\", \"linecolor\": \"white\", \"ticks\": \"\"}, \"bgcolor\": \"#E5ECF6\", \"radialaxis\": {\"gridcolor\": \"white\", \"linecolor\": \"white\", \"ticks\": \"\"}}, \"scene\": {\"xaxis\": {\"backgroundcolor\": \"#E5ECF6\", \"gridcolor\": \"white\", \"gridwidth\": 2, \"linecolor\": \"white\", \"showbackground\": true, \"ticks\": \"\", \"zerolinecolor\": \"white\"}, \"yaxis\": {\"backgroundcolor\": \"#E5ECF6\", \"gridcolor\": \"white\", \"gridwidth\": 2, \"linecolor\": \"white\", \"showbackground\": true, \"ticks\": \"\", \"zerolinecolor\": \"white\"}, \"zaxis\": {\"backgroundcolor\": \"#E5ECF6\", \"gridcolor\": \"white\", \"gridwidth\": 2, \"linecolor\": \"white\", \"showbackground\": true, \"ticks\": \"\", \"zerolinecolor\": \"white\"}}, \"shapedefaults\": {\"line\": {\"color\": \"#2a3f5f\"}}, \"ternary\": {\"aaxis\": {\"gridcolor\": \"white\", \"linecolor\": \"white\", \"ticks\": \"\"}, \"baxis\": {\"gridcolor\": \"white\", \"linecolor\": \"white\", \"ticks\": \"\"}, \"bgcolor\": \"#E5ECF6\", \"caxis\": {\"gridcolor\": \"white\", \"linecolor\": \"white\", \"ticks\": \"\"}}, \"title\": {\"x\": 0.05}, \"xaxis\": {\"automargin\": true, \"gridcolor\": \"white\", \"linecolor\": \"white\", \"ticks\": \"\", \"title\": {\"standoff\": 15}, \"zerolinecolor\": \"white\", \"zerolinewidth\": 2}, \"yaxis\": {\"automargin\": true, \"gridcolor\": \"white\", \"linecolor\": \"white\", \"ticks\": \"\", \"title\": {\"standoff\": 15}, \"zerolinecolor\": \"white\", \"zerolinewidth\": 2}}}},\n",
       "                        {\"responsive\": true}\n",
       "                    ).then(function(){\n",
       "                            \n",
       "var gd = document.getElementById('c88c8692-b081-4e93-9aa1-90bb493b81f2');\n",
       "var x = new MutationObserver(function (mutations, observer) {{\n",
       "        var display = window.getComputedStyle(gd).display;\n",
       "        if (!display || display === 'none') {{\n",
       "            console.log([gd, 'removed!']);\n",
       "            Plotly.purge(gd);\n",
       "            observer.disconnect();\n",
       "        }}\n",
       "}});\n",
       "\n",
       "// Listen for the removal of the full notebook cells\n",
       "var notebookContainer = gd.closest('#notebook-container');\n",
       "if (notebookContainer) {{\n",
       "    x.observe(notebookContainer, {childList: true});\n",
       "}}\n",
       "\n",
       "// Listen for the clearing of the current output cell\n",
       "var outputEl = gd.closest('.output');\n",
       "if (outputEl) {{\n",
       "    x.observe(outputEl, {childList: true});\n",
       "}}\n",
       "\n",
       "                        })\n",
       "                };\n",
       "                });\n",
       "            </script>\n",
       "        </div>"
      ]
     },
     "metadata": {},
     "output_type": "display_data"
    }
   ],
   "source": [
    "import plotly.express as px\n",
    "\n",
    "fig = px.choropleth(df, geojson=tokyo_geo, color=\"Density\",\n",
    "                    locations=\"Ward\", featureidkey=\"properties.ward_en\",\n",
    "                    projection=\"mercator\"\n",
    "                   )\n",
    "fig.update_geos(fitbounds=\"locations\", visible=False)\n",
    "fig.update_layout(margin={\"r\":0,\"t\":0,\"l\":0,\"b\":0})\n",
    "fig.show()"
   ]
  },
  {
   "cell_type": "code",
   "execution_count": 8,
   "metadata": {},
   "outputs": [],
   "source": [
    "from geopy.geocoders import Nominatim\n",
    "geolocator = Nominatim(user_agent=\"Tokyo_explorer\")\n",
    "latitude = []\n",
    "longitude = []\n",
    "for i in districts['District']:\n",
    "    try:\n",
    "        location = geolocator.geocode(i)\n",
    "        latitude.append(location.latitude)\n",
    "        longitude.append(location.longitude)\n",
    "    except: \n",
    "        latitude.append(np.nan)\n",
    "        longitude.append(np.nan)\n"
   ]
  },
  {
   "cell_type": "code",
   "execution_count": 9,
   "metadata": {},
   "outputs": [],
   "source": [
    "latitude = pd.DataFrame(latitude)\n",
    "longitude = pd.DataFrame(longitude)"
   ]
  },
  {
   "cell_type": "code",
   "execution_count": 10,
   "metadata": {},
   "outputs": [
    {
     "data": {
      "text/html": [
       "<div>\n",
       "<style scoped>\n",
       "    .dataframe tbody tr th:only-of-type {\n",
       "        vertical-align: middle;\n",
       "    }\n",
       "\n",
       "    .dataframe tbody tr th {\n",
       "        vertical-align: top;\n",
       "    }\n",
       "\n",
       "    .dataframe thead th {\n",
       "        text-align: right;\n",
       "    }\n",
       "</style>\n",
       "<table border=\"1\" class=\"dataframe\">\n",
       "  <thead>\n",
       "    <tr style=\"text-align: right;\">\n",
       "      <th></th>\n",
       "      <th>District</th>\n",
       "      <th>Ward</th>\n",
       "      <th>Longitude</th>\n",
       "      <th>Latitude</th>\n",
       "    </tr>\n",
       "  </thead>\n",
       "  <tbody>\n",
       "    <tr>\n",
       "      <th>0</th>\n",
       "      <td>Nagatacho</td>\n",
       "      <td>Chiyoda</td>\n",
       "      <td>139.743469</td>\n",
       "      <td>35.675618</td>\n",
       "    </tr>\n",
       "    <tr>\n",
       "      <th>1</th>\n",
       "      <td>Kasumigaseki</td>\n",
       "      <td>Chiyoda</td>\n",
       "      <td>139.750972</td>\n",
       "      <td>35.674054</td>\n",
       "    </tr>\n",
       "    <tr>\n",
       "      <th>2</th>\n",
       "      <td>Otemachi</td>\n",
       "      <td>Chiyoda</td>\n",
       "      <td>139.763616</td>\n",
       "      <td>35.686757</td>\n",
       "    </tr>\n",
       "    <tr>\n",
       "      <th>3</th>\n",
       "      <td>Marunouchi</td>\n",
       "      <td>Chiyoda</td>\n",
       "      <td>139.765222</td>\n",
       "      <td>35.680656</td>\n",
       "    </tr>\n",
       "    <tr>\n",
       "      <th>4</th>\n",
       "      <td>Akihabara</td>\n",
       "      <td>Chiyoda</td>\n",
       "      <td>139.771250</td>\n",
       "      <td>35.699736</td>\n",
       "    </tr>\n",
       "  </tbody>\n",
       "</table>\n",
       "</div>"
      ],
      "text/plain": [
       "       District     Ward   Longitude   Latitude\n",
       "0     Nagatacho  Chiyoda  139.743469  35.675618\n",
       "1  Kasumigaseki  Chiyoda  139.750972  35.674054\n",
       "2      Otemachi  Chiyoda  139.763616  35.686757\n",
       "3    Marunouchi  Chiyoda  139.765222  35.680656\n",
       "4     Akihabara  Chiyoda  139.771250  35.699736"
      ]
     },
     "execution_count": 10,
     "metadata": {},
     "output_type": "execute_result"
    }
   ],
   "source": [
    "districts['Longitude'] = longitude\n",
    "districts['Latitude'] = latitude\n",
    "districts.head()"
   ]
  },
  {
   "cell_type": "code",
   "execution_count": 11,
   "metadata": {},
   "outputs": [],
   "source": [
    "districts.to_csv(\"districtsLatLong.csv\")"
   ]
  },
  {
   "cell_type": "code",
   "execution_count": 16,
   "metadata": {},
   "outputs": [],
   "source": [
    "districts = districts.dropna()"
   ]
  },
  {
   "cell_type": "code",
   "execution_count": 24,
   "metadata": {},
   "outputs": [
    {
     "data": {
      "text/html": [
       "<div style=\"width:100%;\"><div style=\"position:relative;width:100%;height:0;padding-bottom:60%;\"><span style=\"color:#565656\">Make this Notebook Trusted to load map: File -> Trust Notebook</span><iframe src=\"about:blank\" style=\"position:absolute;width:100%;height:100%;left:0;top:0;border:none !important;\" data-html=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 onload=\"this.contentDocument.open();this.contentDocument.write(atob(this.getAttribute('data-html')));this.contentDocument.close();\" allowfullscreen webkitallowfullscreen mozallowfullscreen></iframe></div></div>"
      ],
      "text/plain": [
       "<folium.folium.Map at 0x242a46e8408>"
      ]
     },
     "execution_count": 24,
     "metadata": {},
     "output_type": "execute_result"
    }
   ],
   "source": [
    "map_tokyo = folium.Map(location=[35.6828387, 139.7594549], zoom_start=8, tiles = \"StamenToner\")\n",
    "\n",
    "# add markers to map\n",
    "for lat, lng, borough, neighborhood in zip(districts['Latitude'], districts['Longitude'], districts['Ward'], districts['District']):\n",
    "    label = '{}, {}'.format(neighborhood, borough)\n",
    "    label = folium.Popup(label, parse_html=True)\n",
    "    folium.CircleMarker(\n",
    "        [lat, lng],\n",
    "        radius=5,\n",
    "        popup=label,\n",
    "        color='blue',\n",
    "        fill=True,\n",
    "        fill_color='#3186cc',\n",
    "        fill_opacity=0.7,\n",
    "        parse_html=False).add_to(map_tokyo)  \n",
    "    \n",
    "map_tokyo"
   ]
  },
  {
   "cell_type": "code",
   "execution_count": 23,
   "metadata": {},
   "outputs": [
    {
     "data": {
      "application/vnd.plotly.v1+json": {
       "config": {
        "plotlyServerURL": "https://plot.ly"
       },
       "data": [
        {
         "lat": [
          35.675618,
          35.6740542,
          35.686757,
          35.6806555,
          35.6997364,
          35.6744233,
          35.7031684,
          29.84542725,
          35.68406775,
          35.6792576,
          35.66951555,
          35.6680853,
          35.6746453,
          43.0984454,
          35.6645143,
          35.6590031,
          34.032456,
          35.619050200000004,
          35.6651764,
          35.6551111,
          3.5000086,
          35.6624568,
          35.67017,
          37.8986325,
          35.6564018,
          35.6937632,
          35.7126839,
          35.7007911,
          35.7039298,
          35.6913187,
          35.4738203,
          33.8379752,
          34.5437194,
          36.5143504,
          35.7117587,
          35.717528,
          35.6963122,
          35.6880305,
          35.6957996,
          23.0131338,
          35.6345562,
          35.6976987,
          35.6695961,
          35.6724719,
          43.7234297,
          35.1623104,
          37.1263397,
          35.6679,
          35.9069657,
          35.6247789,
          35.599252,
          35.6261042,
          38.5770889,
          35.6048391,
          35.6076094,
          35.6205526,
          35.62125,
          35.6442023,
          42.5752348,
          35.5428783,
          35.5884735,
          35.5618856,
          35.5479444,
          35.646096,
          35.6616779,
          42.5538817,
          36.6504536,
          35.6855417,
          35.6645956,
          35.6464378,
          35.6687049,
          35.6481642,
          42.285532,
          35.6812658,
          35.6839519,
          35.718123,
          35.7049419,
          35.7048403,
          35.7044803,
          35.7304418,
          35.7365848,
          35.7382095,
          35.7334119,
          35.7781394,
          35.7523466,
          35.7373701,
          35.737529,
          35.7427407,
          35.7289204,
          35.7366615,
          35.774143,
          35.7883692,
          35.74836,
          36.2477428,
          35.7585088,
          35.4460475,
          35.754036,
          35.7945322,
          33.4817913,
          35.7456971,
          35.7666652,
          35.7564295,
          -5.3498001,
          35.7332364
         ],
         "lon": [
          139.7434685,
          139.7509719,
          139.7636157,
          139.7652217,
          139.7712503,
          139.7616737,
          139.7456774,
          79.93638832199528,
          139.77450291683806,
          139.7796972,
          139.76430559879972,
          139.772563,
          139.7776367,
          141.323772,
          139.7847168,
          139.777168,
          133.85744,
          139.77936404588297,
          139.7558355,
          139.7570622,
          -73.0000086,
          139.7334981,
          139.750049,
          139.001079,
          139.7339705,
          139.7036319,
          139.7036425,
          139.6973187,
          139.7341347,
          139.735504,
          139.3862789,
          135.7731319,
          133.7473767,
          136.5658067,
          139.7776445,
          139.797635,
          139.8150431,
          139.7982399,
          139.7929596,
          -80.8328748,
          139.7932562,
          139.827138,
          139.8174761,
          139.7948404,
          142.0540685,
          140.1534664,
          140.2107192,
          139.7926376,
          140.1953835,
          139.7812023,
          139.73891,
          139.7237494,
          140.955454,
          139.7027094,
          139.733944,
          139.7507719,
          139.688014,
          139.6987133,
          141.9124355,
          139.5172312,
          139.7279334,
          139.7146628,
          139.7466458,
          139.65627,
          139.6663345,
          -1.5752586,
          140.1550367,
          139.4067251,
          139.6987107,
          139.7102101,
          139.7053357,
          139.7032482,
          143.3116162,
          139.7113311,
          139.7020805,
          139.664468,
          139.649909,
          139.6354724,
          139.6201587,
          139.7107453,
          139.7472412,
          139.689414,
          139.7394273,
          139.7207999,
          139.7382749,
          139.7617151,
          139.78131,
          139.7806071,
          139.7713635,
          139.7966766,
          139.681209,
          139.6589375,
          139.638735,
          139.405421,
          139.629415,
          139.430823,
          139.804177,
          139.7907116,
          131.4781536,
          139.8561732,
          139.8478007,
          139.8752024,
          21.424098,
          139.881843
         ],
         "mode": "markers",
         "text": [
          "Nagatacho",
          "Kasumigaseki",
          "Otemachi",
          "Marunouchi",
          "Akihabara",
          "Yurakucho",
          "Iidabashi",
          "Kanda",
          "Nihonbashi",
          "Kayabacho",
          "Ginza",
          "Tsukiji",
          "Hatchobori",
          "Shinkawa",
          "Tsukishima",
          "Kachidoki",
          "Tsukuda",
          "Odaiba",
          "Shinbashi",
          "Hamamatsucho",
          "Mita",
          "Roppongi",
          "Toranomon",
          "Aoyama",
          "Azabu",
          "Shinjuku",
          "Takadanobaba",
          "Okubo",
          "Kagurazaka",
          "Ichigaya",
          "Yotsuya",
          "Hongu",
          "Yayoi",
          "Hakusan",
          "Ueno",
          "Asakusa",
          "Kinshicho",
          "Morishita",
          "Ryogoku",
          "Kiba",
          "Ariake",
          "Kameido",
          "Toyocho",
          "Monzennakacho",
          "Fukagawa",
          "Kiyosumi",
          "Shirakawa",
          "Etchujima",
          "Sunamachi",
          "Aomi",
          "Shinagawa",
          "Gotanda",
          "Osaki",
          "Hatanodai",
          "Oimachi",
          "Tennozu",
          "Meguro",
          "Nakameguro",
          "Komaba",
          "Aobadai",
          "Omori",
          "Kamata",
          "Haneda",
          "Setagaya",
          "Shimokitazawa",
          "Kinuta",
          "Karasuyama",
          "Tamagawa",
          "Shibuya",
          "Ebisu",
          "Harajuku",
          "Daikanyama",
          "Hiroo",
          "Sendagaya",
          "Yoyogi",
          "Nakano",
          "Koenji",
          "Asagaya",
          "Ogikubo",
          "Ikebukuro",
          "Komagome",
          "Senkawa",
          "Sugamo",
          "Akabane",
          "Oji",
          "Tabata",
          "Arakawa",
          "Machiya",
          "Nippori",
          "Minamisenju",
          "Itabashi",
          "Takashimadaira",
          "Nerima",
          "Oizumi",
          "Hikarigaoka",
          "Ayase",
          "Kitasenju",
          "Takenotsuka",
          "Tateishi",
          "Aoto",
          "Kameari",
          "Shibamata",
          "Kasai",
          "Koiwa"
         ],
         "type": "scattergeo"
        }
       ],
       "layout": {
        "geo": {
         "scope": "world"
        },
        "template": {
         "data": {
          "bar": [
           {
            "error_x": {
             "color": "#2a3f5f"
            },
            "error_y": {
             "color": "#2a3f5f"
            },
            "marker": {
             "line": {
              "color": "#E5ECF6",
              "width": 0.5
             }
            },
            "type": "bar"
           }
          ],
          "barpolar": [
           {
            "marker": {
             "line": {
              "color": "#E5ECF6",
              "width": 0.5
             }
            },
            "type": "barpolar"
           }
          ],
          "carpet": [
           {
            "aaxis": {
             "endlinecolor": "#2a3f5f",
             "gridcolor": "white",
             "linecolor": "white",
             "minorgridcolor": "white",
             "startlinecolor": "#2a3f5f"
            },
            "baxis": {
             "endlinecolor": "#2a3f5f",
             "gridcolor": "white",
             "linecolor": "white",
             "minorgridcolor": "white",
             "startlinecolor": "#2a3f5f"
            },
            "type": "carpet"
           }
          ],
          "choropleth": [
           {
            "colorbar": {
             "outlinewidth": 0,
             "ticks": ""
            },
            "type": "choropleth"
           }
          ],
          "contour": [
           {
            "colorbar": {
             "outlinewidth": 0,
             "ticks": ""
            },
            "colorscale": [
             [
              0,
              "#0d0887"
             ],
             [
              0.1111111111111111,
              "#46039f"
             ],
             [
              0.2222222222222222,
              "#7201a8"
             ],
             [
              0.3333333333333333,
              "#9c179e"
             ],
             [
              0.4444444444444444,
              "#bd3786"
             ],
             [
              0.5555555555555556,
              "#d8576b"
             ],
             [
              0.6666666666666666,
              "#ed7953"
             ],
             [
              0.7777777777777778,
              "#fb9f3a"
             ],
             [
              0.8888888888888888,
              "#fdca26"
             ],
             [
              1,
              "#f0f921"
             ]
            ],
            "type": "contour"
           }
          ],
          "contourcarpet": [
           {
            "colorbar": {
             "outlinewidth": 0,
             "ticks": ""
            },
            "type": "contourcarpet"
           }
          ],
          "heatmap": [
           {
            "colorbar": {
             "outlinewidth": 0,
             "ticks": ""
            },
            "colorscale": [
             [
              0,
              "#0d0887"
             ],
             [
              0.1111111111111111,
              "#46039f"
             ],
             [
              0.2222222222222222,
              "#7201a8"
             ],
             [
              0.3333333333333333,
              "#9c179e"
             ],
             [
              0.4444444444444444,
              "#bd3786"
             ],
             [
              0.5555555555555556,
              "#d8576b"
             ],
             [
              0.6666666666666666,
              "#ed7953"
             ],
             [
              0.7777777777777778,
              "#fb9f3a"
             ],
             [
              0.8888888888888888,
              "#fdca26"
             ],
             [
              1,
              "#f0f921"
             ]
            ],
            "type": "heatmap"
           }
          ],
          "heatmapgl": [
           {
            "colorbar": {
             "outlinewidth": 0,
             "ticks": ""
            },
            "colorscale": [
             [
              0,
              "#0d0887"
             ],
             [
              0.1111111111111111,
              "#46039f"
             ],
             [
              0.2222222222222222,
              "#7201a8"
             ],
             [
              0.3333333333333333,
              "#9c179e"
             ],
             [
              0.4444444444444444,
              "#bd3786"
             ],
             [
              0.5555555555555556,
              "#d8576b"
             ],
             [
              0.6666666666666666,
              "#ed7953"
             ],
             [
              0.7777777777777778,
              "#fb9f3a"
             ],
             [
              0.8888888888888888,
              "#fdca26"
             ],
             [
              1,
              "#f0f921"
             ]
            ],
            "type": "heatmapgl"
           }
          ],
          "histogram": [
           {
            "marker": {
             "colorbar": {
              "outlinewidth": 0,
              "ticks": ""
             }
            },
            "type": "histogram"
           }
          ],
          "histogram2d": [
           {
            "colorbar": {
             "outlinewidth": 0,
             "ticks": ""
            },
            "colorscale": [
             [
              0,
              "#0d0887"
             ],
             [
              0.1111111111111111,
              "#46039f"
             ],
             [
              0.2222222222222222,
              "#7201a8"
             ],
             [
              0.3333333333333333,
              "#9c179e"
             ],
             [
              0.4444444444444444,
              "#bd3786"
             ],
             [
              0.5555555555555556,
              "#d8576b"
             ],
             [
              0.6666666666666666,
              "#ed7953"
             ],
             [
              0.7777777777777778,
              "#fb9f3a"
             ],
             [
              0.8888888888888888,
              "#fdca26"
             ],
             [
              1,
              "#f0f921"
             ]
            ],
            "type": "histogram2d"
           }
          ],
          "histogram2dcontour": [
           {
            "colorbar": {
             "outlinewidth": 0,
             "ticks": ""
            },
            "colorscale": [
             [
              0,
              "#0d0887"
             ],
             [
              0.1111111111111111,
              "#46039f"
             ],
             [
              0.2222222222222222,
              "#7201a8"
             ],
             [
              0.3333333333333333,
              "#9c179e"
             ],
             [
              0.4444444444444444,
              "#bd3786"
             ],
             [
              0.5555555555555556,
              "#d8576b"
             ],
             [
              0.6666666666666666,
              "#ed7953"
             ],
             [
              0.7777777777777778,
              "#fb9f3a"
             ],
             [
              0.8888888888888888,
              "#fdca26"
             ],
             [
              1,
              "#f0f921"
             ]
            ],
            "type": "histogram2dcontour"
           }
          ],
          "mesh3d": [
           {
            "colorbar": {
             "outlinewidth": 0,
             "ticks": ""
            },
            "type": "mesh3d"
           }
          ],
          "parcoords": [
           {
            "line": {
             "colorbar": {
              "outlinewidth": 0,
              "ticks": ""
             }
            },
            "type": "parcoords"
           }
          ],
          "pie": [
           {
            "automargin": true,
            "type": "pie"
           }
          ],
          "scatter": [
           {
            "marker": {
             "colorbar": {
              "outlinewidth": 0,
              "ticks": ""
             }
            },
            "type": "scatter"
           }
          ],
          "scatter3d": [
           {
            "line": {
             "colorbar": {
              "outlinewidth": 0,
              "ticks": ""
             }
            },
            "marker": {
             "colorbar": {
              "outlinewidth": 0,
              "ticks": ""
             }
            },
            "type": "scatter3d"
           }
          ],
          "scattercarpet": [
           {
            "marker": {
             "colorbar": {
              "outlinewidth": 0,
              "ticks": ""
             }
            },
            "type": "scattercarpet"
           }
          ],
          "scattergeo": [
           {
            "marker": {
             "colorbar": {
              "outlinewidth": 0,
              "ticks": ""
             }
            },
            "type": "scattergeo"
           }
          ],
          "scattergl": [
           {
            "marker": {
             "colorbar": {
              "outlinewidth": 0,
              "ticks": ""
             }
            },
            "type": "scattergl"
           }
          ],
          "scattermapbox": [
           {
            "marker": {
             "colorbar": {
              "outlinewidth": 0,
              "ticks": ""
             }
            },
            "type": "scattermapbox"
           }
          ],
          "scatterpolar": [
           {
            "marker": {
             "colorbar": {
              "outlinewidth": 0,
              "ticks": ""
             }
            },
            "type": "scatterpolar"
           }
          ],
          "scatterpolargl": [
           {
            "marker": {
             "colorbar": {
              "outlinewidth": 0,
              "ticks": ""
             }
            },
            "type": "scatterpolargl"
           }
          ],
          "scatterternary": [
           {
            "marker": {
             "colorbar": {
              "outlinewidth": 0,
              "ticks": ""
             }
            },
            "type": "scatterternary"
           }
          ],
          "surface": [
           {
            "colorbar": {
             "outlinewidth": 0,
             "ticks": ""
            },
            "colorscale": [
             [
              0,
              "#0d0887"
             ],
             [
              0.1111111111111111,
              "#46039f"
             ],
             [
              0.2222222222222222,
              "#7201a8"
             ],
             [
              0.3333333333333333,
              "#9c179e"
             ],
             [
              0.4444444444444444,
              "#bd3786"
             ],
             [
              0.5555555555555556,
              "#d8576b"
             ],
             [
              0.6666666666666666,
              "#ed7953"
             ],
             [
              0.7777777777777778,
              "#fb9f3a"
             ],
             [
              0.8888888888888888,
              "#fdca26"
             ],
             [
              1,
              "#f0f921"
             ]
            ],
            "type": "surface"
           }
          ],
          "table": [
           {
            "cells": {
             "fill": {
              "color": "#EBF0F8"
             },
             "line": {
              "color": "white"
             }
            },
            "header": {
             "fill": {
              "color": "#C8D4E3"
             },
             "line": {
              "color": "white"
             }
            },
            "type": "table"
           }
          ]
         },
         "layout": {
          "annotationdefaults": {
           "arrowcolor": "#2a3f5f",
           "arrowhead": 0,
           "arrowwidth": 1
          },
          "coloraxis": {
           "colorbar": {
            "outlinewidth": 0,
            "ticks": ""
           }
          },
          "colorscale": {
           "diverging": [
            [
             0,
             "#8e0152"
            ],
            [
             0.1,
             "#c51b7d"
            ],
            [
             0.2,
             "#de77ae"
            ],
            [
             0.3,
             "#f1b6da"
            ],
            [
             0.4,
             "#fde0ef"
            ],
            [
             0.5,
             "#f7f7f7"
            ],
            [
             0.6,
             "#e6f5d0"
            ],
            [
             0.7,
             "#b8e186"
            ],
            [
             0.8,
             "#7fbc41"
            ],
            [
             0.9,
             "#4d9221"
            ],
            [
             1,
             "#276419"
            ]
           ],
           "sequential": [
            [
             0,
             "#0d0887"
            ],
            [
             0.1111111111111111,
             "#46039f"
            ],
            [
             0.2222222222222222,
             "#7201a8"
            ],
            [
             0.3333333333333333,
             "#9c179e"
            ],
            [
             0.4444444444444444,
             "#bd3786"
            ],
            [
             0.5555555555555556,
             "#d8576b"
            ],
            [
             0.6666666666666666,
             "#ed7953"
            ],
            [
             0.7777777777777778,
             "#fb9f3a"
            ],
            [
             0.8888888888888888,
             "#fdca26"
            ],
            [
             1,
             "#f0f921"
            ]
           ],
           "sequentialminus": [
            [
             0,
             "#0d0887"
            ],
            [
             0.1111111111111111,
             "#46039f"
            ],
            [
             0.2222222222222222,
             "#7201a8"
            ],
            [
             0.3333333333333333,
             "#9c179e"
            ],
            [
             0.4444444444444444,
             "#bd3786"
            ],
            [
             0.5555555555555556,
             "#d8576b"
            ],
            [
             0.6666666666666666,
             "#ed7953"
            ],
            [
             0.7777777777777778,
             "#fb9f3a"
            ],
            [
             0.8888888888888888,
             "#fdca26"
            ],
            [
             1,
             "#f0f921"
            ]
           ]
          },
          "colorway": [
           "#636efa",
           "#EF553B",
           "#00cc96",
           "#ab63fa",
           "#FFA15A",
           "#19d3f3",
           "#FF6692",
           "#B6E880",
           "#FF97FF",
           "#FECB52"
          ],
          "font": {
           "color": "#2a3f5f"
          },
          "geo": {
           "bgcolor": "white",
           "lakecolor": "white",
           "landcolor": "#E5ECF6",
           "showlakes": true,
           "showland": true,
           "subunitcolor": "white"
          },
          "hoverlabel": {
           "align": "left"
          },
          "hovermode": "closest",
          "mapbox": {
           "style": "light"
          },
          "paper_bgcolor": "white",
          "plot_bgcolor": "#E5ECF6",
          "polar": {
           "angularaxis": {
            "gridcolor": "white",
            "linecolor": "white",
            "ticks": ""
           },
           "bgcolor": "#E5ECF6",
           "radialaxis": {
            "gridcolor": "white",
            "linecolor": "white",
            "ticks": ""
           }
          },
          "scene": {
           "xaxis": {
            "backgroundcolor": "#E5ECF6",
            "gridcolor": "white",
            "gridwidth": 2,
            "linecolor": "white",
            "showbackground": true,
            "ticks": "",
            "zerolinecolor": "white"
           },
           "yaxis": {
            "backgroundcolor": "#E5ECF6",
            "gridcolor": "white",
            "gridwidth": 2,
            "linecolor": "white",
            "showbackground": true,
            "ticks": "",
            "zerolinecolor": "white"
           },
           "zaxis": {
            "backgroundcolor": "#E5ECF6",
            "gridcolor": "white",
            "gridwidth": 2,
            "linecolor": "white",
            "showbackground": true,
            "ticks": "",
            "zerolinecolor": "white"
           }
          },
          "shapedefaults": {
           "line": {
            "color": "#2a3f5f"
           }
          },
          "ternary": {
           "aaxis": {
            "gridcolor": "white",
            "linecolor": "white",
            "ticks": ""
           },
           "baxis": {
            "gridcolor": "white",
            "linecolor": "white",
            "ticks": ""
           },
           "bgcolor": "#E5ECF6",
           "caxis": {
            "gridcolor": "white",
            "linecolor": "white",
            "ticks": ""
           }
          },
          "title": {
           "x": 0.05
          },
          "xaxis": {
           "automargin": true,
           "gridcolor": "white",
           "linecolor": "white",
           "ticks": "",
           "title": {
            "standoff": 15
           },
           "zerolinecolor": "white",
           "zerolinewidth": 2
          },
          "yaxis": {
           "automargin": true,
           "gridcolor": "white",
           "linecolor": "white",
           "ticks": "",
           "title": {
            "standoff": 15
           },
           "zerolinecolor": "white",
           "zerolinewidth": 2
          }
         }
        }
       }
      },
      "text/html": [
       "<div>\n",
       "        \n",
       "        \n",
       "            <div id=\"45dd654f-b995-471e-bc77-f38d90767273\" class=\"plotly-graph-div\" style=\"height:525px; width:100%;\"></div>\n",
       "            <script type=\"text/javascript\">\n",
       "                require([\"plotly\"], function(Plotly) {\n",
       "                    window.PLOTLYENV=window.PLOTLYENV || {};\n",
       "                    \n",
       "                if (document.getElementById(\"45dd654f-b995-471e-bc77-f38d90767273\")) {\n",
       "                    Plotly.newPlot(\n",
       "                        '45dd654f-b995-471e-bc77-f38d90767273',\n",
       "                        [{\"lat\": [35.675618, 35.6740542, 35.686757, 35.6806555, 35.6997364, 35.6744233, 35.7031684, 29.84542725, 35.68406775, 35.6792576, 35.66951555, 35.6680853, 35.6746453, 43.0984454, 35.6645143, 35.6590031, 34.032456, 35.619050200000004, 35.6651764, 35.6551111, 3.5000086, 35.6624568, 35.67017, 37.8986325, 35.6564018, 35.6937632, 35.7126839, 35.7007911, 35.7039298, 35.6913187, 35.4738203, 33.8379752, 34.5437194, 36.5143504, 35.7117587, 35.717528, 35.6963122, 35.6880305, 35.6957996, 23.0131338, 35.6345562, 35.6976987, 35.6695961, 35.6724719, 43.7234297, 35.1623104, 37.1263397, 35.6679, 35.9069657, 35.6247789, 35.599252, 35.6261042, 38.5770889, 35.6048391, 35.6076094, 35.6205526, 35.62125, 35.6442023, 42.5752348, 35.5428783, 35.5884735, 35.5618856, 35.5479444, 35.646096, 35.6616779, 42.5538817, 36.6504536, 35.6855417, 35.6645956, 35.6464378, 35.6687049, 35.6481642, 42.285532, 35.6812658, 35.6839519, 35.718123, 35.7049419, 35.7048403, 35.7044803, 35.7304418, 35.7365848, 35.7382095, 35.7334119, 35.7781394, 35.7523466, 35.7373701, 35.737529, 35.7427407, 35.7289204, 35.7366615, 35.774143, 35.7883692, 35.74836, 36.2477428, 35.7585088, 35.4460475, 35.754036, 35.7945322, 33.4817913, 35.7456971, 35.7666652, 35.7564295, -5.3498001, 35.7332364], \"lon\": [139.7434685, 139.7509719, 139.7636157, 139.7652217, 139.7712503, 139.7616737, 139.7456774, 79.93638832199528, 139.77450291683806, 139.7796972, 139.76430559879972, 139.772563, 139.7776367, 141.323772, 139.7847168, 139.777168, 133.85744, 139.77936404588297, 139.7558355, 139.7570622, -73.0000086, 139.7334981, 139.750049, 139.001079, 139.7339705, 139.7036319, 139.7036425, 139.6973187, 139.7341347, 139.735504, 139.3862789, 135.7731319, 133.7473767, 136.5658067, 139.7776445, 139.797635, 139.8150431, 139.7982399, 139.7929596, -80.8328748, 139.7932562, 139.827138, 139.8174761, 139.7948404, 142.0540685, 140.1534664, 140.2107192, 139.7926376, 140.1953835, 139.7812023, 139.73891, 139.7237494, 140.955454, 139.7027094, 139.733944, 139.7507719, 139.688014, 139.6987133, 141.9124355, 139.5172312, 139.7279334, 139.7146628, 139.7466458, 139.65627, 139.6663345, -1.5752586, 140.1550367, 139.4067251, 139.6987107, 139.7102101, 139.7053357, 139.7032482, 143.3116162, 139.7113311, 139.7020805, 139.664468, 139.649909, 139.6354724, 139.6201587, 139.7107453, 139.7472412, 139.689414, 139.7394273, 139.7207999, 139.7382749, 139.7617151, 139.78131, 139.7806071, 139.7713635, 139.7966766, 139.681209, 139.6589375, 139.638735, 139.405421, 139.629415, 139.430823, 139.804177, 139.7907116, 131.4781536, 139.8561732, 139.8478007, 139.8752024, 21.424098, 139.881843], \"mode\": \"markers\", \"text\": [\"Nagatacho\", \"Kasumigaseki\", \"Otemachi\", \"Marunouchi\", \"Akihabara\", \"Yurakucho\", \"Iidabashi\", \"Kanda\", \"Nihonbashi\", \"Kayabacho\", \"Ginza\", \"Tsukiji\", \"Hatchobori\", \"Shinkawa\", \"Tsukishima\", \"Kachidoki\", \"Tsukuda\", \"Odaiba\", \"Shinbashi\", \"Hamamatsucho\", \"Mita\", \"Roppongi\", \"Toranomon\", \"Aoyama\", \"Azabu\", \"Shinjuku\", \"Takadanobaba\", \"Okubo\", \"Kagurazaka\", \"Ichigaya\", \"Yotsuya\", \"Hongu\", \"Yayoi\", \"Hakusan\", \"Ueno\", \"Asakusa\", \"Kinshicho\", \"Morishita\", \"Ryogoku\", \"Kiba\", \"Ariake\", \"Kameido\", \"Toyocho\", \"Monzennakacho\", \"Fukagawa\", \"Kiyosumi\", \"Shirakawa\", \"Etchujima\", \"Sunamachi\", \"Aomi\", \"Shinagawa\", \"Gotanda\", \"Osaki\", \"Hatanodai\", \"Oimachi\", \"Tennozu\", \"Meguro\", \"Nakameguro\", \"Komaba\", \"Aobadai\", \"Omori\", \"Kamata\", \"Haneda\", \"Setagaya\", \"Shimokitazawa\", \"Kinuta\", \"Karasuyama\", \"Tamagawa\", \"Shibuya\", \"Ebisu\", \"Harajuku\", \"Daikanyama\", \"Hiroo\", \"Sendagaya\", \"Yoyogi\", \"Nakano\", \"Koenji\", \"Asagaya\", \"Ogikubo\", \"Ikebukuro\", \"Komagome\", \"Senkawa\", \"Sugamo\", \"Akabane\", \"Oji\", \"Tabata\", \"Arakawa\", \"Machiya\", \"Nippori\", \"Minamisenju\", \"Itabashi\", \"Takashimadaira\", \"Nerima\", \"Oizumi\", \"Hikarigaoka\", \"Ayase\", \"Kitasenju\", \"Takenotsuka\", \"Tateishi\", \"Aoto\", \"Kameari\", \"Shibamata\", \"Kasai\", \"Koiwa\"], \"type\": \"scattergeo\"}],\n",
       "                        {\"geo\": {\"scope\": \"world\"}, \"template\": {\"data\": {\"bar\": [{\"error_x\": {\"color\": \"#2a3f5f\"}, \"error_y\": {\"color\": \"#2a3f5f\"}, \"marker\": {\"line\": {\"color\": \"#E5ECF6\", \"width\": 0.5}}, \"type\": \"bar\"}], \"barpolar\": [{\"marker\": {\"line\": {\"color\": \"#E5ECF6\", \"width\": 0.5}}, \"type\": \"barpolar\"}], \"carpet\": [{\"aaxis\": {\"endlinecolor\": \"#2a3f5f\", \"gridcolor\": \"white\", \"linecolor\": \"white\", \"minorgridcolor\": \"white\", \"startlinecolor\": \"#2a3f5f\"}, \"baxis\": {\"endlinecolor\": \"#2a3f5f\", \"gridcolor\": \"white\", \"linecolor\": \"white\", \"minorgridcolor\": \"white\", \"startlinecolor\": \"#2a3f5f\"}, \"type\": \"carpet\"}], \"choropleth\": [{\"colorbar\": {\"outlinewidth\": 0, \"ticks\": \"\"}, \"type\": \"choropleth\"}], \"contour\": [{\"colorbar\": {\"outlinewidth\": 0, \"ticks\": \"\"}, \"colorscale\": [[0.0, \"#0d0887\"], [0.1111111111111111, \"#46039f\"], [0.2222222222222222, \"#7201a8\"], [0.3333333333333333, \"#9c179e\"], [0.4444444444444444, \"#bd3786\"], [0.5555555555555556, \"#d8576b\"], [0.6666666666666666, \"#ed7953\"], [0.7777777777777778, \"#fb9f3a\"], [0.8888888888888888, \"#fdca26\"], [1.0, \"#f0f921\"]], \"type\": \"contour\"}], \"contourcarpet\": [{\"colorbar\": {\"outlinewidth\": 0, \"ticks\": \"\"}, \"type\": \"contourcarpet\"}], \"heatmap\": [{\"colorbar\": {\"outlinewidth\": 0, \"ticks\": \"\"}, \"colorscale\": [[0.0, \"#0d0887\"], [0.1111111111111111, \"#46039f\"], [0.2222222222222222, \"#7201a8\"], [0.3333333333333333, \"#9c179e\"], [0.4444444444444444, \"#bd3786\"], [0.5555555555555556, \"#d8576b\"], [0.6666666666666666, \"#ed7953\"], [0.7777777777777778, \"#fb9f3a\"], [0.8888888888888888, \"#fdca26\"], [1.0, \"#f0f921\"]], \"type\": \"heatmap\"}], \"heatmapgl\": [{\"colorbar\": {\"outlinewidth\": 0, \"ticks\": \"\"}, \"colorscale\": [[0.0, \"#0d0887\"], [0.1111111111111111, \"#46039f\"], [0.2222222222222222, \"#7201a8\"], [0.3333333333333333, \"#9c179e\"], [0.4444444444444444, \"#bd3786\"], [0.5555555555555556, \"#d8576b\"], [0.6666666666666666, \"#ed7953\"], [0.7777777777777778, \"#fb9f3a\"], [0.8888888888888888, \"#fdca26\"], [1.0, \"#f0f921\"]], \"type\": \"heatmapgl\"}], \"histogram\": [{\"marker\": {\"colorbar\": {\"outlinewidth\": 0, \"ticks\": \"\"}}, \"type\": \"histogram\"}], \"histogram2d\": [{\"colorbar\": {\"outlinewidth\": 0, \"ticks\": \"\"}, \"colorscale\": [[0.0, \"#0d0887\"], [0.1111111111111111, \"#46039f\"], [0.2222222222222222, \"#7201a8\"], [0.3333333333333333, \"#9c179e\"], [0.4444444444444444, \"#bd3786\"], [0.5555555555555556, \"#d8576b\"], [0.6666666666666666, \"#ed7953\"], [0.7777777777777778, \"#fb9f3a\"], [0.8888888888888888, \"#fdca26\"], [1.0, \"#f0f921\"]], \"type\": \"histogram2d\"}], \"histogram2dcontour\": [{\"colorbar\": {\"outlinewidth\": 0, \"ticks\": \"\"}, \"colorscale\": [[0.0, \"#0d0887\"], [0.1111111111111111, \"#46039f\"], [0.2222222222222222, \"#7201a8\"], [0.3333333333333333, \"#9c179e\"], [0.4444444444444444, \"#bd3786\"], [0.5555555555555556, \"#d8576b\"], [0.6666666666666666, \"#ed7953\"], [0.7777777777777778, \"#fb9f3a\"], [0.8888888888888888, \"#fdca26\"], [1.0, \"#f0f921\"]], \"type\": \"histogram2dcontour\"}], \"mesh3d\": [{\"colorbar\": {\"outlinewidth\": 0, \"ticks\": \"\"}, \"type\": \"mesh3d\"}], \"parcoords\": [{\"line\": {\"colorbar\": {\"outlinewidth\": 0, \"ticks\": \"\"}}, \"type\": \"parcoords\"}], \"pie\": [{\"automargin\": true, \"type\": \"pie\"}], \"scatter\": [{\"marker\": {\"colorbar\": {\"outlinewidth\": 0, \"ticks\": \"\"}}, \"type\": \"scatter\"}], \"scatter3d\": [{\"line\": {\"colorbar\": {\"outlinewidth\": 0, \"ticks\": \"\"}}, \"marker\": {\"colorbar\": {\"outlinewidth\": 0, \"ticks\": \"\"}}, \"type\": \"scatter3d\"}], \"scattercarpet\": [{\"marker\": {\"colorbar\": {\"outlinewidth\": 0, \"ticks\": \"\"}}, \"type\": \"scattercarpet\"}], \"scattergeo\": [{\"marker\": {\"colorbar\": {\"outlinewidth\": 0, \"ticks\": \"\"}}, \"type\": \"scattergeo\"}], \"scattergl\": [{\"marker\": {\"colorbar\": {\"outlinewidth\": 0, \"ticks\": \"\"}}, \"type\": \"scattergl\"}], \"scattermapbox\": [{\"marker\": {\"colorbar\": {\"outlinewidth\": 0, \"ticks\": \"\"}}, \"type\": \"scattermapbox\"}], \"scatterpolar\": [{\"marker\": {\"colorbar\": {\"outlinewidth\": 0, \"ticks\": \"\"}}, \"type\": \"scatterpolar\"}], \"scatterpolargl\": [{\"marker\": {\"colorbar\": {\"outlinewidth\": 0, \"ticks\": \"\"}}, \"type\": \"scatterpolargl\"}], \"scatterternary\": [{\"marker\": {\"colorbar\": {\"outlinewidth\": 0, \"ticks\": \"\"}}, \"type\": \"scatterternary\"}], \"surface\": [{\"colorbar\": {\"outlinewidth\": 0, \"ticks\": \"\"}, \"colorscale\": [[0.0, \"#0d0887\"], [0.1111111111111111, \"#46039f\"], [0.2222222222222222, \"#7201a8\"], [0.3333333333333333, \"#9c179e\"], [0.4444444444444444, \"#bd3786\"], [0.5555555555555556, \"#d8576b\"], [0.6666666666666666, \"#ed7953\"], [0.7777777777777778, \"#fb9f3a\"], [0.8888888888888888, \"#fdca26\"], [1.0, \"#f0f921\"]], \"type\": \"surface\"}], \"table\": [{\"cells\": {\"fill\": {\"color\": \"#EBF0F8\"}, \"line\": {\"color\": \"white\"}}, \"header\": {\"fill\": {\"color\": \"#C8D4E3\"}, \"line\": {\"color\": \"white\"}}, \"type\": \"table\"}]}, \"layout\": {\"annotationdefaults\": {\"arrowcolor\": \"#2a3f5f\", \"arrowhead\": 0, \"arrowwidth\": 1}, \"coloraxis\": {\"colorbar\": {\"outlinewidth\": 0, \"ticks\": \"\"}}, \"colorscale\": {\"diverging\": [[0, \"#8e0152\"], [0.1, \"#c51b7d\"], [0.2, \"#de77ae\"], [0.3, \"#f1b6da\"], [0.4, \"#fde0ef\"], [0.5, \"#f7f7f7\"], [0.6, \"#e6f5d0\"], [0.7, \"#b8e186\"], [0.8, \"#7fbc41\"], [0.9, \"#4d9221\"], [1, \"#276419\"]], \"sequential\": [[0.0, \"#0d0887\"], [0.1111111111111111, \"#46039f\"], [0.2222222222222222, \"#7201a8\"], [0.3333333333333333, \"#9c179e\"], [0.4444444444444444, \"#bd3786\"], [0.5555555555555556, \"#d8576b\"], [0.6666666666666666, \"#ed7953\"], [0.7777777777777778, \"#fb9f3a\"], [0.8888888888888888, \"#fdca26\"], [1.0, \"#f0f921\"]], \"sequentialminus\": [[0.0, \"#0d0887\"], [0.1111111111111111, \"#46039f\"], [0.2222222222222222, \"#7201a8\"], [0.3333333333333333, \"#9c179e\"], [0.4444444444444444, \"#bd3786\"], [0.5555555555555556, \"#d8576b\"], [0.6666666666666666, \"#ed7953\"], [0.7777777777777778, \"#fb9f3a\"], [0.8888888888888888, \"#fdca26\"], [1.0, \"#f0f921\"]]}, \"colorway\": [\"#636efa\", \"#EF553B\", \"#00cc96\", \"#ab63fa\", \"#FFA15A\", \"#19d3f3\", \"#FF6692\", \"#B6E880\", \"#FF97FF\", \"#FECB52\"], \"font\": {\"color\": \"#2a3f5f\"}, \"geo\": {\"bgcolor\": \"white\", \"lakecolor\": \"white\", \"landcolor\": \"#E5ECF6\", \"showlakes\": true, \"showland\": true, \"subunitcolor\": \"white\"}, \"hoverlabel\": {\"align\": \"left\"}, \"hovermode\": \"closest\", \"mapbox\": {\"style\": \"light\"}, \"paper_bgcolor\": \"white\", \"plot_bgcolor\": \"#E5ECF6\", \"polar\": {\"angularaxis\": {\"gridcolor\": \"white\", \"linecolor\": \"white\", \"ticks\": \"\"}, \"bgcolor\": \"#E5ECF6\", \"radialaxis\": {\"gridcolor\": \"white\", \"linecolor\": \"white\", \"ticks\": \"\"}}, \"scene\": {\"xaxis\": {\"backgroundcolor\": \"#E5ECF6\", \"gridcolor\": \"white\", \"gridwidth\": 2, \"linecolor\": \"white\", \"showbackground\": true, \"ticks\": \"\", \"zerolinecolor\": \"white\"}, \"yaxis\": {\"backgroundcolor\": \"#E5ECF6\", \"gridcolor\": \"white\", \"gridwidth\": 2, \"linecolor\": \"white\", \"showbackground\": true, \"ticks\": \"\", \"zerolinecolor\": \"white\"}, \"zaxis\": {\"backgroundcolor\": \"#E5ECF6\", \"gridcolor\": \"white\", \"gridwidth\": 2, \"linecolor\": \"white\", \"showbackground\": true, \"ticks\": \"\", \"zerolinecolor\": \"white\"}}, \"shapedefaults\": {\"line\": {\"color\": \"#2a3f5f\"}}, \"ternary\": {\"aaxis\": {\"gridcolor\": \"white\", \"linecolor\": \"white\", \"ticks\": \"\"}, \"baxis\": {\"gridcolor\": \"white\", \"linecolor\": \"white\", \"ticks\": \"\"}, \"bgcolor\": \"#E5ECF6\", \"caxis\": {\"gridcolor\": \"white\", \"linecolor\": \"white\", \"ticks\": \"\"}}, \"title\": {\"x\": 0.05}, \"xaxis\": {\"automargin\": true, \"gridcolor\": \"white\", \"linecolor\": \"white\", \"ticks\": \"\", \"title\": {\"standoff\": 15}, \"zerolinecolor\": \"white\", \"zerolinewidth\": 2}, \"yaxis\": {\"automargin\": true, \"gridcolor\": \"white\", \"linecolor\": \"white\", \"ticks\": \"\", \"title\": {\"standoff\": 15}, \"zerolinecolor\": \"white\", \"zerolinewidth\": 2}}}},\n",
       "                        {\"responsive\": true}\n",
       "                    ).then(function(){\n",
       "                            \n",
       "var gd = document.getElementById('45dd654f-b995-471e-bc77-f38d90767273');\n",
       "var x = new MutationObserver(function (mutations, observer) {{\n",
       "        var display = window.getComputedStyle(gd).display;\n",
       "        if (!display || display === 'none') {{\n",
       "            console.log([gd, 'removed!']);\n",
       "            Plotly.purge(gd);\n",
       "            observer.disconnect();\n",
       "        }}\n",
       "}});\n",
       "\n",
       "// Listen for the removal of the full notebook cells\n",
       "var notebookContainer = gd.closest('#notebook-container');\n",
       "if (notebookContainer) {{\n",
       "    x.observe(notebookContainer, {childList: true});\n",
       "}}\n",
       "\n",
       "// Listen for the clearing of the current output cell\n",
       "var outputEl = gd.closest('.output');\n",
       "if (outputEl) {{\n",
       "    x.observe(outputEl, {childList: true});\n",
       "}}\n",
       "\n",
       "                        })\n",
       "                };\n",
       "                });\n",
       "            </script>\n",
       "        </div>"
      ]
     },
     "metadata": {},
     "output_type": "display_data"
    }
   ],
   "source": [
    "import plotly.graph_objects as go\n",
    "fig = go.Figure(data=go.Scattergeo(\n",
    "        lon = districts['Longitude'],\n",
    "        lat = districts['Latitude'],\n",
    "        text = districts['District'],\n",
    "        mode = 'markers',\n",
    "        ))\n",
    "\n",
    "fig.update_layout(\n",
    "        geo_scope='world',\n",
    "    )\n",
    "fig.show()"
   ]
  },
  {
   "cell_type": "code",
   "execution_count": 37,
   "metadata": {},
   "outputs": [
    {
     "data": {
      "application/vnd.plotly.v1+json": {
       "config": {
        "plotlyServerURL": "https://plot.ly"
       },
       "data": [
        {
         "lat": [
          35.7781394,
          35.6997364,
          35.6509,
          35.624778899999995,
          35.7456971,
          35.672,
          35.737528999999995,
          35.634556200000006,
          35.7048403,
          35.717528,
          35.7676,
          35.6564018,
          35.648164200000004,
          35.5939,
          35.646437799999994,
          35.6679,
          35.6763,
          35.66951555,
          35.6261042,
          35.7191,
          35.655111100000006,
          35.5479444,
          35.6687049,
          35.6048391,
          35.674645299999995,
          35.7585088,
          35.6518,
          35.7088,
          35.691318700000004,
          35.7031684,
          35.730441799999994,
          35.774143,
          35.6073,
          35.6590031,
          35.7039298,
          35.561885600000004,
          35.7666652,
          35.697698700000004,
          35.6918,
          35.6753,
          35.6637,
          35.6740542,
          35.6792576,
          35.6722,
          35.6963122,
          35.6401,
          35.754036,
          35.6812,
          35.7049419,
          35.7332364,
          35.6603,
          35.7365848,
          35.7427407,
          35.6806555,
          35.62125,
          35.7366615,
          35.6472,
          35.6724719,
          35.688030499999996,
          35.675618,
          35.644202299999996,
          35.718123,
          35.74836,
          35.68406775,
          35.7289204,
          35.619050200000004,
          35.70448029999999,
          35.6076094,
          35.7589,
          35.7523466,
          35.700791100000004,
          35.5884735,
          35.6204,
          35.686757,
          35.662456799999994,
          35.6957996,
          35.6812658,
          35.738209499999996,
          35.646096,
          35.756429499999996,
          35.6645956,
          35.6616779,
          35.599252,
          35.6651764,
          35.69376320000001,
          35.7601,
          35.6823,
          35.7334119,
          35.6797,
          35.7373701,
          35.712683899999995,
          35.788369200000005,
          35.794532200000006,
          35.6125,
          35.7407,
          35.6205526,
          35.67017,
          35.6695961,
          35.668085299999994,
          35.6645143,
          35.6692,
          35.711758700000004,
          35.7171,
          35.6854,
          35.6839519,
          35.674423299999994
         ],
         "lon": [
          139.7207999,
          139.7712503,
          139.6943,
          139.78120230000002,
          139.85617319999997,
          139.72299999999998,
          139.78131000000002,
          139.7932562,
          139.63547240000003,
          139.797635,
          139.8266,
          139.7339705,
          139.7032482,
          139.6682,
          139.7102101,
          139.7926376,
          139.7978,
          139.7643056,
          139.7237494,
          139.7486,
          139.7570622,
          139.7466458,
          139.70533569999998,
          139.7027094,
          139.7776367,
          139.629415,
          139.7179,
          139.7601,
          139.735504,
          139.7456774,
          139.7107453,
          139.681209,
          139.6687,
          139.777168,
          139.73413469999997,
          139.7146628,
          139.8478007,
          139.827138,
          139.7709,
          139.5968,
          139.8723,
          139.7509719,
          139.7796972,
          139.8061,
          139.8150431,
          139.6121,
          139.804177,
          139.7972,
          139.649909,
          139.881843,
          139.6822,
          139.7472412,
          139.7806071,
          139.76522169999998,
          139.68801399999998,
          139.79667659999998,
          139.7409,
          139.7948404,
          139.7982399,
          139.7434685,
          139.6987133,
          139.664468,
          139.638735,
          139.77450290000002,
          139.7713635,
          139.779364,
          139.6201587,
          139.733944,
          139.599,
          139.7382749,
          139.69731869999998,
          139.7279334,
          139.7256,
          139.7636157,
          139.7334981,
          139.7929596,
          139.7113311,
          139.689414,
          139.65627,
          139.8752024,
          139.6987107,
          139.6663345,
          139.73891,
          139.7558355,
          139.7036319,
          139.5388,
          139.8042,
          139.73942730000002,
          139.8313,
          139.76171509999998,
          139.7036425,
          139.6589375,
          139.79071159999998,
          139.6261,
          139.8483,
          139.75077190000002,
          139.750049,
          139.8174761,
          139.772563,
          139.7847168,
          139.7844,
          139.7776445,
          139.762,
          139.7288,
          139.7020805,
          139.7616737
         ],
         "mode": "markers",
         "text": [
          "Akabane",
          "Akihabara",
          "Aobadai",
          "Aomi",
          "Aoto",
          "Aoyama",
          "Arakawa",
          "Ariake",
          "Asagaya",
          "Asakusa",
          "Ayase",
          "Azabu",
          "Daikanyama",
          "Den-en-chofu",
          "Ebisu",
          "Etchujima",
          "Fukagawa",
          "Ginza",
          "Gotanda",
          "Hakusan",
          "Hamamatsucho",
          "Haneda",
          "Harajuku",
          "Hatanodai",
          "Hatchobori",
          "Hikarigaoka",
          "Hiroo",
          "Hongo",
          "Ichigaya",
          "Iidabashi",
          "Ikebukuro",
          "Itabashi",
          "Jiyugeoka",
          "Kachidoki",
          "Kagurazaka",
          "Kamata",
          "Kameari",
          "Kameido",
          "Kanda",
          "Karasuyama",
          "Kasai",
          "Kasumigaseki",
          "Kayabacho",
          "Kiba",
          "Kinshicho",
          "Kinuta",
          "Kitasenju",
          "Kiyosumi",
          "Koenji",
          "Koiwa",
          "Komaba",
          "Komagome",
          "Machiya",
          "Marunouchi",
          "Meguro",
          "Minamisenju",
          "Mita",
          "Monzennakacho",
          "Morishita",
          "Nagatacho",
          "Nakameguro",
          "Nakano",
          "Nerima",
          "Nihonbashi",
          "Nippori",
          "Odaiba",
          "Ogikubo",
          "Oimachi",
          "Oizumi",
          "Oji",
          "Okubo",
          "Omori",
          "Osaki",
          "Otemachi",
          "Roppongi",
          "Ryogoku",
          "Sendagaya",
          "Senkawa",
          "Setagaya",
          "Shibamata",
          "Shibuya",
          "Shimokitazawa",
          "Shinagawa",
          "Shinbashi",
          "Shinjuku",
          "Shinkawa",
          "Shirakawa",
          "Sugamo",
          "Sunamachi",
          "Tabata",
          "Takadanobaba",
          "Takashimadaira",
          "Takenotsuka",
          "Tamagawa",
          "Tateishi",
          "Tennozu",
          "Toranomon",
          "Toyocho",
          "Tsukiji",
          "Tsukishima",
          "Tsukuda",
          "Ueno",
          "Yayoi",
          "Yotsuya",
          "Yoyogi",
          "Yurakucho"
         ],
         "type": "scattergeo"
        }
       ],
       "layout": {
        "geo": {
         "scope": "world"
        },
        "template": {
         "data": {
          "bar": [
           {
            "error_x": {
             "color": "#2a3f5f"
            },
            "error_y": {
             "color": "#2a3f5f"
            },
            "marker": {
             "line": {
              "color": "#E5ECF6",
              "width": 0.5
             }
            },
            "type": "bar"
           }
          ],
          "barpolar": [
           {
            "marker": {
             "line": {
              "color": "#E5ECF6",
              "width": 0.5
             }
            },
            "type": "barpolar"
           }
          ],
          "carpet": [
           {
            "aaxis": {
             "endlinecolor": "#2a3f5f",
             "gridcolor": "white",
             "linecolor": "white",
             "minorgridcolor": "white",
             "startlinecolor": "#2a3f5f"
            },
            "baxis": {
             "endlinecolor": "#2a3f5f",
             "gridcolor": "white",
             "linecolor": "white",
             "minorgridcolor": "white",
             "startlinecolor": "#2a3f5f"
            },
            "type": "carpet"
           }
          ],
          "choropleth": [
           {
            "colorbar": {
             "outlinewidth": 0,
             "ticks": ""
            },
            "type": "choropleth"
           }
          ],
          "contour": [
           {
            "colorbar": {
             "outlinewidth": 0,
             "ticks": ""
            },
            "colorscale": [
             [
              0,
              "#0d0887"
             ],
             [
              0.1111111111111111,
              "#46039f"
             ],
             [
              0.2222222222222222,
              "#7201a8"
             ],
             [
              0.3333333333333333,
              "#9c179e"
             ],
             [
              0.4444444444444444,
              "#bd3786"
             ],
             [
              0.5555555555555556,
              "#d8576b"
             ],
             [
              0.6666666666666666,
              "#ed7953"
             ],
             [
              0.7777777777777778,
              "#fb9f3a"
             ],
             [
              0.8888888888888888,
              "#fdca26"
             ],
             [
              1,
              "#f0f921"
             ]
            ],
            "type": "contour"
           }
          ],
          "contourcarpet": [
           {
            "colorbar": {
             "outlinewidth": 0,
             "ticks": ""
            },
            "type": "contourcarpet"
           }
          ],
          "heatmap": [
           {
            "colorbar": {
             "outlinewidth": 0,
             "ticks": ""
            },
            "colorscale": [
             [
              0,
              "#0d0887"
             ],
             [
              0.1111111111111111,
              "#46039f"
             ],
             [
              0.2222222222222222,
              "#7201a8"
             ],
             [
              0.3333333333333333,
              "#9c179e"
             ],
             [
              0.4444444444444444,
              "#bd3786"
             ],
             [
              0.5555555555555556,
              "#d8576b"
             ],
             [
              0.6666666666666666,
              "#ed7953"
             ],
             [
              0.7777777777777778,
              "#fb9f3a"
             ],
             [
              0.8888888888888888,
              "#fdca26"
             ],
             [
              1,
              "#f0f921"
             ]
            ],
            "type": "heatmap"
           }
          ],
          "heatmapgl": [
           {
            "colorbar": {
             "outlinewidth": 0,
             "ticks": ""
            },
            "colorscale": [
             [
              0,
              "#0d0887"
             ],
             [
              0.1111111111111111,
              "#46039f"
             ],
             [
              0.2222222222222222,
              "#7201a8"
             ],
             [
              0.3333333333333333,
              "#9c179e"
             ],
             [
              0.4444444444444444,
              "#bd3786"
             ],
             [
              0.5555555555555556,
              "#d8576b"
             ],
             [
              0.6666666666666666,
              "#ed7953"
             ],
             [
              0.7777777777777778,
              "#fb9f3a"
             ],
             [
              0.8888888888888888,
              "#fdca26"
             ],
             [
              1,
              "#f0f921"
             ]
            ],
            "type": "heatmapgl"
           }
          ],
          "histogram": [
           {
            "marker": {
             "colorbar": {
              "outlinewidth": 0,
              "ticks": ""
             }
            },
            "type": "histogram"
           }
          ],
          "histogram2d": [
           {
            "colorbar": {
             "outlinewidth": 0,
             "ticks": ""
            },
            "colorscale": [
             [
              0,
              "#0d0887"
             ],
             [
              0.1111111111111111,
              "#46039f"
             ],
             [
              0.2222222222222222,
              "#7201a8"
             ],
             [
              0.3333333333333333,
              "#9c179e"
             ],
             [
              0.4444444444444444,
              "#bd3786"
             ],
             [
              0.5555555555555556,
              "#d8576b"
             ],
             [
              0.6666666666666666,
              "#ed7953"
             ],
             [
              0.7777777777777778,
              "#fb9f3a"
             ],
             [
              0.8888888888888888,
              "#fdca26"
             ],
             [
              1,
              "#f0f921"
             ]
            ],
            "type": "histogram2d"
           }
          ],
          "histogram2dcontour": [
           {
            "colorbar": {
             "outlinewidth": 0,
             "ticks": ""
            },
            "colorscale": [
             [
              0,
              "#0d0887"
             ],
             [
              0.1111111111111111,
              "#46039f"
             ],
             [
              0.2222222222222222,
              "#7201a8"
             ],
             [
              0.3333333333333333,
              "#9c179e"
             ],
             [
              0.4444444444444444,
              "#bd3786"
             ],
             [
              0.5555555555555556,
              "#d8576b"
             ],
             [
              0.6666666666666666,
              "#ed7953"
             ],
             [
              0.7777777777777778,
              "#fb9f3a"
             ],
             [
              0.8888888888888888,
              "#fdca26"
             ],
             [
              1,
              "#f0f921"
             ]
            ],
            "type": "histogram2dcontour"
           }
          ],
          "mesh3d": [
           {
            "colorbar": {
             "outlinewidth": 0,
             "ticks": ""
            },
            "type": "mesh3d"
           }
          ],
          "parcoords": [
           {
            "line": {
             "colorbar": {
              "outlinewidth": 0,
              "ticks": ""
             }
            },
            "type": "parcoords"
           }
          ],
          "pie": [
           {
            "automargin": true,
            "type": "pie"
           }
          ],
          "scatter": [
           {
            "marker": {
             "colorbar": {
              "outlinewidth": 0,
              "ticks": ""
             }
            },
            "type": "scatter"
           }
          ],
          "scatter3d": [
           {
            "line": {
             "colorbar": {
              "outlinewidth": 0,
              "ticks": ""
             }
            },
            "marker": {
             "colorbar": {
              "outlinewidth": 0,
              "ticks": ""
             }
            },
            "type": "scatter3d"
           }
          ],
          "scattercarpet": [
           {
            "marker": {
             "colorbar": {
              "outlinewidth": 0,
              "ticks": ""
             }
            },
            "type": "scattercarpet"
           }
          ],
          "scattergeo": [
           {
            "marker": {
             "colorbar": {
              "outlinewidth": 0,
              "ticks": ""
             }
            },
            "type": "scattergeo"
           }
          ],
          "scattergl": [
           {
            "marker": {
             "colorbar": {
              "outlinewidth": 0,
              "ticks": ""
             }
            },
            "type": "scattergl"
           }
          ],
          "scattermapbox": [
           {
            "marker": {
             "colorbar": {
              "outlinewidth": 0,
              "ticks": ""
             }
            },
            "type": "scattermapbox"
           }
          ],
          "scatterpolar": [
           {
            "marker": {
             "colorbar": {
              "outlinewidth": 0,
              "ticks": ""
             }
            },
            "type": "scatterpolar"
           }
          ],
          "scatterpolargl": [
           {
            "marker": {
             "colorbar": {
              "outlinewidth": 0,
              "ticks": ""
             }
            },
            "type": "scatterpolargl"
           }
          ],
          "scatterternary": [
           {
            "marker": {
             "colorbar": {
              "outlinewidth": 0,
              "ticks": ""
             }
            },
            "type": "scatterternary"
           }
          ],
          "surface": [
           {
            "colorbar": {
             "outlinewidth": 0,
             "ticks": ""
            },
            "colorscale": [
             [
              0,
              "#0d0887"
             ],
             [
              0.1111111111111111,
              "#46039f"
             ],
             [
              0.2222222222222222,
              "#7201a8"
             ],
             [
              0.3333333333333333,
              "#9c179e"
             ],
             [
              0.4444444444444444,
              "#bd3786"
             ],
             [
              0.5555555555555556,
              "#d8576b"
             ],
             [
              0.6666666666666666,
              "#ed7953"
             ],
             [
              0.7777777777777778,
              "#fb9f3a"
             ],
             [
              0.8888888888888888,
              "#fdca26"
             ],
             [
              1,
              "#f0f921"
             ]
            ],
            "type": "surface"
           }
          ],
          "table": [
           {
            "cells": {
             "fill": {
              "color": "#EBF0F8"
             },
             "line": {
              "color": "white"
             }
            },
            "header": {
             "fill": {
              "color": "#C8D4E3"
             },
             "line": {
              "color": "white"
             }
            },
            "type": "table"
           }
          ]
         },
         "layout": {
          "annotationdefaults": {
           "arrowcolor": "#2a3f5f",
           "arrowhead": 0,
           "arrowwidth": 1
          },
          "coloraxis": {
           "colorbar": {
            "outlinewidth": 0,
            "ticks": ""
           }
          },
          "colorscale": {
           "diverging": [
            [
             0,
             "#8e0152"
            ],
            [
             0.1,
             "#c51b7d"
            ],
            [
             0.2,
             "#de77ae"
            ],
            [
             0.3,
             "#f1b6da"
            ],
            [
             0.4,
             "#fde0ef"
            ],
            [
             0.5,
             "#f7f7f7"
            ],
            [
             0.6,
             "#e6f5d0"
            ],
            [
             0.7,
             "#b8e186"
            ],
            [
             0.8,
             "#7fbc41"
            ],
            [
             0.9,
             "#4d9221"
            ],
            [
             1,
             "#276419"
            ]
           ],
           "sequential": [
            [
             0,
             "#0d0887"
            ],
            [
             0.1111111111111111,
             "#46039f"
            ],
            [
             0.2222222222222222,
             "#7201a8"
            ],
            [
             0.3333333333333333,
             "#9c179e"
            ],
            [
             0.4444444444444444,
             "#bd3786"
            ],
            [
             0.5555555555555556,
             "#d8576b"
            ],
            [
             0.6666666666666666,
             "#ed7953"
            ],
            [
             0.7777777777777778,
             "#fb9f3a"
            ],
            [
             0.8888888888888888,
             "#fdca26"
            ],
            [
             1,
             "#f0f921"
            ]
           ],
           "sequentialminus": [
            [
             0,
             "#0d0887"
            ],
            [
             0.1111111111111111,
             "#46039f"
            ],
            [
             0.2222222222222222,
             "#7201a8"
            ],
            [
             0.3333333333333333,
             "#9c179e"
            ],
            [
             0.4444444444444444,
             "#bd3786"
            ],
            [
             0.5555555555555556,
             "#d8576b"
            ],
            [
             0.6666666666666666,
             "#ed7953"
            ],
            [
             0.7777777777777778,
             "#fb9f3a"
            ],
            [
             0.8888888888888888,
             "#fdca26"
            ],
            [
             1,
             "#f0f921"
            ]
           ]
          },
          "colorway": [
           "#636efa",
           "#EF553B",
           "#00cc96",
           "#ab63fa",
           "#FFA15A",
           "#19d3f3",
           "#FF6692",
           "#B6E880",
           "#FF97FF",
           "#FECB52"
          ],
          "font": {
           "color": "#2a3f5f"
          },
          "geo": {
           "bgcolor": "white",
           "lakecolor": "white",
           "landcolor": "#E5ECF6",
           "showlakes": true,
           "showland": true,
           "subunitcolor": "white"
          },
          "hoverlabel": {
           "align": "left"
          },
          "hovermode": "closest",
          "mapbox": {
           "style": "light"
          },
          "paper_bgcolor": "white",
          "plot_bgcolor": "#E5ECF6",
          "polar": {
           "angularaxis": {
            "gridcolor": "white",
            "linecolor": "white",
            "ticks": ""
           },
           "bgcolor": "#E5ECF6",
           "radialaxis": {
            "gridcolor": "white",
            "linecolor": "white",
            "ticks": ""
           }
          },
          "scene": {
           "xaxis": {
            "backgroundcolor": "#E5ECF6",
            "gridcolor": "white",
            "gridwidth": 2,
            "linecolor": "white",
            "showbackground": true,
            "ticks": "",
            "zerolinecolor": "white"
           },
           "yaxis": {
            "backgroundcolor": "#E5ECF6",
            "gridcolor": "white",
            "gridwidth": 2,
            "linecolor": "white",
            "showbackground": true,
            "ticks": "",
            "zerolinecolor": "white"
           },
           "zaxis": {
            "backgroundcolor": "#E5ECF6",
            "gridcolor": "white",
            "gridwidth": 2,
            "linecolor": "white",
            "showbackground": true,
            "ticks": "",
            "zerolinecolor": "white"
           }
          },
          "shapedefaults": {
           "line": {
            "color": "#2a3f5f"
           }
          },
          "ternary": {
           "aaxis": {
            "gridcolor": "white",
            "linecolor": "white",
            "ticks": ""
           },
           "baxis": {
            "gridcolor": "white",
            "linecolor": "white",
            "ticks": ""
           },
           "bgcolor": "#E5ECF6",
           "caxis": {
            "gridcolor": "white",
            "linecolor": "white",
            "ticks": ""
           }
          },
          "title": {
           "x": 0.05
          },
          "xaxis": {
           "automargin": true,
           "gridcolor": "white",
           "linecolor": "white",
           "ticks": "",
           "title": {
            "standoff": 15
           },
           "zerolinecolor": "white",
           "zerolinewidth": 2
          },
          "yaxis": {
           "automargin": true,
           "gridcolor": "white",
           "linecolor": "white",
           "ticks": "",
           "title": {
            "standoff": 15
           },
           "zerolinecolor": "white",
           "zerolinewidth": 2
          }
         }
        }
       }
      },
      "text/html": [
       "<div>\n",
       "        \n",
       "        \n",
       "            <div id=\"0c41b446-e7d5-4641-aae2-e3e046e6a030\" class=\"plotly-graph-div\" style=\"height:525px; width:100%;\"></div>\n",
       "            <script type=\"text/javascript\">\n",
       "                require([\"plotly\"], function(Plotly) {\n",
       "                    window.PLOTLYENV=window.PLOTLYENV || {};\n",
       "                    \n",
       "                if (document.getElementById(\"0c41b446-e7d5-4641-aae2-e3e046e6a030\")) {\n",
       "                    Plotly.newPlot(\n",
       "                        '0c41b446-e7d5-4641-aae2-e3e046e6a030',\n",
       "                        [{\"lat\": [35.7781394, 35.6997364, 35.6509, 35.624778899999995, 35.7456971, 35.672, 35.737528999999995, 35.634556200000006, 35.7048403, 35.717528, 35.7676, 35.6564018, 35.648164200000004, 35.5939, 35.646437799999994, 35.6679, 35.6763, 35.66951555, 35.6261042, 35.7191, 35.655111100000006, 35.5479444, 35.6687049, 35.6048391, 35.674645299999995, 35.7585088, 35.6518, 35.7088, 35.691318700000004, 35.7031684, 35.730441799999994, 35.774143, 35.6073, 35.6590031, 35.7039298, 35.561885600000004, 35.7666652, 35.697698700000004, 35.6918, 35.6753, 35.6637, 35.6740542, 35.6792576, 35.6722, 35.6963122, 35.6401, 35.754036, 35.6812, 35.7049419, 35.7332364, 35.6603, 35.7365848, 35.7427407, 35.6806555, 35.62125, 35.7366615, 35.6472, 35.6724719, 35.688030499999996, 35.675618, 35.644202299999996, 35.718123, 35.74836, 35.68406775, 35.7289204, 35.619050200000004, 35.70448029999999, 35.6076094, 35.7589, 35.7523466, 35.700791100000004, 35.5884735, 35.6204, 35.686757, 35.662456799999994, 35.6957996, 35.6812658, 35.738209499999996, 35.646096, 35.756429499999996, 35.6645956, 35.6616779, 35.599252, 35.6651764, 35.69376320000001, 35.7601, 35.6823, 35.7334119, 35.6797, 35.7373701, 35.712683899999995, 35.788369200000005, 35.794532200000006, 35.6125, 35.7407, 35.6205526, 35.67017, 35.6695961, 35.668085299999994, 35.6645143, 35.6692, 35.711758700000004, 35.7171, 35.6854, 35.6839519, 35.674423299999994], \"lon\": [139.7207999, 139.7712503, 139.6943, 139.78120230000002, 139.85617319999997, 139.72299999999998, 139.78131000000002, 139.7932562, 139.63547240000003, 139.797635, 139.8266, 139.7339705, 139.7032482, 139.6682, 139.7102101, 139.7926376, 139.7978, 139.7643056, 139.7237494, 139.7486, 139.7570622, 139.7466458, 139.70533569999998, 139.7027094, 139.7776367, 139.629415, 139.7179, 139.7601, 139.735504, 139.7456774, 139.7107453, 139.681209, 139.6687, 139.777168, 139.73413469999997, 139.7146628, 139.8478007, 139.827138, 139.7709, 139.5968, 139.8723, 139.7509719, 139.7796972, 139.8061, 139.8150431, 139.6121, 139.804177, 139.7972, 139.649909, 139.881843, 139.6822, 139.7472412, 139.7806071, 139.76522169999998, 139.68801399999998, 139.79667659999998, 139.7409, 139.7948404, 139.7982399, 139.7434685, 139.6987133, 139.664468, 139.638735, 139.77450290000002, 139.7713635, 139.779364, 139.6201587, 139.733944, 139.599, 139.7382749, 139.69731869999998, 139.7279334, 139.7256, 139.7636157, 139.7334981, 139.7929596, 139.7113311, 139.689414, 139.65627, 139.8752024, 139.6987107, 139.6663345, 139.73891, 139.7558355, 139.7036319, 139.5388, 139.8042, 139.73942730000002, 139.8313, 139.76171509999998, 139.7036425, 139.6589375, 139.79071159999998, 139.6261, 139.8483, 139.75077190000002, 139.750049, 139.8174761, 139.772563, 139.7847168, 139.7844, 139.7776445, 139.762, 139.7288, 139.7020805, 139.7616737], \"mode\": \"markers\", \"text\": [\"Akabane\", \"Akihabara\", \"Aobadai\", \"Aomi\", \"Aoto\", \"Aoyama\", \"Arakawa\", \"Ariake\", \"Asagaya\", \"Asakusa\", \"Ayase\", \"Azabu\", \"Daikanyama\", \"Den-en-chofu\", \"Ebisu\", \"Etchujima\", \"Fukagawa\", \"Ginza\", \"Gotanda\", \"Hakusan\", \"Hamamatsucho\", \"Haneda\", \"Harajuku\", \"Hatanodai\", \"Hatchobori\", \"Hikarigaoka\", \"Hiroo\", \"Hongo\", \"Ichigaya\", \"Iidabashi\", \"Ikebukuro\", \"Itabashi\", \"Jiyugeoka\", \"Kachidoki\", \"Kagurazaka\", \"Kamata\", \"Kameari\", \"Kameido\", \"Kanda\", \"Karasuyama\", \"Kasai\", \"Kasumigaseki\", \"Kayabacho\", \"Kiba\", \"Kinshicho\", \"Kinuta\", \"Kitasenju\", \"Kiyosumi\", \"Koenji\", \"Koiwa\", \"Komaba\", \"Komagome\", \"Machiya\", \"Marunouchi\", \"Meguro\", \"Minamisenju\", \"Mita\", \"Monzennakacho\", \"Morishita\", \"Nagatacho\", \"Nakameguro\", \"Nakano\", \"Nerima\", \"Nihonbashi\", \"Nippori\", \"Odaiba\", \"Ogikubo\", \"Oimachi\", \"Oizumi\", \"Oji\", \"Okubo\", \"Omori\", \"Osaki\", \"Otemachi\", \"Roppongi\", \"Ryogoku\", \"Sendagaya\", \"Senkawa\", \"Setagaya\", \"Shibamata\", \"Shibuya\", \"Shimokitazawa\", \"Shinagawa\", \"Shinbashi\", \"Shinjuku\", \"Shinkawa\", \"Shirakawa\", \"Sugamo\", \"Sunamachi\", \"Tabata\", \"Takadanobaba\", \"Takashimadaira\", \"Takenotsuka\", \"Tamagawa\", \"Tateishi\", \"Tennozu\", \"Toranomon\", \"Toyocho\", \"Tsukiji\", \"Tsukishima\", \"Tsukuda\", \"Ueno\", \"Yayoi\", \"Yotsuya\", \"Yoyogi\", \"Yurakucho\"], \"type\": \"scattergeo\"}],\n",
       "                        {\"geo\": {\"scope\": \"world\"}, \"template\": {\"data\": {\"bar\": [{\"error_x\": {\"color\": \"#2a3f5f\"}, \"error_y\": {\"color\": \"#2a3f5f\"}, \"marker\": {\"line\": {\"color\": \"#E5ECF6\", \"width\": 0.5}}, \"type\": \"bar\"}], \"barpolar\": [{\"marker\": {\"line\": {\"color\": \"#E5ECF6\", \"width\": 0.5}}, \"type\": \"barpolar\"}], \"carpet\": [{\"aaxis\": {\"endlinecolor\": \"#2a3f5f\", \"gridcolor\": \"white\", \"linecolor\": \"white\", \"minorgridcolor\": \"white\", \"startlinecolor\": \"#2a3f5f\"}, \"baxis\": {\"endlinecolor\": \"#2a3f5f\", \"gridcolor\": \"white\", \"linecolor\": \"white\", \"minorgridcolor\": \"white\", \"startlinecolor\": \"#2a3f5f\"}, \"type\": \"carpet\"}], \"choropleth\": [{\"colorbar\": {\"outlinewidth\": 0, \"ticks\": \"\"}, \"type\": \"choropleth\"}], \"contour\": [{\"colorbar\": {\"outlinewidth\": 0, \"ticks\": \"\"}, \"colorscale\": [[0.0, \"#0d0887\"], [0.1111111111111111, \"#46039f\"], [0.2222222222222222, \"#7201a8\"], [0.3333333333333333, \"#9c179e\"], [0.4444444444444444, \"#bd3786\"], [0.5555555555555556, \"#d8576b\"], [0.6666666666666666, \"#ed7953\"], [0.7777777777777778, \"#fb9f3a\"], [0.8888888888888888, \"#fdca26\"], [1.0, \"#f0f921\"]], \"type\": \"contour\"}], \"contourcarpet\": [{\"colorbar\": {\"outlinewidth\": 0, \"ticks\": \"\"}, \"type\": \"contourcarpet\"}], \"heatmap\": [{\"colorbar\": {\"outlinewidth\": 0, \"ticks\": \"\"}, \"colorscale\": [[0.0, \"#0d0887\"], [0.1111111111111111, \"#46039f\"], [0.2222222222222222, \"#7201a8\"], [0.3333333333333333, \"#9c179e\"], [0.4444444444444444, \"#bd3786\"], [0.5555555555555556, \"#d8576b\"], [0.6666666666666666, \"#ed7953\"], [0.7777777777777778, \"#fb9f3a\"], [0.8888888888888888, \"#fdca26\"], [1.0, \"#f0f921\"]], \"type\": \"heatmap\"}], \"heatmapgl\": [{\"colorbar\": {\"outlinewidth\": 0, \"ticks\": \"\"}, \"colorscale\": [[0.0, \"#0d0887\"], [0.1111111111111111, \"#46039f\"], [0.2222222222222222, \"#7201a8\"], [0.3333333333333333, \"#9c179e\"], [0.4444444444444444, \"#bd3786\"], [0.5555555555555556, \"#d8576b\"], [0.6666666666666666, \"#ed7953\"], [0.7777777777777778, \"#fb9f3a\"], [0.8888888888888888, \"#fdca26\"], [1.0, \"#f0f921\"]], \"type\": \"heatmapgl\"}], \"histogram\": [{\"marker\": {\"colorbar\": {\"outlinewidth\": 0, \"ticks\": \"\"}}, \"type\": \"histogram\"}], \"histogram2d\": [{\"colorbar\": {\"outlinewidth\": 0, \"ticks\": \"\"}, \"colorscale\": [[0.0, \"#0d0887\"], [0.1111111111111111, \"#46039f\"], [0.2222222222222222, \"#7201a8\"], [0.3333333333333333, \"#9c179e\"], [0.4444444444444444, \"#bd3786\"], [0.5555555555555556, \"#d8576b\"], [0.6666666666666666, \"#ed7953\"], [0.7777777777777778, \"#fb9f3a\"], [0.8888888888888888, \"#fdca26\"], [1.0, \"#f0f921\"]], \"type\": \"histogram2d\"}], \"histogram2dcontour\": [{\"colorbar\": {\"outlinewidth\": 0, \"ticks\": \"\"}, \"colorscale\": [[0.0, \"#0d0887\"], [0.1111111111111111, \"#46039f\"], [0.2222222222222222, \"#7201a8\"], [0.3333333333333333, \"#9c179e\"], [0.4444444444444444, \"#bd3786\"], [0.5555555555555556, \"#d8576b\"], [0.6666666666666666, \"#ed7953\"], [0.7777777777777778, \"#fb9f3a\"], [0.8888888888888888, \"#fdca26\"], [1.0, \"#f0f921\"]], \"type\": \"histogram2dcontour\"}], \"mesh3d\": [{\"colorbar\": {\"outlinewidth\": 0, \"ticks\": \"\"}, \"type\": \"mesh3d\"}], \"parcoords\": [{\"line\": {\"colorbar\": {\"outlinewidth\": 0, \"ticks\": \"\"}}, \"type\": \"parcoords\"}], \"pie\": [{\"automargin\": true, \"type\": \"pie\"}], \"scatter\": [{\"marker\": {\"colorbar\": {\"outlinewidth\": 0, \"ticks\": \"\"}}, \"type\": \"scatter\"}], \"scatter3d\": [{\"line\": {\"colorbar\": {\"outlinewidth\": 0, \"ticks\": \"\"}}, \"marker\": {\"colorbar\": {\"outlinewidth\": 0, \"ticks\": \"\"}}, \"type\": \"scatter3d\"}], \"scattercarpet\": [{\"marker\": {\"colorbar\": {\"outlinewidth\": 0, \"ticks\": \"\"}}, \"type\": \"scattercarpet\"}], \"scattergeo\": [{\"marker\": {\"colorbar\": {\"outlinewidth\": 0, \"ticks\": \"\"}}, \"type\": \"scattergeo\"}], \"scattergl\": [{\"marker\": {\"colorbar\": {\"outlinewidth\": 0, \"ticks\": \"\"}}, \"type\": \"scattergl\"}], \"scattermapbox\": [{\"marker\": {\"colorbar\": {\"outlinewidth\": 0, \"ticks\": \"\"}}, \"type\": \"scattermapbox\"}], \"scatterpolar\": [{\"marker\": {\"colorbar\": {\"outlinewidth\": 0, \"ticks\": \"\"}}, \"type\": \"scatterpolar\"}], \"scatterpolargl\": [{\"marker\": {\"colorbar\": {\"outlinewidth\": 0, \"ticks\": \"\"}}, \"type\": \"scatterpolargl\"}], \"scatterternary\": [{\"marker\": {\"colorbar\": {\"outlinewidth\": 0, \"ticks\": \"\"}}, \"type\": \"scatterternary\"}], \"surface\": [{\"colorbar\": {\"outlinewidth\": 0, \"ticks\": \"\"}, \"colorscale\": [[0.0, \"#0d0887\"], [0.1111111111111111, \"#46039f\"], [0.2222222222222222, \"#7201a8\"], [0.3333333333333333, \"#9c179e\"], [0.4444444444444444, \"#bd3786\"], [0.5555555555555556, \"#d8576b\"], [0.6666666666666666, \"#ed7953\"], [0.7777777777777778, \"#fb9f3a\"], [0.8888888888888888, \"#fdca26\"], [1.0, \"#f0f921\"]], \"type\": \"surface\"}], \"table\": [{\"cells\": {\"fill\": {\"color\": \"#EBF0F8\"}, \"line\": {\"color\": \"white\"}}, \"header\": {\"fill\": {\"color\": \"#C8D4E3\"}, \"line\": {\"color\": \"white\"}}, \"type\": \"table\"}]}, \"layout\": {\"annotationdefaults\": {\"arrowcolor\": \"#2a3f5f\", \"arrowhead\": 0, \"arrowwidth\": 1}, \"coloraxis\": {\"colorbar\": {\"outlinewidth\": 0, \"ticks\": \"\"}}, \"colorscale\": {\"diverging\": [[0, \"#8e0152\"], [0.1, \"#c51b7d\"], [0.2, \"#de77ae\"], [0.3, \"#f1b6da\"], [0.4, \"#fde0ef\"], [0.5, \"#f7f7f7\"], [0.6, \"#e6f5d0\"], [0.7, \"#b8e186\"], [0.8, \"#7fbc41\"], [0.9, \"#4d9221\"], [1, \"#276419\"]], \"sequential\": [[0.0, \"#0d0887\"], [0.1111111111111111, \"#46039f\"], [0.2222222222222222, \"#7201a8\"], [0.3333333333333333, \"#9c179e\"], [0.4444444444444444, \"#bd3786\"], [0.5555555555555556, \"#d8576b\"], [0.6666666666666666, \"#ed7953\"], [0.7777777777777778, \"#fb9f3a\"], [0.8888888888888888, \"#fdca26\"], [1.0, \"#f0f921\"]], \"sequentialminus\": [[0.0, \"#0d0887\"], [0.1111111111111111, \"#46039f\"], [0.2222222222222222, \"#7201a8\"], [0.3333333333333333, \"#9c179e\"], [0.4444444444444444, \"#bd3786\"], [0.5555555555555556, \"#d8576b\"], [0.6666666666666666, \"#ed7953\"], [0.7777777777777778, \"#fb9f3a\"], [0.8888888888888888, \"#fdca26\"], [1.0, \"#f0f921\"]]}, \"colorway\": [\"#636efa\", \"#EF553B\", \"#00cc96\", \"#ab63fa\", \"#FFA15A\", \"#19d3f3\", \"#FF6692\", \"#B6E880\", \"#FF97FF\", \"#FECB52\"], \"font\": {\"color\": \"#2a3f5f\"}, \"geo\": {\"bgcolor\": \"white\", \"lakecolor\": \"white\", \"landcolor\": \"#E5ECF6\", \"showlakes\": true, \"showland\": true, \"subunitcolor\": \"white\"}, \"hoverlabel\": {\"align\": \"left\"}, \"hovermode\": \"closest\", \"mapbox\": {\"style\": \"light\"}, \"paper_bgcolor\": \"white\", \"plot_bgcolor\": \"#E5ECF6\", \"polar\": {\"angularaxis\": {\"gridcolor\": \"white\", \"linecolor\": \"white\", \"ticks\": \"\"}, \"bgcolor\": \"#E5ECF6\", \"radialaxis\": {\"gridcolor\": \"white\", \"linecolor\": \"white\", \"ticks\": \"\"}}, \"scene\": {\"xaxis\": {\"backgroundcolor\": \"#E5ECF6\", \"gridcolor\": \"white\", \"gridwidth\": 2, \"linecolor\": \"white\", \"showbackground\": true, \"ticks\": \"\", \"zerolinecolor\": \"white\"}, \"yaxis\": {\"backgroundcolor\": \"#E5ECF6\", \"gridcolor\": \"white\", \"gridwidth\": 2, \"linecolor\": \"white\", \"showbackground\": true, \"ticks\": \"\", \"zerolinecolor\": \"white\"}, \"zaxis\": {\"backgroundcolor\": \"#E5ECF6\", \"gridcolor\": \"white\", \"gridwidth\": 2, \"linecolor\": \"white\", \"showbackground\": true, \"ticks\": \"\", \"zerolinecolor\": \"white\"}}, \"shapedefaults\": {\"line\": {\"color\": \"#2a3f5f\"}}, \"ternary\": {\"aaxis\": {\"gridcolor\": \"white\", \"linecolor\": \"white\", \"ticks\": \"\"}, \"baxis\": {\"gridcolor\": \"white\", \"linecolor\": \"white\", \"ticks\": \"\"}, \"bgcolor\": \"#E5ECF6\", \"caxis\": {\"gridcolor\": \"white\", \"linecolor\": \"white\", \"ticks\": \"\"}}, \"title\": {\"x\": 0.05}, \"xaxis\": {\"automargin\": true, \"gridcolor\": \"white\", \"linecolor\": \"white\", \"ticks\": \"\", \"title\": {\"standoff\": 15}, \"zerolinecolor\": \"white\", \"zerolinewidth\": 2}, \"yaxis\": {\"automargin\": true, \"gridcolor\": \"white\", \"linecolor\": \"white\", \"ticks\": \"\", \"title\": {\"standoff\": 15}, \"zerolinecolor\": \"white\", \"zerolinewidth\": 2}}}},\n",
       "                        {\"responsive\": true}\n",
       "                    ).then(function(){\n",
       "                            \n",
       "var gd = document.getElementById('0c41b446-e7d5-4641-aae2-e3e046e6a030');\n",
       "var x = new MutationObserver(function (mutations, observer) {{\n",
       "        var display = window.getComputedStyle(gd).display;\n",
       "        if (!display || display === 'none') {{\n",
       "            console.log([gd, 'removed!']);\n",
       "            Plotly.purge(gd);\n",
       "            observer.disconnect();\n",
       "        }}\n",
       "}});\n",
       "\n",
       "// Listen for the removal of the full notebook cells\n",
       "var notebookContainer = gd.closest('#notebook-container');\n",
       "if (notebookContainer) {{\n",
       "    x.observe(notebookContainer, {childList: true});\n",
       "}}\n",
       "\n",
       "// Listen for the clearing of the current output cell\n",
       "var outputEl = gd.closest('.output');\n",
       "if (outputEl) {{\n",
       "    x.observe(outputEl, {childList: true});\n",
       "}}\n",
       "\n",
       "                        })\n",
       "                };\n",
       "                });\n",
       "            </script>\n",
       "        </div>"
      ]
     },
     "metadata": {},
     "output_type": "display_data"
    }
   ],
   "source": [
    "tokDistricts = pd.read_csv('districtsLatLong1.csv')\n",
    "fig = go.Figure(data=go.Scattergeo(\n",
    "        lon = tokDistricts['Longitude'],\n",
    "        lat = tokDistricts['Latitude'],\n",
    "        text = tokDistricts['District'],\n",
    "        mode = 'markers',\n",
    "        ))\n",
    "\n",
    "fig.update_layout(\n",
    "        geo_scope='world',\n",
    "    )\n",
    "fig.show()"
   ]
  },
  {
   "cell_type": "code",
   "execution_count": 53,
   "metadata": {},
   "outputs": [
    {
     "data": {
      "text/html": [
       "<div style=\"width:100%;\"><div style=\"position:relative;width:100%;height:0;padding-bottom:60%;\"><span style=\"color:#565656\">Make this Notebook Trusted to load map: File -> Trust Notebook</span><iframe src=\"about:blank\" style=\"position:absolute;width:100%;height:100%;left:0;top:0;border:none !important;\" data-html=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 onload=\"this.contentDocument.open();this.contentDocument.write(atob(this.getAttribute('data-html')));this.contentDocument.close();\" allowfullscreen webkitallowfullscreen mozallowfullscreen></iframe></div></div>"
      ],
      "text/plain": [
       "<folium.folium.Map at 0x242a9660808>"
      ]
     },
     "execution_count": 53,
     "metadata": {},
     "output_type": "execute_result"
    }
   ],
   "source": [
    "map_tokyo = folium.Map(location=[35.6828387, 139.7594549], zoom_start=11, tiles='https://tiles.stadiamaps.com/tiles/outdoors/{z}/{x}/{y}{r}.png', attr='https://tiles.stadiamaps.com/tiles/outdoors/{z}/{x}/{y}{r}.png')\n",
    "\n",
    "# add markers to map\n",
    "for lat, lng, borough, neighborhood in zip(tokDistricts['Latitude'], tokDistricts['Longitude'], tokDistricts['Ward'], tokDistricts['District']):\n",
    "    label = '{}, {}'.format(neighborhood, borough)\n",
    "    label = folium.Popup(label, parse_html=True)\n",
    "    folium.CircleMarker(\n",
    "        [lat, lng],\n",
    "        radius=5,\n",
    "        popup=label,\n",
    "        color='blue',\n",
    "        fill=True,\n",
    "        fill_color='#3186cc',\n",
    "        fill_opacity=0.7,\n",
    "        parse_html=False).add_to(map_tokyo)  \n",
    "    \n",
    "map_tokyo"
   ]
  },
  {
   "cell_type": "code",
   "execution_count": null,
   "metadata": {},
   "outputs": [],
   "source": [
    "world_map.choropleth(\n",
    "    geo_data=map_tokyo,\n",
    "    data=df_can,\n",
    "    columns=['Country', 'Total'],\n",
    "    key_on='feature.properties.name',\n",
    "    fill_color='YlOrRd', \n",
    "    fill_opacity=0.7, \n",
    "    line_opacity=0.2,\n",
    "    legend_name='Immigration to Canada'\n",
    ")\n",
    "\n",
    "# display map\n",
    "world_map"
   ]
  },
  {
   "cell_type": "code",
   "execution_count": 25,
   "metadata": {},
   "outputs": [],
   "source": [
    "import geopandas as gpd"
   ]
  },
  {
   "cell_type": "code",
   "execution_count": 26,
   "metadata": {},
   "outputs": [],
   "source": [
    "%matplotlib inline"
   ]
  },
  {
   "cell_type": "code",
   "execution_count": 27,
   "metadata": {},
   "outputs": [],
   "source": [
    "plt.rcParams['figure.figsize'] = (20, 10)"
   ]
  },
  {
   "cell_type": "code",
   "execution_count": 29,
   "metadata": {},
   "outputs": [
    {
     "ename": "AttributeError",
     "evalue": "'str' object has no attribute 'plot'",
     "output_type": "error",
     "traceback": [
      "\u001b[1;31m---------------------------------------------------------------------------\u001b[0m",
      "\u001b[1;31mAttributeError\u001b[0m                            Traceback (most recent call last)",
      "\u001b[1;32m<ipython-input-29-b2d6a3fd131d>\u001b[0m in \u001b[0;36m<module>\u001b[1;34m\u001b[0m\n\u001b[0;32m      1\u001b[0m \u001b[0mgpd\u001b[0m\u001b[1;33m.\u001b[0m\u001b[0mread_file\u001b[0m\u001b[1;33m(\u001b[0m\u001b[1;34m'land-master/land-master/tokyo2.geojson'\u001b[0m\u001b[1;33m)\u001b[0m\u001b[1;33m\u001b[0m\u001b[1;33m\u001b[0m\u001b[0m\n\u001b[1;32m----> 2\u001b[1;33m \u001b[0max\u001b[0m \u001b[1;33m=\u001b[0m \u001b[0mtokyo_geo\u001b[0m\u001b[1;33m.\u001b[0m\u001b[0mplot\u001b[0m\u001b[1;33m(\u001b[0m\u001b[0mcolor\u001b[0m\u001b[1;33m=\u001b[0m\u001b[1;34m'blue'\u001b[0m\u001b[1;33m)\u001b[0m\u001b[1;33m\u001b[0m\u001b[1;33m\u001b[0m\u001b[0m\n\u001b[0m",
      "\u001b[1;31mAttributeError\u001b[0m: 'str' object has no attribute 'plot'"
     ]
    }
   ],
   "source": [
    "gpd.read_file('land-master/land-master/tokyo2.geojson')\n",
    "ax = tokyo_geo.plot(color='blue')"
   ]
  }
 ],
 "metadata": {
  "kernelspec": {
   "display_name": "Python 3",
   "language": "python",
   "name": "python3"
  },
  "language_info": {
   "codemirror_mode": {
    "name": "ipython",
    "version": 3
   },
   "file_extension": ".py",
   "mimetype": "text/x-python",
   "name": "python",
   "nbconvert_exporter": "python",
   "pygments_lexer": "ipython3",
   "version": "3.7.6"
  }
 },
 "nbformat": 4,
 "nbformat_minor": 4
}
