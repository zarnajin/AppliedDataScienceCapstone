{
 "cells": [
  {
   "cell_type": "markdown",
   "metadata": {},
   "source": [
    "This file is just my code, the report and presentations are separate."
   ]
  },
  {
   "cell_type": "markdown",
   "metadata": {},
   "source": [
    "Below I am loading in packages that will assist me with plotting, making maps, reading geojson files, using kmeans clustering etc."
   ]
  },
  {
   "cell_type": "code",
   "execution_count": 1,
   "metadata": {},
   "outputs": [],
   "source": [
    "import matplotlib.cm as cm\n",
    "import matplotlib.colors as colors\n",
    "import pandas as pd\n",
    "import numpy as np\n",
    "from sklearn.cluster import KMeans\n",
    "import folium\n",
    "from geopy.geocoders import Nominatim\n",
    "import json # library to handle JSON files\n",
    "import requests # library to handle requests\n",
    "from pandas.io.json import json_normalize # tranform JSON file into a pandas dataframe\n",
    "import cv2\n",
    "import matplotlib.pyplot as plt"
   ]
  },
  {
   "cell_type": "markdown",
   "metadata": {},
   "source": [
    "First I want to open a data frame that includes information on Tokyo wards, their population, and their density."
   ]
  },
  {
   "cell_type": "code",
   "execution_count": 31,
   "metadata": {},
   "outputs": [
    {
     "data": {
      "text/html": [
       "<div>\n",
       "<style scoped>\n",
       "    .dataframe tbody tr th:only-of-type {\n",
       "        vertical-align: middle;\n",
       "    }\n",
       "\n",
       "    .dataframe tbody tr th {\n",
       "        vertical-align: top;\n",
       "    }\n",
       "\n",
       "    .dataframe thead th {\n",
       "        text-align: right;\n",
       "    }\n",
       "</style>\n",
       "<table border=\"1\" class=\"dataframe\">\n",
       "  <thead>\n",
       "    <tr style=\"text-align: right;\">\n",
       "      <th></th>\n",
       "      <th>Ward</th>\n",
       "      <th>Population</th>\n",
       "      <th>Density</th>\n",
       "    </tr>\n",
       "  </thead>\n",
       "  <tbody>\n",
       "    <tr>\n",
       "      <th>0</th>\n",
       "      <td>Chiyoda</td>\n",
       "      <td>59441</td>\n",
       "      <td>5100</td>\n",
       "    </tr>\n",
       "    <tr>\n",
       "      <th>1</th>\n",
       "      <td>Chuo</td>\n",
       "      <td>147620</td>\n",
       "      <td>14460</td>\n",
       "    </tr>\n",
       "    <tr>\n",
       "      <th>2</th>\n",
       "      <td>Minato</td>\n",
       "      <td>248071</td>\n",
       "      <td>12180</td>\n",
       "    </tr>\n",
       "    <tr>\n",
       "      <th>3</th>\n",
       "      <td>Shinjuku</td>\n",
       "      <td>339211</td>\n",
       "      <td>18620</td>\n",
       "    </tr>\n",
       "    <tr>\n",
       "      <th>4</th>\n",
       "      <td>Bunkyo</td>\n",
       "      <td>223389</td>\n",
       "      <td>19790</td>\n",
       "    </tr>\n",
       "  </tbody>\n",
       "</table>\n",
       "</div>"
      ],
      "text/plain": [
       "       Ward  Population  Density\n",
       "0   Chiyoda       59441     5100\n",
       "1      Chuo      147620    14460\n",
       "2    Minato      248071    12180\n",
       "3  Shinjuku      339211    18620\n",
       "4    Bunkyo      223389    19790"
      ]
     },
     "execution_count": 31,
     "metadata": {},
     "output_type": "execute_result"
    }
   ],
   "source": [
    "df = pd.read_csv('Book1.csv')\n",
    "df.head()"
   ]
  },
  {
   "cell_type": "markdown",
   "metadata": {},
   "source": [
    "Next I read in the table that relates each Tokyo district to its ward."
   ]
  },
  {
   "cell_type": "code",
   "execution_count": 32,
   "metadata": {},
   "outputs": [
    {
     "data": {
      "text/html": [
       "<div>\n",
       "<style scoped>\n",
       "    .dataframe tbody tr th:only-of-type {\n",
       "        vertical-align: middle;\n",
       "    }\n",
       "\n",
       "    .dataframe tbody tr th {\n",
       "        vertical-align: top;\n",
       "    }\n",
       "\n",
       "    .dataframe thead th {\n",
       "        text-align: right;\n",
       "    }\n",
       "</style>\n",
       "<table border=\"1\" class=\"dataframe\">\n",
       "  <thead>\n",
       "    <tr style=\"text-align: right;\">\n",
       "      <th></th>\n",
       "      <th>District</th>\n",
       "      <th>Ward</th>\n",
       "    </tr>\n",
       "  </thead>\n",
       "  <tbody>\n",
       "    <tr>\n",
       "      <th>0</th>\n",
       "      <td>Nagatacho</td>\n",
       "      <td>Chiyoda</td>\n",
       "    </tr>\n",
       "    <tr>\n",
       "      <th>1</th>\n",
       "      <td>Kasumigaseki</td>\n",
       "      <td>Chiyoda</td>\n",
       "    </tr>\n",
       "    <tr>\n",
       "      <th>2</th>\n",
       "      <td>Otemachi</td>\n",
       "      <td>Chiyoda</td>\n",
       "    </tr>\n",
       "    <tr>\n",
       "      <th>3</th>\n",
       "      <td>Marunouchi</td>\n",
       "      <td>Chiyoda</td>\n",
       "    </tr>\n",
       "    <tr>\n",
       "      <th>4</th>\n",
       "      <td>Akihabara</td>\n",
       "      <td>Chiyoda</td>\n",
       "    </tr>\n",
       "  </tbody>\n",
       "</table>\n",
       "</div>"
      ],
      "text/plain": [
       "       District     Ward\n",
       "0     Nagatacho  Chiyoda\n",
       "1  Kasumigaseki  Chiyoda\n",
       "2      Otemachi  Chiyoda\n",
       "3    Marunouchi  Chiyoda\n",
       "4     Akihabara  Chiyoda"
      ]
     },
     "execution_count": 32,
     "metadata": {},
     "output_type": "execute_result"
    }
   ],
   "source": [
    "districts = pd.read_csv('districts.csv')\n",
    "districts.head()"
   ]
  },
  {
   "cell_type": "markdown",
   "metadata": {},
   "source": [
    "I can also get the latitude and longitude of Tokyo for a general map of Tokyo."
   ]
  },
  {
   "cell_type": "code",
   "execution_count": 33,
   "metadata": {},
   "outputs": [
    {
     "name": "stdout",
     "output_type": "stream",
     "text": [
      "The geograpical coordinate of Tokyo are 35.6828387, 139.7594549.\n"
     ]
    }
   ],
   "source": [
    "address = 'Tokyo, Japan'\n",
    "\n",
    "geolocator = Nominatim(user_agent=\"Tok_explorer\")\n",
    "location = geolocator.geocode(address)\n",
    "latitude = location.latitude\n",
    "longitude = location.longitude\n",
    "print('The geograpical coordinate of Tokyo are {}, {}.'.format(latitude, longitude))"
   ]
  },
  {
   "cell_type": "markdown",
   "metadata": {},
   "source": [
    "Next I will make a choropleth map for the density of each ward in Tokyo."
   ]
  },
  {
   "cell_type": "code",
   "execution_count": 34,
   "metadata": {},
   "outputs": [
    {
     "data": {
      "application/vnd.plotly.v1+json": {
       "config": {
        "plotlyServerURL": "https://plot.ly"
       },
       "data": [
        {
         "coloraxis": "coloraxis",
         "featureidkey": "properties.ward_en",
         "geo": "geo",
         "geojson": "land-master/land-master/tokyo2.geojson",
         "hovertemplate": "Ward=%{location}<br>Density=%{z}<extra></extra>",
         "locations": [
          "Chiyoda",
          "Chuo",
          "Minato",
          "Shinjuku",
          "Bunkyo",
          "Taito",
          "Sumida",
          "Koto",
          "Shinagawa",
          "Meguro",
          "Ota",
          "Setagaya",
          "Shibuya",
          "Nakano",
          "Suginami",
          "Toshima",
          "Kita",
          "Arakawa",
          "Itabashi",
          "Nerima",
          "Adachi",
          "Katsushika",
          "Edogawa"
         ],
         "name": "",
         "type": "choropleth",
         "z": [
          5100,
          14460,
          12180,
          18620,
          19790,
          19830,
          18910,
          12510,
          17180,
          19110,
          11910,
          15690,
          15080,
          21350,
          16750,
          22650,
          16740,
          21030,
          17670,
          15120,
          12660,
          12850,
          13750
         ]
        }
       ],
       "layout": {
        "coloraxis": {
         "colorbar": {
          "title": {
           "text": "Density"
          }
         },
         "colorscale": [
          [
           0,
           "#0d0887"
          ],
          [
           0.1111111111111111,
           "#46039f"
          ],
          [
           0.2222222222222222,
           "#7201a8"
          ],
          [
           0.3333333333333333,
           "#9c179e"
          ],
          [
           0.4444444444444444,
           "#bd3786"
          ],
          [
           0.5555555555555556,
           "#d8576b"
          ],
          [
           0.6666666666666666,
           "#ed7953"
          ],
          [
           0.7777777777777778,
           "#fb9f3a"
          ],
          [
           0.8888888888888888,
           "#fdca26"
          ],
          [
           1,
           "#f0f921"
          ]
         ]
        },
        "geo": {
         "center": {},
         "domain": {
          "x": [
           0,
           1
          ],
          "y": [
           0,
           1
          ]
         },
         "fitbounds": "locations",
         "projection": {
          "type": "mercator"
         },
         "visible": false
        },
        "legend": {
         "tracegroupgap": 0
        },
        "margin": {
         "b": 0,
         "l": 0,
         "r": 0,
         "t": 0
        },
        "template": {
         "data": {
          "bar": [
           {
            "error_x": {
             "color": "#2a3f5f"
            },
            "error_y": {
             "color": "#2a3f5f"
            },
            "marker": {
             "line": {
              "color": "#E5ECF6",
              "width": 0.5
             }
            },
            "type": "bar"
           }
          ],
          "barpolar": [
           {
            "marker": {
             "line": {
              "color": "#E5ECF6",
              "width": 0.5
             }
            },
            "type": "barpolar"
           }
          ],
          "carpet": [
           {
            "aaxis": {
             "endlinecolor": "#2a3f5f",
             "gridcolor": "white",
             "linecolor": "white",
             "minorgridcolor": "white",
             "startlinecolor": "#2a3f5f"
            },
            "baxis": {
             "endlinecolor": "#2a3f5f",
             "gridcolor": "white",
             "linecolor": "white",
             "minorgridcolor": "white",
             "startlinecolor": "#2a3f5f"
            },
            "type": "carpet"
           }
          ],
          "choropleth": [
           {
            "colorbar": {
             "outlinewidth": 0,
             "ticks": ""
            },
            "type": "choropleth"
           }
          ],
          "contour": [
           {
            "colorbar": {
             "outlinewidth": 0,
             "ticks": ""
            },
            "colorscale": [
             [
              0,
              "#0d0887"
             ],
             [
              0.1111111111111111,
              "#46039f"
             ],
             [
              0.2222222222222222,
              "#7201a8"
             ],
             [
              0.3333333333333333,
              "#9c179e"
             ],
             [
              0.4444444444444444,
              "#bd3786"
             ],
             [
              0.5555555555555556,
              "#d8576b"
             ],
             [
              0.6666666666666666,
              "#ed7953"
             ],
             [
              0.7777777777777778,
              "#fb9f3a"
             ],
             [
              0.8888888888888888,
              "#fdca26"
             ],
             [
              1,
              "#f0f921"
             ]
            ],
            "type": "contour"
           }
          ],
          "contourcarpet": [
           {
            "colorbar": {
             "outlinewidth": 0,
             "ticks": ""
            },
            "type": "contourcarpet"
           }
          ],
          "heatmap": [
           {
            "colorbar": {
             "outlinewidth": 0,
             "ticks": ""
            },
            "colorscale": [
             [
              0,
              "#0d0887"
             ],
             [
              0.1111111111111111,
              "#46039f"
             ],
             [
              0.2222222222222222,
              "#7201a8"
             ],
             [
              0.3333333333333333,
              "#9c179e"
             ],
             [
              0.4444444444444444,
              "#bd3786"
             ],
             [
              0.5555555555555556,
              "#d8576b"
             ],
             [
              0.6666666666666666,
              "#ed7953"
             ],
             [
              0.7777777777777778,
              "#fb9f3a"
             ],
             [
              0.8888888888888888,
              "#fdca26"
             ],
             [
              1,
              "#f0f921"
             ]
            ],
            "type": "heatmap"
           }
          ],
          "heatmapgl": [
           {
            "colorbar": {
             "outlinewidth": 0,
             "ticks": ""
            },
            "colorscale": [
             [
              0,
              "#0d0887"
             ],
             [
              0.1111111111111111,
              "#46039f"
             ],
             [
              0.2222222222222222,
              "#7201a8"
             ],
             [
              0.3333333333333333,
              "#9c179e"
             ],
             [
              0.4444444444444444,
              "#bd3786"
             ],
             [
              0.5555555555555556,
              "#d8576b"
             ],
             [
              0.6666666666666666,
              "#ed7953"
             ],
             [
              0.7777777777777778,
              "#fb9f3a"
             ],
             [
              0.8888888888888888,
              "#fdca26"
             ],
             [
              1,
              "#f0f921"
             ]
            ],
            "type": "heatmapgl"
           }
          ],
          "histogram": [
           {
            "marker": {
             "colorbar": {
              "outlinewidth": 0,
              "ticks": ""
             }
            },
            "type": "histogram"
           }
          ],
          "histogram2d": [
           {
            "colorbar": {
             "outlinewidth": 0,
             "ticks": ""
            },
            "colorscale": [
             [
              0,
              "#0d0887"
             ],
             [
              0.1111111111111111,
              "#46039f"
             ],
             [
              0.2222222222222222,
              "#7201a8"
             ],
             [
              0.3333333333333333,
              "#9c179e"
             ],
             [
              0.4444444444444444,
              "#bd3786"
             ],
             [
              0.5555555555555556,
              "#d8576b"
             ],
             [
              0.6666666666666666,
              "#ed7953"
             ],
             [
              0.7777777777777778,
              "#fb9f3a"
             ],
             [
              0.8888888888888888,
              "#fdca26"
             ],
             [
              1,
              "#f0f921"
             ]
            ],
            "type": "histogram2d"
           }
          ],
          "histogram2dcontour": [
           {
            "colorbar": {
             "outlinewidth": 0,
             "ticks": ""
            },
            "colorscale": [
             [
              0,
              "#0d0887"
             ],
             [
              0.1111111111111111,
              "#46039f"
             ],
             [
              0.2222222222222222,
              "#7201a8"
             ],
             [
              0.3333333333333333,
              "#9c179e"
             ],
             [
              0.4444444444444444,
              "#bd3786"
             ],
             [
              0.5555555555555556,
              "#d8576b"
             ],
             [
              0.6666666666666666,
              "#ed7953"
             ],
             [
              0.7777777777777778,
              "#fb9f3a"
             ],
             [
              0.8888888888888888,
              "#fdca26"
             ],
             [
              1,
              "#f0f921"
             ]
            ],
            "type": "histogram2dcontour"
           }
          ],
          "mesh3d": [
           {
            "colorbar": {
             "outlinewidth": 0,
             "ticks": ""
            },
            "type": "mesh3d"
           }
          ],
          "parcoords": [
           {
            "line": {
             "colorbar": {
              "outlinewidth": 0,
              "ticks": ""
             }
            },
            "type": "parcoords"
           }
          ],
          "pie": [
           {
            "automargin": true,
            "type": "pie"
           }
          ],
          "scatter": [
           {
            "marker": {
             "colorbar": {
              "outlinewidth": 0,
              "ticks": ""
             }
            },
            "type": "scatter"
           }
          ],
          "scatter3d": [
           {
            "line": {
             "colorbar": {
              "outlinewidth": 0,
              "ticks": ""
             }
            },
            "marker": {
             "colorbar": {
              "outlinewidth": 0,
              "ticks": ""
             }
            },
            "type": "scatter3d"
           }
          ],
          "scattercarpet": [
           {
            "marker": {
             "colorbar": {
              "outlinewidth": 0,
              "ticks": ""
             }
            },
            "type": "scattercarpet"
           }
          ],
          "scattergeo": [
           {
            "marker": {
             "colorbar": {
              "outlinewidth": 0,
              "ticks": ""
             }
            },
            "type": "scattergeo"
           }
          ],
          "scattergl": [
           {
            "marker": {
             "colorbar": {
              "outlinewidth": 0,
              "ticks": ""
             }
            },
            "type": "scattergl"
           }
          ],
          "scattermapbox": [
           {
            "marker": {
             "colorbar": {
              "outlinewidth": 0,
              "ticks": ""
             }
            },
            "type": "scattermapbox"
           }
          ],
          "scatterpolar": [
           {
            "marker": {
             "colorbar": {
              "outlinewidth": 0,
              "ticks": ""
             }
            },
            "type": "scatterpolar"
           }
          ],
          "scatterpolargl": [
           {
            "marker": {
             "colorbar": {
              "outlinewidth": 0,
              "ticks": ""
             }
            },
            "type": "scatterpolargl"
           }
          ],
          "scatterternary": [
           {
            "marker": {
             "colorbar": {
              "outlinewidth": 0,
              "ticks": ""
             }
            },
            "type": "scatterternary"
           }
          ],
          "surface": [
           {
            "colorbar": {
             "outlinewidth": 0,
             "ticks": ""
            },
            "colorscale": [
             [
              0,
              "#0d0887"
             ],
             [
              0.1111111111111111,
              "#46039f"
             ],
             [
              0.2222222222222222,
              "#7201a8"
             ],
             [
              0.3333333333333333,
              "#9c179e"
             ],
             [
              0.4444444444444444,
              "#bd3786"
             ],
             [
              0.5555555555555556,
              "#d8576b"
             ],
             [
              0.6666666666666666,
              "#ed7953"
             ],
             [
              0.7777777777777778,
              "#fb9f3a"
             ],
             [
              0.8888888888888888,
              "#fdca26"
             ],
             [
              1,
              "#f0f921"
             ]
            ],
            "type": "surface"
           }
          ],
          "table": [
           {
            "cells": {
             "fill": {
              "color": "#EBF0F8"
             },
             "line": {
              "color": "white"
             }
            },
            "header": {
             "fill": {
              "color": "#C8D4E3"
             },
             "line": {
              "color": "white"
             }
            },
            "type": "table"
           }
          ]
         },
         "layout": {
          "annotationdefaults": {
           "arrowcolor": "#2a3f5f",
           "arrowhead": 0,
           "arrowwidth": 1
          },
          "coloraxis": {
           "colorbar": {
            "outlinewidth": 0,
            "ticks": ""
           }
          },
          "colorscale": {
           "diverging": [
            [
             0,
             "#8e0152"
            ],
            [
             0.1,
             "#c51b7d"
            ],
            [
             0.2,
             "#de77ae"
            ],
            [
             0.3,
             "#f1b6da"
            ],
            [
             0.4,
             "#fde0ef"
            ],
            [
             0.5,
             "#f7f7f7"
            ],
            [
             0.6,
             "#e6f5d0"
            ],
            [
             0.7,
             "#b8e186"
            ],
            [
             0.8,
             "#7fbc41"
            ],
            [
             0.9,
             "#4d9221"
            ],
            [
             1,
             "#276419"
            ]
           ],
           "sequential": [
            [
             0,
             "#0d0887"
            ],
            [
             0.1111111111111111,
             "#46039f"
            ],
            [
             0.2222222222222222,
             "#7201a8"
            ],
            [
             0.3333333333333333,
             "#9c179e"
            ],
            [
             0.4444444444444444,
             "#bd3786"
            ],
            [
             0.5555555555555556,
             "#d8576b"
            ],
            [
             0.6666666666666666,
             "#ed7953"
            ],
            [
             0.7777777777777778,
             "#fb9f3a"
            ],
            [
             0.8888888888888888,
             "#fdca26"
            ],
            [
             1,
             "#f0f921"
            ]
           ],
           "sequentialminus": [
            [
             0,
             "#0d0887"
            ],
            [
             0.1111111111111111,
             "#46039f"
            ],
            [
             0.2222222222222222,
             "#7201a8"
            ],
            [
             0.3333333333333333,
             "#9c179e"
            ],
            [
             0.4444444444444444,
             "#bd3786"
            ],
            [
             0.5555555555555556,
             "#d8576b"
            ],
            [
             0.6666666666666666,
             "#ed7953"
            ],
            [
             0.7777777777777778,
             "#fb9f3a"
            ],
            [
             0.8888888888888888,
             "#fdca26"
            ],
            [
             1,
             "#f0f921"
            ]
           ]
          },
          "colorway": [
           "#636efa",
           "#EF553B",
           "#00cc96",
           "#ab63fa",
           "#FFA15A",
           "#19d3f3",
           "#FF6692",
           "#B6E880",
           "#FF97FF",
           "#FECB52"
          ],
          "font": {
           "color": "#2a3f5f"
          },
          "geo": {
           "bgcolor": "white",
           "lakecolor": "white",
           "landcolor": "#E5ECF6",
           "showlakes": true,
           "showland": true,
           "subunitcolor": "white"
          },
          "hoverlabel": {
           "align": "left"
          },
          "hovermode": "closest",
          "mapbox": {
           "style": "light"
          },
          "paper_bgcolor": "white",
          "plot_bgcolor": "#E5ECF6",
          "polar": {
           "angularaxis": {
            "gridcolor": "white",
            "linecolor": "white",
            "ticks": ""
           },
           "bgcolor": "#E5ECF6",
           "radialaxis": {
            "gridcolor": "white",
            "linecolor": "white",
            "ticks": ""
           }
          },
          "scene": {
           "xaxis": {
            "backgroundcolor": "#E5ECF6",
            "gridcolor": "white",
            "gridwidth": 2,
            "linecolor": "white",
            "showbackground": true,
            "ticks": "",
            "zerolinecolor": "white"
           },
           "yaxis": {
            "backgroundcolor": "#E5ECF6",
            "gridcolor": "white",
            "gridwidth": 2,
            "linecolor": "white",
            "showbackground": true,
            "ticks": "",
            "zerolinecolor": "white"
           },
           "zaxis": {
            "backgroundcolor": "#E5ECF6",
            "gridcolor": "white",
            "gridwidth": 2,
            "linecolor": "white",
            "showbackground": true,
            "ticks": "",
            "zerolinecolor": "white"
           }
          },
          "shapedefaults": {
           "line": {
            "color": "#2a3f5f"
           }
          },
          "ternary": {
           "aaxis": {
            "gridcolor": "white",
            "linecolor": "white",
            "ticks": ""
           },
           "baxis": {
            "gridcolor": "white",
            "linecolor": "white",
            "ticks": ""
           },
           "bgcolor": "#E5ECF6",
           "caxis": {
            "gridcolor": "white",
            "linecolor": "white",
            "ticks": ""
           }
          },
          "title": {
           "x": 0.05
          },
          "xaxis": {
           "automargin": true,
           "gridcolor": "white",
           "linecolor": "white",
           "ticks": "",
           "title": {
            "standoff": 15
           },
           "zerolinecolor": "white",
           "zerolinewidth": 2
          },
          "yaxis": {
           "automargin": true,
           "gridcolor": "white",
           "linecolor": "white",
           "ticks": "",
           "title": {
            "standoff": 15
           },
           "zerolinecolor": "white",
           "zerolinewidth": 2
          }
         }
        }
       }
      },
      "text/html": [
       "<div>\n",
       "        \n",
       "        \n",
       "            <div id=\"e58d3808-d51a-4e31-95be-058c3a25c36e\" class=\"plotly-graph-div\" style=\"height:525px; width:100%;\"></div>\n",
       "            <script type=\"text/javascript\">\n",
       "                require([\"plotly\"], function(Plotly) {\n",
       "                    window.PLOTLYENV=window.PLOTLYENV || {};\n",
       "                    \n",
       "                if (document.getElementById(\"e58d3808-d51a-4e31-95be-058c3a25c36e\")) {\n",
       "                    Plotly.newPlot(\n",
       "                        'e58d3808-d51a-4e31-95be-058c3a25c36e',\n",
       "                        [{\"coloraxis\": \"coloraxis\", \"featureidkey\": \"properties.ward_en\", \"geo\": \"geo\", \"geojson\": \"land-master/land-master/tokyo2.geojson\", \"hovertemplate\": \"Ward=%{location}<br>Density=%{z}<extra></extra>\", \"locations\": [\"Chiyoda\", \"Chuo\", \"Minato\", \"Shinjuku\", \"Bunkyo\", \"Taito\", \"Sumida\", \"Koto\", \"Shinagawa\", \"Meguro\", \"Ota\", \"Setagaya\", \"Shibuya\", \"Nakano\", \"Suginami\", \"Toshima\", \"Kita\", \"Arakawa\", \"Itabashi\", \"Nerima\", \"Adachi\", \"Katsushika\", \"Edogawa\"], \"name\": \"\", \"type\": \"choropleth\", \"z\": [5100, 14460, 12180, 18620, 19790, 19830, 18910, 12510, 17180, 19110, 11910, 15690, 15080, 21350, 16750, 22650, 16740, 21030, 17670, 15120, 12660, 12850, 13750]}],\n",
       "                        {\"coloraxis\": {\"colorbar\": {\"title\": {\"text\": \"Density\"}}, \"colorscale\": [[0.0, \"#0d0887\"], [0.1111111111111111, \"#46039f\"], [0.2222222222222222, \"#7201a8\"], [0.3333333333333333, \"#9c179e\"], [0.4444444444444444, \"#bd3786\"], [0.5555555555555556, \"#d8576b\"], [0.6666666666666666, \"#ed7953\"], [0.7777777777777778, \"#fb9f3a\"], [0.8888888888888888, \"#fdca26\"], [1.0, \"#f0f921\"]]}, \"geo\": {\"center\": {}, \"domain\": {\"x\": [0.0, 1.0], \"y\": [0.0, 1.0]}, \"fitbounds\": \"locations\", \"projection\": {\"type\": \"mercator\"}, \"visible\": false}, \"legend\": {\"tracegroupgap\": 0}, \"margin\": {\"b\": 0, \"l\": 0, \"r\": 0, \"t\": 0}, \"template\": {\"data\": {\"bar\": [{\"error_x\": {\"color\": \"#2a3f5f\"}, \"error_y\": {\"color\": \"#2a3f5f\"}, \"marker\": {\"line\": {\"color\": \"#E5ECF6\", \"width\": 0.5}}, \"type\": \"bar\"}], \"barpolar\": [{\"marker\": {\"line\": {\"color\": \"#E5ECF6\", \"width\": 0.5}}, \"type\": \"barpolar\"}], \"carpet\": [{\"aaxis\": {\"endlinecolor\": \"#2a3f5f\", \"gridcolor\": \"white\", \"linecolor\": \"white\", \"minorgridcolor\": \"white\", \"startlinecolor\": \"#2a3f5f\"}, \"baxis\": {\"endlinecolor\": \"#2a3f5f\", \"gridcolor\": \"white\", \"linecolor\": \"white\", \"minorgridcolor\": \"white\", \"startlinecolor\": \"#2a3f5f\"}, \"type\": \"carpet\"}], \"choropleth\": [{\"colorbar\": {\"outlinewidth\": 0, \"ticks\": \"\"}, \"type\": \"choropleth\"}], \"contour\": [{\"colorbar\": {\"outlinewidth\": 0, \"ticks\": \"\"}, \"colorscale\": [[0.0, \"#0d0887\"], [0.1111111111111111, \"#46039f\"], [0.2222222222222222, \"#7201a8\"], [0.3333333333333333, \"#9c179e\"], [0.4444444444444444, \"#bd3786\"], [0.5555555555555556, \"#d8576b\"], [0.6666666666666666, \"#ed7953\"], [0.7777777777777778, \"#fb9f3a\"], [0.8888888888888888, \"#fdca26\"], [1.0, \"#f0f921\"]], \"type\": \"contour\"}], \"contourcarpet\": [{\"colorbar\": {\"outlinewidth\": 0, \"ticks\": \"\"}, \"type\": \"contourcarpet\"}], \"heatmap\": [{\"colorbar\": {\"outlinewidth\": 0, \"ticks\": \"\"}, \"colorscale\": [[0.0, \"#0d0887\"], [0.1111111111111111, \"#46039f\"], [0.2222222222222222, \"#7201a8\"], [0.3333333333333333, \"#9c179e\"], [0.4444444444444444, \"#bd3786\"], [0.5555555555555556, \"#d8576b\"], [0.6666666666666666, \"#ed7953\"], [0.7777777777777778, \"#fb9f3a\"], [0.8888888888888888, \"#fdca26\"], [1.0, \"#f0f921\"]], \"type\": \"heatmap\"}], \"heatmapgl\": [{\"colorbar\": {\"outlinewidth\": 0, \"ticks\": \"\"}, \"colorscale\": [[0.0, \"#0d0887\"], [0.1111111111111111, \"#46039f\"], [0.2222222222222222, \"#7201a8\"], [0.3333333333333333, \"#9c179e\"], [0.4444444444444444, \"#bd3786\"], [0.5555555555555556, \"#d8576b\"], [0.6666666666666666, \"#ed7953\"], [0.7777777777777778, \"#fb9f3a\"], [0.8888888888888888, \"#fdca26\"], [1.0, \"#f0f921\"]], \"type\": \"heatmapgl\"}], \"histogram\": [{\"marker\": {\"colorbar\": {\"outlinewidth\": 0, \"ticks\": \"\"}}, \"type\": \"histogram\"}], \"histogram2d\": [{\"colorbar\": {\"outlinewidth\": 0, \"ticks\": \"\"}, \"colorscale\": [[0.0, \"#0d0887\"], [0.1111111111111111, \"#46039f\"], [0.2222222222222222, \"#7201a8\"], [0.3333333333333333, \"#9c179e\"], [0.4444444444444444, \"#bd3786\"], [0.5555555555555556, \"#d8576b\"], [0.6666666666666666, \"#ed7953\"], [0.7777777777777778, \"#fb9f3a\"], [0.8888888888888888, \"#fdca26\"], [1.0, \"#f0f921\"]], \"type\": \"histogram2d\"}], \"histogram2dcontour\": [{\"colorbar\": {\"outlinewidth\": 0, \"ticks\": \"\"}, \"colorscale\": [[0.0, \"#0d0887\"], [0.1111111111111111, \"#46039f\"], [0.2222222222222222, \"#7201a8\"], [0.3333333333333333, \"#9c179e\"], [0.4444444444444444, \"#bd3786\"], [0.5555555555555556, \"#d8576b\"], [0.6666666666666666, \"#ed7953\"], [0.7777777777777778, \"#fb9f3a\"], [0.8888888888888888, \"#fdca26\"], [1.0, \"#f0f921\"]], \"type\": \"histogram2dcontour\"}], \"mesh3d\": [{\"colorbar\": {\"outlinewidth\": 0, \"ticks\": \"\"}, \"type\": \"mesh3d\"}], \"parcoords\": [{\"line\": {\"colorbar\": {\"outlinewidth\": 0, \"ticks\": \"\"}}, \"type\": \"parcoords\"}], \"pie\": [{\"automargin\": true, \"type\": \"pie\"}], \"scatter\": [{\"marker\": {\"colorbar\": {\"outlinewidth\": 0, \"ticks\": \"\"}}, \"type\": \"scatter\"}], \"scatter3d\": [{\"line\": {\"colorbar\": {\"outlinewidth\": 0, \"ticks\": \"\"}}, \"marker\": {\"colorbar\": {\"outlinewidth\": 0, \"ticks\": \"\"}}, \"type\": \"scatter3d\"}], \"scattercarpet\": [{\"marker\": {\"colorbar\": {\"outlinewidth\": 0, \"ticks\": \"\"}}, \"type\": \"scattercarpet\"}], \"scattergeo\": [{\"marker\": {\"colorbar\": {\"outlinewidth\": 0, \"ticks\": \"\"}}, \"type\": \"scattergeo\"}], \"scattergl\": [{\"marker\": {\"colorbar\": {\"outlinewidth\": 0, \"ticks\": \"\"}}, \"type\": \"scattergl\"}], \"scattermapbox\": [{\"marker\": {\"colorbar\": {\"outlinewidth\": 0, \"ticks\": \"\"}}, \"type\": \"scattermapbox\"}], \"scatterpolar\": [{\"marker\": {\"colorbar\": {\"outlinewidth\": 0, \"ticks\": \"\"}}, \"type\": \"scatterpolar\"}], \"scatterpolargl\": [{\"marker\": {\"colorbar\": {\"outlinewidth\": 0, \"ticks\": \"\"}}, \"type\": \"scatterpolargl\"}], \"scatterternary\": [{\"marker\": {\"colorbar\": {\"outlinewidth\": 0, \"ticks\": \"\"}}, \"type\": \"scatterternary\"}], \"surface\": [{\"colorbar\": {\"outlinewidth\": 0, \"ticks\": \"\"}, \"colorscale\": [[0.0, \"#0d0887\"], [0.1111111111111111, \"#46039f\"], [0.2222222222222222, \"#7201a8\"], [0.3333333333333333, \"#9c179e\"], [0.4444444444444444, \"#bd3786\"], [0.5555555555555556, \"#d8576b\"], [0.6666666666666666, \"#ed7953\"], [0.7777777777777778, \"#fb9f3a\"], [0.8888888888888888, \"#fdca26\"], [1.0, \"#f0f921\"]], \"type\": \"surface\"}], \"table\": [{\"cells\": {\"fill\": {\"color\": \"#EBF0F8\"}, \"line\": {\"color\": \"white\"}}, \"header\": {\"fill\": {\"color\": \"#C8D4E3\"}, \"line\": {\"color\": \"white\"}}, \"type\": \"table\"}]}, \"layout\": {\"annotationdefaults\": {\"arrowcolor\": \"#2a3f5f\", \"arrowhead\": 0, \"arrowwidth\": 1}, \"coloraxis\": {\"colorbar\": {\"outlinewidth\": 0, \"ticks\": \"\"}}, \"colorscale\": {\"diverging\": [[0, \"#8e0152\"], [0.1, \"#c51b7d\"], [0.2, \"#de77ae\"], [0.3, \"#f1b6da\"], [0.4, \"#fde0ef\"], [0.5, \"#f7f7f7\"], [0.6, \"#e6f5d0\"], [0.7, \"#b8e186\"], [0.8, \"#7fbc41\"], [0.9, \"#4d9221\"], [1, \"#276419\"]], \"sequential\": [[0.0, \"#0d0887\"], [0.1111111111111111, \"#46039f\"], [0.2222222222222222, \"#7201a8\"], [0.3333333333333333, \"#9c179e\"], [0.4444444444444444, \"#bd3786\"], [0.5555555555555556, \"#d8576b\"], [0.6666666666666666, \"#ed7953\"], [0.7777777777777778, \"#fb9f3a\"], [0.8888888888888888, \"#fdca26\"], [1.0, \"#f0f921\"]], \"sequentialminus\": [[0.0, \"#0d0887\"], [0.1111111111111111, \"#46039f\"], [0.2222222222222222, \"#7201a8\"], [0.3333333333333333, \"#9c179e\"], [0.4444444444444444, \"#bd3786\"], [0.5555555555555556, \"#d8576b\"], [0.6666666666666666, \"#ed7953\"], [0.7777777777777778, \"#fb9f3a\"], [0.8888888888888888, \"#fdca26\"], [1.0, \"#f0f921\"]]}, \"colorway\": [\"#636efa\", \"#EF553B\", \"#00cc96\", \"#ab63fa\", \"#FFA15A\", \"#19d3f3\", \"#FF6692\", \"#B6E880\", \"#FF97FF\", \"#FECB52\"], \"font\": {\"color\": \"#2a3f5f\"}, \"geo\": {\"bgcolor\": \"white\", \"lakecolor\": \"white\", \"landcolor\": \"#E5ECF6\", \"showlakes\": true, \"showland\": true, \"subunitcolor\": \"white\"}, \"hoverlabel\": {\"align\": \"left\"}, \"hovermode\": \"closest\", \"mapbox\": {\"style\": \"light\"}, \"paper_bgcolor\": \"white\", \"plot_bgcolor\": \"#E5ECF6\", \"polar\": {\"angularaxis\": {\"gridcolor\": \"white\", \"linecolor\": \"white\", \"ticks\": \"\"}, \"bgcolor\": \"#E5ECF6\", \"radialaxis\": {\"gridcolor\": \"white\", \"linecolor\": \"white\", \"ticks\": \"\"}}, \"scene\": {\"xaxis\": {\"backgroundcolor\": \"#E5ECF6\", \"gridcolor\": \"white\", \"gridwidth\": 2, \"linecolor\": \"white\", \"showbackground\": true, \"ticks\": \"\", \"zerolinecolor\": \"white\"}, \"yaxis\": {\"backgroundcolor\": \"#E5ECF6\", \"gridcolor\": \"white\", \"gridwidth\": 2, \"linecolor\": \"white\", \"showbackground\": true, \"ticks\": \"\", \"zerolinecolor\": \"white\"}, \"zaxis\": {\"backgroundcolor\": \"#E5ECF6\", \"gridcolor\": \"white\", \"gridwidth\": 2, \"linecolor\": \"white\", \"showbackground\": true, \"ticks\": \"\", \"zerolinecolor\": \"white\"}}, \"shapedefaults\": {\"line\": {\"color\": \"#2a3f5f\"}}, \"ternary\": {\"aaxis\": {\"gridcolor\": \"white\", \"linecolor\": \"white\", \"ticks\": \"\"}, \"baxis\": {\"gridcolor\": \"white\", \"linecolor\": \"white\", \"ticks\": \"\"}, \"bgcolor\": \"#E5ECF6\", \"caxis\": {\"gridcolor\": \"white\", \"linecolor\": \"white\", \"ticks\": \"\"}}, \"title\": {\"x\": 0.05}, \"xaxis\": {\"automargin\": true, \"gridcolor\": \"white\", \"linecolor\": \"white\", \"ticks\": \"\", \"title\": {\"standoff\": 15}, \"zerolinecolor\": \"white\", \"zerolinewidth\": 2}, \"yaxis\": {\"automargin\": true, \"gridcolor\": \"white\", \"linecolor\": \"white\", \"ticks\": \"\", \"title\": {\"standoff\": 15}, \"zerolinecolor\": \"white\", \"zerolinewidth\": 2}}}},\n",
       "                        {\"responsive\": true}\n",
       "                    ).then(function(){\n",
       "                            \n",
       "var gd = document.getElementById('e58d3808-d51a-4e31-95be-058c3a25c36e');\n",
       "var x = new MutationObserver(function (mutations, observer) {{\n",
       "        var display = window.getComputedStyle(gd).display;\n",
       "        if (!display || display === 'none') {{\n",
       "            console.log([gd, 'removed!']);\n",
       "            Plotly.purge(gd);\n",
       "            observer.disconnect();\n",
       "        }}\n",
       "}});\n",
       "\n",
       "// Listen for the removal of the full notebook cells\n",
       "var notebookContainer = gd.closest('#notebook-container');\n",
       "if (notebookContainer) {{\n",
       "    x.observe(notebookContainer, {childList: true});\n",
       "}}\n",
       "\n",
       "// Listen for the clearing of the current output cell\n",
       "var outputEl = gd.closest('.output');\n",
       "if (outputEl) {{\n",
       "    x.observe(outputEl, {childList: true});\n",
       "}}\n",
       "\n",
       "                        })\n",
       "                };\n",
       "                });\n",
       "            </script>\n",
       "        </div>"
      ]
     },
     "metadata": {},
     "output_type": "display_data"
    }
   ],
   "source": [
    "import plotly.express as px\n",
    "import geopandas as gpd\n",
    "tokyo_geo = r'land-master/land-master/tokyo2.geojson'\n",
    "#tokyo_geo = gpd.read_file('land-master/land-master/tokyo2.geojson')\n",
    "fig = px.choropleth(df, geojson=tokyo_geo, color=\"Density\",\n",
    "                    locations=\"Ward\", featureidkey=\"properties.ward_en\",\n",
    "                    projection=\"mercator\"\n",
    "                   )\n",
    "fig.update_geos(fitbounds=\"locations\", visible=False)\n",
    "fig.update_layout(margin={\"r\":0,\"t\":0,\"l\":0,\"b\":0})\n",
    "fig.show()"
   ]
  },
  {
   "cell_type": "markdown",
   "metadata": {},
   "source": [
    "Then I want to get the latitude and longitude associated with each district by using geocoders."
   ]
  },
  {
   "cell_type": "code",
   "execution_count": 35,
   "metadata": {},
   "outputs": [],
   "source": [
    "from geopy.geocoders import Nominatim\n",
    "geolocator = Nominatim(user_agent=\"Tokyo_explorer\")\n",
    "latitude = []\n",
    "longitude = []\n",
    "for i in districts['District']:\n",
    "    try:\n",
    "        location = geolocator.geocode(i)\n",
    "        latitude.append(location.latitude)\n",
    "        longitude.append(location.longitude)\n",
    "    except: \n",
    "        latitude.append(np.nan)\n",
    "        longitude.append(np.nan)\n"
   ]
  },
  {
   "cell_type": "code",
   "execution_count": 36,
   "metadata": {},
   "outputs": [],
   "source": [
    "latitude = pd.DataFrame(latitude)\n",
    "longitude = pd.DataFrame(longitude)"
   ]
  },
  {
   "cell_type": "code",
   "execution_count": 37,
   "metadata": {},
   "outputs": [
    {
     "data": {
      "text/html": [
       "<div>\n",
       "<style scoped>\n",
       "    .dataframe tbody tr th:only-of-type {\n",
       "        vertical-align: middle;\n",
       "    }\n",
       "\n",
       "    .dataframe tbody tr th {\n",
       "        vertical-align: top;\n",
       "    }\n",
       "\n",
       "    .dataframe thead th {\n",
       "        text-align: right;\n",
       "    }\n",
       "</style>\n",
       "<table border=\"1\" class=\"dataframe\">\n",
       "  <thead>\n",
       "    <tr style=\"text-align: right;\">\n",
       "      <th></th>\n",
       "      <th>District</th>\n",
       "      <th>Ward</th>\n",
       "      <th>Longitude</th>\n",
       "      <th>Latitude</th>\n",
       "    </tr>\n",
       "  </thead>\n",
       "  <tbody>\n",
       "    <tr>\n",
       "      <th>0</th>\n",
       "      <td>Nagatacho</td>\n",
       "      <td>Chiyoda</td>\n",
       "      <td>139.743469</td>\n",
       "      <td>35.675618</td>\n",
       "    </tr>\n",
       "    <tr>\n",
       "      <th>1</th>\n",
       "      <td>Kasumigaseki</td>\n",
       "      <td>Chiyoda</td>\n",
       "      <td>139.750972</td>\n",
       "      <td>35.674054</td>\n",
       "    </tr>\n",
       "    <tr>\n",
       "      <th>2</th>\n",
       "      <td>Otemachi</td>\n",
       "      <td>Chiyoda</td>\n",
       "      <td>139.766224</td>\n",
       "      <td>35.686788</td>\n",
       "    </tr>\n",
       "    <tr>\n",
       "      <th>3</th>\n",
       "      <td>Marunouchi</td>\n",
       "      <td>Chiyoda</td>\n",
       "      <td>139.765222</td>\n",
       "      <td>35.680656</td>\n",
       "    </tr>\n",
       "    <tr>\n",
       "      <th>4</th>\n",
       "      <td>Akihabara</td>\n",
       "      <td>Chiyoda</td>\n",
       "      <td>139.771250</td>\n",
       "      <td>35.699736</td>\n",
       "    </tr>\n",
       "  </tbody>\n",
       "</table>\n",
       "</div>"
      ],
      "text/plain": [
       "       District     Ward   Longitude   Latitude\n",
       "0     Nagatacho  Chiyoda  139.743469  35.675618\n",
       "1  Kasumigaseki  Chiyoda  139.750972  35.674054\n",
       "2      Otemachi  Chiyoda  139.766224  35.686788\n",
       "3    Marunouchi  Chiyoda  139.765222  35.680656\n",
       "4     Akihabara  Chiyoda  139.771250  35.699736"
      ]
     },
     "execution_count": 37,
     "metadata": {},
     "output_type": "execute_result"
    }
   ],
   "source": [
    "districts['Longitude'] = longitude\n",
    "districts['Latitude'] = latitude\n",
    "districts.head()"
   ]
  },
  {
   "cell_type": "code",
   "execution_count": 38,
   "metadata": {},
   "outputs": [],
   "source": [
    "districts.to_csv(\"districtsLatLong.csv\")"
   ]
  },
  {
   "cell_type": "code",
   "execution_count": 39,
   "metadata": {},
   "outputs": [],
   "source": [
    "districts = districts.dropna()"
   ]
  },
  {
   "cell_type": "markdown",
   "metadata": {},
   "source": [
    "Above I show the table with the final latitudes and longitudes.  I also dropped na values.  I'm going to check the latitude and longitude using several different maps and then manually correct incorrect points."
   ]
  },
  {
   "cell_type": "code",
   "execution_count": 40,
   "metadata": {},
   "outputs": [
    {
     "data": {
      "text/html": [
       "<div style=\"width:100%;\"><div style=\"position:relative;width:100%;height:0;padding-bottom:60%;\"><span style=\"color:#565656\">Make this Notebook Trusted to load map: File -> Trust Notebook</span><iframe src=\"about:blank\" style=\"position:absolute;width:100%;height:100%;left:0;top:0;border:none !important;\" data-html=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 onload=\"this.contentDocument.open();this.contentDocument.write(atob(this.getAttribute('data-html')));this.contentDocument.close();\" allowfullscreen webkitallowfullscreen mozallowfullscreen></iframe></div></div>"
      ],
      "text/plain": [
       "<folium.folium.Map at 0x1642ac22d08>"
      ]
     },
     "execution_count": 40,
     "metadata": {},
     "output_type": "execute_result"
    }
   ],
   "source": [
    "map_tokyo = folium.Map(location=[35.6828387, 139.7594549], zoom_start=8, tiles = \"StamenToner\")\n",
    "\n",
    "# add markers to map\n",
    "for lat, lng, borough, neighborhood in zip(districts['Latitude'], districts['Longitude'], districts['Ward'], districts['District']):\n",
    "    label = '{}, {}'.format(neighborhood, borough)\n",
    "    label = folium.Popup(label, parse_html=True)\n",
    "    folium.CircleMarker(\n",
    "        [lat, lng],\n",
    "        radius=5,\n",
    "        popup=label,\n",
    "        color='blue',\n",
    "        fill=True,\n",
    "        fill_color='#3186cc',\n",
    "        fill_opacity=0.7,\n",
    "        parse_html=False).add_to(map_tokyo)  \n",
    "    \n",
    "map_tokyo"
   ]
  },
  {
   "cell_type": "markdown",
   "metadata": {},
   "source": [
    "As can be seen above, several of the points are very off."
   ]
  },
  {
   "cell_type": "code",
   "execution_count": 41,
   "metadata": {},
   "outputs": [
    {
     "data": {
      "application/vnd.plotly.v1+json": {
       "config": {
        "plotlyServerURL": "https://plot.ly"
       },
       "data": [
        {
         "lat": [
          35.675618,
          35.6740542,
          35.6867882,
          35.6806555,
          35.6997364,
          35.6744233,
          35.7031684,
          29.84542725,
          35.68406775,
          35.6792703,
          35.66951555,
          35.6680853,
          35.6749851,
          43.0984454,
          35.6645143,
          35.6590031,
          34.032456,
          35.619050200000004,
          35.6651764,
          35.6551111,
          3.5000086,
          35.6624568,
          35.6701871,
          37.8986325,
          35.6564018,
          35.6937632,
          35.7126839,
          35.7007911,
          35.7039298,
          35.6915471,
          35.4738203,
          33.8379752,
          34.5437194,
          36.5143504,
          35.7117587,
          35.717528,
          35.6963122,
          35.687976,
          35.6957996,
          23.0131338,
          35.6345562,
          35.6976987,
          35.6695961,
          35.6724719,
          43.7234297,
          35.1623104,
          37.1263397,
          35.6679,
          35.9069657,
          35.6247789,
          35.599252,
          35.6254673,
          38.5770889,
          35.6048391,
          35.6076094,
          35.6205792,
          35.62125,
          35.6442023,
          42.5752348,
          35.5428783,
          35.5884735,
          35.5618856,
          35.5479444,
          35.646096,
          35.6616779,
          42.5538817,
          36.6504536,
          35.6855417,
          35.6645956,
          35.6464378,
          35.6687049,
          35.6481642,
          42.285532,
          35.6812658,
          35.6839519,
          35.718123,
          35.7049419,
          35.7048403,
          35.7044803,
          35.7304418,
          35.7365848,
          35.7382992,
          35.7334119,
          35.7781394,
          35.7523466,
          35.7373701,
          35.737529,
          35.7427407,
          35.7289204,
          35.7366615,
          35.774143,
          35.7883692,
          35.74836,
          36.2477428,
          35.7585088,
          35.4460475,
          35.754036,
          35.7945322,
          33.4817913,
          35.7456971,
          35.7666652,
          35.7564295,
          -5.3498001,
          35.7332364
         ],
         "lon": [
          139.7434685,
          139.7509719,
          139.7662244,
          139.7652217,
          139.7712503,
          139.7616737,
          139.7456774,
          79.93638832199528,
          139.77450291683806,
          139.7796515,
          139.76430559879972,
          139.772563,
          139.7770994,
          141.323772,
          139.7847168,
          139.777168,
          133.85744,
          139.77936404588297,
          139.7558355,
          139.7570622,
          -73.0000086,
          139.7334981,
          139.750056,
          139.001079,
          139.7339705,
          139.7036319,
          139.7036425,
          139.6973187,
          139.7341347,
          139.7376683,
          139.3862789,
          135.7731319,
          133.7473767,
          136.5658067,
          139.7776445,
          139.797635,
          139.8150431,
          139.7972072,
          139.7929596,
          -80.8328748,
          139.7932562,
          139.827138,
          139.8174761,
          139.7948404,
          142.0540685,
          140.1534664,
          140.2107192,
          139.7926376,
          140.1953835,
          139.7812023,
          139.73891,
          139.7243723,
          140.955454,
          139.7027094,
          139.733944,
          139.7508785,
          139.688014,
          139.6987133,
          141.9124355,
          139.5172312,
          139.7279334,
          139.7146628,
          139.7466458,
          139.65627,
          139.6663345,
          -1.5752586,
          140.1550367,
          139.4067251,
          139.6987107,
          139.7102101,
          139.7053357,
          139.7032482,
          143.3116162,
          139.7113311,
          139.7020805,
          139.664468,
          139.649909,
          139.6354724,
          139.6201587,
          139.7107453,
          139.7472412,
          139.6893888,
          139.7394273,
          139.7207999,
          139.7382749,
          139.7617151,
          139.78131,
          139.7806071,
          139.7713635,
          139.7966766,
          139.681209,
          139.6589375,
          139.638735,
          139.405421,
          139.629415,
          139.430823,
          139.804177,
          139.7907116,
          131.4781536,
          139.8561732,
          139.8478007,
          139.8752024,
          21.424098,
          139.881843
         ],
         "mode": "markers",
         "text": [
          "Nagatacho",
          "Kasumigaseki",
          "Otemachi",
          "Marunouchi",
          "Akihabara",
          "Yurakucho",
          "Iidabashi",
          "Kanda",
          "Nihonbashi",
          "Kayabacho",
          "Ginza",
          "Tsukiji",
          "Hatchobori",
          "Shinkawa",
          "Tsukishima",
          "Kachidoki",
          "Tsukuda",
          "Odaiba",
          "Shinbashi",
          "Hamamatsucho",
          "Mita",
          "Roppongi",
          "Toranomon",
          "Aoyama",
          "Azabu",
          "Shinjuku",
          "Takadanobaba",
          "Okubo",
          "Kagurazaka",
          "Ichigaya",
          "Yotsuya",
          "Hongu",
          "Yayoi",
          "Hakusan",
          "Ueno",
          "Asakusa",
          "Kinshicho",
          "Morishita",
          "Ryogoku",
          "Kiba",
          "Ariake",
          "Kameido",
          "Toyocho",
          "Monzennakacho",
          "Fukagawa",
          "Kiyosumi",
          "Shirakawa",
          "Etchujima",
          "Sunamachi",
          "Aomi",
          "Shinagawa",
          "Gotanda",
          "Osaki",
          "Hatanodai",
          "Oimachi",
          "Tennozu",
          "Meguro",
          "Nakameguro",
          "Komaba",
          "Aobadai",
          "Omori",
          "Kamata",
          "Haneda",
          "Setagaya",
          "Shimokitazawa",
          "Kinuta",
          "Karasuyama",
          "Tamagawa",
          "Shibuya",
          "Ebisu",
          "Harajuku",
          "Daikanyama",
          "Hiroo",
          "Sendagaya",
          "Yoyogi",
          "Nakano",
          "Koenji",
          "Asagaya",
          "Ogikubo",
          "Ikebukuro",
          "Komagome",
          "Senkawa",
          "Sugamo",
          "Akabane",
          "Oji",
          "Tabata",
          "Arakawa",
          "Machiya",
          "Nippori",
          "Minamisenju",
          "Itabashi",
          "Takashimadaira",
          "Nerima",
          "Oizumi",
          "Hikarigaoka",
          "Ayase",
          "Kitasenju",
          "Takenotsuka",
          "Tateishi",
          "Aoto",
          "Kameari",
          "Shibamata",
          "Kasai",
          "Koiwa"
         ],
         "type": "scattergeo"
        }
       ],
       "layout": {
        "geo": {
         "scope": "world"
        },
        "template": {
         "data": {
          "bar": [
           {
            "error_x": {
             "color": "#2a3f5f"
            },
            "error_y": {
             "color": "#2a3f5f"
            },
            "marker": {
             "line": {
              "color": "#E5ECF6",
              "width": 0.5
             }
            },
            "type": "bar"
           }
          ],
          "barpolar": [
           {
            "marker": {
             "line": {
              "color": "#E5ECF6",
              "width": 0.5
             }
            },
            "type": "barpolar"
           }
          ],
          "carpet": [
           {
            "aaxis": {
             "endlinecolor": "#2a3f5f",
             "gridcolor": "white",
             "linecolor": "white",
             "minorgridcolor": "white",
             "startlinecolor": "#2a3f5f"
            },
            "baxis": {
             "endlinecolor": "#2a3f5f",
             "gridcolor": "white",
             "linecolor": "white",
             "minorgridcolor": "white",
             "startlinecolor": "#2a3f5f"
            },
            "type": "carpet"
           }
          ],
          "choropleth": [
           {
            "colorbar": {
             "outlinewidth": 0,
             "ticks": ""
            },
            "type": "choropleth"
           }
          ],
          "contour": [
           {
            "colorbar": {
             "outlinewidth": 0,
             "ticks": ""
            },
            "colorscale": [
             [
              0,
              "#0d0887"
             ],
             [
              0.1111111111111111,
              "#46039f"
             ],
             [
              0.2222222222222222,
              "#7201a8"
             ],
             [
              0.3333333333333333,
              "#9c179e"
             ],
             [
              0.4444444444444444,
              "#bd3786"
             ],
             [
              0.5555555555555556,
              "#d8576b"
             ],
             [
              0.6666666666666666,
              "#ed7953"
             ],
             [
              0.7777777777777778,
              "#fb9f3a"
             ],
             [
              0.8888888888888888,
              "#fdca26"
             ],
             [
              1,
              "#f0f921"
             ]
            ],
            "type": "contour"
           }
          ],
          "contourcarpet": [
           {
            "colorbar": {
             "outlinewidth": 0,
             "ticks": ""
            },
            "type": "contourcarpet"
           }
          ],
          "heatmap": [
           {
            "colorbar": {
             "outlinewidth": 0,
             "ticks": ""
            },
            "colorscale": [
             [
              0,
              "#0d0887"
             ],
             [
              0.1111111111111111,
              "#46039f"
             ],
             [
              0.2222222222222222,
              "#7201a8"
             ],
             [
              0.3333333333333333,
              "#9c179e"
             ],
             [
              0.4444444444444444,
              "#bd3786"
             ],
             [
              0.5555555555555556,
              "#d8576b"
             ],
             [
              0.6666666666666666,
              "#ed7953"
             ],
             [
              0.7777777777777778,
              "#fb9f3a"
             ],
             [
              0.8888888888888888,
              "#fdca26"
             ],
             [
              1,
              "#f0f921"
             ]
            ],
            "type": "heatmap"
           }
          ],
          "heatmapgl": [
           {
            "colorbar": {
             "outlinewidth": 0,
             "ticks": ""
            },
            "colorscale": [
             [
              0,
              "#0d0887"
             ],
             [
              0.1111111111111111,
              "#46039f"
             ],
             [
              0.2222222222222222,
              "#7201a8"
             ],
             [
              0.3333333333333333,
              "#9c179e"
             ],
             [
              0.4444444444444444,
              "#bd3786"
             ],
             [
              0.5555555555555556,
              "#d8576b"
             ],
             [
              0.6666666666666666,
              "#ed7953"
             ],
             [
              0.7777777777777778,
              "#fb9f3a"
             ],
             [
              0.8888888888888888,
              "#fdca26"
             ],
             [
              1,
              "#f0f921"
             ]
            ],
            "type": "heatmapgl"
           }
          ],
          "histogram": [
           {
            "marker": {
             "colorbar": {
              "outlinewidth": 0,
              "ticks": ""
             }
            },
            "type": "histogram"
           }
          ],
          "histogram2d": [
           {
            "colorbar": {
             "outlinewidth": 0,
             "ticks": ""
            },
            "colorscale": [
             [
              0,
              "#0d0887"
             ],
             [
              0.1111111111111111,
              "#46039f"
             ],
             [
              0.2222222222222222,
              "#7201a8"
             ],
             [
              0.3333333333333333,
              "#9c179e"
             ],
             [
              0.4444444444444444,
              "#bd3786"
             ],
             [
              0.5555555555555556,
              "#d8576b"
             ],
             [
              0.6666666666666666,
              "#ed7953"
             ],
             [
              0.7777777777777778,
              "#fb9f3a"
             ],
             [
              0.8888888888888888,
              "#fdca26"
             ],
             [
              1,
              "#f0f921"
             ]
            ],
            "type": "histogram2d"
           }
          ],
          "histogram2dcontour": [
           {
            "colorbar": {
             "outlinewidth": 0,
             "ticks": ""
            },
            "colorscale": [
             [
              0,
              "#0d0887"
             ],
             [
              0.1111111111111111,
              "#46039f"
             ],
             [
              0.2222222222222222,
              "#7201a8"
             ],
             [
              0.3333333333333333,
              "#9c179e"
             ],
             [
              0.4444444444444444,
              "#bd3786"
             ],
             [
              0.5555555555555556,
              "#d8576b"
             ],
             [
              0.6666666666666666,
              "#ed7953"
             ],
             [
              0.7777777777777778,
              "#fb9f3a"
             ],
             [
              0.8888888888888888,
              "#fdca26"
             ],
             [
              1,
              "#f0f921"
             ]
            ],
            "type": "histogram2dcontour"
           }
          ],
          "mesh3d": [
           {
            "colorbar": {
             "outlinewidth": 0,
             "ticks": ""
            },
            "type": "mesh3d"
           }
          ],
          "parcoords": [
           {
            "line": {
             "colorbar": {
              "outlinewidth": 0,
              "ticks": ""
             }
            },
            "type": "parcoords"
           }
          ],
          "pie": [
           {
            "automargin": true,
            "type": "pie"
           }
          ],
          "scatter": [
           {
            "marker": {
             "colorbar": {
              "outlinewidth": 0,
              "ticks": ""
             }
            },
            "type": "scatter"
           }
          ],
          "scatter3d": [
           {
            "line": {
             "colorbar": {
              "outlinewidth": 0,
              "ticks": ""
             }
            },
            "marker": {
             "colorbar": {
              "outlinewidth": 0,
              "ticks": ""
             }
            },
            "type": "scatter3d"
           }
          ],
          "scattercarpet": [
           {
            "marker": {
             "colorbar": {
              "outlinewidth": 0,
              "ticks": ""
             }
            },
            "type": "scattercarpet"
           }
          ],
          "scattergeo": [
           {
            "marker": {
             "colorbar": {
              "outlinewidth": 0,
              "ticks": ""
             }
            },
            "type": "scattergeo"
           }
          ],
          "scattergl": [
           {
            "marker": {
             "colorbar": {
              "outlinewidth": 0,
              "ticks": ""
             }
            },
            "type": "scattergl"
           }
          ],
          "scattermapbox": [
           {
            "marker": {
             "colorbar": {
              "outlinewidth": 0,
              "ticks": ""
             }
            },
            "type": "scattermapbox"
           }
          ],
          "scatterpolar": [
           {
            "marker": {
             "colorbar": {
              "outlinewidth": 0,
              "ticks": ""
             }
            },
            "type": "scatterpolar"
           }
          ],
          "scatterpolargl": [
           {
            "marker": {
             "colorbar": {
              "outlinewidth": 0,
              "ticks": ""
             }
            },
            "type": "scatterpolargl"
           }
          ],
          "scatterternary": [
           {
            "marker": {
             "colorbar": {
              "outlinewidth": 0,
              "ticks": ""
             }
            },
            "type": "scatterternary"
           }
          ],
          "surface": [
           {
            "colorbar": {
             "outlinewidth": 0,
             "ticks": ""
            },
            "colorscale": [
             [
              0,
              "#0d0887"
             ],
             [
              0.1111111111111111,
              "#46039f"
             ],
             [
              0.2222222222222222,
              "#7201a8"
             ],
             [
              0.3333333333333333,
              "#9c179e"
             ],
             [
              0.4444444444444444,
              "#bd3786"
             ],
             [
              0.5555555555555556,
              "#d8576b"
             ],
             [
              0.6666666666666666,
              "#ed7953"
             ],
             [
              0.7777777777777778,
              "#fb9f3a"
             ],
             [
              0.8888888888888888,
              "#fdca26"
             ],
             [
              1,
              "#f0f921"
             ]
            ],
            "type": "surface"
           }
          ],
          "table": [
           {
            "cells": {
             "fill": {
              "color": "#EBF0F8"
             },
             "line": {
              "color": "white"
             }
            },
            "header": {
             "fill": {
              "color": "#C8D4E3"
             },
             "line": {
              "color": "white"
             }
            },
            "type": "table"
           }
          ]
         },
         "layout": {
          "annotationdefaults": {
           "arrowcolor": "#2a3f5f",
           "arrowhead": 0,
           "arrowwidth": 1
          },
          "coloraxis": {
           "colorbar": {
            "outlinewidth": 0,
            "ticks": ""
           }
          },
          "colorscale": {
           "diverging": [
            [
             0,
             "#8e0152"
            ],
            [
             0.1,
             "#c51b7d"
            ],
            [
             0.2,
             "#de77ae"
            ],
            [
             0.3,
             "#f1b6da"
            ],
            [
             0.4,
             "#fde0ef"
            ],
            [
             0.5,
             "#f7f7f7"
            ],
            [
             0.6,
             "#e6f5d0"
            ],
            [
             0.7,
             "#b8e186"
            ],
            [
             0.8,
             "#7fbc41"
            ],
            [
             0.9,
             "#4d9221"
            ],
            [
             1,
             "#276419"
            ]
           ],
           "sequential": [
            [
             0,
             "#0d0887"
            ],
            [
             0.1111111111111111,
             "#46039f"
            ],
            [
             0.2222222222222222,
             "#7201a8"
            ],
            [
             0.3333333333333333,
             "#9c179e"
            ],
            [
             0.4444444444444444,
             "#bd3786"
            ],
            [
             0.5555555555555556,
             "#d8576b"
            ],
            [
             0.6666666666666666,
             "#ed7953"
            ],
            [
             0.7777777777777778,
             "#fb9f3a"
            ],
            [
             0.8888888888888888,
             "#fdca26"
            ],
            [
             1,
             "#f0f921"
            ]
           ],
           "sequentialminus": [
            [
             0,
             "#0d0887"
            ],
            [
             0.1111111111111111,
             "#46039f"
            ],
            [
             0.2222222222222222,
             "#7201a8"
            ],
            [
             0.3333333333333333,
             "#9c179e"
            ],
            [
             0.4444444444444444,
             "#bd3786"
            ],
            [
             0.5555555555555556,
             "#d8576b"
            ],
            [
             0.6666666666666666,
             "#ed7953"
            ],
            [
             0.7777777777777778,
             "#fb9f3a"
            ],
            [
             0.8888888888888888,
             "#fdca26"
            ],
            [
             1,
             "#f0f921"
            ]
           ]
          },
          "colorway": [
           "#636efa",
           "#EF553B",
           "#00cc96",
           "#ab63fa",
           "#FFA15A",
           "#19d3f3",
           "#FF6692",
           "#B6E880",
           "#FF97FF",
           "#FECB52"
          ],
          "font": {
           "color": "#2a3f5f"
          },
          "geo": {
           "bgcolor": "white",
           "lakecolor": "white",
           "landcolor": "#E5ECF6",
           "showlakes": true,
           "showland": true,
           "subunitcolor": "white"
          },
          "hoverlabel": {
           "align": "left"
          },
          "hovermode": "closest",
          "mapbox": {
           "style": "light"
          },
          "paper_bgcolor": "white",
          "plot_bgcolor": "#E5ECF6",
          "polar": {
           "angularaxis": {
            "gridcolor": "white",
            "linecolor": "white",
            "ticks": ""
           },
           "bgcolor": "#E5ECF6",
           "radialaxis": {
            "gridcolor": "white",
            "linecolor": "white",
            "ticks": ""
           }
          },
          "scene": {
           "xaxis": {
            "backgroundcolor": "#E5ECF6",
            "gridcolor": "white",
            "gridwidth": 2,
            "linecolor": "white",
            "showbackground": true,
            "ticks": "",
            "zerolinecolor": "white"
           },
           "yaxis": {
            "backgroundcolor": "#E5ECF6",
            "gridcolor": "white",
            "gridwidth": 2,
            "linecolor": "white",
            "showbackground": true,
            "ticks": "",
            "zerolinecolor": "white"
           },
           "zaxis": {
            "backgroundcolor": "#E5ECF6",
            "gridcolor": "white",
            "gridwidth": 2,
            "linecolor": "white",
            "showbackground": true,
            "ticks": "",
            "zerolinecolor": "white"
           }
          },
          "shapedefaults": {
           "line": {
            "color": "#2a3f5f"
           }
          },
          "ternary": {
           "aaxis": {
            "gridcolor": "white",
            "linecolor": "white",
            "ticks": ""
           },
           "baxis": {
            "gridcolor": "white",
            "linecolor": "white",
            "ticks": ""
           },
           "bgcolor": "#E5ECF6",
           "caxis": {
            "gridcolor": "white",
            "linecolor": "white",
            "ticks": ""
           }
          },
          "title": {
           "x": 0.05
          },
          "xaxis": {
           "automargin": true,
           "gridcolor": "white",
           "linecolor": "white",
           "ticks": "",
           "title": {
            "standoff": 15
           },
           "zerolinecolor": "white",
           "zerolinewidth": 2
          },
          "yaxis": {
           "automargin": true,
           "gridcolor": "white",
           "linecolor": "white",
           "ticks": "",
           "title": {
            "standoff": 15
           },
           "zerolinecolor": "white",
           "zerolinewidth": 2
          }
         }
        }
       }
      },
      "text/html": [
       "<div>\n",
       "        \n",
       "        \n",
       "            <div id=\"23ba13c7-daeb-4327-83cb-bd79ef7a0e7b\" class=\"plotly-graph-div\" style=\"height:525px; width:100%;\"></div>\n",
       "            <script type=\"text/javascript\">\n",
       "                require([\"plotly\"], function(Plotly) {\n",
       "                    window.PLOTLYENV=window.PLOTLYENV || {};\n",
       "                    \n",
       "                if (document.getElementById(\"23ba13c7-daeb-4327-83cb-bd79ef7a0e7b\")) {\n",
       "                    Plotly.newPlot(\n",
       "                        '23ba13c7-daeb-4327-83cb-bd79ef7a0e7b',\n",
       "                        [{\"lat\": [35.675618, 35.6740542, 35.6867882, 35.6806555, 35.6997364, 35.6744233, 35.7031684, 29.84542725, 35.68406775, 35.6792703, 35.66951555, 35.6680853, 35.6749851, 43.0984454, 35.6645143, 35.6590031, 34.032456, 35.619050200000004, 35.6651764, 35.6551111, 3.5000086, 35.6624568, 35.6701871, 37.8986325, 35.6564018, 35.6937632, 35.7126839, 35.7007911, 35.7039298, 35.6915471, 35.4738203, 33.8379752, 34.5437194, 36.5143504, 35.7117587, 35.717528, 35.6963122, 35.687976, 35.6957996, 23.0131338, 35.6345562, 35.6976987, 35.6695961, 35.6724719, 43.7234297, 35.1623104, 37.1263397, 35.6679, 35.9069657, 35.6247789, 35.599252, 35.6254673, 38.5770889, 35.6048391, 35.6076094, 35.6205792, 35.62125, 35.6442023, 42.5752348, 35.5428783, 35.5884735, 35.5618856, 35.5479444, 35.646096, 35.6616779, 42.5538817, 36.6504536, 35.6855417, 35.6645956, 35.6464378, 35.6687049, 35.6481642, 42.285532, 35.6812658, 35.6839519, 35.718123, 35.7049419, 35.7048403, 35.7044803, 35.7304418, 35.7365848, 35.7382992, 35.7334119, 35.7781394, 35.7523466, 35.7373701, 35.737529, 35.7427407, 35.7289204, 35.7366615, 35.774143, 35.7883692, 35.74836, 36.2477428, 35.7585088, 35.4460475, 35.754036, 35.7945322, 33.4817913, 35.7456971, 35.7666652, 35.7564295, -5.3498001, 35.7332364], \"lon\": [139.7434685, 139.7509719, 139.7662244, 139.7652217, 139.7712503, 139.7616737, 139.7456774, 79.93638832199528, 139.77450291683806, 139.7796515, 139.76430559879972, 139.772563, 139.7770994, 141.323772, 139.7847168, 139.777168, 133.85744, 139.77936404588297, 139.7558355, 139.7570622, -73.0000086, 139.7334981, 139.750056, 139.001079, 139.7339705, 139.7036319, 139.7036425, 139.6973187, 139.7341347, 139.7376683, 139.3862789, 135.7731319, 133.7473767, 136.5658067, 139.7776445, 139.797635, 139.8150431, 139.7972072, 139.7929596, -80.8328748, 139.7932562, 139.827138, 139.8174761, 139.7948404, 142.0540685, 140.1534664, 140.2107192, 139.7926376, 140.1953835, 139.7812023, 139.73891, 139.7243723, 140.955454, 139.7027094, 139.733944, 139.7508785, 139.688014, 139.6987133, 141.9124355, 139.5172312, 139.7279334, 139.7146628, 139.7466458, 139.65627, 139.6663345, -1.5752586, 140.1550367, 139.4067251, 139.6987107, 139.7102101, 139.7053357, 139.7032482, 143.3116162, 139.7113311, 139.7020805, 139.664468, 139.649909, 139.6354724, 139.6201587, 139.7107453, 139.7472412, 139.6893888, 139.7394273, 139.7207999, 139.7382749, 139.7617151, 139.78131, 139.7806071, 139.7713635, 139.7966766, 139.681209, 139.6589375, 139.638735, 139.405421, 139.629415, 139.430823, 139.804177, 139.7907116, 131.4781536, 139.8561732, 139.8478007, 139.8752024, 21.424098, 139.881843], \"mode\": \"markers\", \"text\": [\"Nagatacho\", \"Kasumigaseki\", \"Otemachi\", \"Marunouchi\", \"Akihabara\", \"Yurakucho\", \"Iidabashi\", \"Kanda\", \"Nihonbashi\", \"Kayabacho\", \"Ginza\", \"Tsukiji\", \"Hatchobori\", \"Shinkawa\", \"Tsukishima\", \"Kachidoki\", \"Tsukuda\", \"Odaiba\", \"Shinbashi\", \"Hamamatsucho\", \"Mita\", \"Roppongi\", \"Toranomon\", \"Aoyama\", \"Azabu\", \"Shinjuku\", \"Takadanobaba\", \"Okubo\", \"Kagurazaka\", \"Ichigaya\", \"Yotsuya\", \"Hongu\", \"Yayoi\", \"Hakusan\", \"Ueno\", \"Asakusa\", \"Kinshicho\", \"Morishita\", \"Ryogoku\", \"Kiba\", \"Ariake\", \"Kameido\", \"Toyocho\", \"Monzennakacho\", \"Fukagawa\", \"Kiyosumi\", \"Shirakawa\", \"Etchujima\", \"Sunamachi\", \"Aomi\", \"Shinagawa\", \"Gotanda\", \"Osaki\", \"Hatanodai\", \"Oimachi\", \"Tennozu\", \"Meguro\", \"Nakameguro\", \"Komaba\", \"Aobadai\", \"Omori\", \"Kamata\", \"Haneda\", \"Setagaya\", \"Shimokitazawa\", \"Kinuta\", \"Karasuyama\", \"Tamagawa\", \"Shibuya\", \"Ebisu\", \"Harajuku\", \"Daikanyama\", \"Hiroo\", \"Sendagaya\", \"Yoyogi\", \"Nakano\", \"Koenji\", \"Asagaya\", \"Ogikubo\", \"Ikebukuro\", \"Komagome\", \"Senkawa\", \"Sugamo\", \"Akabane\", \"Oji\", \"Tabata\", \"Arakawa\", \"Machiya\", \"Nippori\", \"Minamisenju\", \"Itabashi\", \"Takashimadaira\", \"Nerima\", \"Oizumi\", \"Hikarigaoka\", \"Ayase\", \"Kitasenju\", \"Takenotsuka\", \"Tateishi\", \"Aoto\", \"Kameari\", \"Shibamata\", \"Kasai\", \"Koiwa\"], \"type\": \"scattergeo\"}],\n",
       "                        {\"geo\": {\"scope\": \"world\"}, \"template\": {\"data\": {\"bar\": [{\"error_x\": {\"color\": \"#2a3f5f\"}, \"error_y\": {\"color\": \"#2a3f5f\"}, \"marker\": {\"line\": {\"color\": \"#E5ECF6\", \"width\": 0.5}}, \"type\": \"bar\"}], \"barpolar\": [{\"marker\": {\"line\": {\"color\": \"#E5ECF6\", \"width\": 0.5}}, \"type\": \"barpolar\"}], \"carpet\": [{\"aaxis\": {\"endlinecolor\": \"#2a3f5f\", \"gridcolor\": \"white\", \"linecolor\": \"white\", \"minorgridcolor\": \"white\", \"startlinecolor\": \"#2a3f5f\"}, \"baxis\": {\"endlinecolor\": \"#2a3f5f\", \"gridcolor\": \"white\", \"linecolor\": \"white\", \"minorgridcolor\": \"white\", \"startlinecolor\": \"#2a3f5f\"}, \"type\": \"carpet\"}], \"choropleth\": [{\"colorbar\": {\"outlinewidth\": 0, \"ticks\": \"\"}, \"type\": \"choropleth\"}], \"contour\": [{\"colorbar\": {\"outlinewidth\": 0, \"ticks\": \"\"}, \"colorscale\": [[0.0, \"#0d0887\"], [0.1111111111111111, \"#46039f\"], [0.2222222222222222, \"#7201a8\"], [0.3333333333333333, \"#9c179e\"], [0.4444444444444444, \"#bd3786\"], [0.5555555555555556, \"#d8576b\"], [0.6666666666666666, \"#ed7953\"], [0.7777777777777778, \"#fb9f3a\"], [0.8888888888888888, \"#fdca26\"], [1.0, \"#f0f921\"]], \"type\": \"contour\"}], \"contourcarpet\": [{\"colorbar\": {\"outlinewidth\": 0, \"ticks\": \"\"}, \"type\": \"contourcarpet\"}], \"heatmap\": [{\"colorbar\": {\"outlinewidth\": 0, \"ticks\": \"\"}, \"colorscale\": [[0.0, \"#0d0887\"], [0.1111111111111111, \"#46039f\"], [0.2222222222222222, \"#7201a8\"], [0.3333333333333333, \"#9c179e\"], [0.4444444444444444, \"#bd3786\"], [0.5555555555555556, \"#d8576b\"], [0.6666666666666666, \"#ed7953\"], [0.7777777777777778, \"#fb9f3a\"], [0.8888888888888888, \"#fdca26\"], [1.0, \"#f0f921\"]], \"type\": \"heatmap\"}], \"heatmapgl\": [{\"colorbar\": {\"outlinewidth\": 0, \"ticks\": \"\"}, \"colorscale\": [[0.0, \"#0d0887\"], [0.1111111111111111, \"#46039f\"], [0.2222222222222222, \"#7201a8\"], [0.3333333333333333, \"#9c179e\"], [0.4444444444444444, \"#bd3786\"], [0.5555555555555556, \"#d8576b\"], [0.6666666666666666, \"#ed7953\"], [0.7777777777777778, \"#fb9f3a\"], [0.8888888888888888, \"#fdca26\"], [1.0, \"#f0f921\"]], \"type\": \"heatmapgl\"}], \"histogram\": [{\"marker\": {\"colorbar\": {\"outlinewidth\": 0, \"ticks\": \"\"}}, \"type\": \"histogram\"}], \"histogram2d\": [{\"colorbar\": {\"outlinewidth\": 0, \"ticks\": \"\"}, \"colorscale\": [[0.0, \"#0d0887\"], [0.1111111111111111, \"#46039f\"], [0.2222222222222222, \"#7201a8\"], [0.3333333333333333, \"#9c179e\"], [0.4444444444444444, \"#bd3786\"], [0.5555555555555556, \"#d8576b\"], [0.6666666666666666, \"#ed7953\"], [0.7777777777777778, \"#fb9f3a\"], [0.8888888888888888, \"#fdca26\"], [1.0, \"#f0f921\"]], \"type\": \"histogram2d\"}], \"histogram2dcontour\": [{\"colorbar\": {\"outlinewidth\": 0, \"ticks\": \"\"}, \"colorscale\": [[0.0, \"#0d0887\"], [0.1111111111111111, \"#46039f\"], [0.2222222222222222, \"#7201a8\"], [0.3333333333333333, \"#9c179e\"], [0.4444444444444444, \"#bd3786\"], [0.5555555555555556, \"#d8576b\"], [0.6666666666666666, \"#ed7953\"], [0.7777777777777778, \"#fb9f3a\"], [0.8888888888888888, \"#fdca26\"], [1.0, \"#f0f921\"]], \"type\": \"histogram2dcontour\"}], \"mesh3d\": [{\"colorbar\": {\"outlinewidth\": 0, \"ticks\": \"\"}, \"type\": \"mesh3d\"}], \"parcoords\": [{\"line\": {\"colorbar\": {\"outlinewidth\": 0, \"ticks\": \"\"}}, \"type\": \"parcoords\"}], \"pie\": [{\"automargin\": true, \"type\": \"pie\"}], \"scatter\": [{\"marker\": {\"colorbar\": {\"outlinewidth\": 0, \"ticks\": \"\"}}, \"type\": \"scatter\"}], \"scatter3d\": [{\"line\": {\"colorbar\": {\"outlinewidth\": 0, \"ticks\": \"\"}}, \"marker\": {\"colorbar\": {\"outlinewidth\": 0, \"ticks\": \"\"}}, \"type\": \"scatter3d\"}], \"scattercarpet\": [{\"marker\": {\"colorbar\": {\"outlinewidth\": 0, \"ticks\": \"\"}}, \"type\": \"scattercarpet\"}], \"scattergeo\": [{\"marker\": {\"colorbar\": {\"outlinewidth\": 0, \"ticks\": \"\"}}, \"type\": \"scattergeo\"}], \"scattergl\": [{\"marker\": {\"colorbar\": {\"outlinewidth\": 0, \"ticks\": \"\"}}, \"type\": \"scattergl\"}], \"scattermapbox\": [{\"marker\": {\"colorbar\": {\"outlinewidth\": 0, \"ticks\": \"\"}}, \"type\": \"scattermapbox\"}], \"scatterpolar\": [{\"marker\": {\"colorbar\": {\"outlinewidth\": 0, \"ticks\": \"\"}}, \"type\": \"scatterpolar\"}], \"scatterpolargl\": [{\"marker\": {\"colorbar\": {\"outlinewidth\": 0, \"ticks\": \"\"}}, \"type\": \"scatterpolargl\"}], \"scatterternary\": [{\"marker\": {\"colorbar\": {\"outlinewidth\": 0, \"ticks\": \"\"}}, \"type\": \"scatterternary\"}], \"surface\": [{\"colorbar\": {\"outlinewidth\": 0, \"ticks\": \"\"}, \"colorscale\": [[0.0, \"#0d0887\"], [0.1111111111111111, \"#46039f\"], [0.2222222222222222, \"#7201a8\"], [0.3333333333333333, \"#9c179e\"], [0.4444444444444444, \"#bd3786\"], [0.5555555555555556, \"#d8576b\"], [0.6666666666666666, \"#ed7953\"], [0.7777777777777778, \"#fb9f3a\"], [0.8888888888888888, \"#fdca26\"], [1.0, \"#f0f921\"]], \"type\": \"surface\"}], \"table\": [{\"cells\": {\"fill\": {\"color\": \"#EBF0F8\"}, \"line\": {\"color\": \"white\"}}, \"header\": {\"fill\": {\"color\": \"#C8D4E3\"}, \"line\": {\"color\": \"white\"}}, \"type\": \"table\"}]}, \"layout\": {\"annotationdefaults\": {\"arrowcolor\": \"#2a3f5f\", \"arrowhead\": 0, \"arrowwidth\": 1}, \"coloraxis\": {\"colorbar\": {\"outlinewidth\": 0, \"ticks\": \"\"}}, \"colorscale\": {\"diverging\": [[0, \"#8e0152\"], [0.1, \"#c51b7d\"], [0.2, \"#de77ae\"], [0.3, \"#f1b6da\"], [0.4, \"#fde0ef\"], [0.5, \"#f7f7f7\"], [0.6, \"#e6f5d0\"], [0.7, \"#b8e186\"], [0.8, \"#7fbc41\"], [0.9, \"#4d9221\"], [1, \"#276419\"]], \"sequential\": [[0.0, \"#0d0887\"], [0.1111111111111111, \"#46039f\"], [0.2222222222222222, \"#7201a8\"], [0.3333333333333333, \"#9c179e\"], [0.4444444444444444, \"#bd3786\"], [0.5555555555555556, \"#d8576b\"], [0.6666666666666666, \"#ed7953\"], [0.7777777777777778, \"#fb9f3a\"], [0.8888888888888888, \"#fdca26\"], [1.0, \"#f0f921\"]], \"sequentialminus\": [[0.0, \"#0d0887\"], [0.1111111111111111, \"#46039f\"], [0.2222222222222222, \"#7201a8\"], [0.3333333333333333, \"#9c179e\"], [0.4444444444444444, \"#bd3786\"], [0.5555555555555556, \"#d8576b\"], [0.6666666666666666, \"#ed7953\"], [0.7777777777777778, \"#fb9f3a\"], [0.8888888888888888, \"#fdca26\"], [1.0, \"#f0f921\"]]}, \"colorway\": [\"#636efa\", \"#EF553B\", \"#00cc96\", \"#ab63fa\", \"#FFA15A\", \"#19d3f3\", \"#FF6692\", \"#B6E880\", \"#FF97FF\", \"#FECB52\"], \"font\": {\"color\": \"#2a3f5f\"}, \"geo\": {\"bgcolor\": \"white\", \"lakecolor\": \"white\", \"landcolor\": \"#E5ECF6\", \"showlakes\": true, \"showland\": true, \"subunitcolor\": \"white\"}, \"hoverlabel\": {\"align\": \"left\"}, \"hovermode\": \"closest\", \"mapbox\": {\"style\": \"light\"}, \"paper_bgcolor\": \"white\", \"plot_bgcolor\": \"#E5ECF6\", \"polar\": {\"angularaxis\": {\"gridcolor\": \"white\", \"linecolor\": \"white\", \"ticks\": \"\"}, \"bgcolor\": \"#E5ECF6\", \"radialaxis\": {\"gridcolor\": \"white\", \"linecolor\": \"white\", \"ticks\": \"\"}}, \"scene\": {\"xaxis\": {\"backgroundcolor\": \"#E5ECF6\", \"gridcolor\": \"white\", \"gridwidth\": 2, \"linecolor\": \"white\", \"showbackground\": true, \"ticks\": \"\", \"zerolinecolor\": \"white\"}, \"yaxis\": {\"backgroundcolor\": \"#E5ECF6\", \"gridcolor\": \"white\", \"gridwidth\": 2, \"linecolor\": \"white\", \"showbackground\": true, \"ticks\": \"\", \"zerolinecolor\": \"white\"}, \"zaxis\": {\"backgroundcolor\": \"#E5ECF6\", \"gridcolor\": \"white\", \"gridwidth\": 2, \"linecolor\": \"white\", \"showbackground\": true, \"ticks\": \"\", \"zerolinecolor\": \"white\"}}, \"shapedefaults\": {\"line\": {\"color\": \"#2a3f5f\"}}, \"ternary\": {\"aaxis\": {\"gridcolor\": \"white\", \"linecolor\": \"white\", \"ticks\": \"\"}, \"baxis\": {\"gridcolor\": \"white\", \"linecolor\": \"white\", \"ticks\": \"\"}, \"bgcolor\": \"#E5ECF6\", \"caxis\": {\"gridcolor\": \"white\", \"linecolor\": \"white\", \"ticks\": \"\"}}, \"title\": {\"x\": 0.05}, \"xaxis\": {\"automargin\": true, \"gridcolor\": \"white\", \"linecolor\": \"white\", \"ticks\": \"\", \"title\": {\"standoff\": 15}, \"zerolinecolor\": \"white\", \"zerolinewidth\": 2}, \"yaxis\": {\"automargin\": true, \"gridcolor\": \"white\", \"linecolor\": \"white\", \"ticks\": \"\", \"title\": {\"standoff\": 15}, \"zerolinecolor\": \"white\", \"zerolinewidth\": 2}}}},\n",
       "                        {\"responsive\": true}\n",
       "                    ).then(function(){\n",
       "                            \n",
       "var gd = document.getElementById('23ba13c7-daeb-4327-83cb-bd79ef7a0e7b');\n",
       "var x = new MutationObserver(function (mutations, observer) {{\n",
       "        var display = window.getComputedStyle(gd).display;\n",
       "        if (!display || display === 'none') {{\n",
       "            console.log([gd, 'removed!']);\n",
       "            Plotly.purge(gd);\n",
       "            observer.disconnect();\n",
       "        }}\n",
       "}});\n",
       "\n",
       "// Listen for the removal of the full notebook cells\n",
       "var notebookContainer = gd.closest('#notebook-container');\n",
       "if (notebookContainer) {{\n",
       "    x.observe(notebookContainer, {childList: true});\n",
       "}}\n",
       "\n",
       "// Listen for the clearing of the current output cell\n",
       "var outputEl = gd.closest('.output');\n",
       "if (outputEl) {{\n",
       "    x.observe(outputEl, {childList: true});\n",
       "}}\n",
       "\n",
       "                        })\n",
       "                };\n",
       "                });\n",
       "            </script>\n",
       "        </div>"
      ]
     },
     "metadata": {},
     "output_type": "display_data"
    }
   ],
   "source": [
    "import plotly.graph_objects as go\n",
    "fig = go.Figure(data=go.Scattergeo(\n",
    "        lon = districts['Longitude'],\n",
    "        lat = districts['Latitude'],\n",
    "        text = districts['District'],\n",
    "        mode = 'markers',\n",
    "        ))\n",
    "\n",
    "fig.update_layout(\n",
    "        geo_scope='world',\n",
    "    )\n",
    "fig.show()"
   ]
  },
  {
   "cell_type": "code",
   "execution_count": 61,
   "metadata": {},
   "outputs": [
    {
     "data": {
      "application/vnd.plotly.v1+json": {
       "config": {
        "plotlyServerURL": "https://plot.ly"
       },
       "data": [
        {
         "lat": [
          35.7781394,
          35.6997364,
          35.6509,
          35.624778899999995,
          35.7456971,
          35.672,
          35.737528999999995,
          35.634556200000006,
          35.7048403,
          35.717528,
          35.7676,
          35.6564018,
          35.648164200000004,
          35.5939,
          35.646437799999994,
          35.6679,
          35.6763,
          35.66951555,
          35.6261042,
          35.7191,
          35.655111100000006,
          35.5479444,
          35.6687049,
          35.6048391,
          35.674645299999995,
          35.7585088,
          35.6518,
          35.7088,
          35.691318700000004,
          35.7031684,
          35.730441799999994,
          35.774143,
          35.6073,
          35.6590031,
          35.7039298,
          35.561885600000004,
          35.7666652,
          35.697698700000004,
          35.6918,
          35.6753,
          35.6637,
          35.6740542,
          35.6792576,
          35.6722,
          35.6963122,
          35.6401,
          35.754036,
          35.6812,
          35.7049419,
          35.7332364,
          35.6603,
          35.7365848,
          35.7427407,
          35.6806555,
          35.62125,
          35.7366615,
          35.6472,
          35.6724719,
          35.688030499999996,
          35.675618,
          35.644202299999996,
          35.718123,
          35.74836,
          35.68406775,
          35.7289204,
          35.619050200000004,
          35.70448029999999,
          35.6076094,
          35.7589,
          35.7523466,
          35.700791100000004,
          35.5884735,
          35.6204,
          35.686757,
          35.662456799999994,
          35.6957996,
          35.6812658,
          35.738209499999996,
          35.646096,
          35.756429499999996,
          35.6645956,
          35.6616779,
          35.599252,
          35.6651764,
          35.69376320000001,
          35.7601,
          35.6823,
          35.7334119,
          35.6797,
          35.7373701,
          35.712683899999995,
          35.788369200000005,
          35.794532200000006,
          35.6125,
          35.7407,
          35.6205526,
          35.67017,
          35.6695961,
          35.668085299999994,
          35.6645143,
          35.6692,
          35.711758700000004,
          35.7171,
          35.6854,
          35.6839519,
          35.674423299999994
         ],
         "lon": [
          139.7207999,
          139.7712503,
          139.6943,
          139.78120230000002,
          139.85617319999997,
          139.72299999999998,
          139.78131000000002,
          139.7932562,
          139.63547240000003,
          139.797635,
          139.8266,
          139.7339705,
          139.7032482,
          139.6682,
          139.7102101,
          139.7926376,
          139.7978,
          139.7643056,
          139.7237494,
          139.7486,
          139.7570622,
          139.7466458,
          139.70533569999998,
          139.7027094,
          139.7776367,
          139.629415,
          139.7179,
          139.7601,
          139.735504,
          139.7456774,
          139.7107453,
          139.681209,
          139.6687,
          139.777168,
          139.73413469999997,
          139.7146628,
          139.8478007,
          139.827138,
          139.7709,
          139.5968,
          139.8723,
          139.7509719,
          139.7796972,
          139.8061,
          139.8150431,
          139.6121,
          139.804177,
          139.7972,
          139.649909,
          139.881843,
          139.6822,
          139.7472412,
          139.7806071,
          139.76522169999998,
          139.68801399999998,
          139.79667659999998,
          139.7409,
          139.7948404,
          139.7982399,
          139.7434685,
          139.6987133,
          139.664468,
          139.638735,
          139.77450290000002,
          139.7713635,
          139.779364,
          139.6201587,
          139.733944,
          139.599,
          139.7382749,
          139.69731869999998,
          139.7279334,
          139.7256,
          139.7636157,
          139.7334981,
          139.7929596,
          139.7113311,
          139.689414,
          139.65627,
          139.8752024,
          139.6987107,
          139.6663345,
          139.73891,
          139.7558355,
          139.7036319,
          139.5388,
          139.8042,
          139.73942730000002,
          139.8313,
          139.76171509999998,
          139.7036425,
          139.6589375,
          139.79071159999998,
          139.6261,
          139.8483,
          139.75077190000002,
          139.750049,
          139.8174761,
          139.772563,
          139.7847168,
          139.7844,
          139.7776445,
          139.762,
          139.7288,
          139.7020805,
          139.7616737
         ],
         "mode": "markers",
         "text": [
          "Akabane",
          "Akihabara",
          "Aobadai",
          "Aomi",
          "Aoto",
          "Aoyama",
          "Arakawa",
          "Ariake",
          "Asagaya",
          "Asakusa",
          "Ayase",
          "Azabu",
          "Daikanyama",
          "Den-en-chofu",
          "Ebisu",
          "Etchujima",
          "Fukagawa",
          "Ginza",
          "Gotanda",
          "Hakusan",
          "Hamamatsucho",
          "Haneda",
          "Harajuku",
          "Hatanodai",
          "Hatchobori",
          "Hikarigaoka",
          "Hiroo",
          "Hongo",
          "Ichigaya",
          "Iidabashi",
          "Ikebukuro",
          "Itabashi",
          "Jiyugeoka",
          "Kachidoki",
          "Kagurazaka",
          "Kamata",
          "Kameari",
          "Kameido",
          "Kanda",
          "Karasuyama",
          "Kasai",
          "Kasumigaseki",
          "Kayabacho",
          "Kiba",
          "Kinshicho",
          "Kinuta",
          "Kitasenju",
          "Kiyosumi",
          "Koenji",
          "Koiwa",
          "Komaba",
          "Komagome",
          "Machiya",
          "Marunouchi",
          "Meguro",
          "Minamisenju",
          "Mita",
          "Monzennakacho",
          "Morishita",
          "Nagatacho",
          "Nakameguro",
          "Nakano",
          "Nerima",
          "Nihonbashi",
          "Nippori",
          "Odaiba",
          "Ogikubo",
          "Oimachi",
          "Oizumi",
          "Oji",
          "Okubo",
          "Omori",
          "Osaki",
          "Otemachi",
          "Roppongi",
          "Ryogoku",
          "Sendagaya",
          "Senkawa",
          "Setagaya",
          "Shibamata",
          "Shibuya",
          "Shimokitazawa",
          "Shinagawa",
          "Shinbashi",
          "Shinjuku",
          "Shinkawa",
          "Shirakawa",
          "Sugamo",
          "Sunamachi",
          "Tabata",
          "Takadanobaba",
          "Takashimadaira",
          "Takenotsuka",
          "Tamagawa",
          "Tateishi",
          "Tennozu",
          "Toranomon",
          "Toyocho",
          "Tsukiji",
          "Tsukishima",
          "Tsukuda",
          "Ueno",
          "Yayoi",
          "Yotsuya",
          "Yoyogi",
          "Yurakucho"
         ],
         "type": "scattergeo"
        }
       ],
       "layout": {
        "geo": {
         "scope": "world"
        },
        "template": {
         "data": {
          "bar": [
           {
            "error_x": {
             "color": "#2a3f5f"
            },
            "error_y": {
             "color": "#2a3f5f"
            },
            "marker": {
             "line": {
              "color": "#E5ECF6",
              "width": 0.5
             }
            },
            "type": "bar"
           }
          ],
          "barpolar": [
           {
            "marker": {
             "line": {
              "color": "#E5ECF6",
              "width": 0.5
             }
            },
            "type": "barpolar"
           }
          ],
          "carpet": [
           {
            "aaxis": {
             "endlinecolor": "#2a3f5f",
             "gridcolor": "white",
             "linecolor": "white",
             "minorgridcolor": "white",
             "startlinecolor": "#2a3f5f"
            },
            "baxis": {
             "endlinecolor": "#2a3f5f",
             "gridcolor": "white",
             "linecolor": "white",
             "minorgridcolor": "white",
             "startlinecolor": "#2a3f5f"
            },
            "type": "carpet"
           }
          ],
          "choropleth": [
           {
            "colorbar": {
             "outlinewidth": 0,
             "ticks": ""
            },
            "type": "choropleth"
           }
          ],
          "contour": [
           {
            "colorbar": {
             "outlinewidth": 0,
             "ticks": ""
            },
            "colorscale": [
             [
              0,
              "#0d0887"
             ],
             [
              0.1111111111111111,
              "#46039f"
             ],
             [
              0.2222222222222222,
              "#7201a8"
             ],
             [
              0.3333333333333333,
              "#9c179e"
             ],
             [
              0.4444444444444444,
              "#bd3786"
             ],
             [
              0.5555555555555556,
              "#d8576b"
             ],
             [
              0.6666666666666666,
              "#ed7953"
             ],
             [
              0.7777777777777778,
              "#fb9f3a"
             ],
             [
              0.8888888888888888,
              "#fdca26"
             ],
             [
              1,
              "#f0f921"
             ]
            ],
            "type": "contour"
           }
          ],
          "contourcarpet": [
           {
            "colorbar": {
             "outlinewidth": 0,
             "ticks": ""
            },
            "type": "contourcarpet"
           }
          ],
          "heatmap": [
           {
            "colorbar": {
             "outlinewidth": 0,
             "ticks": ""
            },
            "colorscale": [
             [
              0,
              "#0d0887"
             ],
             [
              0.1111111111111111,
              "#46039f"
             ],
             [
              0.2222222222222222,
              "#7201a8"
             ],
             [
              0.3333333333333333,
              "#9c179e"
             ],
             [
              0.4444444444444444,
              "#bd3786"
             ],
             [
              0.5555555555555556,
              "#d8576b"
             ],
             [
              0.6666666666666666,
              "#ed7953"
             ],
             [
              0.7777777777777778,
              "#fb9f3a"
             ],
             [
              0.8888888888888888,
              "#fdca26"
             ],
             [
              1,
              "#f0f921"
             ]
            ],
            "type": "heatmap"
           }
          ],
          "heatmapgl": [
           {
            "colorbar": {
             "outlinewidth": 0,
             "ticks": ""
            },
            "colorscale": [
             [
              0,
              "#0d0887"
             ],
             [
              0.1111111111111111,
              "#46039f"
             ],
             [
              0.2222222222222222,
              "#7201a8"
             ],
             [
              0.3333333333333333,
              "#9c179e"
             ],
             [
              0.4444444444444444,
              "#bd3786"
             ],
             [
              0.5555555555555556,
              "#d8576b"
             ],
             [
              0.6666666666666666,
              "#ed7953"
             ],
             [
              0.7777777777777778,
              "#fb9f3a"
             ],
             [
              0.8888888888888888,
              "#fdca26"
             ],
             [
              1,
              "#f0f921"
             ]
            ],
            "type": "heatmapgl"
           }
          ],
          "histogram": [
           {
            "marker": {
             "colorbar": {
              "outlinewidth": 0,
              "ticks": ""
             }
            },
            "type": "histogram"
           }
          ],
          "histogram2d": [
           {
            "colorbar": {
             "outlinewidth": 0,
             "ticks": ""
            },
            "colorscale": [
             [
              0,
              "#0d0887"
             ],
             [
              0.1111111111111111,
              "#46039f"
             ],
             [
              0.2222222222222222,
              "#7201a8"
             ],
             [
              0.3333333333333333,
              "#9c179e"
             ],
             [
              0.4444444444444444,
              "#bd3786"
             ],
             [
              0.5555555555555556,
              "#d8576b"
             ],
             [
              0.6666666666666666,
              "#ed7953"
             ],
             [
              0.7777777777777778,
              "#fb9f3a"
             ],
             [
              0.8888888888888888,
              "#fdca26"
             ],
             [
              1,
              "#f0f921"
             ]
            ],
            "type": "histogram2d"
           }
          ],
          "histogram2dcontour": [
           {
            "colorbar": {
             "outlinewidth": 0,
             "ticks": ""
            },
            "colorscale": [
             [
              0,
              "#0d0887"
             ],
             [
              0.1111111111111111,
              "#46039f"
             ],
             [
              0.2222222222222222,
              "#7201a8"
             ],
             [
              0.3333333333333333,
              "#9c179e"
             ],
             [
              0.4444444444444444,
              "#bd3786"
             ],
             [
              0.5555555555555556,
              "#d8576b"
             ],
             [
              0.6666666666666666,
              "#ed7953"
             ],
             [
              0.7777777777777778,
              "#fb9f3a"
             ],
             [
              0.8888888888888888,
              "#fdca26"
             ],
             [
              1,
              "#f0f921"
             ]
            ],
            "type": "histogram2dcontour"
           }
          ],
          "mesh3d": [
           {
            "colorbar": {
             "outlinewidth": 0,
             "ticks": ""
            },
            "type": "mesh3d"
           }
          ],
          "parcoords": [
           {
            "line": {
             "colorbar": {
              "outlinewidth": 0,
              "ticks": ""
             }
            },
            "type": "parcoords"
           }
          ],
          "pie": [
           {
            "automargin": true,
            "type": "pie"
           }
          ],
          "scatter": [
           {
            "marker": {
             "colorbar": {
              "outlinewidth": 0,
              "ticks": ""
             }
            },
            "type": "scatter"
           }
          ],
          "scatter3d": [
           {
            "line": {
             "colorbar": {
              "outlinewidth": 0,
              "ticks": ""
             }
            },
            "marker": {
             "colorbar": {
              "outlinewidth": 0,
              "ticks": ""
             }
            },
            "type": "scatter3d"
           }
          ],
          "scattercarpet": [
           {
            "marker": {
             "colorbar": {
              "outlinewidth": 0,
              "ticks": ""
             }
            },
            "type": "scattercarpet"
           }
          ],
          "scattergeo": [
           {
            "marker": {
             "colorbar": {
              "outlinewidth": 0,
              "ticks": ""
             }
            },
            "type": "scattergeo"
           }
          ],
          "scattergl": [
           {
            "marker": {
             "colorbar": {
              "outlinewidth": 0,
              "ticks": ""
             }
            },
            "type": "scattergl"
           }
          ],
          "scattermapbox": [
           {
            "marker": {
             "colorbar": {
              "outlinewidth": 0,
              "ticks": ""
             }
            },
            "type": "scattermapbox"
           }
          ],
          "scatterpolar": [
           {
            "marker": {
             "colorbar": {
              "outlinewidth": 0,
              "ticks": ""
             }
            },
            "type": "scatterpolar"
           }
          ],
          "scatterpolargl": [
           {
            "marker": {
             "colorbar": {
              "outlinewidth": 0,
              "ticks": ""
             }
            },
            "type": "scatterpolargl"
           }
          ],
          "scatterternary": [
           {
            "marker": {
             "colorbar": {
              "outlinewidth": 0,
              "ticks": ""
             }
            },
            "type": "scatterternary"
           }
          ],
          "surface": [
           {
            "colorbar": {
             "outlinewidth": 0,
             "ticks": ""
            },
            "colorscale": [
             [
              0,
              "#0d0887"
             ],
             [
              0.1111111111111111,
              "#46039f"
             ],
             [
              0.2222222222222222,
              "#7201a8"
             ],
             [
              0.3333333333333333,
              "#9c179e"
             ],
             [
              0.4444444444444444,
              "#bd3786"
             ],
             [
              0.5555555555555556,
              "#d8576b"
             ],
             [
              0.6666666666666666,
              "#ed7953"
             ],
             [
              0.7777777777777778,
              "#fb9f3a"
             ],
             [
              0.8888888888888888,
              "#fdca26"
             ],
             [
              1,
              "#f0f921"
             ]
            ],
            "type": "surface"
           }
          ],
          "table": [
           {
            "cells": {
             "fill": {
              "color": "#EBF0F8"
             },
             "line": {
              "color": "white"
             }
            },
            "header": {
             "fill": {
              "color": "#C8D4E3"
             },
             "line": {
              "color": "white"
             }
            },
            "type": "table"
           }
          ]
         },
         "layout": {
          "annotationdefaults": {
           "arrowcolor": "#2a3f5f",
           "arrowhead": 0,
           "arrowwidth": 1
          },
          "coloraxis": {
           "colorbar": {
            "outlinewidth": 0,
            "ticks": ""
           }
          },
          "colorscale": {
           "diverging": [
            [
             0,
             "#8e0152"
            ],
            [
             0.1,
             "#c51b7d"
            ],
            [
             0.2,
             "#de77ae"
            ],
            [
             0.3,
             "#f1b6da"
            ],
            [
             0.4,
             "#fde0ef"
            ],
            [
             0.5,
             "#f7f7f7"
            ],
            [
             0.6,
             "#e6f5d0"
            ],
            [
             0.7,
             "#b8e186"
            ],
            [
             0.8,
             "#7fbc41"
            ],
            [
             0.9,
             "#4d9221"
            ],
            [
             1,
             "#276419"
            ]
           ],
           "sequential": [
            [
             0,
             "#0d0887"
            ],
            [
             0.1111111111111111,
             "#46039f"
            ],
            [
             0.2222222222222222,
             "#7201a8"
            ],
            [
             0.3333333333333333,
             "#9c179e"
            ],
            [
             0.4444444444444444,
             "#bd3786"
            ],
            [
             0.5555555555555556,
             "#d8576b"
            ],
            [
             0.6666666666666666,
             "#ed7953"
            ],
            [
             0.7777777777777778,
             "#fb9f3a"
            ],
            [
             0.8888888888888888,
             "#fdca26"
            ],
            [
             1,
             "#f0f921"
            ]
           ],
           "sequentialminus": [
            [
             0,
             "#0d0887"
            ],
            [
             0.1111111111111111,
             "#46039f"
            ],
            [
             0.2222222222222222,
             "#7201a8"
            ],
            [
             0.3333333333333333,
             "#9c179e"
            ],
            [
             0.4444444444444444,
             "#bd3786"
            ],
            [
             0.5555555555555556,
             "#d8576b"
            ],
            [
             0.6666666666666666,
             "#ed7953"
            ],
            [
             0.7777777777777778,
             "#fb9f3a"
            ],
            [
             0.8888888888888888,
             "#fdca26"
            ],
            [
             1,
             "#f0f921"
            ]
           ]
          },
          "colorway": [
           "#636efa",
           "#EF553B",
           "#00cc96",
           "#ab63fa",
           "#FFA15A",
           "#19d3f3",
           "#FF6692",
           "#B6E880",
           "#FF97FF",
           "#FECB52"
          ],
          "font": {
           "color": "#2a3f5f"
          },
          "geo": {
           "bgcolor": "white",
           "lakecolor": "white",
           "landcolor": "#E5ECF6",
           "showlakes": true,
           "showland": true,
           "subunitcolor": "white"
          },
          "hoverlabel": {
           "align": "left"
          },
          "hovermode": "closest",
          "mapbox": {
           "style": "light"
          },
          "paper_bgcolor": "white",
          "plot_bgcolor": "#E5ECF6",
          "polar": {
           "angularaxis": {
            "gridcolor": "white",
            "linecolor": "white",
            "ticks": ""
           },
           "bgcolor": "#E5ECF6",
           "radialaxis": {
            "gridcolor": "white",
            "linecolor": "white",
            "ticks": ""
           }
          },
          "scene": {
           "xaxis": {
            "backgroundcolor": "#E5ECF6",
            "gridcolor": "white",
            "gridwidth": 2,
            "linecolor": "white",
            "showbackground": true,
            "ticks": "",
            "zerolinecolor": "white"
           },
           "yaxis": {
            "backgroundcolor": "#E5ECF6",
            "gridcolor": "white",
            "gridwidth": 2,
            "linecolor": "white",
            "showbackground": true,
            "ticks": "",
            "zerolinecolor": "white"
           },
           "zaxis": {
            "backgroundcolor": "#E5ECF6",
            "gridcolor": "white",
            "gridwidth": 2,
            "linecolor": "white",
            "showbackground": true,
            "ticks": "",
            "zerolinecolor": "white"
           }
          },
          "shapedefaults": {
           "line": {
            "color": "#2a3f5f"
           }
          },
          "ternary": {
           "aaxis": {
            "gridcolor": "white",
            "linecolor": "white",
            "ticks": ""
           },
           "baxis": {
            "gridcolor": "white",
            "linecolor": "white",
            "ticks": ""
           },
           "bgcolor": "#E5ECF6",
           "caxis": {
            "gridcolor": "white",
            "linecolor": "white",
            "ticks": ""
           }
          },
          "title": {
           "x": 0.05
          },
          "xaxis": {
           "automargin": true,
           "gridcolor": "white",
           "linecolor": "white",
           "ticks": "",
           "title": {
            "standoff": 15
           },
           "zerolinecolor": "white",
           "zerolinewidth": 2
          },
          "yaxis": {
           "automargin": true,
           "gridcolor": "white",
           "linecolor": "white",
           "ticks": "",
           "title": {
            "standoff": 15
           },
           "zerolinecolor": "white",
           "zerolinewidth": 2
          }
         }
        }
       }
      },
      "text/html": [
       "<div>\n",
       "        \n",
       "        \n",
       "            <div id=\"0ee1ad87-0f4f-4966-8e20-5cd5c015d9ee\" class=\"plotly-graph-div\" style=\"height:525px; width:100%;\"></div>\n",
       "            <script type=\"text/javascript\">\n",
       "                require([\"plotly\"], function(Plotly) {\n",
       "                    window.PLOTLYENV=window.PLOTLYENV || {};\n",
       "                    \n",
       "                if (document.getElementById(\"0ee1ad87-0f4f-4966-8e20-5cd5c015d9ee\")) {\n",
       "                    Plotly.newPlot(\n",
       "                        '0ee1ad87-0f4f-4966-8e20-5cd5c015d9ee',\n",
       "                        [{\"lat\": [35.7781394, 35.6997364, 35.6509, 35.624778899999995, 35.7456971, 35.672, 35.737528999999995, 35.634556200000006, 35.7048403, 35.717528, 35.7676, 35.6564018, 35.648164200000004, 35.5939, 35.646437799999994, 35.6679, 35.6763, 35.66951555, 35.6261042, 35.7191, 35.655111100000006, 35.5479444, 35.6687049, 35.6048391, 35.674645299999995, 35.7585088, 35.6518, 35.7088, 35.691318700000004, 35.7031684, 35.730441799999994, 35.774143, 35.6073, 35.6590031, 35.7039298, 35.561885600000004, 35.7666652, 35.697698700000004, 35.6918, 35.6753, 35.6637, 35.6740542, 35.6792576, 35.6722, 35.6963122, 35.6401, 35.754036, 35.6812, 35.7049419, 35.7332364, 35.6603, 35.7365848, 35.7427407, 35.6806555, 35.62125, 35.7366615, 35.6472, 35.6724719, 35.688030499999996, 35.675618, 35.644202299999996, 35.718123, 35.74836, 35.68406775, 35.7289204, 35.619050200000004, 35.70448029999999, 35.6076094, 35.7589, 35.7523466, 35.700791100000004, 35.5884735, 35.6204, 35.686757, 35.662456799999994, 35.6957996, 35.6812658, 35.738209499999996, 35.646096, 35.756429499999996, 35.6645956, 35.6616779, 35.599252, 35.6651764, 35.69376320000001, 35.7601, 35.6823, 35.7334119, 35.6797, 35.7373701, 35.712683899999995, 35.788369200000005, 35.794532200000006, 35.6125, 35.7407, 35.6205526, 35.67017, 35.6695961, 35.668085299999994, 35.6645143, 35.6692, 35.711758700000004, 35.7171, 35.6854, 35.6839519, 35.674423299999994], \"lon\": [139.7207999, 139.7712503, 139.6943, 139.78120230000002, 139.85617319999997, 139.72299999999998, 139.78131000000002, 139.7932562, 139.63547240000003, 139.797635, 139.8266, 139.7339705, 139.7032482, 139.6682, 139.7102101, 139.7926376, 139.7978, 139.7643056, 139.7237494, 139.7486, 139.7570622, 139.7466458, 139.70533569999998, 139.7027094, 139.7776367, 139.629415, 139.7179, 139.7601, 139.735504, 139.7456774, 139.7107453, 139.681209, 139.6687, 139.777168, 139.73413469999997, 139.7146628, 139.8478007, 139.827138, 139.7709, 139.5968, 139.8723, 139.7509719, 139.7796972, 139.8061, 139.8150431, 139.6121, 139.804177, 139.7972, 139.649909, 139.881843, 139.6822, 139.7472412, 139.7806071, 139.76522169999998, 139.68801399999998, 139.79667659999998, 139.7409, 139.7948404, 139.7982399, 139.7434685, 139.6987133, 139.664468, 139.638735, 139.77450290000002, 139.7713635, 139.779364, 139.6201587, 139.733944, 139.599, 139.7382749, 139.69731869999998, 139.7279334, 139.7256, 139.7636157, 139.7334981, 139.7929596, 139.7113311, 139.689414, 139.65627, 139.8752024, 139.6987107, 139.6663345, 139.73891, 139.7558355, 139.7036319, 139.5388, 139.8042, 139.73942730000002, 139.8313, 139.76171509999998, 139.7036425, 139.6589375, 139.79071159999998, 139.6261, 139.8483, 139.75077190000002, 139.750049, 139.8174761, 139.772563, 139.7847168, 139.7844, 139.7776445, 139.762, 139.7288, 139.7020805, 139.7616737], \"mode\": \"markers\", \"text\": [\"Akabane\", \"Akihabara\", \"Aobadai\", \"Aomi\", \"Aoto\", \"Aoyama\", \"Arakawa\", \"Ariake\", \"Asagaya\", \"Asakusa\", \"Ayase\", \"Azabu\", \"Daikanyama\", \"Den-en-chofu\", \"Ebisu\", \"Etchujima\", \"Fukagawa\", \"Ginza\", \"Gotanda\", \"Hakusan\", \"Hamamatsucho\", \"Haneda\", \"Harajuku\", \"Hatanodai\", \"Hatchobori\", \"Hikarigaoka\", \"Hiroo\", \"Hongo\", \"Ichigaya\", \"Iidabashi\", \"Ikebukuro\", \"Itabashi\", \"Jiyugeoka\", \"Kachidoki\", \"Kagurazaka\", \"Kamata\", \"Kameari\", \"Kameido\", \"Kanda\", \"Karasuyama\", \"Kasai\", \"Kasumigaseki\", \"Kayabacho\", \"Kiba\", \"Kinshicho\", \"Kinuta\", \"Kitasenju\", \"Kiyosumi\", \"Koenji\", \"Koiwa\", \"Komaba\", \"Komagome\", \"Machiya\", \"Marunouchi\", \"Meguro\", \"Minamisenju\", \"Mita\", \"Monzennakacho\", \"Morishita\", \"Nagatacho\", \"Nakameguro\", \"Nakano\", \"Nerima\", \"Nihonbashi\", \"Nippori\", \"Odaiba\", \"Ogikubo\", \"Oimachi\", \"Oizumi\", \"Oji\", \"Okubo\", \"Omori\", \"Osaki\", \"Otemachi\", \"Roppongi\", \"Ryogoku\", \"Sendagaya\", \"Senkawa\", \"Setagaya\", \"Shibamata\", \"Shibuya\", \"Shimokitazawa\", \"Shinagawa\", \"Shinbashi\", \"Shinjuku\", \"Shinkawa\", \"Shirakawa\", \"Sugamo\", \"Sunamachi\", \"Tabata\", \"Takadanobaba\", \"Takashimadaira\", \"Takenotsuka\", \"Tamagawa\", \"Tateishi\", \"Tennozu\", \"Toranomon\", \"Toyocho\", \"Tsukiji\", \"Tsukishima\", \"Tsukuda\", \"Ueno\", \"Yayoi\", \"Yotsuya\", \"Yoyogi\", \"Yurakucho\"], \"type\": \"scattergeo\"}],\n",
       "                        {\"geo\": {\"scope\": \"world\"}, \"template\": {\"data\": {\"bar\": [{\"error_x\": {\"color\": \"#2a3f5f\"}, \"error_y\": {\"color\": \"#2a3f5f\"}, \"marker\": {\"line\": {\"color\": \"#E5ECF6\", \"width\": 0.5}}, \"type\": \"bar\"}], \"barpolar\": [{\"marker\": {\"line\": {\"color\": \"#E5ECF6\", \"width\": 0.5}}, \"type\": \"barpolar\"}], \"carpet\": [{\"aaxis\": {\"endlinecolor\": \"#2a3f5f\", \"gridcolor\": \"white\", \"linecolor\": \"white\", \"minorgridcolor\": \"white\", \"startlinecolor\": \"#2a3f5f\"}, \"baxis\": {\"endlinecolor\": \"#2a3f5f\", \"gridcolor\": \"white\", \"linecolor\": \"white\", \"minorgridcolor\": \"white\", \"startlinecolor\": \"#2a3f5f\"}, \"type\": \"carpet\"}], \"choropleth\": [{\"colorbar\": {\"outlinewidth\": 0, \"ticks\": \"\"}, \"type\": \"choropleth\"}], \"contour\": [{\"colorbar\": {\"outlinewidth\": 0, \"ticks\": \"\"}, \"colorscale\": [[0.0, \"#0d0887\"], [0.1111111111111111, \"#46039f\"], [0.2222222222222222, \"#7201a8\"], [0.3333333333333333, \"#9c179e\"], [0.4444444444444444, \"#bd3786\"], [0.5555555555555556, \"#d8576b\"], [0.6666666666666666, \"#ed7953\"], [0.7777777777777778, \"#fb9f3a\"], [0.8888888888888888, \"#fdca26\"], [1.0, \"#f0f921\"]], \"type\": \"contour\"}], \"contourcarpet\": [{\"colorbar\": {\"outlinewidth\": 0, \"ticks\": \"\"}, \"type\": \"contourcarpet\"}], \"heatmap\": [{\"colorbar\": {\"outlinewidth\": 0, \"ticks\": \"\"}, \"colorscale\": [[0.0, \"#0d0887\"], [0.1111111111111111, \"#46039f\"], [0.2222222222222222, \"#7201a8\"], [0.3333333333333333, \"#9c179e\"], [0.4444444444444444, \"#bd3786\"], [0.5555555555555556, \"#d8576b\"], [0.6666666666666666, \"#ed7953\"], [0.7777777777777778, \"#fb9f3a\"], [0.8888888888888888, \"#fdca26\"], [1.0, \"#f0f921\"]], \"type\": \"heatmap\"}], \"heatmapgl\": [{\"colorbar\": {\"outlinewidth\": 0, \"ticks\": \"\"}, \"colorscale\": [[0.0, \"#0d0887\"], [0.1111111111111111, \"#46039f\"], [0.2222222222222222, \"#7201a8\"], [0.3333333333333333, \"#9c179e\"], [0.4444444444444444, \"#bd3786\"], [0.5555555555555556, \"#d8576b\"], [0.6666666666666666, \"#ed7953\"], [0.7777777777777778, \"#fb9f3a\"], [0.8888888888888888, \"#fdca26\"], [1.0, \"#f0f921\"]], \"type\": \"heatmapgl\"}], \"histogram\": [{\"marker\": {\"colorbar\": {\"outlinewidth\": 0, \"ticks\": \"\"}}, \"type\": \"histogram\"}], \"histogram2d\": [{\"colorbar\": {\"outlinewidth\": 0, \"ticks\": \"\"}, \"colorscale\": [[0.0, \"#0d0887\"], [0.1111111111111111, \"#46039f\"], [0.2222222222222222, \"#7201a8\"], [0.3333333333333333, \"#9c179e\"], [0.4444444444444444, \"#bd3786\"], [0.5555555555555556, \"#d8576b\"], [0.6666666666666666, \"#ed7953\"], [0.7777777777777778, \"#fb9f3a\"], [0.8888888888888888, \"#fdca26\"], [1.0, \"#f0f921\"]], \"type\": \"histogram2d\"}], \"histogram2dcontour\": [{\"colorbar\": {\"outlinewidth\": 0, \"ticks\": \"\"}, \"colorscale\": [[0.0, \"#0d0887\"], [0.1111111111111111, \"#46039f\"], [0.2222222222222222, \"#7201a8\"], [0.3333333333333333, \"#9c179e\"], [0.4444444444444444, \"#bd3786\"], [0.5555555555555556, \"#d8576b\"], [0.6666666666666666, \"#ed7953\"], [0.7777777777777778, \"#fb9f3a\"], [0.8888888888888888, \"#fdca26\"], [1.0, \"#f0f921\"]], \"type\": \"histogram2dcontour\"}], \"mesh3d\": [{\"colorbar\": {\"outlinewidth\": 0, \"ticks\": \"\"}, \"type\": \"mesh3d\"}], \"parcoords\": [{\"line\": {\"colorbar\": {\"outlinewidth\": 0, \"ticks\": \"\"}}, \"type\": \"parcoords\"}], \"pie\": [{\"automargin\": true, \"type\": \"pie\"}], \"scatter\": [{\"marker\": {\"colorbar\": {\"outlinewidth\": 0, \"ticks\": \"\"}}, \"type\": \"scatter\"}], \"scatter3d\": [{\"line\": {\"colorbar\": {\"outlinewidth\": 0, \"ticks\": \"\"}}, \"marker\": {\"colorbar\": {\"outlinewidth\": 0, \"ticks\": \"\"}}, \"type\": \"scatter3d\"}], \"scattercarpet\": [{\"marker\": {\"colorbar\": {\"outlinewidth\": 0, \"ticks\": \"\"}}, \"type\": \"scattercarpet\"}], \"scattergeo\": [{\"marker\": {\"colorbar\": {\"outlinewidth\": 0, \"ticks\": \"\"}}, \"type\": \"scattergeo\"}], \"scattergl\": [{\"marker\": {\"colorbar\": {\"outlinewidth\": 0, \"ticks\": \"\"}}, \"type\": \"scattergl\"}], \"scattermapbox\": [{\"marker\": {\"colorbar\": {\"outlinewidth\": 0, \"ticks\": \"\"}}, \"type\": \"scattermapbox\"}], \"scatterpolar\": [{\"marker\": {\"colorbar\": {\"outlinewidth\": 0, \"ticks\": \"\"}}, \"type\": \"scatterpolar\"}], \"scatterpolargl\": [{\"marker\": {\"colorbar\": {\"outlinewidth\": 0, \"ticks\": \"\"}}, \"type\": \"scatterpolargl\"}], \"scatterternary\": [{\"marker\": {\"colorbar\": {\"outlinewidth\": 0, \"ticks\": \"\"}}, \"type\": \"scatterternary\"}], \"surface\": [{\"colorbar\": {\"outlinewidth\": 0, \"ticks\": \"\"}, \"colorscale\": [[0.0, \"#0d0887\"], [0.1111111111111111, \"#46039f\"], [0.2222222222222222, \"#7201a8\"], [0.3333333333333333, \"#9c179e\"], [0.4444444444444444, \"#bd3786\"], [0.5555555555555556, \"#d8576b\"], [0.6666666666666666, \"#ed7953\"], [0.7777777777777778, \"#fb9f3a\"], [0.8888888888888888, \"#fdca26\"], [1.0, \"#f0f921\"]], \"type\": \"surface\"}], \"table\": [{\"cells\": {\"fill\": {\"color\": \"#EBF0F8\"}, \"line\": {\"color\": \"white\"}}, \"header\": {\"fill\": {\"color\": \"#C8D4E3\"}, \"line\": {\"color\": \"white\"}}, \"type\": \"table\"}]}, \"layout\": {\"annotationdefaults\": {\"arrowcolor\": \"#2a3f5f\", \"arrowhead\": 0, \"arrowwidth\": 1}, \"coloraxis\": {\"colorbar\": {\"outlinewidth\": 0, \"ticks\": \"\"}}, \"colorscale\": {\"diverging\": [[0, \"#8e0152\"], [0.1, \"#c51b7d\"], [0.2, \"#de77ae\"], [0.3, \"#f1b6da\"], [0.4, \"#fde0ef\"], [0.5, \"#f7f7f7\"], [0.6, \"#e6f5d0\"], [0.7, \"#b8e186\"], [0.8, \"#7fbc41\"], [0.9, \"#4d9221\"], [1, \"#276419\"]], \"sequential\": [[0.0, \"#0d0887\"], [0.1111111111111111, \"#46039f\"], [0.2222222222222222, \"#7201a8\"], [0.3333333333333333, \"#9c179e\"], [0.4444444444444444, \"#bd3786\"], [0.5555555555555556, \"#d8576b\"], [0.6666666666666666, \"#ed7953\"], [0.7777777777777778, \"#fb9f3a\"], [0.8888888888888888, \"#fdca26\"], [1.0, \"#f0f921\"]], \"sequentialminus\": [[0.0, \"#0d0887\"], [0.1111111111111111, \"#46039f\"], [0.2222222222222222, \"#7201a8\"], [0.3333333333333333, \"#9c179e\"], [0.4444444444444444, \"#bd3786\"], [0.5555555555555556, \"#d8576b\"], [0.6666666666666666, \"#ed7953\"], [0.7777777777777778, \"#fb9f3a\"], [0.8888888888888888, \"#fdca26\"], [1.0, \"#f0f921\"]]}, \"colorway\": [\"#636efa\", \"#EF553B\", \"#00cc96\", \"#ab63fa\", \"#FFA15A\", \"#19d3f3\", \"#FF6692\", \"#B6E880\", \"#FF97FF\", \"#FECB52\"], \"font\": {\"color\": \"#2a3f5f\"}, \"geo\": {\"bgcolor\": \"white\", \"lakecolor\": \"white\", \"landcolor\": \"#E5ECF6\", \"showlakes\": true, \"showland\": true, \"subunitcolor\": \"white\"}, \"hoverlabel\": {\"align\": \"left\"}, \"hovermode\": \"closest\", \"mapbox\": {\"style\": \"light\"}, \"paper_bgcolor\": \"white\", \"plot_bgcolor\": \"#E5ECF6\", \"polar\": {\"angularaxis\": {\"gridcolor\": \"white\", \"linecolor\": \"white\", \"ticks\": \"\"}, \"bgcolor\": \"#E5ECF6\", \"radialaxis\": {\"gridcolor\": \"white\", \"linecolor\": \"white\", \"ticks\": \"\"}}, \"scene\": {\"xaxis\": {\"backgroundcolor\": \"#E5ECF6\", \"gridcolor\": \"white\", \"gridwidth\": 2, \"linecolor\": \"white\", \"showbackground\": true, \"ticks\": \"\", \"zerolinecolor\": \"white\"}, \"yaxis\": {\"backgroundcolor\": \"#E5ECF6\", \"gridcolor\": \"white\", \"gridwidth\": 2, \"linecolor\": \"white\", \"showbackground\": true, \"ticks\": \"\", \"zerolinecolor\": \"white\"}, \"zaxis\": {\"backgroundcolor\": \"#E5ECF6\", \"gridcolor\": \"white\", \"gridwidth\": 2, \"linecolor\": \"white\", \"showbackground\": true, \"ticks\": \"\", \"zerolinecolor\": \"white\"}}, \"shapedefaults\": {\"line\": {\"color\": \"#2a3f5f\"}}, \"ternary\": {\"aaxis\": {\"gridcolor\": \"white\", \"linecolor\": \"white\", \"ticks\": \"\"}, \"baxis\": {\"gridcolor\": \"white\", \"linecolor\": \"white\", \"ticks\": \"\"}, \"bgcolor\": \"#E5ECF6\", \"caxis\": {\"gridcolor\": \"white\", \"linecolor\": \"white\", \"ticks\": \"\"}}, \"title\": {\"x\": 0.05}, \"xaxis\": {\"automargin\": true, \"gridcolor\": \"white\", \"linecolor\": \"white\", \"ticks\": \"\", \"title\": {\"standoff\": 15}, \"zerolinecolor\": \"white\", \"zerolinewidth\": 2}, \"yaxis\": {\"automargin\": true, \"gridcolor\": \"white\", \"linecolor\": \"white\", \"ticks\": \"\", \"title\": {\"standoff\": 15}, \"zerolinecolor\": \"white\", \"zerolinewidth\": 2}}}},\n",
       "                        {\"responsive\": true}\n",
       "                    ).then(function(){\n",
       "                            \n",
       "var gd = document.getElementById('0ee1ad87-0f4f-4966-8e20-5cd5c015d9ee');\n",
       "var x = new MutationObserver(function (mutations, observer) {{\n",
       "        var display = window.getComputedStyle(gd).display;\n",
       "        if (!display || display === 'none') {{\n",
       "            console.log([gd, 'removed!']);\n",
       "            Plotly.purge(gd);\n",
       "            observer.disconnect();\n",
       "        }}\n",
       "}});\n",
       "\n",
       "// Listen for the removal of the full notebook cells\n",
       "var notebookContainer = gd.closest('#notebook-container');\n",
       "if (notebookContainer) {{\n",
       "    x.observe(notebookContainer, {childList: true});\n",
       "}}\n",
       "\n",
       "// Listen for the clearing of the current output cell\n",
       "var outputEl = gd.closest('.output');\n",
       "if (outputEl) {{\n",
       "    x.observe(outputEl, {childList: true});\n",
       "}}\n",
       "\n",
       "                        })\n",
       "                };\n",
       "                });\n",
       "            </script>\n",
       "        </div>"
      ]
     },
     "metadata": {},
     "output_type": "display_data"
    }
   ],
   "source": [
    "tokDistricts = pd.read_csv('districtsLatLong1.csv')\n",
    "fig = go.Figure(data=go.Scattergeo(\n",
    "        lon = tokDistricts['Longitude'],\n",
    "        lat = tokDistricts['Latitude'],\n",
    "        text = tokDistricts['District'],\n",
    "        mode = 'markers',\n",
    "        ))\n",
    "\n",
    "fig.update_layout(\n",
    "        geo_scope='world',\n",
    "    )\n",
    "fig.show()"
   ]
  },
  {
   "cell_type": "markdown",
   "metadata": {},
   "source": [
    "Once all of the coordinates are correct, I can look at the final map."
   ]
  },
  {
   "cell_type": "code",
   "execution_count": 63,
   "metadata": {
    "scrolled": true
   },
   "outputs": [
    {
     "data": {
      "text/html": [
       "<div style=\"width:100%;\"><div style=\"position:relative;width:100%;height:0;padding-bottom:60%;\"><span style=\"color:#565656\">Make this Notebook Trusted to load map: File -> Trust Notebook</span><iframe src=\"about:blank\" style=\"position:absolute;width:100%;height:100%;left:0;top:0;border:none !important;\" data-html=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 onload=\"this.contentDocument.open();this.contentDocument.write(atob(this.getAttribute('data-html')));this.contentDocument.close();\" allowfullscreen webkitallowfullscreen mozallowfullscreen></iframe></div></div>"
      ],
      "text/plain": [
       "<folium.folium.Map at 0x164306217c8>"
      ]
     },
     "execution_count": 63,
     "metadata": {},
     "output_type": "execute_result"
    }
   ],
   "source": [
    "map_tokyo = folium.Map(location=[35.6828387, 139.7594549], zoom_start=11, tiles='https://tiles.stadiamaps.com/tiles/outdoors/{z}/{x}/{y}{r}.png', attr='https://tiles.stadiamaps.com/tiles/outdoors/{z}/{x}/{y}{r}.png')\n",
    "\n",
    "# add markers to map\n",
    "for lat, lng, borough, neighborhood in zip(tokDistricts['Latitude'], tokDistricts['Longitude'], tokDistricts['Ward'], tokDistricts['District']):\n",
    "    label = '{}, {}'.format(neighborhood, borough)\n",
    "    label = folium.Popup(label, parse_html=True)\n",
    "    folium.CircleMarker(\n",
    "        [lat, lng],\n",
    "        radius=5,\n",
    "        popup=label,\n",
    "        color='blue',\n",
    "        fill=True,\n",
    "        fill_opacity=0.7,\n",
    "        parse_html=False).add_to(map_tokyo)  \n",
    "    \n",
    "    \n",
    "map_tokyo"
   ]
  },
  {
   "cell_type": "markdown",
   "metadata": {},
   "source": [
    "I will also look at each district with respect to its ward."
   ]
  },
  {
   "cell_type": "code",
   "execution_count": 44,
   "metadata": {},
   "outputs": [
    {
     "name": "stderr",
     "output_type": "stream",
     "text": [
      "C:\\Users\\kimgl\\anaconda3\\lib\\site-packages\\folium\\folium.py:415: FutureWarning:\n",
      "\n",
      "The choropleth  method has been deprecated. Instead use the new Choropleth class, which has the same arguments. See the example notebook 'GeoJSON_and_choropleth' for how to do this.\n",
      "\n"
     ]
    },
    {
     "ename": "ValueError",
     "evalue": "key_on `'properties.ward_en'` not found in GeoJSON.",
     "output_type": "error",
     "traceback": [
      "\u001b[1;31m---------------------------------------------------------------------------\u001b[0m",
      "\u001b[1;31mValueError\u001b[0m                                Traceback (most recent call last)",
      "\u001b[1;32m~\\anaconda3\\lib\\site-packages\\IPython\\core\\formatters.py\u001b[0m in \u001b[0;36m__call__\u001b[1;34m(self, obj)\u001b[0m\n\u001b[0;32m    343\u001b[0m             \u001b[0mmethod\u001b[0m \u001b[1;33m=\u001b[0m \u001b[0mget_real_method\u001b[0m\u001b[1;33m(\u001b[0m\u001b[0mobj\u001b[0m\u001b[1;33m,\u001b[0m \u001b[0mself\u001b[0m\u001b[1;33m.\u001b[0m\u001b[0mprint_method\u001b[0m\u001b[1;33m)\u001b[0m\u001b[1;33m\u001b[0m\u001b[1;33m\u001b[0m\u001b[0m\n\u001b[0;32m    344\u001b[0m             \u001b[1;32mif\u001b[0m \u001b[0mmethod\u001b[0m \u001b[1;32mis\u001b[0m \u001b[1;32mnot\u001b[0m \u001b[1;32mNone\u001b[0m\u001b[1;33m:\u001b[0m\u001b[1;33m\u001b[0m\u001b[1;33m\u001b[0m\u001b[0m\n\u001b[1;32m--> 345\u001b[1;33m                 \u001b[1;32mreturn\u001b[0m \u001b[0mmethod\u001b[0m\u001b[1;33m(\u001b[0m\u001b[1;33m)\u001b[0m\u001b[1;33m\u001b[0m\u001b[1;33m\u001b[0m\u001b[0m\n\u001b[0m\u001b[0;32m    346\u001b[0m             \u001b[1;32mreturn\u001b[0m \u001b[1;32mNone\u001b[0m\u001b[1;33m\u001b[0m\u001b[1;33m\u001b[0m\u001b[0m\n\u001b[0;32m    347\u001b[0m         \u001b[1;32melse\u001b[0m\u001b[1;33m:\u001b[0m\u001b[1;33m\u001b[0m\u001b[1;33m\u001b[0m\u001b[0m\n",
      "\u001b[1;32m~\\anaconda3\\lib\\site-packages\\folium\\folium.py\u001b[0m in \u001b[0;36m_repr_html_\u001b[1;34m(self, **kwargs)\u001b[0m\n\u001b[0;32m    291\u001b[0m             \u001b[0mself\u001b[0m\u001b[1;33m.\u001b[0m\u001b[0m_parent\u001b[0m \u001b[1;33m=\u001b[0m \u001b[1;32mNone\u001b[0m\u001b[1;33m\u001b[0m\u001b[1;33m\u001b[0m\u001b[0m\n\u001b[0;32m    292\u001b[0m         \u001b[1;32melse\u001b[0m\u001b[1;33m:\u001b[0m\u001b[1;33m\u001b[0m\u001b[1;33m\u001b[0m\u001b[0m\n\u001b[1;32m--> 293\u001b[1;33m             \u001b[0mout\u001b[0m \u001b[1;33m=\u001b[0m \u001b[0mself\u001b[0m\u001b[1;33m.\u001b[0m\u001b[0m_parent\u001b[0m\u001b[1;33m.\u001b[0m\u001b[0m_repr_html_\u001b[0m\u001b[1;33m(\u001b[0m\u001b[1;33m**\u001b[0m\u001b[0mkwargs\u001b[0m\u001b[1;33m)\u001b[0m\u001b[1;33m\u001b[0m\u001b[1;33m\u001b[0m\u001b[0m\n\u001b[0m\u001b[0;32m    294\u001b[0m         \u001b[1;32mreturn\u001b[0m \u001b[0mout\u001b[0m\u001b[1;33m\u001b[0m\u001b[1;33m\u001b[0m\u001b[0m\n\u001b[0;32m    295\u001b[0m \u001b[1;33m\u001b[0m\u001b[0m\n",
      "\u001b[1;32m~\\anaconda3\\lib\\site-packages\\branca\\element.py\u001b[0m in \u001b[0;36m_repr_html_\u001b[1;34m(self, **kwargs)\u001b[0m\n\u001b[0;32m    325\u001b[0m         \u001b[1;31m# the HTML in the src attribute with a data URI. The alternative of using a srcdoc\u001b[0m\u001b[1;33m\u001b[0m\u001b[1;33m\u001b[0m\u001b[1;33m\u001b[0m\u001b[0m\n\u001b[0;32m    326\u001b[0m         \u001b[1;31m# attribute is not supported in Microsoft Internet Explorer and Edge.\u001b[0m\u001b[1;33m\u001b[0m\u001b[1;33m\u001b[0m\u001b[1;33m\u001b[0m\u001b[0m\n\u001b[1;32m--> 327\u001b[1;33m         \u001b[0mhtml\u001b[0m \u001b[1;33m=\u001b[0m \u001b[0mbase64\u001b[0m\u001b[1;33m.\u001b[0m\u001b[0mb64encode\u001b[0m\u001b[1;33m(\u001b[0m\u001b[0mself\u001b[0m\u001b[1;33m.\u001b[0m\u001b[0mrender\u001b[0m\u001b[1;33m(\u001b[0m\u001b[1;33m**\u001b[0m\u001b[0mkwargs\u001b[0m\u001b[1;33m)\u001b[0m\u001b[1;33m.\u001b[0m\u001b[0mencode\u001b[0m\u001b[1;33m(\u001b[0m\u001b[1;34m'utf8'\u001b[0m\u001b[1;33m)\u001b[0m\u001b[1;33m)\u001b[0m\u001b[1;33m.\u001b[0m\u001b[0mdecode\u001b[0m\u001b[1;33m(\u001b[0m\u001b[1;34m'utf8'\u001b[0m\u001b[1;33m)\u001b[0m\u001b[1;33m\u001b[0m\u001b[1;33m\u001b[0m\u001b[0m\n\u001b[0m\u001b[0;32m    328\u001b[0m         onload = (\n\u001b[0;32m    329\u001b[0m             \u001b[1;34m'this.contentDocument.open();'\u001b[0m\u001b[1;33m\u001b[0m\u001b[1;33m\u001b[0m\u001b[0m\n",
      "\u001b[1;32m~\\anaconda3\\lib\\site-packages\\branca\\element.py\u001b[0m in \u001b[0;36mrender\u001b[1;34m(self, **kwargs)\u001b[0m\n\u001b[0;32m    316\u001b[0m         \u001b[1;34m\"\"\"Renders the HTML representation of the element.\"\"\"\u001b[0m\u001b[1;33m\u001b[0m\u001b[1;33m\u001b[0m\u001b[0m\n\u001b[0;32m    317\u001b[0m         \u001b[1;32mfor\u001b[0m \u001b[0mname\u001b[0m\u001b[1;33m,\u001b[0m \u001b[0mchild\u001b[0m \u001b[1;32min\u001b[0m \u001b[0mself\u001b[0m\u001b[1;33m.\u001b[0m\u001b[0m_children\u001b[0m\u001b[1;33m.\u001b[0m\u001b[0mitems\u001b[0m\u001b[1;33m(\u001b[0m\u001b[1;33m)\u001b[0m\u001b[1;33m:\u001b[0m\u001b[1;33m\u001b[0m\u001b[1;33m\u001b[0m\u001b[0m\n\u001b[1;32m--> 318\u001b[1;33m             \u001b[0mchild\u001b[0m\u001b[1;33m.\u001b[0m\u001b[0mrender\u001b[0m\u001b[1;33m(\u001b[0m\u001b[1;33m**\u001b[0m\u001b[0mkwargs\u001b[0m\u001b[1;33m)\u001b[0m\u001b[1;33m\u001b[0m\u001b[1;33m\u001b[0m\u001b[0m\n\u001b[0m\u001b[0;32m    319\u001b[0m         \u001b[1;32mreturn\u001b[0m \u001b[0mself\u001b[0m\u001b[1;33m.\u001b[0m\u001b[0m_template\u001b[0m\u001b[1;33m.\u001b[0m\u001b[0mrender\u001b[0m\u001b[1;33m(\u001b[0m\u001b[0mthis\u001b[0m\u001b[1;33m=\u001b[0m\u001b[0mself\u001b[0m\u001b[1;33m,\u001b[0m \u001b[0mkwargs\u001b[0m\u001b[1;33m=\u001b[0m\u001b[0mkwargs\u001b[0m\u001b[1;33m)\u001b[0m\u001b[1;33m\u001b[0m\u001b[1;33m\u001b[0m\u001b[0m\n\u001b[0;32m    320\u001b[0m \u001b[1;33m\u001b[0m\u001b[0m\n",
      "\u001b[1;32m~\\anaconda3\\lib\\site-packages\\folium\\folium.py\u001b[0m in \u001b[0;36mrender\u001b[1;34m(self, **kwargs)\u001b[0m\n\u001b[0;32m    368\u001b[0m             '</style>'), name='map_style')\n\u001b[0;32m    369\u001b[0m \u001b[1;33m\u001b[0m\u001b[0m\n\u001b[1;32m--> 370\u001b[1;33m         \u001b[0msuper\u001b[0m\u001b[1;33m(\u001b[0m\u001b[0mMap\u001b[0m\u001b[1;33m,\u001b[0m \u001b[0mself\u001b[0m\u001b[1;33m)\u001b[0m\u001b[1;33m.\u001b[0m\u001b[0mrender\u001b[0m\u001b[1;33m(\u001b[0m\u001b[1;33m**\u001b[0m\u001b[0mkwargs\u001b[0m\u001b[1;33m)\u001b[0m\u001b[1;33m\u001b[0m\u001b[1;33m\u001b[0m\u001b[0m\n\u001b[0m\u001b[0;32m    371\u001b[0m \u001b[1;33m\u001b[0m\u001b[0m\n\u001b[0;32m    372\u001b[0m     def fit_bounds(self, bounds, padding_top_left=None,\n",
      "\u001b[1;32m~\\anaconda3\\lib\\site-packages\\branca\\element.py\u001b[0m in \u001b[0;36mrender\u001b[1;34m(self, **kwargs)\u001b[0m\n\u001b[0;32m    635\u001b[0m \u001b[1;33m\u001b[0m\u001b[0m\n\u001b[0;32m    636\u001b[0m         \u001b[1;32mfor\u001b[0m \u001b[0mname\u001b[0m\u001b[1;33m,\u001b[0m \u001b[0melement\u001b[0m \u001b[1;32min\u001b[0m \u001b[0mself\u001b[0m\u001b[1;33m.\u001b[0m\u001b[0m_children\u001b[0m\u001b[1;33m.\u001b[0m\u001b[0mitems\u001b[0m\u001b[1;33m(\u001b[0m\u001b[1;33m)\u001b[0m\u001b[1;33m:\u001b[0m\u001b[1;33m\u001b[0m\u001b[1;33m\u001b[0m\u001b[0m\n\u001b[1;32m--> 637\u001b[1;33m             \u001b[0melement\u001b[0m\u001b[1;33m.\u001b[0m\u001b[0mrender\u001b[0m\u001b[1;33m(\u001b[0m\u001b[1;33m**\u001b[0m\u001b[0mkwargs\u001b[0m\u001b[1;33m)\u001b[0m\u001b[1;33m\u001b[0m\u001b[1;33m\u001b[0m\u001b[0m\n\u001b[0m",
      "\u001b[1;32m~\\anaconda3\\lib\\site-packages\\folium\\features.py\u001b[0m in \u001b[0;36mrender\u001b[1;34m(self, **kwargs)\u001b[0m\n\u001b[0;32m   1263\u001b[0m             \u001b[0mself\u001b[0m\u001b[1;33m.\u001b[0m\u001b[0mcolor_scale\u001b[0m\u001b[1;33m.\u001b[0m\u001b[0m_parent\u001b[0m \u001b[1;33m=\u001b[0m \u001b[0mself\u001b[0m\u001b[1;33m.\u001b[0m\u001b[0m_parent\u001b[0m\u001b[1;33m\u001b[0m\u001b[1;33m\u001b[0m\u001b[0m\n\u001b[0;32m   1264\u001b[0m \u001b[1;33m\u001b[0m\u001b[0m\n\u001b[1;32m-> 1265\u001b[1;33m         \u001b[0msuper\u001b[0m\u001b[1;33m(\u001b[0m\u001b[0mChoropleth\u001b[0m\u001b[1;33m,\u001b[0m \u001b[0mself\u001b[0m\u001b[1;33m)\u001b[0m\u001b[1;33m.\u001b[0m\u001b[0mrender\u001b[0m\u001b[1;33m(\u001b[0m\u001b[1;33m**\u001b[0m\u001b[0mkwargs\u001b[0m\u001b[1;33m)\u001b[0m\u001b[1;33m\u001b[0m\u001b[1;33m\u001b[0m\u001b[0m\n\u001b[0m\u001b[0;32m   1266\u001b[0m \u001b[1;33m\u001b[0m\u001b[0m\n\u001b[0;32m   1267\u001b[0m \u001b[1;33m\u001b[0m\u001b[0m\n",
      "\u001b[1;32m~\\anaconda3\\lib\\site-packages\\branca\\element.py\u001b[0m in \u001b[0;36mrender\u001b[1;34m(self, **kwargs)\u001b[0m\n\u001b[0;32m    635\u001b[0m \u001b[1;33m\u001b[0m\u001b[0m\n\u001b[0;32m    636\u001b[0m         \u001b[1;32mfor\u001b[0m \u001b[0mname\u001b[0m\u001b[1;33m,\u001b[0m \u001b[0melement\u001b[0m \u001b[1;32min\u001b[0m \u001b[0mself\u001b[0m\u001b[1;33m.\u001b[0m\u001b[0m_children\u001b[0m\u001b[1;33m.\u001b[0m\u001b[0mitems\u001b[0m\u001b[1;33m(\u001b[0m\u001b[1;33m)\u001b[0m\u001b[1;33m:\u001b[0m\u001b[1;33m\u001b[0m\u001b[1;33m\u001b[0m\u001b[0m\n\u001b[1;32m--> 637\u001b[1;33m             \u001b[0melement\u001b[0m\u001b[1;33m.\u001b[0m\u001b[0mrender\u001b[0m\u001b[1;33m(\u001b[0m\u001b[1;33m**\u001b[0m\u001b[0mkwargs\u001b[0m\u001b[1;33m)\u001b[0m\u001b[1;33m\u001b[0m\u001b[1;33m\u001b[0m\u001b[0m\n\u001b[0m",
      "\u001b[1;32m~\\anaconda3\\lib\\site-packages\\folium\\features.py\u001b[0m in \u001b[0;36mrender\u001b[1;34m(self, **kwargs)\u001b[0m\n\u001b[0;32m    574\u001b[0m                                         self)\n\u001b[0;32m    575\u001b[0m             \u001b[1;32mif\u001b[0m \u001b[0mself\u001b[0m\u001b[1;33m.\u001b[0m\u001b[0mstyle\u001b[0m\u001b[1;33m:\u001b[0m\u001b[1;33m\u001b[0m\u001b[1;33m\u001b[0m\u001b[0m\n\u001b[1;32m--> 576\u001b[1;33m                 \u001b[0mself\u001b[0m\u001b[1;33m.\u001b[0m\u001b[0mstyle_map\u001b[0m \u001b[1;33m=\u001b[0m \u001b[0mmapper\u001b[0m\u001b[1;33m.\u001b[0m\u001b[0mget_style_map\u001b[0m\u001b[1;33m(\u001b[0m\u001b[0mself\u001b[0m\u001b[1;33m.\u001b[0m\u001b[0mstyle_function\u001b[0m\u001b[1;33m)\u001b[0m\u001b[1;33m\u001b[0m\u001b[1;33m\u001b[0m\u001b[0m\n\u001b[0m\u001b[0;32m    577\u001b[0m             \u001b[1;32mif\u001b[0m \u001b[0mself\u001b[0m\u001b[1;33m.\u001b[0m\u001b[0mhighlight\u001b[0m\u001b[1;33m:\u001b[0m\u001b[1;33m\u001b[0m\u001b[1;33m\u001b[0m\u001b[0m\n\u001b[0;32m    578\u001b[0m                 self.highlight_map = mapper.get_highlight_map(\n",
      "\u001b[1;32m~\\anaconda3\\lib\\site-packages\\folium\\features.py\u001b[0m in \u001b[0;36mget_style_map\u001b[1;34m(self, style_function)\u001b[0m\n\u001b[0;32m    594\u001b[0m     \u001b[1;32mdef\u001b[0m \u001b[0mget_style_map\u001b[0m\u001b[1;33m(\u001b[0m\u001b[0mself\u001b[0m\u001b[1;33m,\u001b[0m \u001b[0mstyle_function\u001b[0m\u001b[1;33m)\u001b[0m\u001b[1;33m:\u001b[0m\u001b[1;33m\u001b[0m\u001b[1;33m\u001b[0m\u001b[0m\n\u001b[0;32m    595\u001b[0m         \u001b[1;34m\"\"\"Return a dict that maps style parameters to features.\"\"\"\u001b[0m\u001b[1;33m\u001b[0m\u001b[1;33m\u001b[0m\u001b[0m\n\u001b[1;32m--> 596\u001b[1;33m         \u001b[1;32mreturn\u001b[0m \u001b[0mself\u001b[0m\u001b[1;33m.\u001b[0m\u001b[0m_create_mapping\u001b[0m\u001b[1;33m(\u001b[0m\u001b[0mstyle_function\u001b[0m\u001b[1;33m,\u001b[0m \u001b[1;34m'style'\u001b[0m\u001b[1;33m)\u001b[0m\u001b[1;33m\u001b[0m\u001b[1;33m\u001b[0m\u001b[0m\n\u001b[0m\u001b[0;32m    597\u001b[0m \u001b[1;33m\u001b[0m\u001b[0m\n\u001b[0;32m    598\u001b[0m     \u001b[1;32mdef\u001b[0m \u001b[0mget_highlight_map\u001b[0m\u001b[1;33m(\u001b[0m\u001b[0mself\u001b[0m\u001b[1;33m,\u001b[0m \u001b[0mhighlight_function\u001b[0m\u001b[1;33m)\u001b[0m\u001b[1;33m:\u001b[0m\u001b[1;33m\u001b[0m\u001b[1;33m\u001b[0m\u001b[0m\n",
      "\u001b[1;32m~\\anaconda3\\lib\\site-packages\\folium\\features.py\u001b[0m in \u001b[0;36m_create_mapping\u001b[1;34m(self, func, switch)\u001b[0m\n\u001b[0;32m    604\u001b[0m         \u001b[0mmapping\u001b[0m \u001b[1;33m=\u001b[0m \u001b[1;33m{\u001b[0m\u001b[1;33m}\u001b[0m\u001b[1;33m\u001b[0m\u001b[1;33m\u001b[0m\u001b[0m\n\u001b[0;32m    605\u001b[0m         \u001b[1;32mfor\u001b[0m \u001b[0mfeature\u001b[0m \u001b[1;32min\u001b[0m \u001b[0mself\u001b[0m\u001b[1;33m.\u001b[0m\u001b[0mdata\u001b[0m\u001b[1;33m[\u001b[0m\u001b[1;34m'features'\u001b[0m\u001b[1;33m]\u001b[0m\u001b[1;33m:\u001b[0m\u001b[1;33m\u001b[0m\u001b[1;33m\u001b[0m\u001b[0m\n\u001b[1;32m--> 606\u001b[1;33m             \u001b[0mcontent\u001b[0m \u001b[1;33m=\u001b[0m \u001b[0mfunc\u001b[0m\u001b[1;33m(\u001b[0m\u001b[0mfeature\u001b[0m\u001b[1;33m)\u001b[0m\u001b[1;33m\u001b[0m\u001b[1;33m\u001b[0m\u001b[0m\n\u001b[0m\u001b[0;32m    607\u001b[0m             \u001b[1;32mif\u001b[0m \u001b[0mswitch\u001b[0m \u001b[1;33m==\u001b[0m \u001b[1;34m'style'\u001b[0m\u001b[1;33m:\u001b[0m\u001b[1;33m\u001b[0m\u001b[1;33m\u001b[0m\u001b[0m\n\u001b[0;32m    608\u001b[0m                 \u001b[1;32mfor\u001b[0m \u001b[0mkey\u001b[0m\u001b[1;33m,\u001b[0m \u001b[0mvalue\u001b[0m \u001b[1;32min\u001b[0m \u001b[0mcontent\u001b[0m\u001b[1;33m.\u001b[0m\u001b[0mitems\u001b[0m\u001b[1;33m(\u001b[0m\u001b[1;33m)\u001b[0m\u001b[1;33m:\u001b[0m\u001b[1;33m\u001b[0m\u001b[1;33m\u001b[0m\u001b[0m\n",
      "\u001b[1;32m~\\anaconda3\\lib\\site-packages\\folium\\features.py\u001b[0m in \u001b[0;36mstyle_function\u001b[1;34m(x)\u001b[0m\n\u001b[0;32m   1223\u001b[0m \u001b[1;33m\u001b[0m\u001b[0m\n\u001b[0;32m   1224\u001b[0m         \u001b[1;32mdef\u001b[0m \u001b[0mstyle_function\u001b[0m\u001b[1;33m(\u001b[0m\u001b[0mx\u001b[0m\u001b[1;33m)\u001b[0m\u001b[1;33m:\u001b[0m\u001b[1;33m\u001b[0m\u001b[1;33m\u001b[0m\u001b[0m\n\u001b[1;32m-> 1225\u001b[1;33m             \u001b[0mcolor\u001b[0m\u001b[1;33m,\u001b[0m \u001b[0mopacity\u001b[0m \u001b[1;33m=\u001b[0m \u001b[0mcolor_scale_fun\u001b[0m\u001b[1;33m(\u001b[0m\u001b[0mx\u001b[0m\u001b[1;33m)\u001b[0m\u001b[1;33m\u001b[0m\u001b[1;33m\u001b[0m\u001b[0m\n\u001b[0m\u001b[0;32m   1226\u001b[0m             return {\n\u001b[0;32m   1227\u001b[0m                 \u001b[1;34m'weight'\u001b[0m\u001b[1;33m:\u001b[0m \u001b[0mline_weight\u001b[0m\u001b[1;33m,\u001b[0m\u001b[1;33m\u001b[0m\u001b[1;33m\u001b[0m\u001b[0m\n",
      "\u001b[1;32m~\\anaconda3\\lib\\site-packages\\folium\\features.py\u001b[0m in \u001b[0;36mcolor_scale_fun\u001b[1;34m(x)\u001b[0m\n\u001b[0;32m   1206\u001b[0m                 \u001b[0mkey_of_x\u001b[0m \u001b[1;33m=\u001b[0m \u001b[0mget_by_key\u001b[0m\u001b[1;33m(\u001b[0m\u001b[0mx\u001b[0m\u001b[1;33m,\u001b[0m \u001b[0mkey_on\u001b[0m\u001b[1;33m)\u001b[0m\u001b[1;33m\u001b[0m\u001b[1;33m\u001b[0m\u001b[0m\n\u001b[0;32m   1207\u001b[0m                 \u001b[1;32mif\u001b[0m \u001b[0mkey_of_x\u001b[0m \u001b[1;32mis\u001b[0m \u001b[1;32mNone\u001b[0m\u001b[1;33m:\u001b[0m\u001b[1;33m\u001b[0m\u001b[1;33m\u001b[0m\u001b[0m\n\u001b[1;32m-> 1208\u001b[1;33m                     \u001b[1;32mraise\u001b[0m \u001b[0mValueError\u001b[0m\u001b[1;33m(\u001b[0m\u001b[1;34m\"key_on `{!r}` not found in GeoJSON.\"\u001b[0m\u001b[1;33m.\u001b[0m\u001b[0mformat\u001b[0m\u001b[1;33m(\u001b[0m\u001b[0mkey_on\u001b[0m\u001b[1;33m)\u001b[0m\u001b[1;33m)\u001b[0m\u001b[1;33m\u001b[0m\u001b[1;33m\u001b[0m\u001b[0m\n\u001b[0m\u001b[0;32m   1209\u001b[0m \u001b[1;33m\u001b[0m\u001b[0m\n\u001b[0;32m   1210\u001b[0m                 \u001b[1;32mif\u001b[0m \u001b[0mkey_of_x\u001b[0m \u001b[1;32mnot\u001b[0m \u001b[1;32min\u001b[0m \u001b[0mcolor_data\u001b[0m\u001b[1;33m.\u001b[0m\u001b[0mkeys\u001b[0m\u001b[1;33m(\u001b[0m\u001b[1;33m)\u001b[0m\u001b[1;33m:\u001b[0m\u001b[1;33m\u001b[0m\u001b[1;33m\u001b[0m\u001b[0m\n",
      "\u001b[1;31mValueError\u001b[0m: key_on `'properties.ward_en'` not found in GeoJSON."
     ]
    },
    {
     "data": {
      "text/plain": [
       "<folium.folium.Map at 0x1642aea7188>"
      ]
     },
     "execution_count": 44,
     "metadata": {},
     "output_type": "execute_result"
    }
   ],
   "source": [
    "tokyo_geo = r'land-master/land-master/tokyo2.geojson'\n",
    "map_tokyo = folium.Map(location=[35.6828387, 139.7594549], zoom_start=11, tiles='https://tiles.stadiamaps.com/tiles/outdoors/{z}/{x}/{y}{r}.png', attr='https://tiles.stadiamaps.com/tiles/outdoors/{z}/{x}/{y}{r}.png')\n",
    "\n",
    "map_tokyo.choropleth(\n",
    "    geo_data=tokyo_geo,\n",
    "    data=df,\n",
    "    columns=['Ward', 'Density'],\n",
    "    key_on='feature.properties.ward_en',\n",
    "    fill_color='YlOrRd', \n",
    "    fill_opacity=0.7, \n",
    "    line_opacity=0.2,\n",
    "    legend_name='Tokyo Ward Density'\n",
    ")\n",
    "\n",
    "# add markers to map\n",
    "for lat, lng, borough, neighborhood in zip(tokDistricts['Latitude'], tokDistricts['Longitude'], tokDistricts['Ward'], tokDistricts['District']):\n",
    "    label = '{}, {}'.format(neighborhood, borough)\n",
    "    label = folium.Popup(label, parse_html=True)\n",
    "    folium.CircleMarker(\n",
    "        [lat, lng],\n",
    "        radius=5,\n",
    "        popup=label,\n",
    "        color='blue',\n",
    "        fill=True,\n",
    "        fill_color='#3186cc',\n",
    "        fill_opacity=0.7,\n",
    "        parse_html=False).add_to(map_tokyo)  \n",
    "# display map\n",
    "map_tokyo"
   ]
  },
  {
   "cell_type": "markdown",
   "metadata": {},
   "source": [
    "Next I will use Foursquare data to tell me more about the venues at each district of Tokyo."
   ]
  },
  {
   "cell_type": "code",
   "execution_count": 45,
   "metadata": {},
   "outputs": [
    {
     "name": "stdout",
     "output_type": "stream",
     "text": [
      "Your credentails:\n",
      "CLIENT_ID: XVXL0MZ5JBK5NMHWAK3PZIVCOFWJRNPZP5BW2HYDMPT5PKCV\n",
      "CLIENT_SECRET:UKMWMS43JYYLGJKW4LQQFI5STD2EGGHXK0SDQT2MM5FDG4CI\n"
     ]
    }
   ],
   "source": [
    "CLIENT_ID = 'XVXL0MZ5JBK5NMHWAK3PZIVCOFWJRNPZP5BW2HYDMPT5PKCV' # your Foursquare ID\n",
    "CLIENT_SECRET = 'UKMWMS43JYYLGJKW4LQQFI5STD2EGGHXK0SDQT2MM5FDG4CI' # your Foursquare Secret\n",
    "VERSION = '20180605' # Foursquare API version\n",
    "\n",
    "print('Your credentails:')\n",
    "print('CLIENT_ID: ' + CLIENT_ID)\n",
    "print('CLIENT_SECRET:' + CLIENT_SECRET)"
   ]
  },
  {
   "cell_type": "markdown",
   "metadata": {},
   "source": [
    "Let's define some functions to pull the data."
   ]
  },
  {
   "cell_type": "code",
   "execution_count": 46,
   "metadata": {},
   "outputs": [],
   "source": [
    "# function that extracts the category of the venue\n",
    "def get_category_type(row):\n",
    "    try:\n",
    "        categories_list = row['categories']\n",
    "    except:\n",
    "        categories_list = row['venue.categories']\n",
    "        \n",
    "    if len(categories_list) == 0:\n",
    "        return None\n",
    "    else:\n",
    "        return categories_list[0]['name']"
   ]
  },
  {
   "cell_type": "code",
   "execution_count": 47,
   "metadata": {},
   "outputs": [],
   "source": [
    "def getNearbyVenues(names, latitudes, longitudes, radius=100, LIMIT=10):\n",
    "    \n",
    "    venues_list=[]\n",
    "    for name, lat, lng in zip(names, latitudes, longitudes):\n",
    "        print(name)\n",
    "            \n",
    "        # create the API request URL\n",
    "        url = 'https://api.foursquare.com/v2/venues/explore?&client_id={}&client_secret={}&v={}&ll={},{}&radius={}&limit={}'.format(\n",
    "            'XVXL0MZ5JBK5NMHWAK3PZIVCOFWJRNPZP5BW2HYDMPT5PKCV', \n",
    "            'UKMWMS43JYYLGJKW4LQQFI5STD2EGGHXK0SDQT2MM5FDG4CI', \n",
    "            '20180605', \n",
    "            lat, \n",
    "            lng, \n",
    "            radius, \n",
    "            LIMIT)\n",
    "            \n",
    "        # make the GET request\n",
    "        results = requests.get(url).json()[\"response\"]['groups'][0]['items']\n",
    "        \n",
    "        # return only relevant information for each nearby venue\n",
    "        venues_list.append([(\n",
    "            name, \n",
    "            lat, \n",
    "            lng, \n",
    "            v['venue']['name'], \n",
    "            v['venue']['location']['lat'], \n",
    "            v['venue']['location']['lng'],  \n",
    "            v['venue']['categories'][0]['name']) for v in results])\n",
    "\n",
    "    nearby_venues = pd.DataFrame([item for venue_list in venues_list for item in venue_list])\n",
    "    nearby_venues.columns = ['Neighborhood', \n",
    "                  'Neighborhood Latitude', \n",
    "                  'Neighborhood Longitude', \n",
    "                  'Venue', \n",
    "                  'Venue Latitude', \n",
    "                  'Venue Longitude', \n",
    "                  'Venue Category']\n",
    "    \n",
    "    return(nearby_venues)"
   ]
  },
  {
   "cell_type": "markdown",
   "metadata": {},
   "source": [
    "Get the venues of each district by using the latitude and longitude values."
   ]
  },
  {
   "cell_type": "code",
   "execution_count": 48,
   "metadata": {},
   "outputs": [
    {
     "name": "stdout",
     "output_type": "stream",
     "text": [
      "Akabane\n",
      "Akihabara\n",
      "Aobadai\n",
      "Aomi\n",
      "Aoto\n",
      "Aoyama\n",
      "Arakawa\n",
      "Ariake\n",
      "Asagaya\n",
      "Asakusa\n",
      "Ayase\n",
      "Azabu\n",
      "Daikanyama\n",
      "Den-en-chofu\n",
      "Ebisu\n",
      "Etchujima\n",
      "Fukagawa\n",
      "Ginza\n",
      "Gotanda\n",
      "Hakusan\n",
      "Hamamatsucho\n",
      "Haneda\n",
      "Harajuku\n",
      "Hatanodai\n",
      "Hatchobori\n",
      "Hikarigaoka\n",
      "Hiroo\n",
      "Hongo\n",
      "Ichigaya\n",
      "Iidabashi\n",
      "Ikebukuro\n",
      "Itabashi\n",
      "Jiyugeoka\n",
      "Kachidoki\n",
      "Kagurazaka\n",
      "Kamata\n",
      "Kameari\n",
      "Kameido\n",
      "Kanda\n",
      "Karasuyama\n",
      "Kasai\n",
      "Kasumigaseki\n",
      "Kayabacho\n",
      "Kiba\n",
      "Kinshicho\n",
      "Kinuta\n",
      "Kitasenju\n",
      "Kiyosumi\n",
      "Koenji\n",
      "Koiwa\n",
      "Komaba\n",
      "Komagome\n",
      "Machiya\n",
      "Marunouchi\n",
      "Meguro\n",
      "Minamisenju\n",
      "Mita\n",
      "Monzennakacho\n",
      "Morishita\n",
      "Nagatacho\n",
      "Nakameguro\n",
      "Nakano\n",
      "Nerima\n",
      "Nihonbashi\n",
      "Nippori\n",
      "Odaiba\n",
      "Ogikubo\n",
      "Oimachi\n",
      "Oizumi\n",
      "Oji\n",
      "Okubo\n",
      "Omori\n",
      "Osaki\n",
      "Otemachi\n",
      "Roppongi\n",
      "Ryogoku\n",
      "Sendagaya\n",
      "Senkawa\n",
      "Setagaya\n",
      "Shibamata\n",
      "Shibuya\n",
      "Shimokitazawa\n",
      "Shinagawa\n",
      "Shinbashi\n",
      "Shinjuku\n",
      "Shinkawa\n",
      "Shirakawa\n",
      "Sugamo\n",
      "Sunamachi\n",
      "Tabata\n",
      "Takadanobaba\n",
      "Takashimadaira\n",
      "Takenotsuka\n",
      "Tamagawa\n",
      "Tateishi\n",
      "Tennozu\n",
      "Toranomon\n",
      "Toyocho\n",
      "Tsukiji\n",
      "Tsukishima\n",
      "Tsukuda\n",
      "Ueno\n",
      "Yayoi\n",
      "Yotsuya\n",
      "Yoyogi\n",
      "Yurakucho\n"
     ]
    }
   ],
   "source": [
    "tokyo_venues = getNearbyVenues(names = tokDistricts['District'],\n",
    "                                   latitudes = tokDistricts['Latitude'],\n",
    "                                   longitudes = tokDistricts['Longitude'], \n",
    "                            \n",
    "                                  )"
   ]
  },
  {
   "cell_type": "code",
   "execution_count": 22,
   "metadata": {},
   "outputs": [
    {
     "name": "stdout",
     "output_type": "stream",
     "text": [
      "(667, 7)\n"
     ]
    },
    {
     "data": {
      "text/html": [
       "<div>\n",
       "<style scoped>\n",
       "    .dataframe tbody tr th:only-of-type {\n",
       "        vertical-align: middle;\n",
       "    }\n",
       "\n",
       "    .dataframe tbody tr th {\n",
       "        vertical-align: top;\n",
       "    }\n",
       "\n",
       "    .dataframe thead th {\n",
       "        text-align: right;\n",
       "    }\n",
       "</style>\n",
       "<table border=\"1\" class=\"dataframe\">\n",
       "  <thead>\n",
       "    <tr style=\"text-align: right;\">\n",
       "      <th></th>\n",
       "      <th>Neighborhood</th>\n",
       "      <th>Neighborhood Latitude</th>\n",
       "      <th>Neighborhood Longitude</th>\n",
       "      <th>Venue</th>\n",
       "      <th>Venue Latitude</th>\n",
       "      <th>Venue Longitude</th>\n",
       "      <th>Venue Category</th>\n",
       "    </tr>\n",
       "  </thead>\n",
       "  <tbody>\n",
       "    <tr>\n",
       "      <th>0</th>\n",
       "      <td>Akabane</td>\n",
       "      <td>35.778139</td>\n",
       "      <td>139.7208</td>\n",
       "      <td>Maruyoshi (まるよし)</td>\n",
       "      <td>35.778424</td>\n",
       "      <td>139.721332</td>\n",
       "      <td>Sake Bar</td>\n",
       "    </tr>\n",
       "    <tr>\n",
       "      <th>1</th>\n",
       "      <td>Akabane</td>\n",
       "      <td>35.778139</td>\n",
       "      <td>139.7208</td>\n",
       "      <td>昔ながらの喫茶店 友路有</td>\n",
       "      <td>35.778208</td>\n",
       "      <td>139.721213</td>\n",
       "      <td>Tea Room</td>\n",
       "    </tr>\n",
       "    <tr>\n",
       "      <th>2</th>\n",
       "      <td>Akabane</td>\n",
       "      <td>35.778139</td>\n",
       "      <td>139.7208</td>\n",
       "      <td>Felts (LE BIHAN (ビアン ex. Felts))</td>\n",
       "      <td>35.777572</td>\n",
       "      <td>139.721039</td>\n",
       "      <td>Bakery</td>\n",
       "    </tr>\n",
       "    <tr>\n",
       "      <th>3</th>\n",
       "      <td>Akabane</td>\n",
       "      <td>35.778139</td>\n",
       "      <td>139.7208</td>\n",
       "      <td>Beans Akabane (ビーンズ赤羽)</td>\n",
       "      <td>35.777649</td>\n",
       "      <td>139.721294</td>\n",
       "      <td>Shopping Mall</td>\n",
       "    </tr>\n",
       "    <tr>\n",
       "      <th>4</th>\n",
       "      <td>Akabane</td>\n",
       "      <td>35.778139</td>\n",
       "      <td>139.7208</td>\n",
       "      <td>Ito (自家製麺 伊藤)</td>\n",
       "      <td>35.778266</td>\n",
       "      <td>139.721495</td>\n",
       "      <td>Ramen Restaurant</td>\n",
       "    </tr>\n",
       "  </tbody>\n",
       "</table>\n",
       "</div>"
      ],
      "text/plain": [
       "  Neighborhood  Neighborhood Latitude  Neighborhood Longitude  \\\n",
       "0      Akabane              35.778139                139.7208   \n",
       "1      Akabane              35.778139                139.7208   \n",
       "2      Akabane              35.778139                139.7208   \n",
       "3      Akabane              35.778139                139.7208   \n",
       "4      Akabane              35.778139                139.7208   \n",
       "\n",
       "                              Venue  Venue Latitude  Venue Longitude  \\\n",
       "0                  Maruyoshi (まるよし)       35.778424       139.721332   \n",
       "1                      昔ながらの喫茶店 友路有       35.778208       139.721213   \n",
       "2  Felts (LE BIHAN (ビアン ex. Felts))       35.777572       139.721039   \n",
       "3            Beans Akabane (ビーンズ赤羽)       35.777649       139.721294   \n",
       "4                     Ito (自家製麺 伊藤)       35.778266       139.721495   \n",
       "\n",
       "     Venue Category  \n",
       "0          Sake Bar  \n",
       "1          Tea Room  \n",
       "2            Bakery  \n",
       "3     Shopping Mall  \n",
       "4  Ramen Restaurant  "
      ]
     },
     "execution_count": 22,
     "metadata": {},
     "output_type": "execute_result"
    }
   ],
   "source": [
    "print(tokyo_venues.shape)\n",
    "tokyo_venues.head()"
   ]
  },
  {
   "cell_type": "code",
   "execution_count": 23,
   "metadata": {},
   "outputs": [
    {
     "name": "stdout",
     "output_type": "stream",
     "text": [
      "There are 149 uniques categories.\n"
     ]
    }
   ],
   "source": [
    "print('There are {} uniques categories.'.format(len(tokyo_venues['Venue Category'].unique())))"
   ]
  },
  {
   "cell_type": "markdown",
   "metadata": {},
   "source": [
    "I will one hot encode, group the venues and find the most common ones for"
   ]
  },
  {
   "cell_type": "code",
   "execution_count": 24,
   "metadata": {},
   "outputs": [
    {
     "data": {
      "text/html": [
       "<div>\n",
       "<style scoped>\n",
       "    .dataframe tbody tr th:only-of-type {\n",
       "        vertical-align: middle;\n",
       "    }\n",
       "\n",
       "    .dataframe tbody tr th {\n",
       "        vertical-align: top;\n",
       "    }\n",
       "\n",
       "    .dataframe thead th {\n",
       "        text-align: right;\n",
       "    }\n",
       "</style>\n",
       "<table border=\"1\" class=\"dataframe\">\n",
       "  <thead>\n",
       "    <tr style=\"text-align: right;\">\n",
       "      <th></th>\n",
       "      <th>Neighborhood</th>\n",
       "      <th>ATM</th>\n",
       "      <th>American Restaurant</th>\n",
       "      <th>Arcade</th>\n",
       "      <th>Art Gallery</th>\n",
       "      <th>Art Museum</th>\n",
       "      <th>Arts &amp; Crafts Store</th>\n",
       "      <th>Asian Restaurant</th>\n",
       "      <th>Australian Restaurant</th>\n",
       "      <th>BBQ Joint</th>\n",
       "      <th>...</th>\n",
       "      <th>Unagi Restaurant</th>\n",
       "      <th>Used Bookstore</th>\n",
       "      <th>Vegetarian / Vegan Restaurant</th>\n",
       "      <th>Vietnamese Restaurant</th>\n",
       "      <th>Wagashi Place</th>\n",
       "      <th>Whisky Bar</th>\n",
       "      <th>Wine Bar</th>\n",
       "      <th>Wine Shop</th>\n",
       "      <th>Yakitori Restaurant</th>\n",
       "      <th>Yoshoku Restaurant</th>\n",
       "    </tr>\n",
       "  </thead>\n",
       "  <tbody>\n",
       "    <tr>\n",
       "      <th>0</th>\n",
       "      <td>Akabane</td>\n",
       "      <td>0</td>\n",
       "      <td>0</td>\n",
       "      <td>0</td>\n",
       "      <td>0</td>\n",
       "      <td>0</td>\n",
       "      <td>0</td>\n",
       "      <td>0</td>\n",
       "      <td>0</td>\n",
       "      <td>0</td>\n",
       "      <td>...</td>\n",
       "      <td>0</td>\n",
       "      <td>0</td>\n",
       "      <td>0</td>\n",
       "      <td>0</td>\n",
       "      <td>0</td>\n",
       "      <td>0</td>\n",
       "      <td>0</td>\n",
       "      <td>0</td>\n",
       "      <td>0</td>\n",
       "      <td>0</td>\n",
       "    </tr>\n",
       "    <tr>\n",
       "      <th>1</th>\n",
       "      <td>Akabane</td>\n",
       "      <td>0</td>\n",
       "      <td>0</td>\n",
       "      <td>0</td>\n",
       "      <td>0</td>\n",
       "      <td>0</td>\n",
       "      <td>0</td>\n",
       "      <td>0</td>\n",
       "      <td>0</td>\n",
       "      <td>0</td>\n",
       "      <td>...</td>\n",
       "      <td>0</td>\n",
       "      <td>0</td>\n",
       "      <td>0</td>\n",
       "      <td>0</td>\n",
       "      <td>0</td>\n",
       "      <td>0</td>\n",
       "      <td>0</td>\n",
       "      <td>0</td>\n",
       "      <td>0</td>\n",
       "      <td>0</td>\n",
       "    </tr>\n",
       "    <tr>\n",
       "      <th>2</th>\n",
       "      <td>Akabane</td>\n",
       "      <td>0</td>\n",
       "      <td>0</td>\n",
       "      <td>0</td>\n",
       "      <td>0</td>\n",
       "      <td>0</td>\n",
       "      <td>0</td>\n",
       "      <td>0</td>\n",
       "      <td>0</td>\n",
       "      <td>0</td>\n",
       "      <td>...</td>\n",
       "      <td>0</td>\n",
       "      <td>0</td>\n",
       "      <td>0</td>\n",
       "      <td>0</td>\n",
       "      <td>0</td>\n",
       "      <td>0</td>\n",
       "      <td>0</td>\n",
       "      <td>0</td>\n",
       "      <td>0</td>\n",
       "      <td>0</td>\n",
       "    </tr>\n",
       "    <tr>\n",
       "      <th>3</th>\n",
       "      <td>Akabane</td>\n",
       "      <td>0</td>\n",
       "      <td>0</td>\n",
       "      <td>0</td>\n",
       "      <td>0</td>\n",
       "      <td>0</td>\n",
       "      <td>0</td>\n",
       "      <td>0</td>\n",
       "      <td>0</td>\n",
       "      <td>0</td>\n",
       "      <td>...</td>\n",
       "      <td>0</td>\n",
       "      <td>0</td>\n",
       "      <td>0</td>\n",
       "      <td>0</td>\n",
       "      <td>0</td>\n",
       "      <td>0</td>\n",
       "      <td>0</td>\n",
       "      <td>0</td>\n",
       "      <td>0</td>\n",
       "      <td>0</td>\n",
       "    </tr>\n",
       "    <tr>\n",
       "      <th>4</th>\n",
       "      <td>Akabane</td>\n",
       "      <td>0</td>\n",
       "      <td>0</td>\n",
       "      <td>0</td>\n",
       "      <td>0</td>\n",
       "      <td>0</td>\n",
       "      <td>0</td>\n",
       "      <td>0</td>\n",
       "      <td>0</td>\n",
       "      <td>0</td>\n",
       "      <td>...</td>\n",
       "      <td>0</td>\n",
       "      <td>0</td>\n",
       "      <td>0</td>\n",
       "      <td>0</td>\n",
       "      <td>0</td>\n",
       "      <td>0</td>\n",
       "      <td>0</td>\n",
       "      <td>0</td>\n",
       "      <td>0</td>\n",
       "      <td>0</td>\n",
       "    </tr>\n",
       "  </tbody>\n",
       "</table>\n",
       "<p>5 rows × 150 columns</p>\n",
       "</div>"
      ],
      "text/plain": [
       "  Neighborhood  ATM  American Restaurant  Arcade  Art Gallery  Art Museum  \\\n",
       "0      Akabane    0                    0       0            0           0   \n",
       "1      Akabane    0                    0       0            0           0   \n",
       "2      Akabane    0                    0       0            0           0   \n",
       "3      Akabane    0                    0       0            0           0   \n",
       "4      Akabane    0                    0       0            0           0   \n",
       "\n",
       "   Arts & Crafts Store  Asian Restaurant  Australian Restaurant  BBQ Joint  \\\n",
       "0                    0                 0                      0          0   \n",
       "1                    0                 0                      0          0   \n",
       "2                    0                 0                      0          0   \n",
       "3                    0                 0                      0          0   \n",
       "4                    0                 0                      0          0   \n",
       "\n",
       "   ...  Unagi Restaurant  Used Bookstore  Vegetarian / Vegan Restaurant  \\\n",
       "0  ...                 0               0                              0   \n",
       "1  ...                 0               0                              0   \n",
       "2  ...                 0               0                              0   \n",
       "3  ...                 0               0                              0   \n",
       "4  ...                 0               0                              0   \n",
       "\n",
       "   Vietnamese Restaurant  Wagashi Place  Whisky Bar  Wine Bar  Wine Shop  \\\n",
       "0                      0              0           0         0          0   \n",
       "1                      0              0           0         0          0   \n",
       "2                      0              0           0         0          0   \n",
       "3                      0              0           0         0          0   \n",
       "4                      0              0           0         0          0   \n",
       "\n",
       "   Yakitori Restaurant  Yoshoku Restaurant  \n",
       "0                    0                   0  \n",
       "1                    0                   0  \n",
       "2                    0                   0  \n",
       "3                    0                   0  \n",
       "4                    0                   0  \n",
       "\n",
       "[5 rows x 150 columns]"
      ]
     },
     "execution_count": 24,
     "metadata": {},
     "output_type": "execute_result"
    }
   ],
   "source": [
    "# one hot encoding\n",
    "tokyo_onehot = pd.get_dummies(tokyo_venues[['Venue Category']], prefix=\"\", prefix_sep=\"\")\n",
    "\n",
    "# add neighborhood column back to dataframe\n",
    "tokyo_onehot['Neighborhood'] = tokyo_venues['Neighborhood'] \n",
    "\n",
    "# move neighborhood column to the first column\n",
    "fixed_columns = [tokyo_onehot.columns[-1]] + list(tokyo_onehot.columns[:-1])\n",
    "tokyo_onehot = tokyo_onehot[fixed_columns]\n",
    "\n",
    "tokyo_onehot.head()"
   ]
  },
  {
   "cell_type": "code",
   "execution_count": 25,
   "metadata": {},
   "outputs": [
    {
     "data": {
      "text/html": [
       "<div>\n",
       "<style scoped>\n",
       "    .dataframe tbody tr th:only-of-type {\n",
       "        vertical-align: middle;\n",
       "    }\n",
       "\n",
       "    .dataframe tbody tr th {\n",
       "        vertical-align: top;\n",
       "    }\n",
       "\n",
       "    .dataframe thead th {\n",
       "        text-align: right;\n",
       "    }\n",
       "</style>\n",
       "<table border=\"1\" class=\"dataframe\">\n",
       "  <thead>\n",
       "    <tr style=\"text-align: right;\">\n",
       "      <th></th>\n",
       "      <th>Neighborhood</th>\n",
       "      <th>ATM</th>\n",
       "      <th>American Restaurant</th>\n",
       "      <th>Arcade</th>\n",
       "      <th>Art Gallery</th>\n",
       "      <th>Art Museum</th>\n",
       "      <th>Arts &amp; Crafts Store</th>\n",
       "      <th>Asian Restaurant</th>\n",
       "      <th>Australian Restaurant</th>\n",
       "      <th>BBQ Joint</th>\n",
       "      <th>...</th>\n",
       "      <th>Unagi Restaurant</th>\n",
       "      <th>Used Bookstore</th>\n",
       "      <th>Vegetarian / Vegan Restaurant</th>\n",
       "      <th>Vietnamese Restaurant</th>\n",
       "      <th>Wagashi Place</th>\n",
       "      <th>Whisky Bar</th>\n",
       "      <th>Wine Bar</th>\n",
       "      <th>Wine Shop</th>\n",
       "      <th>Yakitori Restaurant</th>\n",
       "      <th>Yoshoku Restaurant</th>\n",
       "    </tr>\n",
       "  </thead>\n",
       "  <tbody>\n",
       "    <tr>\n",
       "      <th>0</th>\n",
       "      <td>Akabane</td>\n",
       "      <td>0.0</td>\n",
       "      <td>0.0</td>\n",
       "      <td>0.0</td>\n",
       "      <td>0.0</td>\n",
       "      <td>0.0</td>\n",
       "      <td>0.0</td>\n",
       "      <td>0.0</td>\n",
       "      <td>0.0</td>\n",
       "      <td>0.0</td>\n",
       "      <td>...</td>\n",
       "      <td>0.0</td>\n",
       "      <td>0.0</td>\n",
       "      <td>0.0</td>\n",
       "      <td>0.0</td>\n",
       "      <td>0.0</td>\n",
       "      <td>0.0</td>\n",
       "      <td>0.0</td>\n",
       "      <td>0.0</td>\n",
       "      <td>0.0</td>\n",
       "      <td>0.0</td>\n",
       "    </tr>\n",
       "    <tr>\n",
       "      <th>1</th>\n",
       "      <td>Akihabara</td>\n",
       "      <td>0.0</td>\n",
       "      <td>0.0</td>\n",
       "      <td>0.1</td>\n",
       "      <td>0.0</td>\n",
       "      <td>0.0</td>\n",
       "      <td>0.0</td>\n",
       "      <td>0.0</td>\n",
       "      <td>0.0</td>\n",
       "      <td>0.0</td>\n",
       "      <td>...</td>\n",
       "      <td>0.0</td>\n",
       "      <td>0.0</td>\n",
       "      <td>0.0</td>\n",
       "      <td>0.0</td>\n",
       "      <td>0.0</td>\n",
       "      <td>0.0</td>\n",
       "      <td>0.0</td>\n",
       "      <td>0.0</td>\n",
       "      <td>0.0</td>\n",
       "      <td>0.0</td>\n",
       "    </tr>\n",
       "    <tr>\n",
       "      <th>2</th>\n",
       "      <td>Aobadai</td>\n",
       "      <td>0.0</td>\n",
       "      <td>0.0</td>\n",
       "      <td>0.0</td>\n",
       "      <td>0.0</td>\n",
       "      <td>0.0</td>\n",
       "      <td>0.0</td>\n",
       "      <td>0.0</td>\n",
       "      <td>0.0</td>\n",
       "      <td>0.0</td>\n",
       "      <td>...</td>\n",
       "      <td>0.0</td>\n",
       "      <td>0.0</td>\n",
       "      <td>0.0</td>\n",
       "      <td>0.0</td>\n",
       "      <td>0.0</td>\n",
       "      <td>0.0</td>\n",
       "      <td>0.0</td>\n",
       "      <td>0.0</td>\n",
       "      <td>0.0</td>\n",
       "      <td>0.0</td>\n",
       "    </tr>\n",
       "    <tr>\n",
       "      <th>3</th>\n",
       "      <td>Aomi</td>\n",
       "      <td>0.0</td>\n",
       "      <td>0.0</td>\n",
       "      <td>0.0</td>\n",
       "      <td>0.0</td>\n",
       "      <td>0.0</td>\n",
       "      <td>0.0</td>\n",
       "      <td>0.0</td>\n",
       "      <td>0.0</td>\n",
       "      <td>0.0</td>\n",
       "      <td>...</td>\n",
       "      <td>0.0</td>\n",
       "      <td>0.0</td>\n",
       "      <td>0.0</td>\n",
       "      <td>0.0</td>\n",
       "      <td>0.0</td>\n",
       "      <td>0.0</td>\n",
       "      <td>0.0</td>\n",
       "      <td>0.0</td>\n",
       "      <td>0.0</td>\n",
       "      <td>0.0</td>\n",
       "    </tr>\n",
       "    <tr>\n",
       "      <th>4</th>\n",
       "      <td>Aoto</td>\n",
       "      <td>0.0</td>\n",
       "      <td>0.0</td>\n",
       "      <td>0.0</td>\n",
       "      <td>0.0</td>\n",
       "      <td>0.0</td>\n",
       "      <td>0.0</td>\n",
       "      <td>0.0</td>\n",
       "      <td>0.0</td>\n",
       "      <td>0.0</td>\n",
       "      <td>...</td>\n",
       "      <td>0.0</td>\n",
       "      <td>0.0</td>\n",
       "      <td>0.0</td>\n",
       "      <td>0.0</td>\n",
       "      <td>0.0</td>\n",
       "      <td>0.0</td>\n",
       "      <td>0.0</td>\n",
       "      <td>0.0</td>\n",
       "      <td>0.0</td>\n",
       "      <td>0.0</td>\n",
       "    </tr>\n",
       "    <tr>\n",
       "      <th>...</th>\n",
       "      <td>...</td>\n",
       "      <td>...</td>\n",
       "      <td>...</td>\n",
       "      <td>...</td>\n",
       "      <td>...</td>\n",
       "      <td>...</td>\n",
       "      <td>...</td>\n",
       "      <td>...</td>\n",
       "      <td>...</td>\n",
       "      <td>...</td>\n",
       "      <td>...</td>\n",
       "      <td>...</td>\n",
       "      <td>...</td>\n",
       "      <td>...</td>\n",
       "      <td>...</td>\n",
       "      <td>...</td>\n",
       "      <td>...</td>\n",
       "      <td>...</td>\n",
       "      <td>...</td>\n",
       "      <td>...</td>\n",
       "      <td>...</td>\n",
       "    </tr>\n",
       "    <tr>\n",
       "      <th>91</th>\n",
       "      <td>Ueno</td>\n",
       "      <td>0.0</td>\n",
       "      <td>0.0</td>\n",
       "      <td>0.0</td>\n",
       "      <td>0.0</td>\n",
       "      <td>0.0</td>\n",
       "      <td>0.0</td>\n",
       "      <td>0.0</td>\n",
       "      <td>0.0</td>\n",
       "      <td>0.0</td>\n",
       "      <td>...</td>\n",
       "      <td>0.0</td>\n",
       "      <td>0.0</td>\n",
       "      <td>0.0</td>\n",
       "      <td>0.0</td>\n",
       "      <td>0.0</td>\n",
       "      <td>0.0</td>\n",
       "      <td>0.0</td>\n",
       "      <td>0.0</td>\n",
       "      <td>0.0</td>\n",
       "      <td>0.0</td>\n",
       "    </tr>\n",
       "    <tr>\n",
       "      <th>92</th>\n",
       "      <td>Yayoi</td>\n",
       "      <td>0.0</td>\n",
       "      <td>0.0</td>\n",
       "      <td>0.0</td>\n",
       "      <td>0.0</td>\n",
       "      <td>0.0</td>\n",
       "      <td>0.0</td>\n",
       "      <td>0.0</td>\n",
       "      <td>0.0</td>\n",
       "      <td>0.0</td>\n",
       "      <td>...</td>\n",
       "      <td>0.0</td>\n",
       "      <td>0.0</td>\n",
       "      <td>0.0</td>\n",
       "      <td>0.0</td>\n",
       "      <td>0.0</td>\n",
       "      <td>1.0</td>\n",
       "      <td>0.0</td>\n",
       "      <td>0.0</td>\n",
       "      <td>0.0</td>\n",
       "      <td>0.0</td>\n",
       "    </tr>\n",
       "    <tr>\n",
       "      <th>93</th>\n",
       "      <td>Yotsuya</td>\n",
       "      <td>0.0</td>\n",
       "      <td>0.0</td>\n",
       "      <td>0.0</td>\n",
       "      <td>0.0</td>\n",
       "      <td>0.0</td>\n",
       "      <td>0.0</td>\n",
       "      <td>0.0</td>\n",
       "      <td>0.0</td>\n",
       "      <td>0.0</td>\n",
       "      <td>...</td>\n",
       "      <td>0.0</td>\n",
       "      <td>0.0</td>\n",
       "      <td>0.0</td>\n",
       "      <td>0.0</td>\n",
       "      <td>0.0</td>\n",
       "      <td>0.0</td>\n",
       "      <td>0.0</td>\n",
       "      <td>0.0</td>\n",
       "      <td>0.0</td>\n",
       "      <td>0.0</td>\n",
       "    </tr>\n",
       "    <tr>\n",
       "      <th>94</th>\n",
       "      <td>Yoyogi</td>\n",
       "      <td>0.0</td>\n",
       "      <td>0.0</td>\n",
       "      <td>0.0</td>\n",
       "      <td>0.0</td>\n",
       "      <td>0.0</td>\n",
       "      <td>0.0</td>\n",
       "      <td>0.0</td>\n",
       "      <td>0.0</td>\n",
       "      <td>0.0</td>\n",
       "      <td>...</td>\n",
       "      <td>0.0</td>\n",
       "      <td>0.0</td>\n",
       "      <td>0.0</td>\n",
       "      <td>0.0</td>\n",
       "      <td>0.0</td>\n",
       "      <td>0.0</td>\n",
       "      <td>0.0</td>\n",
       "      <td>0.0</td>\n",
       "      <td>0.0</td>\n",
       "      <td>0.0</td>\n",
       "    </tr>\n",
       "    <tr>\n",
       "      <th>95</th>\n",
       "      <td>Yurakucho</td>\n",
       "      <td>0.0</td>\n",
       "      <td>0.0</td>\n",
       "      <td>0.0</td>\n",
       "      <td>0.0</td>\n",
       "      <td>0.0</td>\n",
       "      <td>0.0</td>\n",
       "      <td>0.0</td>\n",
       "      <td>0.0</td>\n",
       "      <td>0.0</td>\n",
       "      <td>...</td>\n",
       "      <td>0.0</td>\n",
       "      <td>0.0</td>\n",
       "      <td>0.0</td>\n",
       "      <td>0.0</td>\n",
       "      <td>0.0</td>\n",
       "      <td>0.0</td>\n",
       "      <td>0.0</td>\n",
       "      <td>0.0</td>\n",
       "      <td>0.0</td>\n",
       "      <td>0.0</td>\n",
       "    </tr>\n",
       "  </tbody>\n",
       "</table>\n",
       "<p>96 rows × 150 columns</p>\n",
       "</div>"
      ],
      "text/plain": [
       "   Neighborhood  ATM  American Restaurant  Arcade  Art Gallery  Art Museum  \\\n",
       "0       Akabane  0.0                  0.0     0.0          0.0         0.0   \n",
       "1     Akihabara  0.0                  0.0     0.1          0.0         0.0   \n",
       "2       Aobadai  0.0                  0.0     0.0          0.0         0.0   \n",
       "3          Aomi  0.0                  0.0     0.0          0.0         0.0   \n",
       "4          Aoto  0.0                  0.0     0.0          0.0         0.0   \n",
       "..          ...  ...                  ...     ...          ...         ...   \n",
       "91         Ueno  0.0                  0.0     0.0          0.0         0.0   \n",
       "92        Yayoi  0.0                  0.0     0.0          0.0         0.0   \n",
       "93      Yotsuya  0.0                  0.0     0.0          0.0         0.0   \n",
       "94       Yoyogi  0.0                  0.0     0.0          0.0         0.0   \n",
       "95    Yurakucho  0.0                  0.0     0.0          0.0         0.0   \n",
       "\n",
       "    Arts & Crafts Store  Asian Restaurant  Australian Restaurant  BBQ Joint  \\\n",
       "0                   0.0               0.0                    0.0        0.0   \n",
       "1                   0.0               0.0                    0.0        0.0   \n",
       "2                   0.0               0.0                    0.0        0.0   \n",
       "3                   0.0               0.0                    0.0        0.0   \n",
       "4                   0.0               0.0                    0.0        0.0   \n",
       "..                  ...               ...                    ...        ...   \n",
       "91                  0.0               0.0                    0.0        0.0   \n",
       "92                  0.0               0.0                    0.0        0.0   \n",
       "93                  0.0               0.0                    0.0        0.0   \n",
       "94                  0.0               0.0                    0.0        0.0   \n",
       "95                  0.0               0.0                    0.0        0.0   \n",
       "\n",
       "    ...  Unagi Restaurant  Used Bookstore  Vegetarian / Vegan Restaurant  \\\n",
       "0   ...               0.0             0.0                            0.0   \n",
       "1   ...               0.0             0.0                            0.0   \n",
       "2   ...               0.0             0.0                            0.0   \n",
       "3   ...               0.0             0.0                            0.0   \n",
       "4   ...               0.0             0.0                            0.0   \n",
       "..  ...               ...             ...                            ...   \n",
       "91  ...               0.0             0.0                            0.0   \n",
       "92  ...               0.0             0.0                            0.0   \n",
       "93  ...               0.0             0.0                            0.0   \n",
       "94  ...               0.0             0.0                            0.0   \n",
       "95  ...               0.0             0.0                            0.0   \n",
       "\n",
       "    Vietnamese Restaurant  Wagashi Place  Whisky Bar  Wine Bar  Wine Shop  \\\n",
       "0                     0.0            0.0         0.0       0.0        0.0   \n",
       "1                     0.0            0.0         0.0       0.0        0.0   \n",
       "2                     0.0            0.0         0.0       0.0        0.0   \n",
       "3                     0.0            0.0         0.0       0.0        0.0   \n",
       "4                     0.0            0.0         0.0       0.0        0.0   \n",
       "..                    ...            ...         ...       ...        ...   \n",
       "91                    0.0            0.0         0.0       0.0        0.0   \n",
       "92                    0.0            0.0         1.0       0.0        0.0   \n",
       "93                    0.0            0.0         0.0       0.0        0.0   \n",
       "94                    0.0            0.0         0.0       0.0        0.0   \n",
       "95                    0.0            0.0         0.0       0.0        0.0   \n",
       "\n",
       "    Yakitori Restaurant  Yoshoku Restaurant  \n",
       "0                   0.0                 0.0  \n",
       "1                   0.0                 0.0  \n",
       "2                   0.0                 0.0  \n",
       "3                   0.0                 0.0  \n",
       "4                   0.0                 0.0  \n",
       "..                  ...                 ...  \n",
       "91                  0.0                 0.0  \n",
       "92                  0.0                 0.0  \n",
       "93                  0.0                 0.0  \n",
       "94                  0.0                 0.0  \n",
       "95                  0.0                 0.0  \n",
       "\n",
       "[96 rows x 150 columns]"
      ]
     },
     "execution_count": 25,
     "metadata": {},
     "output_type": "execute_result"
    }
   ],
   "source": [
    "tokyo_grouped = tokyo_onehot.groupby('Neighborhood').mean().reset_index()\n",
    "tokyo_grouped"
   ]
  },
  {
   "cell_type": "code",
   "execution_count": 26,
   "metadata": {},
   "outputs": [],
   "source": [
    "def return_most_common_venues(row, num_top_venues):\n",
    "    row_categories = row.iloc[1:]\n",
    "    row_categories_sorted = row_categories.sort_values(ascending=False)\n",
    "    \n",
    "    return row_categories_sorted.index.values[0:num_top_venues]"
   ]
  },
  {
   "cell_type": "markdown",
   "metadata": {},
   "source": [
    "Below are the groups of common venues for each district."
   ]
  },
  {
   "cell_type": "code",
   "execution_count": 27,
   "metadata": {},
   "outputs": [
    {
     "data": {
      "text/html": [
       "<div>\n",
       "<style scoped>\n",
       "    .dataframe tbody tr th:only-of-type {\n",
       "        vertical-align: middle;\n",
       "    }\n",
       "\n",
       "    .dataframe tbody tr th {\n",
       "        vertical-align: top;\n",
       "    }\n",
       "\n",
       "    .dataframe thead th {\n",
       "        text-align: right;\n",
       "    }\n",
       "</style>\n",
       "<table border=\"1\" class=\"dataframe\">\n",
       "  <thead>\n",
       "    <tr style=\"text-align: right;\">\n",
       "      <th></th>\n",
       "      <th>Neighborhood</th>\n",
       "      <th>1st Most Common Venue</th>\n",
       "      <th>2nd Most Common Venue</th>\n",
       "      <th>3rd Most Common Venue</th>\n",
       "      <th>4th Most Common Venue</th>\n",
       "      <th>5th Most Common Venue</th>\n",
       "      <th>6th Most Common Venue</th>\n",
       "      <th>7th Most Common Venue</th>\n",
       "      <th>8th Most Common Venue</th>\n",
       "      <th>9th Most Common Venue</th>\n",
       "      <th>10th Most Common Venue</th>\n",
       "    </tr>\n",
       "  </thead>\n",
       "  <tbody>\n",
       "    <tr>\n",
       "      <th>0</th>\n",
       "      <td>Akabane</td>\n",
       "      <td>Sake Bar</td>\n",
       "      <td>Dumpling Restaurant</td>\n",
       "      <td>Tea Room</td>\n",
       "      <td>Ramen Restaurant</td>\n",
       "      <td>Clothing Store</td>\n",
       "      <td>Shopping Mall</td>\n",
       "      <td>Bakery</td>\n",
       "      <td>Coffee Shop</td>\n",
       "      <td>Soba Restaurant</td>\n",
       "      <td>French Restaurant</td>\n",
       "    </tr>\n",
       "    <tr>\n",
       "      <th>1</th>\n",
       "      <td>Akihabara</td>\n",
       "      <td>Café</td>\n",
       "      <td>Electronics Store</td>\n",
       "      <td>Sake Bar</td>\n",
       "      <td>Arcade</td>\n",
       "      <td>Hobby Shop</td>\n",
       "      <td>Ramen Restaurant</td>\n",
       "      <td>Comic Shop</td>\n",
       "      <td>Yoshoku Restaurant</td>\n",
       "      <td>Fried Chicken Joint</td>\n",
       "      <td>Gift Shop</td>\n",
       "    </tr>\n",
       "    <tr>\n",
       "      <th>2</th>\n",
       "      <td>Aobadai</td>\n",
       "      <td>Park</td>\n",
       "      <td>Gym Pool</td>\n",
       "      <td>Grocery Store</td>\n",
       "      <td>Gourmet Shop</td>\n",
       "      <td>Gift Shop</td>\n",
       "      <td>Gelato Shop</td>\n",
       "      <td>Furniture / Home Store</td>\n",
       "      <td>Fruit &amp; Vegetable Store</td>\n",
       "      <td>Fried Chicken Joint</td>\n",
       "      <td>French Restaurant</td>\n",
       "    </tr>\n",
       "    <tr>\n",
       "      <th>3</th>\n",
       "      <td>Aomi</td>\n",
       "      <td>Coffee Shop</td>\n",
       "      <td>Playground</td>\n",
       "      <td>Shopping Mall</td>\n",
       "      <td>Fast Food Restaurant</td>\n",
       "      <td>Plaza</td>\n",
       "      <td>Yoshoku Restaurant</td>\n",
       "      <td>Gelato Shop</td>\n",
       "      <td>Furniture / Home Store</td>\n",
       "      <td>Fruit &amp; Vegetable Store</td>\n",
       "      <td>Fried Chicken Joint</td>\n",
       "    </tr>\n",
       "    <tr>\n",
       "      <th>4</th>\n",
       "      <td>Aoto</td>\n",
       "      <td>Convenience Store</td>\n",
       "      <td>Donburi Restaurant</td>\n",
       "      <td>Udon Restaurant</td>\n",
       "      <td>Fried Chicken Joint</td>\n",
       "      <td>Chinese Restaurant</td>\n",
       "      <td>Sandwich Place</td>\n",
       "      <td>Sake Bar</td>\n",
       "      <td>Italian Restaurant</td>\n",
       "      <td>Indie Theater</td>\n",
       "      <td>Indian Restaurant</td>\n",
       "    </tr>\n",
       "  </tbody>\n",
       "</table>\n",
       "</div>"
      ],
      "text/plain": [
       "  Neighborhood 1st Most Common Venue 2nd Most Common Venue  \\\n",
       "0      Akabane              Sake Bar   Dumpling Restaurant   \n",
       "1    Akihabara                  Café     Electronics Store   \n",
       "2      Aobadai                  Park              Gym Pool   \n",
       "3         Aomi           Coffee Shop            Playground   \n",
       "4         Aoto     Convenience Store    Donburi Restaurant   \n",
       "\n",
       "  3rd Most Common Venue 4th Most Common Venue 5th Most Common Venue  \\\n",
       "0              Tea Room      Ramen Restaurant        Clothing Store   \n",
       "1              Sake Bar                Arcade            Hobby Shop   \n",
       "2         Grocery Store          Gourmet Shop             Gift Shop   \n",
       "3         Shopping Mall  Fast Food Restaurant                 Plaza   \n",
       "4       Udon Restaurant   Fried Chicken Joint    Chinese Restaurant   \n",
       "\n",
       "  6th Most Common Venue   7th Most Common Venue    8th Most Common Venue  \\\n",
       "0         Shopping Mall                  Bakery              Coffee Shop   \n",
       "1      Ramen Restaurant              Comic Shop       Yoshoku Restaurant   \n",
       "2           Gelato Shop  Furniture / Home Store  Fruit & Vegetable Store   \n",
       "3    Yoshoku Restaurant             Gelato Shop   Furniture / Home Store   \n",
       "4        Sandwich Place                Sake Bar       Italian Restaurant   \n",
       "\n",
       "     9th Most Common Venue 10th Most Common Venue  \n",
       "0          Soba Restaurant      French Restaurant  \n",
       "1      Fried Chicken Joint              Gift Shop  \n",
       "2      Fried Chicken Joint      French Restaurant  \n",
       "3  Fruit & Vegetable Store    Fried Chicken Joint  \n",
       "4            Indie Theater      Indian Restaurant  "
      ]
     },
     "execution_count": 27,
     "metadata": {},
     "output_type": "execute_result"
    }
   ],
   "source": [
    "num_top_venues = 10\n",
    "\n",
    "indicators = ['st', 'nd', 'rd']\n",
    "\n",
    "# create columns according to number of top venues\n",
    "columns = ['Neighborhood']\n",
    "for ind in np.arange(num_top_venues):\n",
    "    try:\n",
    "        columns.append('{}{} Most Common Venue'.format(ind+1, indicators[ind]))\n",
    "    except:\n",
    "        columns.append('{}th Most Common Venue'.format(ind+1))\n",
    "\n",
    "# create a new dataframe\n",
    "neighborhoods_venues_sorted = pd.DataFrame(columns=columns)\n",
    "neighborhoods_venues_sorted['Neighborhood'] = tokyo_grouped['Neighborhood']\n",
    "\n",
    "for ind in np.arange(tokyo_grouped.shape[0]):\n",
    "    neighborhoods_venues_sorted.iloc[ind, 1:] = return_most_common_venues(tokyo_grouped.iloc[ind, :], num_top_venues)\n",
    "\n",
    "neighborhoods_venues_sorted.head()"
   ]
  },
  {
   "cell_type": "markdown",
   "metadata": {},
   "source": [
    "Next I will cluster the districts by their common venues.  I will start with 5 clusters"
   ]
  },
  {
   "cell_type": "code",
   "execution_count": 28,
   "metadata": {},
   "outputs": [
    {
     "data": {
      "text/plain": [
       "array([0, 0, 3, 4, 1, 0, 1, 1, 0, 0])"
      ]
     },
     "execution_count": 28,
     "metadata": {},
     "output_type": "execute_result"
    }
   ],
   "source": [
    "kclusters = 5\n",
    "\n",
    "tokyo_grouped_clustering = tokyo_grouped.drop('Neighborhood', 1)\n",
    "\n",
    "# run k-means clustering\n",
    "kmeans = KMeans(n_clusters=kclusters, random_state=0).fit(tokyo_grouped_clustering)\n",
    "\n",
    "# check cluster labels generated for each row in the dataframe\n",
    "kmeans.labels_[0:10] "
   ]
  },
  {
   "cell_type": "code",
   "execution_count": 29,
   "metadata": {},
   "outputs": [
    {
     "data": {
      "text/html": [
       "<div>\n",
       "<style scoped>\n",
       "    .dataframe tbody tr th:only-of-type {\n",
       "        vertical-align: middle;\n",
       "    }\n",
       "\n",
       "    .dataframe tbody tr th {\n",
       "        vertical-align: top;\n",
       "    }\n",
       "\n",
       "    .dataframe thead th {\n",
       "        text-align: right;\n",
       "    }\n",
       "</style>\n",
       "<table border=\"1\" class=\"dataframe\">\n",
       "  <thead>\n",
       "    <tr style=\"text-align: right;\">\n",
       "      <th></th>\n",
       "      <th>wa</th>\n",
       "      <th>District</th>\n",
       "      <th>Ward</th>\n",
       "      <th>Longitude</th>\n",
       "      <th>Latitude</th>\n",
       "      <th>Station</th>\n",
       "      <th>1st Most Common Venue</th>\n",
       "      <th>2nd Most Common Venue</th>\n",
       "      <th>3rd Most Common Venue</th>\n",
       "      <th>4th Most Common Venue</th>\n",
       "      <th>5th Most Common Venue</th>\n",
       "      <th>6th Most Common Venue</th>\n",
       "      <th>7th Most Common Venue</th>\n",
       "      <th>8th Most Common Venue</th>\n",
       "      <th>9th Most Common Venue</th>\n",
       "      <th>10th Most Common Venue</th>\n",
       "      <th>Clusters</th>\n",
       "    </tr>\n",
       "  </thead>\n",
       "  <tbody>\n",
       "    <tr>\n",
       "      <th>0</th>\n",
       "      <td>85</td>\n",
       "      <td>Akabane</td>\n",
       "      <td>Kita</td>\n",
       "      <td>139.720800</td>\n",
       "      <td>35.778139</td>\n",
       "      <td>Y</td>\n",
       "      <td>Sake Bar</td>\n",
       "      <td>Dumpling Restaurant</td>\n",
       "      <td>Tea Room</td>\n",
       "      <td>Ramen Restaurant</td>\n",
       "      <td>Clothing Store</td>\n",
       "      <td>Shopping Mall</td>\n",
       "      <td>Bakery</td>\n",
       "      <td>Coffee Shop</td>\n",
       "      <td>Soba Restaurant</td>\n",
       "      <td>French Restaurant</td>\n",
       "      <td>0</td>\n",
       "    </tr>\n",
       "    <tr>\n",
       "      <th>1</th>\n",
       "      <td>4</td>\n",
       "      <td>Akihabara</td>\n",
       "      <td>Chiyoda</td>\n",
       "      <td>139.771250</td>\n",
       "      <td>35.699736</td>\n",
       "      <td>NaN</td>\n",
       "      <td>Café</td>\n",
       "      <td>Electronics Store</td>\n",
       "      <td>Sake Bar</td>\n",
       "      <td>Arcade</td>\n",
       "      <td>Hobby Shop</td>\n",
       "      <td>Ramen Restaurant</td>\n",
       "      <td>Comic Shop</td>\n",
       "      <td>Yoshoku Restaurant</td>\n",
       "      <td>Fried Chicken Joint</td>\n",
       "      <td>Gift Shop</td>\n",
       "      <td>0</td>\n",
       "    </tr>\n",
       "    <tr>\n",
       "      <th>2</th>\n",
       "      <td>60</td>\n",
       "      <td>Aobadai</td>\n",
       "      <td>Meguro</td>\n",
       "      <td>139.694300</td>\n",
       "      <td>35.650900</td>\n",
       "      <td>NaN</td>\n",
       "      <td>Park</td>\n",
       "      <td>Gym Pool</td>\n",
       "      <td>Grocery Store</td>\n",
       "      <td>Gourmet Shop</td>\n",
       "      <td>Gift Shop</td>\n",
       "      <td>Gelato Shop</td>\n",
       "      <td>Furniture / Home Store</td>\n",
       "      <td>Fruit &amp; Vegetable Store</td>\n",
       "      <td>Fried Chicken Joint</td>\n",
       "      <td>French Restaurant</td>\n",
       "      <td>3</td>\n",
       "    </tr>\n",
       "    <tr>\n",
       "      <th>3</th>\n",
       "      <td>49</td>\n",
       "      <td>Aomi</td>\n",
       "      <td>Koto</td>\n",
       "      <td>139.781202</td>\n",
       "      <td>35.624779</td>\n",
       "      <td>NaN</td>\n",
       "      <td>Coffee Shop</td>\n",
       "      <td>Playground</td>\n",
       "      <td>Shopping Mall</td>\n",
       "      <td>Fast Food Restaurant</td>\n",
       "      <td>Plaza</td>\n",
       "      <td>Yoshoku Restaurant</td>\n",
       "      <td>Gelato Shop</td>\n",
       "      <td>Furniture / Home Store</td>\n",
       "      <td>Fruit &amp; Vegetable Store</td>\n",
       "      <td>Fried Chicken Joint</td>\n",
       "      <td>4</td>\n",
       "    </tr>\n",
       "    <tr>\n",
       "      <th>4</th>\n",
       "      <td>101</td>\n",
       "      <td>Aoto</td>\n",
       "      <td>Katsushika</td>\n",
       "      <td>139.856173</td>\n",
       "      <td>35.745697</td>\n",
       "      <td>NaN</td>\n",
       "      <td>Convenience Store</td>\n",
       "      <td>Donburi Restaurant</td>\n",
       "      <td>Udon Restaurant</td>\n",
       "      <td>Fried Chicken Joint</td>\n",
       "      <td>Chinese Restaurant</td>\n",
       "      <td>Sandwich Place</td>\n",
       "      <td>Sake Bar</td>\n",
       "      <td>Italian Restaurant</td>\n",
       "      <td>Indie Theater</td>\n",
       "      <td>Indian Restaurant</td>\n",
       "      <td>1</td>\n",
       "    </tr>\n",
       "  </tbody>\n",
       "</table>\n",
       "</div>"
      ],
      "text/plain": [
       "    wa   District        Ward   Longitude   Latitude Station  \\\n",
       "0   85    Akabane        Kita  139.720800  35.778139       Y   \n",
       "1    4  Akihabara     Chiyoda  139.771250  35.699736     NaN   \n",
       "2   60    Aobadai      Meguro  139.694300  35.650900     NaN   \n",
       "3   49       Aomi        Koto  139.781202  35.624779     NaN   \n",
       "4  101       Aoto  Katsushika  139.856173  35.745697     NaN   \n",
       "\n",
       "  1st Most Common Venue 2nd Most Common Venue 3rd Most Common Venue  \\\n",
       "0              Sake Bar   Dumpling Restaurant              Tea Room   \n",
       "1                  Café     Electronics Store              Sake Bar   \n",
       "2                  Park              Gym Pool         Grocery Store   \n",
       "3           Coffee Shop            Playground         Shopping Mall   \n",
       "4     Convenience Store    Donburi Restaurant       Udon Restaurant   \n",
       "\n",
       "  4th Most Common Venue 5th Most Common Venue 6th Most Common Venue  \\\n",
       "0      Ramen Restaurant        Clothing Store         Shopping Mall   \n",
       "1                Arcade            Hobby Shop      Ramen Restaurant   \n",
       "2          Gourmet Shop             Gift Shop           Gelato Shop   \n",
       "3  Fast Food Restaurant                 Plaza    Yoshoku Restaurant   \n",
       "4   Fried Chicken Joint    Chinese Restaurant        Sandwich Place   \n",
       "\n",
       "    7th Most Common Venue    8th Most Common Venue    9th Most Common Venue  \\\n",
       "0                  Bakery              Coffee Shop          Soba Restaurant   \n",
       "1              Comic Shop       Yoshoku Restaurant      Fried Chicken Joint   \n",
       "2  Furniture / Home Store  Fruit & Vegetable Store      Fried Chicken Joint   \n",
       "3             Gelato Shop   Furniture / Home Store  Fruit & Vegetable Store   \n",
       "4                Sake Bar       Italian Restaurant            Indie Theater   \n",
       "\n",
       "  10th Most Common Venue  Clusters  \n",
       "0      French Restaurant         0  \n",
       "1              Gift Shop         0  \n",
       "2      French Restaurant         3  \n",
       "3    Fried Chicken Joint         4  \n",
       "4      Indian Restaurant         1  "
      ]
     },
     "execution_count": 29,
     "metadata": {},
     "output_type": "execute_result"
    }
   ],
   "source": [
    "# add clustering labels\n",
    "kmeans.labels_ = pd.DataFrame(kmeans.labels_)\n",
    "neighborhoods_venues_sorted1 = pd.concat([neighborhoods_venues_sorted, kmeans.labels_], axis=1)\n",
    "neighborhoods_venues_sorted1.rename(columns={0: \"Clusters\", 'Neighborhood': 'District'}, inplace = True)\n",
    "\n",
    "# merge toronto_grouped with toronto_data to add latitude/longitude for each neighborhood\n",
    "tokyo_merged = pd.merge(tokDistricts,neighborhoods_venues_sorted1,on='District')\n",
    "tokyo_merged.head() # check the last columns!"
   ]
  },
  {
   "cell_type": "markdown",
   "metadata": {},
   "source": [
    "The cluster labels are above.  Below I will look at a map of the clusters (associated by color)."
   ]
  },
  {
   "cell_type": "code",
   "execution_count": 30,
   "metadata": {
    "scrolled": true
   },
   "outputs": [
    {
     "name": "stderr",
     "output_type": "stream",
     "text": [
      "C:\\Users\\kimgl\\anaconda3\\lib\\site-packages\\folium\\folium.py:415: FutureWarning:\n",
      "\n",
      "The choropleth  method has been deprecated. Instead use the new Choropleth class, which has the same arguments. See the example notebook 'GeoJSON_and_choropleth' for how to do this.\n",
      "\n"
     ]
    },
    {
     "ename": "ValueError",
     "evalue": "key_on `'properties.ward_en'` not found in GeoJSON.",
     "output_type": "error",
     "traceback": [
      "\u001b[1;31m---------------------------------------------------------------------------\u001b[0m",
      "\u001b[1;31mValueError\u001b[0m                                Traceback (most recent call last)",
      "\u001b[1;32m~\\anaconda3\\lib\\site-packages\\IPython\\core\\formatters.py\u001b[0m in \u001b[0;36m__call__\u001b[1;34m(self, obj)\u001b[0m\n\u001b[0;32m    343\u001b[0m             \u001b[0mmethod\u001b[0m \u001b[1;33m=\u001b[0m \u001b[0mget_real_method\u001b[0m\u001b[1;33m(\u001b[0m\u001b[0mobj\u001b[0m\u001b[1;33m,\u001b[0m \u001b[0mself\u001b[0m\u001b[1;33m.\u001b[0m\u001b[0mprint_method\u001b[0m\u001b[1;33m)\u001b[0m\u001b[1;33m\u001b[0m\u001b[1;33m\u001b[0m\u001b[0m\n\u001b[0;32m    344\u001b[0m             \u001b[1;32mif\u001b[0m \u001b[0mmethod\u001b[0m \u001b[1;32mis\u001b[0m \u001b[1;32mnot\u001b[0m \u001b[1;32mNone\u001b[0m\u001b[1;33m:\u001b[0m\u001b[1;33m\u001b[0m\u001b[1;33m\u001b[0m\u001b[0m\n\u001b[1;32m--> 345\u001b[1;33m                 \u001b[1;32mreturn\u001b[0m \u001b[0mmethod\u001b[0m\u001b[1;33m(\u001b[0m\u001b[1;33m)\u001b[0m\u001b[1;33m\u001b[0m\u001b[1;33m\u001b[0m\u001b[0m\n\u001b[0m\u001b[0;32m    346\u001b[0m             \u001b[1;32mreturn\u001b[0m \u001b[1;32mNone\u001b[0m\u001b[1;33m\u001b[0m\u001b[1;33m\u001b[0m\u001b[0m\n\u001b[0;32m    347\u001b[0m         \u001b[1;32melse\u001b[0m\u001b[1;33m:\u001b[0m\u001b[1;33m\u001b[0m\u001b[1;33m\u001b[0m\u001b[0m\n",
      "\u001b[1;32m~\\anaconda3\\lib\\site-packages\\folium\\folium.py\u001b[0m in \u001b[0;36m_repr_html_\u001b[1;34m(self, **kwargs)\u001b[0m\n\u001b[0;32m    291\u001b[0m             \u001b[0mself\u001b[0m\u001b[1;33m.\u001b[0m\u001b[0m_parent\u001b[0m \u001b[1;33m=\u001b[0m \u001b[1;32mNone\u001b[0m\u001b[1;33m\u001b[0m\u001b[1;33m\u001b[0m\u001b[0m\n\u001b[0;32m    292\u001b[0m         \u001b[1;32melse\u001b[0m\u001b[1;33m:\u001b[0m\u001b[1;33m\u001b[0m\u001b[1;33m\u001b[0m\u001b[0m\n\u001b[1;32m--> 293\u001b[1;33m             \u001b[0mout\u001b[0m \u001b[1;33m=\u001b[0m \u001b[0mself\u001b[0m\u001b[1;33m.\u001b[0m\u001b[0m_parent\u001b[0m\u001b[1;33m.\u001b[0m\u001b[0m_repr_html_\u001b[0m\u001b[1;33m(\u001b[0m\u001b[1;33m**\u001b[0m\u001b[0mkwargs\u001b[0m\u001b[1;33m)\u001b[0m\u001b[1;33m\u001b[0m\u001b[1;33m\u001b[0m\u001b[0m\n\u001b[0m\u001b[0;32m    294\u001b[0m         \u001b[1;32mreturn\u001b[0m \u001b[0mout\u001b[0m\u001b[1;33m\u001b[0m\u001b[1;33m\u001b[0m\u001b[0m\n\u001b[0;32m    295\u001b[0m \u001b[1;33m\u001b[0m\u001b[0m\n",
      "\u001b[1;32m~\\anaconda3\\lib\\site-packages\\branca\\element.py\u001b[0m in \u001b[0;36m_repr_html_\u001b[1;34m(self, **kwargs)\u001b[0m\n\u001b[0;32m    325\u001b[0m         \u001b[1;31m# the HTML in the src attribute with a data URI. The alternative of using a srcdoc\u001b[0m\u001b[1;33m\u001b[0m\u001b[1;33m\u001b[0m\u001b[1;33m\u001b[0m\u001b[0m\n\u001b[0;32m    326\u001b[0m         \u001b[1;31m# attribute is not supported in Microsoft Internet Explorer and Edge.\u001b[0m\u001b[1;33m\u001b[0m\u001b[1;33m\u001b[0m\u001b[1;33m\u001b[0m\u001b[0m\n\u001b[1;32m--> 327\u001b[1;33m         \u001b[0mhtml\u001b[0m \u001b[1;33m=\u001b[0m \u001b[0mbase64\u001b[0m\u001b[1;33m.\u001b[0m\u001b[0mb64encode\u001b[0m\u001b[1;33m(\u001b[0m\u001b[0mself\u001b[0m\u001b[1;33m.\u001b[0m\u001b[0mrender\u001b[0m\u001b[1;33m(\u001b[0m\u001b[1;33m**\u001b[0m\u001b[0mkwargs\u001b[0m\u001b[1;33m)\u001b[0m\u001b[1;33m.\u001b[0m\u001b[0mencode\u001b[0m\u001b[1;33m(\u001b[0m\u001b[1;34m'utf8'\u001b[0m\u001b[1;33m)\u001b[0m\u001b[1;33m)\u001b[0m\u001b[1;33m.\u001b[0m\u001b[0mdecode\u001b[0m\u001b[1;33m(\u001b[0m\u001b[1;34m'utf8'\u001b[0m\u001b[1;33m)\u001b[0m\u001b[1;33m\u001b[0m\u001b[1;33m\u001b[0m\u001b[0m\n\u001b[0m\u001b[0;32m    328\u001b[0m         onload = (\n\u001b[0;32m    329\u001b[0m             \u001b[1;34m'this.contentDocument.open();'\u001b[0m\u001b[1;33m\u001b[0m\u001b[1;33m\u001b[0m\u001b[0m\n",
      "\u001b[1;32m~\\anaconda3\\lib\\site-packages\\branca\\element.py\u001b[0m in \u001b[0;36mrender\u001b[1;34m(self, **kwargs)\u001b[0m\n\u001b[0;32m    316\u001b[0m         \u001b[1;34m\"\"\"Renders the HTML representation of the element.\"\"\"\u001b[0m\u001b[1;33m\u001b[0m\u001b[1;33m\u001b[0m\u001b[0m\n\u001b[0;32m    317\u001b[0m         \u001b[1;32mfor\u001b[0m \u001b[0mname\u001b[0m\u001b[1;33m,\u001b[0m \u001b[0mchild\u001b[0m \u001b[1;32min\u001b[0m \u001b[0mself\u001b[0m\u001b[1;33m.\u001b[0m\u001b[0m_children\u001b[0m\u001b[1;33m.\u001b[0m\u001b[0mitems\u001b[0m\u001b[1;33m(\u001b[0m\u001b[1;33m)\u001b[0m\u001b[1;33m:\u001b[0m\u001b[1;33m\u001b[0m\u001b[1;33m\u001b[0m\u001b[0m\n\u001b[1;32m--> 318\u001b[1;33m             \u001b[0mchild\u001b[0m\u001b[1;33m.\u001b[0m\u001b[0mrender\u001b[0m\u001b[1;33m(\u001b[0m\u001b[1;33m**\u001b[0m\u001b[0mkwargs\u001b[0m\u001b[1;33m)\u001b[0m\u001b[1;33m\u001b[0m\u001b[1;33m\u001b[0m\u001b[0m\n\u001b[0m\u001b[0;32m    319\u001b[0m         \u001b[1;32mreturn\u001b[0m \u001b[0mself\u001b[0m\u001b[1;33m.\u001b[0m\u001b[0m_template\u001b[0m\u001b[1;33m.\u001b[0m\u001b[0mrender\u001b[0m\u001b[1;33m(\u001b[0m\u001b[0mthis\u001b[0m\u001b[1;33m=\u001b[0m\u001b[0mself\u001b[0m\u001b[1;33m,\u001b[0m \u001b[0mkwargs\u001b[0m\u001b[1;33m=\u001b[0m\u001b[0mkwargs\u001b[0m\u001b[1;33m)\u001b[0m\u001b[1;33m\u001b[0m\u001b[1;33m\u001b[0m\u001b[0m\n\u001b[0;32m    320\u001b[0m \u001b[1;33m\u001b[0m\u001b[0m\n",
      "\u001b[1;32m~\\anaconda3\\lib\\site-packages\\folium\\folium.py\u001b[0m in \u001b[0;36mrender\u001b[1;34m(self, **kwargs)\u001b[0m\n\u001b[0;32m    368\u001b[0m             '</style>'), name='map_style')\n\u001b[0;32m    369\u001b[0m \u001b[1;33m\u001b[0m\u001b[0m\n\u001b[1;32m--> 370\u001b[1;33m         \u001b[0msuper\u001b[0m\u001b[1;33m(\u001b[0m\u001b[0mMap\u001b[0m\u001b[1;33m,\u001b[0m \u001b[0mself\u001b[0m\u001b[1;33m)\u001b[0m\u001b[1;33m.\u001b[0m\u001b[0mrender\u001b[0m\u001b[1;33m(\u001b[0m\u001b[1;33m**\u001b[0m\u001b[0mkwargs\u001b[0m\u001b[1;33m)\u001b[0m\u001b[1;33m\u001b[0m\u001b[1;33m\u001b[0m\u001b[0m\n\u001b[0m\u001b[0;32m    371\u001b[0m \u001b[1;33m\u001b[0m\u001b[0m\n\u001b[0;32m    372\u001b[0m     def fit_bounds(self, bounds, padding_top_left=None,\n",
      "\u001b[1;32m~\\anaconda3\\lib\\site-packages\\branca\\element.py\u001b[0m in \u001b[0;36mrender\u001b[1;34m(self, **kwargs)\u001b[0m\n\u001b[0;32m    635\u001b[0m \u001b[1;33m\u001b[0m\u001b[0m\n\u001b[0;32m    636\u001b[0m         \u001b[1;32mfor\u001b[0m \u001b[0mname\u001b[0m\u001b[1;33m,\u001b[0m \u001b[0melement\u001b[0m \u001b[1;32min\u001b[0m \u001b[0mself\u001b[0m\u001b[1;33m.\u001b[0m\u001b[0m_children\u001b[0m\u001b[1;33m.\u001b[0m\u001b[0mitems\u001b[0m\u001b[1;33m(\u001b[0m\u001b[1;33m)\u001b[0m\u001b[1;33m:\u001b[0m\u001b[1;33m\u001b[0m\u001b[1;33m\u001b[0m\u001b[0m\n\u001b[1;32m--> 637\u001b[1;33m             \u001b[0melement\u001b[0m\u001b[1;33m.\u001b[0m\u001b[0mrender\u001b[0m\u001b[1;33m(\u001b[0m\u001b[1;33m**\u001b[0m\u001b[0mkwargs\u001b[0m\u001b[1;33m)\u001b[0m\u001b[1;33m\u001b[0m\u001b[1;33m\u001b[0m\u001b[0m\n\u001b[0m",
      "\u001b[1;32m~\\anaconda3\\lib\\site-packages\\folium\\features.py\u001b[0m in \u001b[0;36mrender\u001b[1;34m(self, **kwargs)\u001b[0m\n\u001b[0;32m   1263\u001b[0m             \u001b[0mself\u001b[0m\u001b[1;33m.\u001b[0m\u001b[0mcolor_scale\u001b[0m\u001b[1;33m.\u001b[0m\u001b[0m_parent\u001b[0m \u001b[1;33m=\u001b[0m \u001b[0mself\u001b[0m\u001b[1;33m.\u001b[0m\u001b[0m_parent\u001b[0m\u001b[1;33m\u001b[0m\u001b[1;33m\u001b[0m\u001b[0m\n\u001b[0;32m   1264\u001b[0m \u001b[1;33m\u001b[0m\u001b[0m\n\u001b[1;32m-> 1265\u001b[1;33m         \u001b[0msuper\u001b[0m\u001b[1;33m(\u001b[0m\u001b[0mChoropleth\u001b[0m\u001b[1;33m,\u001b[0m \u001b[0mself\u001b[0m\u001b[1;33m)\u001b[0m\u001b[1;33m.\u001b[0m\u001b[0mrender\u001b[0m\u001b[1;33m(\u001b[0m\u001b[1;33m**\u001b[0m\u001b[0mkwargs\u001b[0m\u001b[1;33m)\u001b[0m\u001b[1;33m\u001b[0m\u001b[1;33m\u001b[0m\u001b[0m\n\u001b[0m\u001b[0;32m   1266\u001b[0m \u001b[1;33m\u001b[0m\u001b[0m\n\u001b[0;32m   1267\u001b[0m \u001b[1;33m\u001b[0m\u001b[0m\n",
      "\u001b[1;32m~\\anaconda3\\lib\\site-packages\\branca\\element.py\u001b[0m in \u001b[0;36mrender\u001b[1;34m(self, **kwargs)\u001b[0m\n\u001b[0;32m    635\u001b[0m \u001b[1;33m\u001b[0m\u001b[0m\n\u001b[0;32m    636\u001b[0m         \u001b[1;32mfor\u001b[0m \u001b[0mname\u001b[0m\u001b[1;33m,\u001b[0m \u001b[0melement\u001b[0m \u001b[1;32min\u001b[0m \u001b[0mself\u001b[0m\u001b[1;33m.\u001b[0m\u001b[0m_children\u001b[0m\u001b[1;33m.\u001b[0m\u001b[0mitems\u001b[0m\u001b[1;33m(\u001b[0m\u001b[1;33m)\u001b[0m\u001b[1;33m:\u001b[0m\u001b[1;33m\u001b[0m\u001b[1;33m\u001b[0m\u001b[0m\n\u001b[1;32m--> 637\u001b[1;33m             \u001b[0melement\u001b[0m\u001b[1;33m.\u001b[0m\u001b[0mrender\u001b[0m\u001b[1;33m(\u001b[0m\u001b[1;33m**\u001b[0m\u001b[0mkwargs\u001b[0m\u001b[1;33m)\u001b[0m\u001b[1;33m\u001b[0m\u001b[1;33m\u001b[0m\u001b[0m\n\u001b[0m",
      "\u001b[1;32m~\\anaconda3\\lib\\site-packages\\folium\\features.py\u001b[0m in \u001b[0;36mrender\u001b[1;34m(self, **kwargs)\u001b[0m\n\u001b[0;32m    574\u001b[0m                                         self)\n\u001b[0;32m    575\u001b[0m             \u001b[1;32mif\u001b[0m \u001b[0mself\u001b[0m\u001b[1;33m.\u001b[0m\u001b[0mstyle\u001b[0m\u001b[1;33m:\u001b[0m\u001b[1;33m\u001b[0m\u001b[1;33m\u001b[0m\u001b[0m\n\u001b[1;32m--> 576\u001b[1;33m                 \u001b[0mself\u001b[0m\u001b[1;33m.\u001b[0m\u001b[0mstyle_map\u001b[0m \u001b[1;33m=\u001b[0m \u001b[0mmapper\u001b[0m\u001b[1;33m.\u001b[0m\u001b[0mget_style_map\u001b[0m\u001b[1;33m(\u001b[0m\u001b[0mself\u001b[0m\u001b[1;33m.\u001b[0m\u001b[0mstyle_function\u001b[0m\u001b[1;33m)\u001b[0m\u001b[1;33m\u001b[0m\u001b[1;33m\u001b[0m\u001b[0m\n\u001b[0m\u001b[0;32m    577\u001b[0m             \u001b[1;32mif\u001b[0m \u001b[0mself\u001b[0m\u001b[1;33m.\u001b[0m\u001b[0mhighlight\u001b[0m\u001b[1;33m:\u001b[0m\u001b[1;33m\u001b[0m\u001b[1;33m\u001b[0m\u001b[0m\n\u001b[0;32m    578\u001b[0m                 self.highlight_map = mapper.get_highlight_map(\n",
      "\u001b[1;32m~\\anaconda3\\lib\\site-packages\\folium\\features.py\u001b[0m in \u001b[0;36mget_style_map\u001b[1;34m(self, style_function)\u001b[0m\n\u001b[0;32m    594\u001b[0m     \u001b[1;32mdef\u001b[0m \u001b[0mget_style_map\u001b[0m\u001b[1;33m(\u001b[0m\u001b[0mself\u001b[0m\u001b[1;33m,\u001b[0m \u001b[0mstyle_function\u001b[0m\u001b[1;33m)\u001b[0m\u001b[1;33m:\u001b[0m\u001b[1;33m\u001b[0m\u001b[1;33m\u001b[0m\u001b[0m\n\u001b[0;32m    595\u001b[0m         \u001b[1;34m\"\"\"Return a dict that maps style parameters to features.\"\"\"\u001b[0m\u001b[1;33m\u001b[0m\u001b[1;33m\u001b[0m\u001b[0m\n\u001b[1;32m--> 596\u001b[1;33m         \u001b[1;32mreturn\u001b[0m \u001b[0mself\u001b[0m\u001b[1;33m.\u001b[0m\u001b[0m_create_mapping\u001b[0m\u001b[1;33m(\u001b[0m\u001b[0mstyle_function\u001b[0m\u001b[1;33m,\u001b[0m \u001b[1;34m'style'\u001b[0m\u001b[1;33m)\u001b[0m\u001b[1;33m\u001b[0m\u001b[1;33m\u001b[0m\u001b[0m\n\u001b[0m\u001b[0;32m    597\u001b[0m \u001b[1;33m\u001b[0m\u001b[0m\n\u001b[0;32m    598\u001b[0m     \u001b[1;32mdef\u001b[0m \u001b[0mget_highlight_map\u001b[0m\u001b[1;33m(\u001b[0m\u001b[0mself\u001b[0m\u001b[1;33m,\u001b[0m \u001b[0mhighlight_function\u001b[0m\u001b[1;33m)\u001b[0m\u001b[1;33m:\u001b[0m\u001b[1;33m\u001b[0m\u001b[1;33m\u001b[0m\u001b[0m\n",
      "\u001b[1;32m~\\anaconda3\\lib\\site-packages\\folium\\features.py\u001b[0m in \u001b[0;36m_create_mapping\u001b[1;34m(self, func, switch)\u001b[0m\n\u001b[0;32m    604\u001b[0m         \u001b[0mmapping\u001b[0m \u001b[1;33m=\u001b[0m \u001b[1;33m{\u001b[0m\u001b[1;33m}\u001b[0m\u001b[1;33m\u001b[0m\u001b[1;33m\u001b[0m\u001b[0m\n\u001b[0;32m    605\u001b[0m         \u001b[1;32mfor\u001b[0m \u001b[0mfeature\u001b[0m \u001b[1;32min\u001b[0m \u001b[0mself\u001b[0m\u001b[1;33m.\u001b[0m\u001b[0mdata\u001b[0m\u001b[1;33m[\u001b[0m\u001b[1;34m'features'\u001b[0m\u001b[1;33m]\u001b[0m\u001b[1;33m:\u001b[0m\u001b[1;33m\u001b[0m\u001b[1;33m\u001b[0m\u001b[0m\n\u001b[1;32m--> 606\u001b[1;33m             \u001b[0mcontent\u001b[0m \u001b[1;33m=\u001b[0m \u001b[0mfunc\u001b[0m\u001b[1;33m(\u001b[0m\u001b[0mfeature\u001b[0m\u001b[1;33m)\u001b[0m\u001b[1;33m\u001b[0m\u001b[1;33m\u001b[0m\u001b[0m\n\u001b[0m\u001b[0;32m    607\u001b[0m             \u001b[1;32mif\u001b[0m \u001b[0mswitch\u001b[0m \u001b[1;33m==\u001b[0m \u001b[1;34m'style'\u001b[0m\u001b[1;33m:\u001b[0m\u001b[1;33m\u001b[0m\u001b[1;33m\u001b[0m\u001b[0m\n\u001b[0;32m    608\u001b[0m                 \u001b[1;32mfor\u001b[0m \u001b[0mkey\u001b[0m\u001b[1;33m,\u001b[0m \u001b[0mvalue\u001b[0m \u001b[1;32min\u001b[0m \u001b[0mcontent\u001b[0m\u001b[1;33m.\u001b[0m\u001b[0mitems\u001b[0m\u001b[1;33m(\u001b[0m\u001b[1;33m)\u001b[0m\u001b[1;33m:\u001b[0m\u001b[1;33m\u001b[0m\u001b[1;33m\u001b[0m\u001b[0m\n",
      "\u001b[1;32m~\\anaconda3\\lib\\site-packages\\folium\\features.py\u001b[0m in \u001b[0;36mstyle_function\u001b[1;34m(x)\u001b[0m\n\u001b[0;32m   1223\u001b[0m \u001b[1;33m\u001b[0m\u001b[0m\n\u001b[0;32m   1224\u001b[0m         \u001b[1;32mdef\u001b[0m \u001b[0mstyle_function\u001b[0m\u001b[1;33m(\u001b[0m\u001b[0mx\u001b[0m\u001b[1;33m)\u001b[0m\u001b[1;33m:\u001b[0m\u001b[1;33m\u001b[0m\u001b[1;33m\u001b[0m\u001b[0m\n\u001b[1;32m-> 1225\u001b[1;33m             \u001b[0mcolor\u001b[0m\u001b[1;33m,\u001b[0m \u001b[0mopacity\u001b[0m \u001b[1;33m=\u001b[0m \u001b[0mcolor_scale_fun\u001b[0m\u001b[1;33m(\u001b[0m\u001b[0mx\u001b[0m\u001b[1;33m)\u001b[0m\u001b[1;33m\u001b[0m\u001b[1;33m\u001b[0m\u001b[0m\n\u001b[0m\u001b[0;32m   1226\u001b[0m             return {\n\u001b[0;32m   1227\u001b[0m                 \u001b[1;34m'weight'\u001b[0m\u001b[1;33m:\u001b[0m \u001b[0mline_weight\u001b[0m\u001b[1;33m,\u001b[0m\u001b[1;33m\u001b[0m\u001b[1;33m\u001b[0m\u001b[0m\n",
      "\u001b[1;32m~\\anaconda3\\lib\\site-packages\\folium\\features.py\u001b[0m in \u001b[0;36mcolor_scale_fun\u001b[1;34m(x)\u001b[0m\n\u001b[0;32m   1206\u001b[0m                 \u001b[0mkey_of_x\u001b[0m \u001b[1;33m=\u001b[0m \u001b[0mget_by_key\u001b[0m\u001b[1;33m(\u001b[0m\u001b[0mx\u001b[0m\u001b[1;33m,\u001b[0m \u001b[0mkey_on\u001b[0m\u001b[1;33m)\u001b[0m\u001b[1;33m\u001b[0m\u001b[1;33m\u001b[0m\u001b[0m\n\u001b[0;32m   1207\u001b[0m                 \u001b[1;32mif\u001b[0m \u001b[0mkey_of_x\u001b[0m \u001b[1;32mis\u001b[0m \u001b[1;32mNone\u001b[0m\u001b[1;33m:\u001b[0m\u001b[1;33m\u001b[0m\u001b[1;33m\u001b[0m\u001b[0m\n\u001b[1;32m-> 1208\u001b[1;33m                     \u001b[1;32mraise\u001b[0m \u001b[0mValueError\u001b[0m\u001b[1;33m(\u001b[0m\u001b[1;34m\"key_on `{!r}` not found in GeoJSON.\"\u001b[0m\u001b[1;33m.\u001b[0m\u001b[0mformat\u001b[0m\u001b[1;33m(\u001b[0m\u001b[0mkey_on\u001b[0m\u001b[1;33m)\u001b[0m\u001b[1;33m)\u001b[0m\u001b[1;33m\u001b[0m\u001b[1;33m\u001b[0m\u001b[0m\n\u001b[0m\u001b[0;32m   1209\u001b[0m \u001b[1;33m\u001b[0m\u001b[0m\n\u001b[0;32m   1210\u001b[0m                 \u001b[1;32mif\u001b[0m \u001b[0mkey_of_x\u001b[0m \u001b[1;32mnot\u001b[0m \u001b[1;32min\u001b[0m \u001b[0mcolor_data\u001b[0m\u001b[1;33m.\u001b[0m\u001b[0mkeys\u001b[0m\u001b[1;33m(\u001b[0m\u001b[1;33m)\u001b[0m\u001b[1;33m:\u001b[0m\u001b[1;33m\u001b[0m\u001b[1;33m\u001b[0m\u001b[0m\n",
      "\u001b[1;31mValueError\u001b[0m: key_on `'properties.ward_en'` not found in GeoJSON."
     ]
    },
    {
     "data": {
      "text/plain": [
       "<folium.folium.Map at 0x16427e13788>"
      ]
     },
     "execution_count": 30,
     "metadata": {},
     "output_type": "execute_result"
    }
   ],
   "source": [
    "# create map\n",
    "#tokyo_merged = pd.read_csv(\"tokyo_venues.csv\")\n",
    "map_clusters = folium.Map(location=[35.6828387, 139.7594549], zoom_start=10)\n",
    "\n",
    "map_clusters.choropleth(\n",
    "    geo_data=tokyo_geo,\n",
    "    data=df,\n",
    "    columns=['Ward', 'Density'],\n",
    "    key_on='feature.properties.ward_en',\n",
    "    fill_color='YlOrRd', \n",
    "    fill_opacity=0.7, \n",
    "    line_opacity=0.2,\n",
    "    legend_name='Tokyo Ward Density'\n",
    ")\n",
    "\n",
    "# set color scheme for the clusters\n",
    "x = np.arange(kclusters)\n",
    "ys = [i + x + (i*x)**2 for i in range(kclusters)]\n",
    "colors_array = cm.rainbow(np.linspace(0, 1, len(ys)))\n",
    "rainbow = [colors.rgb2hex(i) for i in colors_array]\n",
    "\n",
    "# add markers to the map\n",
    "markers_colors = []\n",
    "for lat, lon, poi, cluster in zip(tokyo_merged['Latitude'], tokyo_merged['Longitude'], tokyo_merged['District'], tokyo_merged['Clusters']):\n",
    "    label = folium.Popup(str(poi) + ' Cluster ' + str(cluster), parse_html=True)\n",
    "    #cluster = int(cluster)\n",
    "    folium.CircleMarker(\n",
    "        [lat, lon],\n",
    "        radius=5,\n",
    "        popup=label,\n",
    "        color=rainbow[cluster-1],\n",
    "        fill=True,\n",
    "        fill_color=rainbow[cluster-1],\n",
    "        fill_opacity=0.7).add_to(map_clusters)\n",
    "       \n",
    "map_clusters"
   ]
  },
  {
   "cell_type": "markdown",
   "metadata": {},
   "source": [
    "It looks like there is only one value in cluster three, so I will try four clusters instead."
   ]
  },
  {
   "cell_type": "code",
   "execution_count": 85,
   "metadata": {},
   "outputs": [
    {
     "name": "stderr",
     "output_type": "stream",
     "text": [
      "C:\\Users\\kimgl\\anaconda3\\lib\\site-packages\\folium\\folium.py:415: FutureWarning:\n",
      "\n",
      "The choropleth  method has been deprecated. Instead use the new Choropleth class, which has the same arguments. See the example notebook 'GeoJSON_and_choropleth' for how to do this.\n",
      "\n"
     ]
    },
    {
     "ename": "ValueError",
     "evalue": "key_on `'properties.ward_en'` not found in GeoJSON.",
     "output_type": "error",
     "traceback": [
      "\u001b[1;31m---------------------------------------------------------------------------\u001b[0m",
      "\u001b[1;31mValueError\u001b[0m                                Traceback (most recent call last)",
      "\u001b[1;32m~\\anaconda3\\lib\\site-packages\\IPython\\core\\formatters.py\u001b[0m in \u001b[0;36m__call__\u001b[1;34m(self, obj)\u001b[0m\n\u001b[0;32m    343\u001b[0m             \u001b[0mmethod\u001b[0m \u001b[1;33m=\u001b[0m \u001b[0mget_real_method\u001b[0m\u001b[1;33m(\u001b[0m\u001b[0mobj\u001b[0m\u001b[1;33m,\u001b[0m \u001b[0mself\u001b[0m\u001b[1;33m.\u001b[0m\u001b[0mprint_method\u001b[0m\u001b[1;33m)\u001b[0m\u001b[1;33m\u001b[0m\u001b[1;33m\u001b[0m\u001b[0m\n\u001b[0;32m    344\u001b[0m             \u001b[1;32mif\u001b[0m \u001b[0mmethod\u001b[0m \u001b[1;32mis\u001b[0m \u001b[1;32mnot\u001b[0m \u001b[1;32mNone\u001b[0m\u001b[1;33m:\u001b[0m\u001b[1;33m\u001b[0m\u001b[1;33m\u001b[0m\u001b[0m\n\u001b[1;32m--> 345\u001b[1;33m                 \u001b[1;32mreturn\u001b[0m \u001b[0mmethod\u001b[0m\u001b[1;33m(\u001b[0m\u001b[1;33m)\u001b[0m\u001b[1;33m\u001b[0m\u001b[1;33m\u001b[0m\u001b[0m\n\u001b[0m\u001b[0;32m    346\u001b[0m             \u001b[1;32mreturn\u001b[0m \u001b[1;32mNone\u001b[0m\u001b[1;33m\u001b[0m\u001b[1;33m\u001b[0m\u001b[0m\n\u001b[0;32m    347\u001b[0m         \u001b[1;32melse\u001b[0m\u001b[1;33m:\u001b[0m\u001b[1;33m\u001b[0m\u001b[1;33m\u001b[0m\u001b[0m\n",
      "\u001b[1;32m~\\anaconda3\\lib\\site-packages\\folium\\folium.py\u001b[0m in \u001b[0;36m_repr_html_\u001b[1;34m(self, **kwargs)\u001b[0m\n\u001b[0;32m    291\u001b[0m             \u001b[0mself\u001b[0m\u001b[1;33m.\u001b[0m\u001b[0m_parent\u001b[0m \u001b[1;33m=\u001b[0m \u001b[1;32mNone\u001b[0m\u001b[1;33m\u001b[0m\u001b[1;33m\u001b[0m\u001b[0m\n\u001b[0;32m    292\u001b[0m         \u001b[1;32melse\u001b[0m\u001b[1;33m:\u001b[0m\u001b[1;33m\u001b[0m\u001b[1;33m\u001b[0m\u001b[0m\n\u001b[1;32m--> 293\u001b[1;33m             \u001b[0mout\u001b[0m \u001b[1;33m=\u001b[0m \u001b[0mself\u001b[0m\u001b[1;33m.\u001b[0m\u001b[0m_parent\u001b[0m\u001b[1;33m.\u001b[0m\u001b[0m_repr_html_\u001b[0m\u001b[1;33m(\u001b[0m\u001b[1;33m**\u001b[0m\u001b[0mkwargs\u001b[0m\u001b[1;33m)\u001b[0m\u001b[1;33m\u001b[0m\u001b[1;33m\u001b[0m\u001b[0m\n\u001b[0m\u001b[0;32m    294\u001b[0m         \u001b[1;32mreturn\u001b[0m \u001b[0mout\u001b[0m\u001b[1;33m\u001b[0m\u001b[1;33m\u001b[0m\u001b[0m\n\u001b[0;32m    295\u001b[0m \u001b[1;33m\u001b[0m\u001b[0m\n",
      "\u001b[1;32m~\\anaconda3\\lib\\site-packages\\branca\\element.py\u001b[0m in \u001b[0;36m_repr_html_\u001b[1;34m(self, **kwargs)\u001b[0m\n\u001b[0;32m    325\u001b[0m         \u001b[1;31m# the HTML in the src attribute with a data URI. The alternative of using a srcdoc\u001b[0m\u001b[1;33m\u001b[0m\u001b[1;33m\u001b[0m\u001b[1;33m\u001b[0m\u001b[0m\n\u001b[0;32m    326\u001b[0m         \u001b[1;31m# attribute is not supported in Microsoft Internet Explorer and Edge.\u001b[0m\u001b[1;33m\u001b[0m\u001b[1;33m\u001b[0m\u001b[1;33m\u001b[0m\u001b[0m\n\u001b[1;32m--> 327\u001b[1;33m         \u001b[0mhtml\u001b[0m \u001b[1;33m=\u001b[0m \u001b[0mbase64\u001b[0m\u001b[1;33m.\u001b[0m\u001b[0mb64encode\u001b[0m\u001b[1;33m(\u001b[0m\u001b[0mself\u001b[0m\u001b[1;33m.\u001b[0m\u001b[0mrender\u001b[0m\u001b[1;33m(\u001b[0m\u001b[1;33m**\u001b[0m\u001b[0mkwargs\u001b[0m\u001b[1;33m)\u001b[0m\u001b[1;33m.\u001b[0m\u001b[0mencode\u001b[0m\u001b[1;33m(\u001b[0m\u001b[1;34m'utf8'\u001b[0m\u001b[1;33m)\u001b[0m\u001b[1;33m)\u001b[0m\u001b[1;33m.\u001b[0m\u001b[0mdecode\u001b[0m\u001b[1;33m(\u001b[0m\u001b[1;34m'utf8'\u001b[0m\u001b[1;33m)\u001b[0m\u001b[1;33m\u001b[0m\u001b[1;33m\u001b[0m\u001b[0m\n\u001b[0m\u001b[0;32m    328\u001b[0m         onload = (\n\u001b[0;32m    329\u001b[0m             \u001b[1;34m'this.contentDocument.open();'\u001b[0m\u001b[1;33m\u001b[0m\u001b[1;33m\u001b[0m\u001b[0m\n",
      "\u001b[1;32m~\\anaconda3\\lib\\site-packages\\branca\\element.py\u001b[0m in \u001b[0;36mrender\u001b[1;34m(self, **kwargs)\u001b[0m\n\u001b[0;32m    316\u001b[0m         \u001b[1;34m\"\"\"Renders the HTML representation of the element.\"\"\"\u001b[0m\u001b[1;33m\u001b[0m\u001b[1;33m\u001b[0m\u001b[0m\n\u001b[0;32m    317\u001b[0m         \u001b[1;32mfor\u001b[0m \u001b[0mname\u001b[0m\u001b[1;33m,\u001b[0m \u001b[0mchild\u001b[0m \u001b[1;32min\u001b[0m \u001b[0mself\u001b[0m\u001b[1;33m.\u001b[0m\u001b[0m_children\u001b[0m\u001b[1;33m.\u001b[0m\u001b[0mitems\u001b[0m\u001b[1;33m(\u001b[0m\u001b[1;33m)\u001b[0m\u001b[1;33m:\u001b[0m\u001b[1;33m\u001b[0m\u001b[1;33m\u001b[0m\u001b[0m\n\u001b[1;32m--> 318\u001b[1;33m             \u001b[0mchild\u001b[0m\u001b[1;33m.\u001b[0m\u001b[0mrender\u001b[0m\u001b[1;33m(\u001b[0m\u001b[1;33m**\u001b[0m\u001b[0mkwargs\u001b[0m\u001b[1;33m)\u001b[0m\u001b[1;33m\u001b[0m\u001b[1;33m\u001b[0m\u001b[0m\n\u001b[0m\u001b[0;32m    319\u001b[0m         \u001b[1;32mreturn\u001b[0m \u001b[0mself\u001b[0m\u001b[1;33m.\u001b[0m\u001b[0m_template\u001b[0m\u001b[1;33m.\u001b[0m\u001b[0mrender\u001b[0m\u001b[1;33m(\u001b[0m\u001b[0mthis\u001b[0m\u001b[1;33m=\u001b[0m\u001b[0mself\u001b[0m\u001b[1;33m,\u001b[0m \u001b[0mkwargs\u001b[0m\u001b[1;33m=\u001b[0m\u001b[0mkwargs\u001b[0m\u001b[1;33m)\u001b[0m\u001b[1;33m\u001b[0m\u001b[1;33m\u001b[0m\u001b[0m\n\u001b[0;32m    320\u001b[0m \u001b[1;33m\u001b[0m\u001b[0m\n",
      "\u001b[1;32m~\\anaconda3\\lib\\site-packages\\folium\\folium.py\u001b[0m in \u001b[0;36mrender\u001b[1;34m(self, **kwargs)\u001b[0m\n\u001b[0;32m    368\u001b[0m             '</style>'), name='map_style')\n\u001b[0;32m    369\u001b[0m \u001b[1;33m\u001b[0m\u001b[0m\n\u001b[1;32m--> 370\u001b[1;33m         \u001b[0msuper\u001b[0m\u001b[1;33m(\u001b[0m\u001b[0mMap\u001b[0m\u001b[1;33m,\u001b[0m \u001b[0mself\u001b[0m\u001b[1;33m)\u001b[0m\u001b[1;33m.\u001b[0m\u001b[0mrender\u001b[0m\u001b[1;33m(\u001b[0m\u001b[1;33m**\u001b[0m\u001b[0mkwargs\u001b[0m\u001b[1;33m)\u001b[0m\u001b[1;33m\u001b[0m\u001b[1;33m\u001b[0m\u001b[0m\n\u001b[0m\u001b[0;32m    371\u001b[0m \u001b[1;33m\u001b[0m\u001b[0m\n\u001b[0;32m    372\u001b[0m     def fit_bounds(self, bounds, padding_top_left=None,\n",
      "\u001b[1;32m~\\anaconda3\\lib\\site-packages\\branca\\element.py\u001b[0m in \u001b[0;36mrender\u001b[1;34m(self, **kwargs)\u001b[0m\n\u001b[0;32m    635\u001b[0m \u001b[1;33m\u001b[0m\u001b[0m\n\u001b[0;32m    636\u001b[0m         \u001b[1;32mfor\u001b[0m \u001b[0mname\u001b[0m\u001b[1;33m,\u001b[0m \u001b[0melement\u001b[0m \u001b[1;32min\u001b[0m \u001b[0mself\u001b[0m\u001b[1;33m.\u001b[0m\u001b[0m_children\u001b[0m\u001b[1;33m.\u001b[0m\u001b[0mitems\u001b[0m\u001b[1;33m(\u001b[0m\u001b[1;33m)\u001b[0m\u001b[1;33m:\u001b[0m\u001b[1;33m\u001b[0m\u001b[1;33m\u001b[0m\u001b[0m\n\u001b[1;32m--> 637\u001b[1;33m             \u001b[0melement\u001b[0m\u001b[1;33m.\u001b[0m\u001b[0mrender\u001b[0m\u001b[1;33m(\u001b[0m\u001b[1;33m**\u001b[0m\u001b[0mkwargs\u001b[0m\u001b[1;33m)\u001b[0m\u001b[1;33m\u001b[0m\u001b[1;33m\u001b[0m\u001b[0m\n\u001b[0m",
      "\u001b[1;32m~\\anaconda3\\lib\\site-packages\\folium\\features.py\u001b[0m in \u001b[0;36mrender\u001b[1;34m(self, **kwargs)\u001b[0m\n\u001b[0;32m   1263\u001b[0m             \u001b[0mself\u001b[0m\u001b[1;33m.\u001b[0m\u001b[0mcolor_scale\u001b[0m\u001b[1;33m.\u001b[0m\u001b[0m_parent\u001b[0m \u001b[1;33m=\u001b[0m \u001b[0mself\u001b[0m\u001b[1;33m.\u001b[0m\u001b[0m_parent\u001b[0m\u001b[1;33m\u001b[0m\u001b[1;33m\u001b[0m\u001b[0m\n\u001b[0;32m   1264\u001b[0m \u001b[1;33m\u001b[0m\u001b[0m\n\u001b[1;32m-> 1265\u001b[1;33m         \u001b[0msuper\u001b[0m\u001b[1;33m(\u001b[0m\u001b[0mChoropleth\u001b[0m\u001b[1;33m,\u001b[0m \u001b[0mself\u001b[0m\u001b[1;33m)\u001b[0m\u001b[1;33m.\u001b[0m\u001b[0mrender\u001b[0m\u001b[1;33m(\u001b[0m\u001b[1;33m**\u001b[0m\u001b[0mkwargs\u001b[0m\u001b[1;33m)\u001b[0m\u001b[1;33m\u001b[0m\u001b[1;33m\u001b[0m\u001b[0m\n\u001b[0m\u001b[0;32m   1266\u001b[0m \u001b[1;33m\u001b[0m\u001b[0m\n\u001b[0;32m   1267\u001b[0m \u001b[1;33m\u001b[0m\u001b[0m\n",
      "\u001b[1;32m~\\anaconda3\\lib\\site-packages\\branca\\element.py\u001b[0m in \u001b[0;36mrender\u001b[1;34m(self, **kwargs)\u001b[0m\n\u001b[0;32m    635\u001b[0m \u001b[1;33m\u001b[0m\u001b[0m\n\u001b[0;32m    636\u001b[0m         \u001b[1;32mfor\u001b[0m \u001b[0mname\u001b[0m\u001b[1;33m,\u001b[0m \u001b[0melement\u001b[0m \u001b[1;32min\u001b[0m \u001b[0mself\u001b[0m\u001b[1;33m.\u001b[0m\u001b[0m_children\u001b[0m\u001b[1;33m.\u001b[0m\u001b[0mitems\u001b[0m\u001b[1;33m(\u001b[0m\u001b[1;33m)\u001b[0m\u001b[1;33m:\u001b[0m\u001b[1;33m\u001b[0m\u001b[1;33m\u001b[0m\u001b[0m\n\u001b[1;32m--> 637\u001b[1;33m             \u001b[0melement\u001b[0m\u001b[1;33m.\u001b[0m\u001b[0mrender\u001b[0m\u001b[1;33m(\u001b[0m\u001b[1;33m**\u001b[0m\u001b[0mkwargs\u001b[0m\u001b[1;33m)\u001b[0m\u001b[1;33m\u001b[0m\u001b[1;33m\u001b[0m\u001b[0m\n\u001b[0m",
      "\u001b[1;32m~\\anaconda3\\lib\\site-packages\\folium\\features.py\u001b[0m in \u001b[0;36mrender\u001b[1;34m(self, **kwargs)\u001b[0m\n\u001b[0;32m    574\u001b[0m                                         self)\n\u001b[0;32m    575\u001b[0m             \u001b[1;32mif\u001b[0m \u001b[0mself\u001b[0m\u001b[1;33m.\u001b[0m\u001b[0mstyle\u001b[0m\u001b[1;33m:\u001b[0m\u001b[1;33m\u001b[0m\u001b[1;33m\u001b[0m\u001b[0m\n\u001b[1;32m--> 576\u001b[1;33m                 \u001b[0mself\u001b[0m\u001b[1;33m.\u001b[0m\u001b[0mstyle_map\u001b[0m \u001b[1;33m=\u001b[0m \u001b[0mmapper\u001b[0m\u001b[1;33m.\u001b[0m\u001b[0mget_style_map\u001b[0m\u001b[1;33m(\u001b[0m\u001b[0mself\u001b[0m\u001b[1;33m.\u001b[0m\u001b[0mstyle_function\u001b[0m\u001b[1;33m)\u001b[0m\u001b[1;33m\u001b[0m\u001b[1;33m\u001b[0m\u001b[0m\n\u001b[0m\u001b[0;32m    577\u001b[0m             \u001b[1;32mif\u001b[0m \u001b[0mself\u001b[0m\u001b[1;33m.\u001b[0m\u001b[0mhighlight\u001b[0m\u001b[1;33m:\u001b[0m\u001b[1;33m\u001b[0m\u001b[1;33m\u001b[0m\u001b[0m\n\u001b[0;32m    578\u001b[0m                 self.highlight_map = mapper.get_highlight_map(\n",
      "\u001b[1;32m~\\anaconda3\\lib\\site-packages\\folium\\features.py\u001b[0m in \u001b[0;36mget_style_map\u001b[1;34m(self, style_function)\u001b[0m\n\u001b[0;32m    594\u001b[0m     \u001b[1;32mdef\u001b[0m \u001b[0mget_style_map\u001b[0m\u001b[1;33m(\u001b[0m\u001b[0mself\u001b[0m\u001b[1;33m,\u001b[0m \u001b[0mstyle_function\u001b[0m\u001b[1;33m)\u001b[0m\u001b[1;33m:\u001b[0m\u001b[1;33m\u001b[0m\u001b[1;33m\u001b[0m\u001b[0m\n\u001b[0;32m    595\u001b[0m         \u001b[1;34m\"\"\"Return a dict that maps style parameters to features.\"\"\"\u001b[0m\u001b[1;33m\u001b[0m\u001b[1;33m\u001b[0m\u001b[0m\n\u001b[1;32m--> 596\u001b[1;33m         \u001b[1;32mreturn\u001b[0m \u001b[0mself\u001b[0m\u001b[1;33m.\u001b[0m\u001b[0m_create_mapping\u001b[0m\u001b[1;33m(\u001b[0m\u001b[0mstyle_function\u001b[0m\u001b[1;33m,\u001b[0m \u001b[1;34m'style'\u001b[0m\u001b[1;33m)\u001b[0m\u001b[1;33m\u001b[0m\u001b[1;33m\u001b[0m\u001b[0m\n\u001b[0m\u001b[0;32m    597\u001b[0m \u001b[1;33m\u001b[0m\u001b[0m\n\u001b[0;32m    598\u001b[0m     \u001b[1;32mdef\u001b[0m \u001b[0mget_highlight_map\u001b[0m\u001b[1;33m(\u001b[0m\u001b[0mself\u001b[0m\u001b[1;33m,\u001b[0m \u001b[0mhighlight_function\u001b[0m\u001b[1;33m)\u001b[0m\u001b[1;33m:\u001b[0m\u001b[1;33m\u001b[0m\u001b[1;33m\u001b[0m\u001b[0m\n",
      "\u001b[1;32m~\\anaconda3\\lib\\site-packages\\folium\\features.py\u001b[0m in \u001b[0;36m_create_mapping\u001b[1;34m(self, func, switch)\u001b[0m\n\u001b[0;32m    604\u001b[0m         \u001b[0mmapping\u001b[0m \u001b[1;33m=\u001b[0m \u001b[1;33m{\u001b[0m\u001b[1;33m}\u001b[0m\u001b[1;33m\u001b[0m\u001b[1;33m\u001b[0m\u001b[0m\n\u001b[0;32m    605\u001b[0m         \u001b[1;32mfor\u001b[0m \u001b[0mfeature\u001b[0m \u001b[1;32min\u001b[0m \u001b[0mself\u001b[0m\u001b[1;33m.\u001b[0m\u001b[0mdata\u001b[0m\u001b[1;33m[\u001b[0m\u001b[1;34m'features'\u001b[0m\u001b[1;33m]\u001b[0m\u001b[1;33m:\u001b[0m\u001b[1;33m\u001b[0m\u001b[1;33m\u001b[0m\u001b[0m\n\u001b[1;32m--> 606\u001b[1;33m             \u001b[0mcontent\u001b[0m \u001b[1;33m=\u001b[0m \u001b[0mfunc\u001b[0m\u001b[1;33m(\u001b[0m\u001b[0mfeature\u001b[0m\u001b[1;33m)\u001b[0m\u001b[1;33m\u001b[0m\u001b[1;33m\u001b[0m\u001b[0m\n\u001b[0m\u001b[0;32m    607\u001b[0m             \u001b[1;32mif\u001b[0m \u001b[0mswitch\u001b[0m \u001b[1;33m==\u001b[0m \u001b[1;34m'style'\u001b[0m\u001b[1;33m:\u001b[0m\u001b[1;33m\u001b[0m\u001b[1;33m\u001b[0m\u001b[0m\n\u001b[0;32m    608\u001b[0m                 \u001b[1;32mfor\u001b[0m \u001b[0mkey\u001b[0m\u001b[1;33m,\u001b[0m \u001b[0mvalue\u001b[0m \u001b[1;32min\u001b[0m \u001b[0mcontent\u001b[0m\u001b[1;33m.\u001b[0m\u001b[0mitems\u001b[0m\u001b[1;33m(\u001b[0m\u001b[1;33m)\u001b[0m\u001b[1;33m:\u001b[0m\u001b[1;33m\u001b[0m\u001b[1;33m\u001b[0m\u001b[0m\n",
      "\u001b[1;32m~\\anaconda3\\lib\\site-packages\\folium\\features.py\u001b[0m in \u001b[0;36mstyle_function\u001b[1;34m(x)\u001b[0m\n\u001b[0;32m   1223\u001b[0m \u001b[1;33m\u001b[0m\u001b[0m\n\u001b[0;32m   1224\u001b[0m         \u001b[1;32mdef\u001b[0m \u001b[0mstyle_function\u001b[0m\u001b[1;33m(\u001b[0m\u001b[0mx\u001b[0m\u001b[1;33m)\u001b[0m\u001b[1;33m:\u001b[0m\u001b[1;33m\u001b[0m\u001b[1;33m\u001b[0m\u001b[0m\n\u001b[1;32m-> 1225\u001b[1;33m             \u001b[0mcolor\u001b[0m\u001b[1;33m,\u001b[0m \u001b[0mopacity\u001b[0m \u001b[1;33m=\u001b[0m \u001b[0mcolor_scale_fun\u001b[0m\u001b[1;33m(\u001b[0m\u001b[0mx\u001b[0m\u001b[1;33m)\u001b[0m\u001b[1;33m\u001b[0m\u001b[1;33m\u001b[0m\u001b[0m\n\u001b[0m\u001b[0;32m   1226\u001b[0m             return {\n\u001b[0;32m   1227\u001b[0m                 \u001b[1;34m'weight'\u001b[0m\u001b[1;33m:\u001b[0m \u001b[0mline_weight\u001b[0m\u001b[1;33m,\u001b[0m\u001b[1;33m\u001b[0m\u001b[1;33m\u001b[0m\u001b[0m\n",
      "\u001b[1;32m~\\anaconda3\\lib\\site-packages\\folium\\features.py\u001b[0m in \u001b[0;36mcolor_scale_fun\u001b[1;34m(x)\u001b[0m\n\u001b[0;32m   1206\u001b[0m                 \u001b[0mkey_of_x\u001b[0m \u001b[1;33m=\u001b[0m \u001b[0mget_by_key\u001b[0m\u001b[1;33m(\u001b[0m\u001b[0mx\u001b[0m\u001b[1;33m,\u001b[0m \u001b[0mkey_on\u001b[0m\u001b[1;33m)\u001b[0m\u001b[1;33m\u001b[0m\u001b[1;33m\u001b[0m\u001b[0m\n\u001b[0;32m   1207\u001b[0m                 \u001b[1;32mif\u001b[0m \u001b[0mkey_of_x\u001b[0m \u001b[1;32mis\u001b[0m \u001b[1;32mNone\u001b[0m\u001b[1;33m:\u001b[0m\u001b[1;33m\u001b[0m\u001b[1;33m\u001b[0m\u001b[0m\n\u001b[1;32m-> 1208\u001b[1;33m                     \u001b[1;32mraise\u001b[0m \u001b[0mValueError\u001b[0m\u001b[1;33m(\u001b[0m\u001b[1;34m\"key_on `{!r}` not found in GeoJSON.\"\u001b[0m\u001b[1;33m.\u001b[0m\u001b[0mformat\u001b[0m\u001b[1;33m(\u001b[0m\u001b[0mkey_on\u001b[0m\u001b[1;33m)\u001b[0m\u001b[1;33m)\u001b[0m\u001b[1;33m\u001b[0m\u001b[1;33m\u001b[0m\u001b[0m\n\u001b[0m\u001b[0;32m   1209\u001b[0m \u001b[1;33m\u001b[0m\u001b[0m\n\u001b[0;32m   1210\u001b[0m                 \u001b[1;32mif\u001b[0m \u001b[0mkey_of_x\u001b[0m \u001b[1;32mnot\u001b[0m \u001b[1;32min\u001b[0m \u001b[0mcolor_data\u001b[0m\u001b[1;33m.\u001b[0m\u001b[0mkeys\u001b[0m\u001b[1;33m(\u001b[0m\u001b[1;33m)\u001b[0m\u001b[1;33m:\u001b[0m\u001b[1;33m\u001b[0m\u001b[1;33m\u001b[0m\u001b[0m\n",
      "\u001b[1;31mValueError\u001b[0m: key_on `'properties.ward_en'` not found in GeoJSON."
     ]
    },
    {
     "data": {
      "text/plain": [
       "<folium.folium.Map at 0x1643340a2c8>"
      ]
     },
     "execution_count": 85,
     "metadata": {},
     "output_type": "execute_result"
    }
   ],
   "source": [
    "kclusters = 4\n",
    "\n",
    "tokyo_grouped_clustering = tokyo_grouped.drop('Neighborhood', 1)\n",
    "\n",
    "# run k-means clustering\n",
    "kmeans = KMeans(n_clusters=kclusters, random_state=0).fit(tokyo_grouped_clustering)\n",
    "\n",
    "# add clustering labels\n",
    "kmeans.labels_ = pd.DataFrame(kmeans.labels_)\n",
    "neighborhoods_venues_sorted1 = pd.concat([neighborhoods_venues_sorted, kmeans.labels_], axis=1)\n",
    "neighborhoods_venues_sorted1.rename(columns={0: \"Clusters\", 'Neighborhood': 'District'}, inplace = True)\n",
    "\n",
    "# merge toronto_grouped with toronto_data to add latitude/longitude for each neighborhood\n",
    "tokyo_merged = pd.merge(tokDistricts,neighborhoods_venues_sorted1,on='District')\n",
    "tokyo_merged.head() # check the last columns!\n",
    "\n",
    "# create map\n",
    "map_clusters = folium.Map(location=[35.6828387, 139.7594549], zoom_start=10)\n",
    "\n",
    "map_clusters.choropleth(\n",
    "    geo_data=tokyo_geo,\n",
    "    data=df,\n",
    "    columns=['Ward', 'Density'],\n",
    "    key_on='feature.properties.ward_en',\n",
    "    fill_color='YlOrRd', \n",
    "    fill_opacity=0.7, \n",
    "    line_opacity=0.2,\n",
    "    legend_name='Tokyo Ward Density'\n",
    ")\n",
    "\n",
    "# set color scheme for the clusters\n",
    "x = np.arange(kclusters)\n",
    "ys = [i + x + (i*x)**2 for i in range(kclusters)]\n",
    "colors_array = cm.rainbow(np.linspace(0, 1, len(ys)))\n",
    "rainbow = [colors.rgb2hex(i) for i in colors_array]\n",
    "\n",
    "# add markers to the map\n",
    "markers_colors = []\n",
    "for lat, lon, poi, cluster in zip(tokyo_merged['Latitude'], tokyo_merged['Longitude'], tokyo_merged['District'], tokyo_merged['Clusters']):\n",
    "    label = folium.Popup(str(poi) + ' Cluster ' + str(cluster), parse_html=True)\n",
    "    #cluster = int(cluster)\n",
    "    folium.CircleMarker(\n",
    "        [lat, lon],\n",
    "        radius=5,\n",
    "        popup=label,\n",
    "        color=rainbow[cluster-1],\n",
    "        fill=True,\n",
    "        fill_color=rainbow[cluster-1],\n",
    "        fill_opacity=0.7).add_to(map_clusters)\n",
    "       \n",
    "map_clusters\n"
   ]
  },
  {
   "cell_type": "markdown",
   "metadata": {},
   "source": []
  },
  {
   "cell_type": "code",
   "execution_count": 86,
   "metadata": {},
   "outputs": [
    {
     "data": {
      "text/html": [
       "<div>\n",
       "<style scoped>\n",
       "    .dataframe tbody tr th:only-of-type {\n",
       "        vertical-align: middle;\n",
       "    }\n",
       "\n",
       "    .dataframe tbody tr th {\n",
       "        vertical-align: top;\n",
       "    }\n",
       "\n",
       "    .dataframe thead th {\n",
       "        text-align: right;\n",
       "    }\n",
       "</style>\n",
       "<table border=\"1\" class=\"dataframe\">\n",
       "  <thead>\n",
       "    <tr style=\"text-align: right;\">\n",
       "      <th></th>\n",
       "      <th>District</th>\n",
       "      <th>Ward</th>\n",
       "      <th>Longitude</th>\n",
       "      <th>Latitude</th>\n",
       "      <th>1st Most Common Venue</th>\n",
       "      <th>2nd Most Common Venue</th>\n",
       "      <th>3rd Most Common Venue</th>\n",
       "      <th>4th Most Common Venue</th>\n",
       "      <th>5th Most Common Venue</th>\n",
       "      <th>6th Most Common Venue</th>\n",
       "      <th>7th Most Common Venue</th>\n",
       "      <th>8th Most Common Venue</th>\n",
       "      <th>9th Most Common Venue</th>\n",
       "      <th>10th Most Common Venue</th>\n",
       "      <th>Clusters</th>\n",
       "    </tr>\n",
       "  </thead>\n",
       "  <tbody>\n",
       "    <tr>\n",
       "      <th>0</th>\n",
       "      <td>Akabane</td>\n",
       "      <td>Kita</td>\n",
       "      <td>139.720800</td>\n",
       "      <td>35.778139</td>\n",
       "      <td>Sake Bar</td>\n",
       "      <td>Dumpling Restaurant</td>\n",
       "      <td>Tea Room</td>\n",
       "      <td>Ramen Restaurant</td>\n",
       "      <td>Clothing Store</td>\n",
       "      <td>Shopping Mall</td>\n",
       "      <td>Bakery</td>\n",
       "      <td>Coffee Shop</td>\n",
       "      <td>Soba Restaurant</td>\n",
       "      <td>French Restaurant</td>\n",
       "      <td>0</td>\n",
       "    </tr>\n",
       "    <tr>\n",
       "      <th>1</th>\n",
       "      <td>Akihabara</td>\n",
       "      <td>Chiyoda</td>\n",
       "      <td>139.771250</td>\n",
       "      <td>35.699736</td>\n",
       "      <td>Café</td>\n",
       "      <td>Electronics Store</td>\n",
       "      <td>Sake Bar</td>\n",
       "      <td>Arcade</td>\n",
       "      <td>Hobby Shop</td>\n",
       "      <td>Ramen Restaurant</td>\n",
       "      <td>Comic Shop</td>\n",
       "      <td>Yoshoku Restaurant</td>\n",
       "      <td>Fried Chicken Joint</td>\n",
       "      <td>Gift Shop</td>\n",
       "      <td>0</td>\n",
       "    </tr>\n",
       "    <tr>\n",
       "      <th>2</th>\n",
       "      <td>Aobadai</td>\n",
       "      <td>Meguro</td>\n",
       "      <td>139.694300</td>\n",
       "      <td>35.650900</td>\n",
       "      <td>Park</td>\n",
       "      <td>Gym Pool</td>\n",
       "      <td>Grocery Store</td>\n",
       "      <td>Gourmet Shop</td>\n",
       "      <td>Gift Shop</td>\n",
       "      <td>Gelato Shop</td>\n",
       "      <td>Furniture / Home Store</td>\n",
       "      <td>Fruit &amp; Vegetable Store</td>\n",
       "      <td>Fried Chicken Joint</td>\n",
       "      <td>French Restaurant</td>\n",
       "      <td>3</td>\n",
       "    </tr>\n",
       "    <tr>\n",
       "      <th>3</th>\n",
       "      <td>Aomi</td>\n",
       "      <td>Koto</td>\n",
       "      <td>139.781202</td>\n",
       "      <td>35.624779</td>\n",
       "      <td>Coffee Shop</td>\n",
       "      <td>Playground</td>\n",
       "      <td>Shopping Mall</td>\n",
       "      <td>Fast Food Restaurant</td>\n",
       "      <td>Plaza</td>\n",
       "      <td>Yoshoku Restaurant</td>\n",
       "      <td>Gelato Shop</td>\n",
       "      <td>Furniture / Home Store</td>\n",
       "      <td>Fruit &amp; Vegetable Store</td>\n",
       "      <td>Fried Chicken Joint</td>\n",
       "      <td>0</td>\n",
       "    </tr>\n",
       "    <tr>\n",
       "      <th>4</th>\n",
       "      <td>Aoto</td>\n",
       "      <td>Katsushika</td>\n",
       "      <td>139.856173</td>\n",
       "      <td>35.745697</td>\n",
       "      <td>Convenience Store</td>\n",
       "      <td>Donburi Restaurant</td>\n",
       "      <td>Udon Restaurant</td>\n",
       "      <td>Fried Chicken Joint</td>\n",
       "      <td>Chinese Restaurant</td>\n",
       "      <td>Sandwich Place</td>\n",
       "      <td>Sake Bar</td>\n",
       "      <td>Italian Restaurant</td>\n",
       "      <td>Indie Theater</td>\n",
       "      <td>Indian Restaurant</td>\n",
       "      <td>1</td>\n",
       "    </tr>\n",
       "  </tbody>\n",
       "</table>\n",
       "</div>"
      ],
      "text/plain": [
       "    District        Ward   Longitude   Latitude 1st Most Common Venue  \\\n",
       "0    Akabane        Kita  139.720800  35.778139              Sake Bar   \n",
       "1  Akihabara     Chiyoda  139.771250  35.699736                  Café   \n",
       "2    Aobadai      Meguro  139.694300  35.650900                  Park   \n",
       "3       Aomi        Koto  139.781202  35.624779           Coffee Shop   \n",
       "4       Aoto  Katsushika  139.856173  35.745697     Convenience Store   \n",
       "\n",
       "  2nd Most Common Venue 3rd Most Common Venue 4th Most Common Venue  \\\n",
       "0   Dumpling Restaurant              Tea Room      Ramen Restaurant   \n",
       "1     Electronics Store              Sake Bar                Arcade   \n",
       "2              Gym Pool         Grocery Store          Gourmet Shop   \n",
       "3            Playground         Shopping Mall  Fast Food Restaurant   \n",
       "4    Donburi Restaurant       Udon Restaurant   Fried Chicken Joint   \n",
       "\n",
       "  5th Most Common Venue 6th Most Common Venue   7th Most Common Venue  \\\n",
       "0        Clothing Store         Shopping Mall                  Bakery   \n",
       "1            Hobby Shop      Ramen Restaurant              Comic Shop   \n",
       "2             Gift Shop           Gelato Shop  Furniture / Home Store   \n",
       "3                 Plaza    Yoshoku Restaurant             Gelato Shop   \n",
       "4    Chinese Restaurant        Sandwich Place                Sake Bar   \n",
       "\n",
       "     8th Most Common Venue    9th Most Common Venue 10th Most Common Venue  \\\n",
       "0              Coffee Shop          Soba Restaurant      French Restaurant   \n",
       "1       Yoshoku Restaurant      Fried Chicken Joint              Gift Shop   \n",
       "2  Fruit & Vegetable Store      Fried Chicken Joint      French Restaurant   \n",
       "3   Furniture / Home Store  Fruit & Vegetable Store    Fried Chicken Joint   \n",
       "4       Italian Restaurant            Indie Theater      Indian Restaurant   \n",
       "\n",
       "   Clusters  \n",
       "0         0  \n",
       "1         0  \n",
       "2         3  \n",
       "3         0  \n",
       "4         1  "
      ]
     },
     "execution_count": 86,
     "metadata": {},
     "output_type": "execute_result"
    }
   ],
   "source": [
    "tokyo_merged.head()"
   ]
  },
  {
   "cell_type": "code",
   "execution_count": 87,
   "metadata": {},
   "outputs": [],
   "source": [
    "clus0 = tokyo_merged.loc[tokyo_merged['Clusters'] == 0]\n",
    "clus1 = tokyo_merged.loc[tokyo_merged['Clusters'] == 1]\n",
    "clus2 = tokyo_merged.loc[tokyo_merged['Clusters'] == 2]\n",
    "clus3 = tokyo_merged.loc[tokyo_merged['Clusters'] == 3]"
   ]
  },
  {
   "cell_type": "code",
   "execution_count": 88,
   "metadata": {},
   "outputs": [
    {
     "data": {
      "image/png": "[encoded data removed]",
      "text/plain": [
       "<Figure size 432x288 with 1 Axes>"
      ]
     },
     "metadata": {
      "needs_background": "light"
     },
     "output_type": "display_data"
    }
   ],
   "source": [
    "lis = (clus0.iloc[:,5:8])\n",
    "lis['ID'] = np.arange(0,len(lis),1)\n",
    "output_df = lis.melt(id_vars=[\"ID\"])\n",
    "#output_df\n",
    "value0 = output_df.iloc[:,2].value_counts()\n",
    "value0 = pd.DataFrame(value0)\n",
    "value0 = value0.loc[value0[\"value\"] > 3]\n",
    "value0.reset_index(level=0, inplace=True)\n",
    "plt.barh(value0[\"index\"], value0[\"value\"], align='center', alpha=0.5)\n",
    "plt.ylabel('Freq')\n",
    "plt.title('Venues in Cluster 0')\n",
    "\n",
    "plt.show()"
   ]
  },
  {
   "cell_type": "code",
   "execution_count": 89,
   "metadata": {},
   "outputs": [
    {
     "data": {
      "image/png": "[encoded data removed]",
      "text/plain": [
       "<Figure size 432x288 with 1 Axes>"
      ]
     },
     "metadata": {
      "needs_background": "light"
     },
     "output_type": "display_data"
    }
   ],
   "source": [
    "lis = (clus1.iloc[:,5:8])\n",
    "lis['ID'] = np.arange(0,len(lis),1)\n",
    "output_df = lis.melt(id_vars=[\"ID\"])\n",
    "#output_df\n",
    "value0 = output_df.iloc[:,2].value_counts()\n",
    "value0 = pd.DataFrame(value0)\n",
    "value0 = value0.loc[value0[\"value\"] > 3]\n",
    "value0.reset_index(level=0, inplace=True)\n",
    "plt.barh(value0[\"index\"], value0[\"value\"], align='center', alpha=0.5)\n",
    "plt.ylabel('Freq')\n",
    "plt.title('Venues in Cluster 1')\n",
    "\n",
    "plt.show()"
   ]
  },
  {
   "cell_type": "code",
   "execution_count": 91,
   "metadata": {},
   "outputs": [
    {
     "name": "stderr",
     "output_type": "stream",
     "text": [
      "C:\\Users\\kimgl\\anaconda3\\lib\\site-packages\\ipykernel_launcher.py:2: SettingWithCopyWarning:\n",
      "\n",
      "\n",
      "A value is trying to be set on a copy of a slice from a DataFrame.\n",
      "Try using .loc[row_indexer,col_indexer] = value instead\n",
      "\n",
      "See the caveats in the documentation: https://pandas.pydata.org/pandas-docs/stable/user_guide/indexing.html#returning-a-view-versus-a-copy\n",
      "\n"
     ]
    },
    {
     "data": {
      "image/png": "[encoded data removed]",
      "text/plain": [
       "<Figure size 432x288 with 1 Axes>"
      ]
     },
     "metadata": {
      "needs_background": "light"
     },
     "output_type": "display_data"
    }
   ],
   "source": [
    "lis = (clus2.iloc[:,5:8])\n",
    "lis['ID'] = np.arange(0,len(lis),1)\n",
    "output_df = lis.melt(id_vars=[\"ID\"])\n",
    "#output_df\n",
    "value0 = output_df.iloc[:,2].value_counts()\n",
    "value0 = pd.DataFrame(value0)\n",
    "value0 = value0.loc[value0[\"value\"] > 0]\n",
    "value0.reset_index(level=0, inplace=True)\n",
    "plt.barh(value0[\"index\"], value0[\"value\"], align='center', alpha=0.5)\n",
    "plt.ylabel('Freq')\n",
    "plt.title('Venues in Cluster 2')\n",
    "\n",
    "plt.show()"
   ]
  },
  {
   "cell_type": "code",
   "execution_count": 92,
   "metadata": {},
   "outputs": [
    {
     "data": {
      "image/png": "[encoded data removed]",
      "text/plain": [
       "<Figure size 432x288 with 1 Axes>"
      ]
     },
     "metadata": {
      "needs_background": "light"
     },
     "output_type": "display_data"
    }
   ],
   "source": [
    "lis = (clus3.iloc[:,5:8])\n",
    "lis['ID'] = np.arange(0,len(lis),1)\n",
    "output_df = lis.melt(id_vars=[\"ID\"])\n",
    "#output_df\n",
    "value0 = output_df.iloc[:,2].value_counts()\n",
    "value0 = pd.DataFrame(value0)\n",
    "value0 = value0.loc[value0[\"value\"] > 0]\n",
    "value0.reset_index(level=0, inplace=True)\n",
    "plt.barh(value0[\"index\"], value0[\"value\"], align='center', alpha=0.5)\n",
    "plt.ylabel('Freq')\n",
    "plt.title('Venues in Cluster 3')\n",
    "\n",
    "plt.show()"
   ]
  },
  {
   "cell_type": "markdown",
   "metadata": {},
   "source": [
    "So it looks like cluster 0 has the most interesting venues.  Of the districts in cluster 0, I want to find the ones with light rail stations and hotels. So I will take a data frame of cluster 0 and make the dataframe long by using the districts as an ID and then only select the districts that have both light rails and hotels."
   ]
  },
  {
   "cell_type": "code",
   "execution_count": 76,
   "metadata": {},
   "outputs": [
    {
     "ename": "IndexError",
     "evalue": "positional indexers are out-of-bounds",
     "output_type": "error",
     "traceback": [
      "\u001b[1;31m---------------------------------------------------------------------------\u001b[0m",
      "\u001b[1;31mIndexError\u001b[0m                                Traceback (most recent call last)",
      "\u001b[1;32m<ipython-input-76-1e9fd0f663e0>\u001b[0m in \u001b[0;36m<module>\u001b[1;34m\u001b[0m\n\u001b[1;32m----> 1\u001b[1;33m \u001b[0mNarrowing\u001b[0m \u001b[1;33m=\u001b[0m \u001b[0mclus0\u001b[0m\u001b[1;33m.\u001b[0m\u001b[0miloc\u001b[0m\u001b[1;33m[\u001b[0m\u001b[1;33m:\u001b[0m\u001b[1;33m,\u001b[0m\u001b[1;33m[\u001b[0m\u001b[1;36m1\u001b[0m\u001b[1;33m,\u001b[0m\u001b[1;36m6\u001b[0m\u001b[1;33m,\u001b[0m \u001b[1;36m7\u001b[0m\u001b[1;33m,\u001b[0m \u001b[1;36m8\u001b[0m\u001b[1;33m,\u001b[0m \u001b[1;36m9\u001b[0m\u001b[1;33m,\u001b[0m \u001b[1;36m10\u001b[0m\u001b[1;33m,\u001b[0m \u001b[1;36m11\u001b[0m\u001b[1;33m,\u001b[0m \u001b[1;36m12\u001b[0m\u001b[1;33m,\u001b[0m \u001b[1;36m13\u001b[0m \u001b[1;33m,\u001b[0m\u001b[1;36m14\u001b[0m\u001b[1;33m,\u001b[0m \u001b[1;36m15\u001b[0m\u001b[1;33m]\u001b[0m\u001b[1;33m]\u001b[0m\u001b[1;33m\u001b[0m\u001b[1;33m\u001b[0m\u001b[0m\n\u001b[0m\u001b[0;32m      2\u001b[0m \u001b[0mNarrowing\u001b[0m \u001b[1;33m=\u001b[0m \u001b[0mNarrowing\u001b[0m\u001b[1;33m.\u001b[0m\u001b[0mmelt\u001b[0m\u001b[1;33m(\u001b[0m\u001b[0mid_vars\u001b[0m\u001b[1;33m=\u001b[0m\u001b[1;33m[\u001b[0m\u001b[1;34m\"District\"\u001b[0m\u001b[1;33m]\u001b[0m\u001b[1;33m)\u001b[0m\u001b[1;33m\u001b[0m\u001b[1;33m\u001b[0m\u001b[0m\n\u001b[0;32m      3\u001b[0m \u001b[0mNarrowing\u001b[0m\u001b[1;33m\u001b[0m\u001b[1;33m\u001b[0m\u001b[0m\n",
      "\u001b[1;32m~\\anaconda3\\lib\\site-packages\\pandas\\core\\indexing.py\u001b[0m in \u001b[0;36m__getitem__\u001b[1;34m(self, key)\u001b[0m\n\u001b[0;32m   1760\u001b[0m                 \u001b[1;32mexcept\u001b[0m \u001b[1;33m(\u001b[0m\u001b[0mKeyError\u001b[0m\u001b[1;33m,\u001b[0m \u001b[0mIndexError\u001b[0m\u001b[1;33m,\u001b[0m \u001b[0mAttributeError\u001b[0m\u001b[1;33m)\u001b[0m\u001b[1;33m:\u001b[0m\u001b[1;33m\u001b[0m\u001b[1;33m\u001b[0m\u001b[0m\n\u001b[0;32m   1761\u001b[0m                     \u001b[1;32mpass\u001b[0m\u001b[1;33m\u001b[0m\u001b[1;33m\u001b[0m\u001b[0m\n\u001b[1;32m-> 1762\u001b[1;33m             \u001b[1;32mreturn\u001b[0m \u001b[0mself\u001b[0m\u001b[1;33m.\u001b[0m\u001b[0m_getitem_tuple\u001b[0m\u001b[1;33m(\u001b[0m\u001b[0mkey\u001b[0m\u001b[1;33m)\u001b[0m\u001b[1;33m\u001b[0m\u001b[1;33m\u001b[0m\u001b[0m\n\u001b[0m\u001b[0;32m   1763\u001b[0m         \u001b[1;32melse\u001b[0m\u001b[1;33m:\u001b[0m\u001b[1;33m\u001b[0m\u001b[1;33m\u001b[0m\u001b[0m\n\u001b[0;32m   1764\u001b[0m             \u001b[1;31m# we by definition only have the 0th axis\u001b[0m\u001b[1;33m\u001b[0m\u001b[1;33m\u001b[0m\u001b[1;33m\u001b[0m\u001b[0m\n",
      "\u001b[1;32m~\\anaconda3\\lib\\site-packages\\pandas\\core\\indexing.py\u001b[0m in \u001b[0;36m_getitem_tuple\u001b[1;34m(self, tup)\u001b[0m\n\u001b[0;32m   2065\u001b[0m     \u001b[1;32mdef\u001b[0m \u001b[0m_getitem_tuple\u001b[0m\u001b[1;33m(\u001b[0m\u001b[0mself\u001b[0m\u001b[1;33m,\u001b[0m \u001b[0mtup\u001b[0m\u001b[1;33m:\u001b[0m \u001b[0mTuple\u001b[0m\u001b[1;33m)\u001b[0m\u001b[1;33m:\u001b[0m\u001b[1;33m\u001b[0m\u001b[1;33m\u001b[0m\u001b[0m\n\u001b[0;32m   2066\u001b[0m \u001b[1;33m\u001b[0m\u001b[0m\n\u001b[1;32m-> 2067\u001b[1;33m         \u001b[0mself\u001b[0m\u001b[1;33m.\u001b[0m\u001b[0m_has_valid_tuple\u001b[0m\u001b[1;33m(\u001b[0m\u001b[0mtup\u001b[0m\u001b[1;33m)\u001b[0m\u001b[1;33m\u001b[0m\u001b[1;33m\u001b[0m\u001b[0m\n\u001b[0m\u001b[0;32m   2068\u001b[0m         \u001b[1;32mtry\u001b[0m\u001b[1;33m:\u001b[0m\u001b[1;33m\u001b[0m\u001b[1;33m\u001b[0m\u001b[0m\n\u001b[0;32m   2069\u001b[0m             \u001b[1;32mreturn\u001b[0m \u001b[0mself\u001b[0m\u001b[1;33m.\u001b[0m\u001b[0m_getitem_lowerdim\u001b[0m\u001b[1;33m(\u001b[0m\u001b[0mtup\u001b[0m\u001b[1;33m)\u001b[0m\u001b[1;33m\u001b[0m\u001b[1;33m\u001b[0m\u001b[0m\n",
      "\u001b[1;32m~\\anaconda3\\lib\\site-packages\\pandas\\core\\indexing.py\u001b[0m in \u001b[0;36m_has_valid_tuple\u001b[1;34m(self, key)\u001b[0m\n\u001b[0;32m    701\u001b[0m                 \u001b[1;32mraise\u001b[0m \u001b[0mIndexingError\u001b[0m\u001b[1;33m(\u001b[0m\u001b[1;34m\"Too many indexers\"\u001b[0m\u001b[1;33m)\u001b[0m\u001b[1;33m\u001b[0m\u001b[1;33m\u001b[0m\u001b[0m\n\u001b[0;32m    702\u001b[0m             \u001b[1;32mtry\u001b[0m\u001b[1;33m:\u001b[0m\u001b[1;33m\u001b[0m\u001b[1;33m\u001b[0m\u001b[0m\n\u001b[1;32m--> 703\u001b[1;33m                 \u001b[0mself\u001b[0m\u001b[1;33m.\u001b[0m\u001b[0m_validate_key\u001b[0m\u001b[1;33m(\u001b[0m\u001b[0mk\u001b[0m\u001b[1;33m,\u001b[0m \u001b[0mi\u001b[0m\u001b[1;33m)\u001b[0m\u001b[1;33m\u001b[0m\u001b[1;33m\u001b[0m\u001b[0m\n\u001b[0m\u001b[0;32m    704\u001b[0m             \u001b[1;32mexcept\u001b[0m \u001b[0mValueError\u001b[0m\u001b[1;33m:\u001b[0m\u001b[1;33m\u001b[0m\u001b[1;33m\u001b[0m\u001b[0m\n\u001b[0;32m    705\u001b[0m                 raise ValueError(\n",
      "\u001b[1;32m~\\anaconda3\\lib\\site-packages\\pandas\\core\\indexing.py\u001b[0m in \u001b[0;36m_validate_key\u001b[1;34m(self, key, axis)\u001b[0m\n\u001b[0;32m   2007\u001b[0m             \u001b[1;31m# check that the key does not exceed the maximum size of the index\u001b[0m\u001b[1;33m\u001b[0m\u001b[1;33m\u001b[0m\u001b[1;33m\u001b[0m\u001b[0m\n\u001b[0;32m   2008\u001b[0m             \u001b[1;32mif\u001b[0m \u001b[0mlen\u001b[0m\u001b[1;33m(\u001b[0m\u001b[0marr\u001b[0m\u001b[1;33m)\u001b[0m \u001b[1;32mand\u001b[0m \u001b[1;33m(\u001b[0m\u001b[0marr\u001b[0m\u001b[1;33m.\u001b[0m\u001b[0mmax\u001b[0m\u001b[1;33m(\u001b[0m\u001b[1;33m)\u001b[0m \u001b[1;33m>=\u001b[0m \u001b[0mlen_axis\u001b[0m \u001b[1;32mor\u001b[0m \u001b[0marr\u001b[0m\u001b[1;33m.\u001b[0m\u001b[0mmin\u001b[0m\u001b[1;33m(\u001b[0m\u001b[1;33m)\u001b[0m \u001b[1;33m<\u001b[0m \u001b[1;33m-\u001b[0m\u001b[0mlen_axis\u001b[0m\u001b[1;33m)\u001b[0m\u001b[1;33m:\u001b[0m\u001b[1;33m\u001b[0m\u001b[1;33m\u001b[0m\u001b[0m\n\u001b[1;32m-> 2009\u001b[1;33m                 \u001b[1;32mraise\u001b[0m \u001b[0mIndexError\u001b[0m\u001b[1;33m(\u001b[0m\u001b[1;34m\"positional indexers are out-of-bounds\"\u001b[0m\u001b[1;33m)\u001b[0m\u001b[1;33m\u001b[0m\u001b[1;33m\u001b[0m\u001b[0m\n\u001b[0m\u001b[0;32m   2010\u001b[0m         \u001b[1;32melse\u001b[0m\u001b[1;33m:\u001b[0m\u001b[1;33m\u001b[0m\u001b[1;33m\u001b[0m\u001b[0m\n\u001b[0;32m   2011\u001b[0m             \u001b[1;32mraise\u001b[0m \u001b[0mValueError\u001b[0m\u001b[1;33m(\u001b[0m\u001b[1;34mf\"Can only index by location with a [{self._valid_types}]\"\u001b[0m\u001b[1;33m)\u001b[0m\u001b[1;33m\u001b[0m\u001b[1;33m\u001b[0m\u001b[0m\n",
      "\u001b[1;31mIndexError\u001b[0m: positional indexers are out-of-bounds"
     ]
    }
   ],
   "source": [
    "Narrowing = clus0.iloc[:,[1,6, 7, 8, 9, 10, 11, 12, 13 ,14, 15]]\n",
    "Narrowing = Narrowing.melt(id_vars=[\"District\"])\n",
    "Narrowing\n"
   ]
  },
  {
   "cell_type": "code",
   "execution_count": 46,
   "metadata": {},
   "outputs": [
    {
     "data": {
      "text/html": [
       "<div>\n",
       "<style scoped>\n",
       "    .dataframe tbody tr th:only-of-type {\n",
       "        vertical-align: middle;\n",
       "    }\n",
       "\n",
       "    .dataframe tbody tr th {\n",
       "        vertical-align: top;\n",
       "    }\n",
       "\n",
       "    .dataframe thead th {\n",
       "        text-align: right;\n",
       "    }\n",
       "</style>\n",
       "<table border=\"1\" class=\"dataframe\">\n",
       "  <thead>\n",
       "    <tr style=\"text-align: right;\">\n",
       "      <th></th>\n",
       "      <th>District</th>\n",
       "      <th>variable</th>\n",
       "      <th>value</th>\n",
       "    </tr>\n",
       "  </thead>\n",
       "  <tbody>\n",
       "    <tr>\n",
       "      <th>5</th>\n",
       "      <td>Ariake</td>\n",
       "      <td>1st Most Common Venue</td>\n",
       "      <td>Hotel</td>\n",
       "    </tr>\n",
       "    <tr>\n",
       "      <th>341</th>\n",
       "      <td>Ariake</td>\n",
       "      <td>5th Most Common Venue</td>\n",
       "      <td>Light Rail Station</td>\n",
       "    </tr>\n",
       "  </tbody>\n",
       "</table>\n",
       "</div>"
      ],
      "text/plain": [
       "    District               variable               value\n",
       "5     Ariake  1st Most Common Venue               Hotel\n",
       "341   Ariake  5th Most Common Venue  Light Rail Station"
      ]
     },
     "execution_count": 46,
     "metadata": {},
     "output_type": "execute_result"
    }
   ],
   "source": [
    "HotelStation = Narrowing.loc[Narrowing['value'].isin(['Hotel','Light Rail Station'])]\n",
    "ids = HotelStation[\"District\"]\n",
    "HotelStation[ids.isin(ids[ids.duplicated()])]"
   ]
  },
  {
   "cell_type": "markdown",
   "metadata": {},
   "source": [
    "It seems like only Ariake has both a Light Rail Station and a hotel, so let's find out where Ariake is relative to everything else."
   ]
  },
  {
   "cell_type": "code",
   "execution_count": 57,
   "metadata": {},
   "outputs": [
    {
     "data": {
      "text/html": [
       "<div>\n",
       "<style scoped>\n",
       "    .dataframe tbody tr th:only-of-type {\n",
       "        vertical-align: middle;\n",
       "    }\n",
       "\n",
       "    .dataframe tbody tr th {\n",
       "        vertical-align: top;\n",
       "    }\n",
       "\n",
       "    .dataframe thead th {\n",
       "        text-align: right;\n",
       "    }\n",
       "</style>\n",
       "<table border=\"1\" class=\"dataframe\">\n",
       "  <thead>\n",
       "    <tr style=\"text-align: right;\">\n",
       "      <th></th>\n",
       "      <th>wa</th>\n",
       "      <th>District</th>\n",
       "      <th>Ward</th>\n",
       "      <th>Longitude</th>\n",
       "      <th>Latitude</th>\n",
       "      <th>Station</th>\n",
       "      <th>1st Most Common Venue</th>\n",
       "      <th>2nd Most Common Venue</th>\n",
       "      <th>3rd Most Common Venue</th>\n",
       "      <th>4th Most Common Venue</th>\n",
       "      <th>5th Most Common Venue</th>\n",
       "      <th>6th Most Common Venue</th>\n",
       "      <th>7th Most Common Venue</th>\n",
       "      <th>8th Most Common Venue</th>\n",
       "      <th>9th Most Common Venue</th>\n",
       "      <th>10th Most Common Venue</th>\n",
       "      <th>Clusters</th>\n",
       "    </tr>\n",
       "  </thead>\n",
       "  <tbody>\n",
       "    <tr>\n",
       "      <th>7</th>\n",
       "      <td>40</td>\n",
       "      <td>Ariake</td>\n",
       "      <td>Koto</td>\n",
       "      <td>139.793256</td>\n",
       "      <td>35.634556</td>\n",
       "      <td>NaN</td>\n",
       "      <td>Hotel</td>\n",
       "      <td>Convenience Store</td>\n",
       "      <td>Restaurant</td>\n",
       "      <td>Café</td>\n",
       "      <td>Light Rail Station</td>\n",
       "      <td>Electronics Store</td>\n",
       "      <td>Food Truck</td>\n",
       "      <td>Fishing Spot</td>\n",
       "      <td>Fast Food Restaurant</td>\n",
       "      <td>Farmers Market</td>\n",
       "      <td>0</td>\n",
       "    </tr>\n",
       "  </tbody>\n",
       "</table>\n",
       "</div>"
      ],
      "text/plain": [
       "   wa District  Ward   Longitude   Latitude Station 1st Most Common Venue  \\\n",
       "7  40   Ariake  Koto  139.793256  35.634556     NaN                 Hotel   \n",
       "\n",
       "  2nd Most Common Venue 3rd Most Common Venue 4th Most Common Venue  \\\n",
       "7     Convenience Store            Restaurant                  Café   \n",
       "\n",
       "  5th Most Common Venue 6th Most Common Venue 7th Most Common Venue  \\\n",
       "7    Light Rail Station     Electronics Store            Food Truck   \n",
       "\n",
       "  8th Most Common Venue 9th Most Common Venue 10th Most Common Venue  Clusters  \n",
       "7          Fishing Spot  Fast Food Restaurant         Farmers Market         0  "
      ]
     },
     "execution_count": 57,
     "metadata": {},
     "output_type": "execute_result"
    }
   ],
   "source": [
    "tokyo_merged.loc[tokyo_merged['District'].isin(['Ariake'])]"
   ]
  },
  {
   "cell_type": "code",
   "execution_count": 60,
   "metadata": {},
   "outputs": [
    {
     "ename": "ImportError",
     "evalue": "cannot import name 'BeautifyIcon' from 'folium' (C:\\Users\\kimgl\\anaconda3\\lib\\site-packages\\folium\\__init__.py)",
     "output_type": "error",
     "traceback": [
      "\u001b[1;31m---------------------------------------------------------------------------\u001b[0m",
      "\u001b[1;31mImportError\u001b[0m                               Traceback (most recent call last)",
      "\u001b[1;32m<ipython-input-60-d2f8c49c371d>\u001b[0m in \u001b[0;36m<module>\u001b[1;34m\u001b[0m\n\u001b[0;32m      1\u001b[0m \u001b[1;31m# create map\u001b[0m\u001b[1;33m\u001b[0m\u001b[1;33m\u001b[0m\u001b[1;33m\u001b[0m\u001b[0m\n\u001b[1;32m----> 2\u001b[1;33m \u001b[1;32mfrom\u001b[0m \u001b[0mfolium\u001b[0m \u001b[1;32mimport\u001b[0m \u001b[0mBeautifyIcon\u001b[0m\u001b[1;33m\u001b[0m\u001b[1;33m\u001b[0m\u001b[0m\n\u001b[0m\u001b[0;32m      3\u001b[0m \u001b[0mmap_clusters\u001b[0m \u001b[1;33m=\u001b[0m \u001b[0mfolium\u001b[0m\u001b[1;33m.\u001b[0m\u001b[0mMap\u001b[0m\u001b[1;33m(\u001b[0m\u001b[0mlocation\u001b[0m\u001b[1;33m=\u001b[0m\u001b[1;33m[\u001b[0m\u001b[1;36m35.6828387\u001b[0m\u001b[1;33m,\u001b[0m \u001b[1;36m139.7594549\u001b[0m\u001b[1;33m]\u001b[0m\u001b[1;33m,\u001b[0m \u001b[0mzoom_start\u001b[0m\u001b[1;33m=\u001b[0m\u001b[1;36m10\u001b[0m\u001b[1;33m)\u001b[0m\u001b[1;33m\u001b[0m\u001b[1;33m\u001b[0m\u001b[0m\n\u001b[0;32m      4\u001b[0m \u001b[1;33m\u001b[0m\u001b[0m\n\u001b[0;32m      5\u001b[0m map_clusters.choropleth(\n",
      "\u001b[1;31mImportError\u001b[0m: cannot import name 'BeautifyIcon' from 'folium' (C:\\Users\\kimgl\\anaconda3\\lib\\site-packages\\folium\\__init__.py)"
     ]
    }
   ],
   "source": [
    "# create map\n",
    "from folium import BeautifyIcon\n",
    "map_clusters = folium.Map(location=[35.6828387, 139.7594549], zoom_start=10)\n",
    "\n",
    "map_clusters.choropleth(\n",
    "    geo_data=tokyo_geo,\n",
    "    data=df,\n",
    "    columns=['Ward', 'Density'],\n",
    "    key_on='feature.properties.ward_en',\n",
    "    fill_color='YlOrRd', \n",
    "    fill_opacity=0.7, \n",
    "    line_opacity=0.2,\n",
    "    legend_name='Tokyo Ward Density'\n",
    ")\n",
    "\n",
    "# set color scheme for the clusters\n",
    "x = np.arange(kclusters)\n",
    "ys = [i + x + (i*x)**2 for i in range(kclusters)]\n",
    "colors_array = cm.rainbow(np.linspace(0, 1, len(ys)))\n",
    "rainbow = [colors.rgb2hex(i) for i in colors_array]\n",
    "\n",
    "# add markers to the map\n",
    "markers_colors = []\n",
    "for lat, lon, poi, cluster in zip(tokyo_merged['Latitude'], tokyo_merged['Longitude'], tokyo_merged['District'], tokyo_merged['Clusters']):\n",
    "    label = folium.Popup(str(poi) + ' Cluster ' + str(cluster), parse_html=True)\n",
    "    #cluster = int(cluster)\n",
    "    folium.CircleMarker(\n",
    "        [lat, lon],\n",
    "        radius=5,\n",
    "        popup=label,\n",
    "        color=rainbow[cluster-1],\n",
    "        fill=True,\n",
    "        fill_color=rainbow[cluster-1],\n",
    "        fill_opacity=0.7).add_to(map_clusters)\n",
    "\n",
    "icon_star = BeautifyIcon(\n",
    "    icon='star',\n",
    "    inner_icon_style='color:black;font-size:30px;',\n",
    "    background_color='transparent',\n",
    "    border_color='transparent',\n",
    ")\n",
    "\n",
    "folium.Marker([35.634556, 139.793256], tooltip='star', icon=icon_star).add_to(map_clusters)\n",
    "    \n",
    "map_clusters\n"
   ]
  },
  {
   "cell_type": "markdown",
   "metadata": {},
   "source": [
    "I also want to look at places that just have a light rail station or just a hotel.  For the places that only have a light rail station, I could look into an Airbnb in the area.  For places that only have a hotel, there may be a light rail station nearby."
   ]
  },
  {
   "cell_type": "code",
   "execution_count": 55,
   "metadata": {},
   "outputs": [
    {
     "data": {
      "text/html": [
       "<div>\n",
       "<style scoped>\n",
       "    .dataframe tbody tr th:only-of-type {\n",
       "        vertical-align: middle;\n",
       "    }\n",
       "\n",
       "    .dataframe tbody tr th {\n",
       "        vertical-align: top;\n",
       "    }\n",
       "\n",
       "    .dataframe thead th {\n",
       "        text-align: right;\n",
       "    }\n",
       "</style>\n",
       "<table border=\"1\" class=\"dataframe\">\n",
       "  <thead>\n",
       "    <tr style=\"text-align: right;\">\n",
       "      <th></th>\n",
       "      <th>District</th>\n",
       "      <th>variable</th>\n",
       "      <th>value</th>\n",
       "    </tr>\n",
       "  </thead>\n",
       "  <tbody>\n",
       "    <tr>\n",
       "      <th>11</th>\n",
       "      <td>Etchujima</td>\n",
       "      <td>1st Most Common Venue</td>\n",
       "      <td>Train Station</td>\n",
       "    </tr>\n",
       "    <tr>\n",
       "      <th>18</th>\n",
       "      <td>Hatanodai</td>\n",
       "      <td>1st Most Common Venue</td>\n",
       "      <td>Train Station</td>\n",
       "    </tr>\n",
       "    <tr>\n",
       "      <th>54</th>\n",
       "      <td>Oji</td>\n",
       "      <td>1st Most Common Venue</td>\n",
       "      <td>Train Station</td>\n",
       "    </tr>\n",
       "    <tr>\n",
       "      <th>66</th>\n",
       "      <td>Shinagawa</td>\n",
       "      <td>1st Most Common Venue</td>\n",
       "      <td>Train Station</td>\n",
       "    </tr>\n",
       "    <tr>\n",
       "      <th>125</th>\n",
       "      <td>Machiya</td>\n",
       "      <td>2nd Most Common Venue</td>\n",
       "      <td>Train Station</td>\n",
       "    </tr>\n",
       "    <tr>\n",
       "      <th>147</th>\n",
       "      <td>Shibamata</td>\n",
       "      <td>2nd Most Common Venue</td>\n",
       "      <td>Train Station</td>\n",
       "    </tr>\n",
       "    <tr>\n",
       "      <th>155</th>\n",
       "      <td>Tabata</td>\n",
       "      <td>2nd Most Common Venue</td>\n",
       "      <td>Train Station</td>\n",
       "    </tr>\n",
       "    <tr>\n",
       "      <th>341</th>\n",
       "      <td>Ariake</td>\n",
       "      <td>5th Most Common Venue</td>\n",
       "      <td>Light Rail Station</td>\n",
       "    </tr>\n",
       "  </tbody>\n",
       "</table>\n",
       "</div>"
      ],
      "text/plain": [
       "      District               variable               value\n",
       "11   Etchujima  1st Most Common Venue       Train Station\n",
       "18   Hatanodai  1st Most Common Venue       Train Station\n",
       "54         Oji  1st Most Common Venue       Train Station\n",
       "66   Shinagawa  1st Most Common Venue       Train Station\n",
       "125    Machiya  2nd Most Common Venue       Train Station\n",
       "147  Shibamata  2nd Most Common Venue       Train Station\n",
       "155     Tabata  2nd Most Common Venue       Train Station\n",
       "341     Ariake  5th Most Common Venue  Light Rail Station"
      ]
     },
     "execution_count": 55,
     "metadata": {},
     "output_type": "execute_result"
    }
   ],
   "source": [
    "Station = Narrowing.loc[Narrowing['value'].isin(['Metro Station','Light Rail Station', 'Train Station'])]\n",
    "Station"
   ]
  },
  {
   "cell_type": "code",
   "execution_count": 56,
   "metadata": {},
   "outputs": [
    {
     "data": {
      "text/html": [
       "<div>\n",
       "<style scoped>\n",
       "    .dataframe tbody tr th:only-of-type {\n",
       "        vertical-align: middle;\n",
       "    }\n",
       "\n",
       "    .dataframe tbody tr th {\n",
       "        vertical-align: top;\n",
       "    }\n",
       "\n",
       "    .dataframe thead th {\n",
       "        text-align: right;\n",
       "    }\n",
       "</style>\n",
       "<table border=\"1\" class=\"dataframe\">\n",
       "  <thead>\n",
       "    <tr style=\"text-align: right;\">\n",
       "      <th></th>\n",
       "      <th>District</th>\n",
       "      <th>variable</th>\n",
       "      <th>value</th>\n",
       "    </tr>\n",
       "  </thead>\n",
       "  <tbody>\n",
       "    <tr>\n",
       "      <th>5</th>\n",
       "      <td>Ariake</td>\n",
       "      <td>1st Most Common Venue</td>\n",
       "      <td>Hotel</td>\n",
       "    </tr>\n",
       "    <tr>\n",
       "      <th>224</th>\n",
       "      <td>Omori</td>\n",
       "      <td>3rd Most Common Venue</td>\n",
       "      <td>Hotel</td>\n",
       "    </tr>\n",
       "    <tr>\n",
       "      <th>235</th>\n",
       "      <td>Shinbashi</td>\n",
       "      <td>3rd Most Common Venue</td>\n",
       "      <td>Hotel</td>\n",
       "    </tr>\n",
       "    <tr>\n",
       "      <th>309</th>\n",
       "      <td>Otemachi</td>\n",
       "      <td>4th Most Common Venue</td>\n",
       "      <td>Hotel</td>\n",
       "    </tr>\n",
       "    <tr>\n",
       "      <th>462</th>\n",
       "      <td>Marunouchi</td>\n",
       "      <td>6th Most Common Venue</td>\n",
       "      <td>Hotel</td>\n",
       "    </tr>\n",
       "    <tr>\n",
       "      <th>523</th>\n",
       "      <td>Hatchobori</td>\n",
       "      <td>7th Most Common Venue</td>\n",
       "      <td>Hotel</td>\n",
       "    </tr>\n",
       "    <tr>\n",
       "      <th>675</th>\n",
       "      <td>Aoto</td>\n",
       "      <td>9th Most Common Venue</td>\n",
       "      <td>Hotel</td>\n",
       "    </tr>\n",
       "    <tr>\n",
       "      <th>678</th>\n",
       "      <td>Asagaya</td>\n",
       "      <td>9th Most Common Venue</td>\n",
       "      <td>Hotel</td>\n",
       "    </tr>\n",
       "    <tr>\n",
       "      <th>794</th>\n",
       "      <td>Koenji</td>\n",
       "      <td>10th Most Common Venue</td>\n",
       "      <td>Hotel</td>\n",
       "    </tr>\n",
       "    <tr>\n",
       "      <th>808</th>\n",
       "      <td>Ogikubo</td>\n",
       "      <td>10th Most Common Venue</td>\n",
       "      <td>Hotel</td>\n",
       "    </tr>\n",
       "  </tbody>\n",
       "</table>\n",
       "</div>"
      ],
      "text/plain": [
       "       District                variable  value\n",
       "5        Ariake   1st Most Common Venue  Hotel\n",
       "224       Omori   3rd Most Common Venue  Hotel\n",
       "235   Shinbashi   3rd Most Common Venue  Hotel\n",
       "309    Otemachi   4th Most Common Venue  Hotel\n",
       "462  Marunouchi   6th Most Common Venue  Hotel\n",
       "523  Hatchobori   7th Most Common Venue  Hotel\n",
       "675        Aoto   9th Most Common Venue  Hotel\n",
       "678     Asagaya   9th Most Common Venue  Hotel\n",
       "794      Koenji  10th Most Common Venue  Hotel\n",
       "808     Ogikubo  10th Most Common Venue  Hotel"
      ]
     },
     "execution_count": 56,
     "metadata": {},
     "output_type": "execute_result"
    }
   ],
   "source": [
    "Station = Narrowing.loc[Narrowing['value'].isin(['Hotel'])]\n",
    "Station"
   ]
  },
  {
   "cell_type": "code",
   "execution_count": 60,
   "metadata": {},
   "outputs": [
    {
     "data": {
      "text/html": [
       "<div style=\"width:100%;\"><div style=\"position:relative;width:100%;height:0;padding-bottom:60%;\"><span style=\"color:#565656\">Make this Notebook Trusted to load map: File -> Trust Notebook</span><iframe src=\"about:blank\" style=\"position:absolute;width:100%;height:100%;left:0;top:0;border:none !important;\" data-html=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 onload=\"this.contentDocument.open();this.contentDocument.write(atob(this.getAttribute('data-html')));this.contentDocument.close();\" allowfullscreen webkitallowfullscreen mozallowfullscreen></iframe></div></div>"
      ],
      "text/plain": [
       "<folium.folium.Map at 0x164303b9fc8>"
      ]
     },
     "execution_count": 60,
     "metadata": {},
     "output_type": "execute_result"
    }
   ],
   "source": [
    "tokDistricts = pd.read_csv('districtsLatLong2.csv')\n",
    "map_tokyo = folium.Map(location=[35.6828387, 139.7594549], zoom_start=11, tiles='https://tiles.stadiamaps.com/tiles/outdoors/{z}/{x}/{y}{r}.png', attr='https://tiles.stadiamaps.com/tiles/outdoors/{z}/{x}/{y}{r}.png')\n",
    "\n",
    "# add markers to map\n",
    "for lat, lng, borough, neighborhood, color in zip(tokDistricts['Latitude'], tokDistricts['Longitude'], tokDistricts['Ward'], tokDistricts['District'], tokDistricts['Color']):\n",
    "    label = '{}, {}'.format(neighborhood, borough)\n",
    "    label = folium.Popup(label, parse_html=True)\n",
    "    folium.CircleMarker(\n",
    "        [lat, lng],\n",
    "        radius=5,\n",
    "        popup=label,\n",
    "        color=color,\n",
    "        fill=True,\n",
    "        fill_opacity=0.7,\n",
    "        parse_html=False).add_to(map_tokyo)  \n",
    "    \n",
    "    \n",
    "map_tokyo"
   ]
  }
 ],
 "metadata": {
  "kernelspec": {
   "display_name": "Python 3",
   "language": "python",
   "name": "python3"
  },
  "language_info": {
   "codemirror_mode": {
    "name": "ipython",
    "version": 3
   },
   "file_extension": ".py",
   "mimetype": "text/x-python",
   "name": "python",
   "nbconvert_exporter": "python",
   "pygments_lexer": "ipython3",
   "version": "3.7.6"
  }
 },
 "nbformat": 4,
 "nbformat_minor": 4
}
